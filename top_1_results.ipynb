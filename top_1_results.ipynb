{
  "nbformat": 4,
  "nbformat_minor": 0,
  "metadata": {
    "colab": {
      "provenance": [],
      "toc_visible": true,
      "authorship_tag": "ABX9TyPm3l/gZJf5dcid/DQ6sZ7s",
      "include_colab_link": true
    },
    "kernelspec": {
      "name": "python3",
      "display_name": "Python 3"
    },
    "language_info": {
      "name": "python"
    }
  },
  "cells": [
    {
      "cell_type": "markdown",
      "metadata": {
        "id": "view-in-github",
        "colab_type": "text"
      },
      "source": [
        "<a href=\"https://colab.research.google.com/github/ValentinaEmili/Sign_language/blob/main/top_1_results.ipynb\" target=\"_parent\"><img src=\"https://colab.research.google.com/assets/colab-badge.svg\" alt=\"Open In Colab\"/></a>"
      ]
    },
    {
      "cell_type": "markdown",
      "source": [
        "# WLASL100"
      ],
      "metadata": {
        "id": "Jdy0a2pRTm-Z"
      }
    },
    {
      "cell_type": "markdown",
      "source": [
        "## LSTM"
      ],
      "metadata": {
        "id": "rFFbEhC_8huD"
      }
    },
    {
      "cell_type": "markdown",
      "source": [
        "### Attention Mechanism"
      ],
      "metadata": {
        "id": "hF4tOxWL9ZSg"
      }
    },
    {
      "cell_type": "markdown",
      "source": [
        "#### Visibility = True"
      ],
      "metadata": {
        "id": "SSNM3_Xm9rSk"
      }
    },
    {
      "cell_type": "code",
      "execution_count": null,
      "metadata": {
        "id": "PvcHV_ShAi76"
      },
      "outputs": [],
      "source": [
        "def get_training_config():\n",
        "  return {\n",
        "    'hidden_size': 512,\n",
        "    'learning_rate': 1e-4,\n",
        "    'num_epochs': 100,\n",
        "    'weight_decay': 1e-4,\n",
        "    'dropout_rate': 0.1,\n",
        "    'scheduler_params': {\n",
        "      'factor': 0.5,\n",
        "      'min_lr': 1e-6\n",
        "    },\n",
        "  }\n",
        "\n",
        "  # Validation Accuracy: 48.34%\n",
        "  # Test Accuracy: 39.15%\n",
        "\n",
        "def get_training_config():\n",
        "  return {\n",
        "    'hidden_size': 512,\n",
        "    'learning_rate': 1e-4,\n",
        "    'num_epochs': 100,\n",
        "    'weight_decay': 1e-4,\n",
        "    'dropout_rate': 0.2,\n",
        "    'scheduler_params': {\n",
        "      'factor': 0.5,\n",
        "      'min_lr': 1e-6\n",
        "    },\n",
        "  }\n",
        "\n",
        "  # Validation Accuracy: 49.76%\n",
        "  # Test Accuracy: 40.21%\n",
        "\n",
        "def get_training_config():\n",
        "  return {\n",
        "    'hidden_size': 512,\n",
        "    'learning_rate': 1e-4,\n",
        "    'num_epochs': 100,\n",
        "    'weight_decay': 1e-5,\n",
        "    'dropout_rate': 0.2,\n",
        "    'scheduler_params': {\n",
        "      'factor': 0.5,\n",
        "      'min_lr': 1e-6\n",
        "    },\n",
        "  }\n",
        "  # Validation Accuracy: 47.87%\n",
        "  # Test Accuracy: 38.10%\n",
        "\n",
        "def get_training_config():\n",
        "  return {\n",
        "    'hidden_size': 512,\n",
        "    'learning_rate': 1e-3,\n",
        "    'num_epochs': 100,\n",
        "    'weight_decay': 1e-4,\n",
        "    'dropout_rate': 0.2,\n",
        "    'scheduler_params': {\n",
        "      'factor': 0.5,\n",
        "      'min_lr': 1e-6\n",
        "    },\n",
        "  }\n",
        "  # Validation Accuracy: 47.39%\n",
        "  # Test Accuracy: 38.62%\n",
        "\n",
        "  def get_training_config():\n",
        "    return {\n",
        "      'hidden_size': 512,\n",
        "      'learning_rate': 1e-4,\n",
        "      'num_epochs': 150,\n",
        "      'weight_decay': 1e-4,\n",
        "      'dropout_rate': 0.2,\n",
        "      'scheduler_params': {\n",
        "        'factor': 0.5,\n",
        "        'min_lr': 1e-5\n",
        "      },\n",
        "    }\n",
        "    # num_layers = 2, batch_size = 8\n",
        "    # Validation Accuracy: 52.61%\n",
        "    # Test Accuracy: 47.09%\n",
        "\n",
        "  def get_training_config():\n",
        "    return {\n",
        "      'hidden_size': 512,\n",
        "      'learning_rate': 1e-4,\n",
        "      'num_epochs': 150,\n",
        "      'weight_decay': 1e-4,\n",
        "      'dropout_rate': 0.3,\n",
        "      'scheduler_params': {\n",
        "        'factor': 0.5,\n",
        "        'min_lr': 1e-5\n",
        "      },\n",
        "    }\n",
        "    # num_layers = 2, batch_size = 8\n",
        "    # Validation Accuracy: 54.98%\n",
        "    # Test Accuracy: 40.74%"
      ]
    },
    {
      "cell_type": "markdown",
      "source": [
        "#### Visibility = False"
      ],
      "metadata": {
        "id": "c8Q6sycYBJ9H"
      }
    },
    {
      "cell_type": "code",
      "source": [
        "def get_training_config():\n",
        "  return {\n",
        "    'hidden_size': 512,\n",
        "    'learning_rate': 1e-4,\n",
        "    'num_epochs': 200,\n",
        "    'weight_decay': 1e-4,\n",
        "    'dropout_rate': 0.3,\n",
        "    'scheduler_params': {\n",
        "      'factor': 0.5,\n",
        "      'min_lr': 1e-6\n",
        "    },\n",
        "  }\n",
        "\n",
        "  # Validation Accuracy: 48.34%\n",
        "  # Test Accuracy: 40.74%\n",
        "\n",
        "def get_training_config():\n",
        "  return {\n",
        "    'hidden_size': 512,\n",
        "    'learning_rate': 1e-4,\n",
        "    'num_epochs': 200,\n",
        "    'weight_decay': 1e-5,\n",
        "    'dropout_rate': 0.3,\n",
        "    'scheduler_params': {\n",
        "      'factor': 0.5,\n",
        "      'min_lr': 1e-6\n",
        "    },\n",
        "  }\n",
        "  # Validation Accuracy: 47.87%\n",
        "  # Test Accuracy: 35.45%\n",
        "\n",
        "def get_training_config():\n",
        "  return {\n",
        "    'hidden_size': 512,\n",
        "    'learning_rate': 1e-4,\n",
        "    'num_epochs': 200,\n",
        "    'weight_decay': 1e-4,\n",
        "    'dropout_rate': 0.2,\n",
        "    'scheduler_params': {\n",
        "      'factor': 0.5,\n",
        "      'min_lr': 1e-6\n",
        "    },\n",
        "  }\n",
        "  # Validation Accuracy: 51.18%\n",
        "  # Test Accuracy: 40.74%\n",
        "\n",
        "def get_training_config():\n",
        "  return {\n",
        "    'hidden_size': 512,\n",
        "    'learning_rate': 1e-3,\n",
        "    'num_epochs': 200,\n",
        "    'weight_decay': 1e-4,\n",
        "    'dropout_rate': 0.3,\n",
        "    'scheduler_params': {\n",
        "      'factor': 0.5,\n",
        "      'min_lr': 1e-6\n",
        "    },\n",
        "  }\n",
        "  # Validation Accuracy: 50.71%\n",
        "  # Test Accuracy: 40.21%\n",
        "\n",
        "  def get_training_config():\n",
        "    return {\n",
        "      'hidden_size': 512,\n",
        "      'learning_rate': 1e-4,\n",
        "      'num_epochs': 150,\n",
        "      'weight_decay': 1e-4,\n",
        "      'dropout_rate': 0.3,\n",
        "      'scheduler_params': {\n",
        "        'factor': 0.5,\n",
        "        'min_lr': 1e-6\n",
        "      },\n",
        "    }\n",
        "    # with num_layers = 2\n",
        "    # Validation Accuracy: 50.71%\n",
        "    # Test Accuracy: 42.86%\n",
        "\n",
        "def get_training_config():\n",
        "  return {\n",
        "    'hidden_size': 512,\n",
        "    'learning_rate': 1e-4,\n",
        "    'num_epochs': 200,\n",
        "    'weight_decay': 1e-4,\n",
        "    'dropout_rate': 0.2,\n",
        "    'scheduler_params': {\n",
        "      'factor': 0.5,\n",
        "      'min_lr': 1e-6\n",
        "    },\n",
        "  }\n",
        "    # num_layers = 2\n",
        "    # Validation Accuracy: 47.39%\n",
        "    # Test Accuracy: 38.10%\n",
        "\n",
        "  def get_training_config():\n",
        "    return {\n",
        "      'hidden_size': 512,\n",
        "      'learning_rate': 1e-4,\n",
        "      'num_epochs': 150,\n",
        "      'weight_decay': 1e-4,\n",
        "      'dropout_rate': 0.3,\n",
        "      'scheduler_params': {\n",
        "        'factor': 0.5,\n",
        "        'min_lr': 1e-6\n",
        "      },\n",
        "    }\n",
        "    # num_layers = 2, batch_size = 8\n",
        "    # Validation Accuracy: 49.76%\n",
        "    # Test Accuracy: 43.92%\n",
        "\n",
        "  def get_training_config():\n",
        "    return {\n",
        "      'hidden_size': 512,\n",
        "      'learning_rate': 1e-4,\n",
        "      'num_epochs': 150,\n",
        "      'weight_decay': 1e-4,\n",
        "      'dropout_rate': 0.3,\n",
        "      'scheduler_params': {\n",
        "        'factor': 0.5,\n",
        "        'min_lr': 1e-5\n",
        "      },\n",
        "    }\n",
        "    # num_layers = 2, batch_size = 8\n",
        "    # Validation Accuracy: 54.50%\n",
        "    # Test Accuracy: 44.44%\n",
        "\n",
        "  def get_training_config():\n",
        "    return {\n",
        "      'hidden_size': 512,\n",
        "      'learning_rate': 1e-4,\n",
        "      'num_epochs': 150,\n",
        "      'weight_decay': 1e-4,\n",
        "      'dropout_rate': 0.2,\n",
        "      'scheduler_params': {\n",
        "        'factor': 0.5,\n",
        "        'min_lr': 1e-5\n",
        "      },\n",
        "    }\n",
        "    # num_layers = 2, batch_size = 8\n",
        "    # Validation Accuracy: 55.92%\n",
        "    # Test Accuracy: 46.03%"
      ],
      "metadata": {
        "id": "dN7r7Z-sBLcq"
      },
      "execution_count": null,
      "outputs": []
    },
    {
      "cell_type": "markdown",
      "source": [
        "### Bahdanau Mechanism"
      ],
      "metadata": {
        "id": "AEthFMF-9fDQ"
      }
    },
    {
      "cell_type": "markdown",
      "source": [
        "#### Visibility = False"
      ],
      "metadata": {
        "id": "7-amqJpi2o7h"
      }
    },
    {
      "cell_type": "code",
      "source": [
        "def get_training_config():\n",
        "    return {\n",
        "      'hidden_size': 512,\n",
        "      'learning_rate': 1e-4,\n",
        "      'num_epochs': 150,\n",
        "      'weight_decay': 1e-4,\n",
        "      'dropout_rate': 0.2,\n",
        "      'scheduler_params': {\n",
        "        'factor': 0.5,\n",
        "        'min_lr': 1e-5\n",
        "      },\n",
        "    }\n",
        "    # num_layers = 2, batch_size = 8\n",
        "    # Validation Accuracy: 54.98%\n",
        "    # Test Accuracy: 46.03%\n",
        "\n",
        "def get_training_config():\n",
        "    return {\n",
        "      'hidden_size': 512,\n",
        "      'learning_rate': 1e-4,\n",
        "      'num_epochs': 150,\n",
        "      'weight_decay': 1e-4,\n",
        "      'dropout_rate': 0.3,\n",
        "      'scheduler_params': {\n",
        "        'factor': 0.5,\n",
        "        'min_lr': 1e-5\n",
        "      },\n",
        "    }\n",
        "    # num_layers = 2, batch_size = 8\n",
        "    # Validation Accuracy: 54.98%\n",
        "    # Test Accuracy: 46.03%"
      ],
      "metadata": {
        "id": "bExptHv22vSj"
      },
      "execution_count": null,
      "outputs": []
    },
    {
      "cell_type": "markdown",
      "source": [
        "## GRU"
      ],
      "metadata": {
        "id": "foGWwzdO813H"
      }
    },
    {
      "cell_type": "markdown",
      "source": [
        "### Attention Mechanism"
      ],
      "metadata": {
        "id": "8-WNbznz9NQN"
      }
    },
    {
      "cell_type": "markdown",
      "source": [
        "#### Visibility = True"
      ],
      "metadata": {
        "id": "WGFTDc1wOjaA"
      }
    },
    {
      "cell_type": "code",
      "source": [
        "def get_training_config():\n",
        "    return {\n",
        "      'hidden_size': 128,\n",
        "      'learning_rate': 1e-3,\n",
        "      'num_epochs': 100,\n",
        "      'weight_decay': 1e-4,\n",
        "      'dropout_rate': 0.2,\n",
        "      'scheduler_params': {\n",
        "        'factor': 0.5,\n",
        "        'min_lr': 1e-6\n",
        "      },\n",
        "    }\n",
        "    # num_layers = 2, batch_size = 8\n",
        "    # Validation Accuracy: 44.55%\n",
        "    # Test Accuracy: 34.39%\n",
        "\n",
        "def get_training_config():\n",
        "    return {\n",
        "      'hidden_size': 128,\n",
        "      'learning_rate': 1e-3,\n",
        "      'num_epochs': 150,\n",
        "      'weight_decay': 1e-4,\n",
        "      'dropout_rate': 0.2,\n",
        "      'scheduler_params': {\n",
        "        'factor': 0.5,\n",
        "        'min_lr': 1e-5\n",
        "      },\n",
        "    }\n",
        "    # num_layers = 2, batch_size = 8\n",
        "    # Validation Accuracy: 46.92%\n",
        "    # Test Accuracy: 39.68%"
      ],
      "metadata": {
        "id": "uYXXiCk5Om5B"
      },
      "execution_count": null,
      "outputs": []
    },
    {
      "cell_type": "markdown",
      "source": [
        "#### Visibility = False"
      ],
      "metadata": {
        "id": "8gTV-N5tBOQV"
      }
    },
    {
      "cell_type": "code",
      "source": [
        "  def get_training_config():\n",
        "    return {\n",
        "      'hidden_size': 128,\n",
        "      'learning_rate': 1e-3,\n",
        "      'num_epochs': 100,\n",
        "      'weight_decay': 1e-4,\n",
        "      'dropout_rate': 0.2,\n",
        "      'scheduler_params': {\n",
        "        'factor': 0.5,\n",
        "        'min_lr': 1e-6\n",
        "      },\n",
        "    }\n",
        "    # num_layers = 2\n",
        "    # Validation Accuracy: 45.50%\n",
        "    # Test Accuracy: 35.98%\n",
        "\n",
        "  def get_training_config():\n",
        "    return {\n",
        "      'hidden_size': 128,\n",
        "      'learning_rate': 1e-3,\n",
        "      'num_epochs': 100,\n",
        "      'weight_decay': 1e-4,\n",
        "      'dropout_rate': 0.3,\n",
        "      'scheduler_params': {\n",
        "        'factor': 0.5,\n",
        "        'min_lr': 1e-6\n",
        "      },\n",
        "    }\n",
        "    # Validation Accuracy: 41.23%\n",
        "    # Test Accuracy: 37.04%\n",
        "\n",
        "  def get_training_config():\n",
        "    return {\n",
        "      'hidden_size': 256,\n",
        "      'learning_rate': 1e-3,\n",
        "      'num_epochs': 100,\n",
        "      'weight_decay': 1e-4,\n",
        "      'dropout_rate': 0.2,\n",
        "      'scheduler_params': {\n",
        "        'factor': 0.5,\n",
        "        'min_lr': 1e-6\n",
        "      },\n",
        "    }\n",
        "    # Validation Accuracy: 44.08%\n",
        "    # Test Accuracy: 38.62%\n",
        "\n",
        "  def get_training_config():\n",
        "    return {\n",
        "      'hidden_size': 128,\n",
        "      'learning_rate': 1e-3,\n",
        "      'num_epochs': 100,\n",
        "      'weight_decay': 1e-4,\n",
        "      'dropout_rate': 0.3,\n",
        "      'scheduler_params': {\n",
        "        'factor': 0.5,\n",
        "        'min_lr': 1e-6\n",
        "      },\n",
        "    }\n",
        "    # num_layers = 2\n",
        "    # Validation Accuracy: 47.39%\n",
        "    # Test Accuracy: 40.21%\n",
        "\n",
        "  def get_training_config():\n",
        "    return {\n",
        "      'hidden_size': 128,\n",
        "      'learning_rate': 1e-3,\n",
        "      'num_epochs': 100,\n",
        "      'weight_decay': 1e-4,\n",
        "      'dropout_rate': 0.2,\n",
        "      'scheduler_params': {\n",
        "        'factor': 0.5,\n",
        "        'min_lr': 1e-6\n",
        "      },\n",
        "    }\n",
        "    # num_layers = 2\n",
        "    # Validation Accuracy: 48.82%\n",
        "    # Test Accuracy: 42.33%\n",
        "\n",
        "  def get_training_config():\n",
        "    return {\n",
        "      'hidden_size': 128,\n",
        "      'learning_rate': 1e-3,\n",
        "      'num_epochs': 150,\n",
        "      'weight_decay': 1e-4,\n",
        "      'dropout_rate': 0.2,\n",
        "      'scheduler_params': {\n",
        "        'factor': 0.5,\n",
        "        'min_lr': 1e-5\n",
        "      },\n",
        "    }\n",
        "    # num_layers = 2\n",
        "    # Validation Accuracy: 49.29%\n",
        "    # Test Accuracy: 41.27%\n",
        "\n",
        "  def get_training_config():\n",
        "    return {\n",
        "      'hidden_size': 256,\n",
        "      'learning_rate': 1e-4,\n",
        "      'num_epochs': 150,\n",
        "      'weight_decay': 1e-4,\n",
        "      'dropout_rate': 0.2,\n",
        "      'scheduler_params': {\n",
        "        'factor': 0.5,\n",
        "        'min_lr': 1e-5\n",
        "      },\n",
        "    }\n",
        "    # num_layers = 2, batch_size = 8\n",
        "    # Validation Accuracy: 50.24%\n",
        "    # Test Accuracy: 40.74%\n",
        "\n",
        "  def get_training_config():\n",
        "    return {\n",
        "      'hidden_size': 128,\n",
        "      'learning_rate': 1e-3,\n",
        "      'num_epochs': 150,\n",
        "      'weight_decay': 1e-4,\n",
        "      'dropout_rate': 0.2,\n",
        "      'scheduler_params': {\n",
        "        'factor': 0.5,\n",
        "        'min_lr': 1e-6\n",
        "      },\n",
        "    }\n",
        "    # num_layers = 2, batch_size = 8\n",
        "    # Validation Accuracy:\n",
        "    #"
      ],
      "metadata": {
        "id": "q5euowIfBPop"
      },
      "execution_count": null,
      "outputs": []
    },
    {
      "cell_type": "markdown",
      "source": [
        "## Stacked LSTM-GRU"
      ],
      "metadata": {
        "id": "RAvLTDl888hW"
      }
    },
    {
      "cell_type": "markdown",
      "source": [
        "### Attention Mechanism"
      ],
      "metadata": {
        "id": "tYBHT70Zzr7d"
      }
    },
    {
      "cell_type": "markdown",
      "source": [
        "#### Visibility = False"
      ],
      "metadata": {
        "id": "4AcdXMeg_bJl"
      }
    },
    {
      "cell_type": "code",
      "source": [
        "def get_training_config():\n",
        "    return {\n",
        "      'hidden_size': 256,\n",
        "      'learning_rate': 1e-3,\n",
        "      'num_epochs': 150,\n",
        "      'weight_decay': 1e-4,\n",
        "      'dropout_rate': 0.2,\n",
        "      'scheduler_params': {\n",
        "        'factor': 0.5,\n",
        "        'min_lr': 1e-5\n",
        "      },\n",
        "    }\n",
        "    #num_layers_LSTM=1, num_layers_GRU=1, batch_size=8\n",
        "    # Validation Accuracy: 48.82%\n",
        "    # Test Accuracy: 40.74%\n",
        "\n",
        "def get_training_config():\n",
        "    return {\n",
        "      'hidden_size': 256,\n",
        "      'learning_rate': 1e-4,\n",
        "      'num_epochs': 150,\n",
        "      'weight_decay': 1e-4,\n",
        "      'dropout_rate': 0.2,\n",
        "      'scheduler_params': {\n",
        "        'factor': 0.5,\n",
        "        'min_lr': 1e-5\n",
        "      },\n",
        "    }\n",
        "    #num_layers_LSTM=1, num_layers_GRU=1, batch_size=16\n",
        "    # Validation Accuracy: 48.71%\n",
        "    # Test Accuracy: 41.80%\n",
        "\n",
        "def get_training_config():\n",
        "    return {\n",
        "      'hidden_size': 512,\n",
        "      'learning_rate': 1e-4,\n",
        "      'num_epochs': 150,\n",
        "      'weight_decay': 1e-4,\n",
        "      'dropout_rate': 0.2,\n",
        "      'scheduler_params': {\n",
        "        'factor': 0.5,\n",
        "        'min_lr': 1e-5\n",
        "      },\n",
        "    }\n",
        "    #num_layers_LSTM=1, num_layers_GRU=1, batch_size=8\n",
        "    # Validation Accuracy: 53.08%\n",
        "    # Test Accuracy: 44.97%\n",
        "\n",
        "def get_training_config():\n",
        "    return {\n",
        "      'hidden_size': 512,\n",
        "      'learning_rate': 1e-4,\n",
        "      'num_epochs': 150,\n",
        "      'weight_decay': 1e-4,\n",
        "      'dropout_rate': 0.3,\n",
        "      'scheduler_params': {\n",
        "        'factor': 0.5,\n",
        "        'min_lr': 1e-5\n",
        "      },\n",
        "    }\n",
        "    # num_layers_LSTM=1, num_layers_GRU=1, batch_size=8\n",
        "    # Validation Accuracy: 49.29%\n",
        "    # Test Accuracy: 40.21%"
      ],
      "metadata": {
        "id": "QGYSuhZ6zwN8"
      },
      "execution_count": null,
      "outputs": []
    },
    {
      "cell_type": "markdown",
      "source": [
        "# WLASL2000"
      ],
      "metadata": {
        "id": "4cKPwQjpssOZ"
      }
    },
    {
      "cell_type": "markdown",
      "source": [
        "visibility True"
      ],
      "metadata": {
        "id": "50zC_B36Sj5Y"
      }
    },
    {
      "cell_type": "markdown",
      "source": [
        "## LSTM"
      ],
      "metadata": {
        "id": "5SJpYPblsxNG"
      }
    },
    {
      "cell_type": "markdown",
      "source": [
        "### Attention Mechanism"
      ],
      "metadata": {
        "id": "YBC0qYj2Sel2"
      }
    },
    {
      "cell_type": "code",
      "source": [
        "def get_training_config():\n",
        "    return {\n",
        "      'hidden_size': 256,\n",
        "      'learning_rate': 1e-4,\n",
        "      'num_epochs': 150,\n",
        "      'weight_decay': 1e-4,\n",
        "      'dropout_rate': 0.2,\n",
        "      'scheduler_params': {\n",
        "        'factor': 0.5,\n",
        "        'min_lr': 1e-5\n",
        "      },\n",
        "    }\n",
        "    # num_layers=2, batch_size=32\n",
        "    # Validation Accuracy: 13.79%\n",
        "    # Test Accuracy: 11.36%"
      ],
      "metadata": {
        "id": "UIAfL-d1syzv"
      },
      "execution_count": null,
      "outputs": []
    }
  ]
}