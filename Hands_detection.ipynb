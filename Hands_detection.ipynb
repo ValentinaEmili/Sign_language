{
  "nbformat": 4,
  "nbformat_minor": 0,
  "metadata": {
    "colab": {
      "provenance": [],
      "gpuType": "T4",
      "include_colab_link": true
    },
    "kernelspec": {
      "name": "python3",
      "display_name": "Python 3"
    },
    "language_info": {
      "name": "python"
    },
    "accelerator": "GPU"
  },
  "cells": [
    {
      "cell_type": "markdown",
      "metadata": {
        "id": "view-in-github",
        "colab_type": "text"
      },
      "source": [
        "<a href=\"https://colab.research.google.com/github/ValentinaEmili/Sign_language/blob/main/Hands_detection.ipynb\" target=\"_parent\"><img src=\"https://colab.research.google.com/assets/colab-badge.svg\" alt=\"Open In Colab\"/></a>"
      ]
    },
    {
      "cell_type": "code",
      "execution_count": null,
      "metadata": {
        "id": "kCtae26tygt9"
      },
      "outputs": [],
      "source": [
        "# mount google drive on colab\n",
        "from google.colab import drive\n",
        "drive.mount('/content/drive/')"
      ]
    },
    {
      "cell_type": "code",
      "source": [
        "!pip install yt_dlp"
      ],
      "metadata": {
        "id": "SFrlTkPRGrMc"
      },
      "execution_count": null,
      "outputs": []
    },
    {
      "cell_type": "code",
      "source": [
        "import pandas as pd\n",
        "import cv2\n",
        "import requests\n",
        "import os\n",
        "from google.colab.patches import cv2_imshow\n",
        "from tqdm import tqdm\n",
        "import yt_dlp"
      ],
      "metadata": {
        "id": "nibhY2zmQX79"
      },
      "execution_count": 1,
      "outputs": []
    },
    {
      "cell_type": "code",
      "source": [
        "# load the JSON data\n",
        "js_file = pd.read_json(\"/content/drive/MyDrive/NLP/WLASL_v0.3.json\")\n",
        "folder = \"/content/drive/MyDrive/NLP/dataset/\"\n",
        "\n",
        "training_folder = folder + \"train/\"\n",
        "test_folder = folder + \"test/\"\n",
        "training_video = training_folder + \"video/\"\n",
        "test_video = test_folder + \"video/\"\n",
        "training_images = training_folder + \"images/\"\n",
        "test_images = test_folder + \"images/\"\n",
        "os.makedirs(training_folder, exist_ok=True)\n",
        "os.makedirs(test_folder, exist_ok=True)\n",
        "os.makedirs(training_video, exist_ok=True)\n",
        "os.makedirs(test_video, exist_ok=True)\n",
        "os.makedirs(training_images, exist_ok=True)\n",
        "os.makedirs(test_images, exist_ok=True)\n",
        "\n",
        "# check the length of the directories and that they contain the same things\n",
        "\n",
        "# all videos with fps=25\n",
        "\n",
        "# sources:\n",
        "# {'asl5200',     youtube.com\n",
        "# 'aslbrick',     mp4\n",
        "# 'asldeafined',  mp4\n",
        "# 'asllex',       youtu.be\n",
        "# 'aslpro',       swf\n",
        "# 'aslsearch',    mp4\n",
        "# 'aslsignbank',  mp4\n",
        "# 'aslu',         youtube.com\n",
        "# 'elementalasl', mov (like mp4 maybe?)\n",
        "# 'handspeak',    mp4\n",
        "# 'lillybauer',   youtube.com\n",
        "# 'nabboud',      youtube.com\n",
        "# 'northtexas',   youtube.com\n",
        "# 'scott',        youtube.com\n",
        "# 'signingsavvy', mp4\n",
        "# 'signschool',   mp4\n",
        "# 'spreadthesign',mp4\n",
        "# 'startasl',     mp4\n",
        "# 'valencia-asl'} youtube.com"
      ],
      "metadata": {
        "id": "p7P2WNJh7rIi"
      },
      "execution_count": 2,
      "outputs": []
    },
    {
      "cell_type": "code",
      "source": [
        "# download youtube videos\n",
        "\n",
        "youtube_videos = ['asl5200', 'asllex', 'aslu', 'lillybauer', 'nabboud', 'northtexas', 'scott', 'valencia-asl']\n",
        "not_downloaded = 0\n",
        "tot_youtube_videos = 0\n",
        "downloaded = []\n",
        "\n",
        "def normalize_youtube_(url):\n",
        "  if 'youtu.be/' in url:\n",
        "    video_id = url.split('/')[-1].split('?')[0]\n",
        "    return f'https://www.youtube.com/watch?v={video_id}'\n",
        "  return url\n",
        "\n",
        "for i, word in enumerate(tqdm(list(js_file['gloss']), desc='glosses')):\n",
        "  for j, instance in enumerate(js_file['instances'][i]):\n",
        "\n",
        "    video_id = js_file['instances'][i][j]['video_id']\n",
        "    url = js_file['instances'][i][j]['url']\n",
        "    source = js_file['instances'][i][j]['source']\n",
        "    split = js_file['instances'][i][j]['split']\n",
        "    filename = f\"{word}_{video_id}.mp4\"\n",
        "\n",
        "    if source in youtube_videos:\n",
        "      url = normalize_youtube_(url)\n",
        "      tot_youtube_videos += 1\n",
        "      output_path = training_video if split == 'train' else test_video\n",
        "      dest_path = os.path.join(output_path, filename)\n",
        "\n",
        "      ydl_opts = {\n",
        "          'outtmpl': dest_path,\n",
        "          'format': 'bestvideo+bestaudio/best',\n",
        "          'quiet': True,\n",
        "          'merge_output_format': 'mp4',\n",
        "          }\n",
        "\n",
        "      with yt_dlp.YoutubeDL(ydl_opts) as ydl:\n",
        "        try:\n",
        "          ydl.download([url])\n",
        "          downloaded.append(video_id)\n",
        "        except:\n",
        "          not_downloaded += 1\n",
        "          continue"
      ],
      "metadata": {
        "id": "cioQr7UCGNnx"
      },
      "execution_count": null,
      "outputs": []
    },
    {
      "cell_type": "code",
      "source": [
        "print(not_downloaded, tot_youtube_videos)\n",
        "print(downloaded)"
      ],
      "metadata": {
        "id": "K24NpCV6QaiM"
      },
      "execution_count": null,
      "outputs": []
    },
    {
      "cell_type": "code",
      "source": [
        "# download non-youtube videos (mp4 or mov)\n",
        "\n",
        "youtube_videos = ['asl5200', 'asllex', 'aslu', 'lillybauer', 'nabboud', 'northtexas', 'scott', 'valencia-asl']\n",
        "\n",
        "for i, word in enumerate(tqdm(list(js_file['gloss']), desc='glosses')):\n",
        "  for j, instance in enumerate(js_file['instances'][i]):\n",
        "\n",
        "    video_id = js_file['instances'][i][j]['video_id']\n",
        "    url = js_file['instances'][i][j]['url']\n",
        "    source = js_file['instances'][i][j]['source']\n",
        "\n",
        "    if source not in youtube_videos:\n",
        "      try:\n",
        "        resp = requests.get(url, stream=True)\n",
        "\n",
        "        if js_file['instances'][i][j]['split'] == 'train':\n",
        "          dest_file = training_video + js_file['gloss'][i] + '_' + video_id +'.mp4'\n",
        "          with open(dest_file, mode='wb') as f:\n",
        "            f.write(resp.content)\n",
        "\n",
        "        else:\n",
        "          dest_file = test_video + js_file['gloss'][i] + '_' + video_id +'.mp4'\n",
        "          with open(dest_file, mode='wb') as f:\n",
        "            f.write(resp.content)\n",
        "      except:\n",
        "        continue"
      ],
      "metadata": {
        "id": "_0cpCM5ec2MC",
        "outputId": "a2b60a60-a2c1-49d5-a443-8c88f174f87e",
        "colab": {
          "base_uri": "https://localhost:8080/"
        }
      },
      "execution_count": null,
      "outputs": [
        {
          "output_type": "stream",
          "name": "stderr",
          "text": [
            "glosses: 100%|██████████| 2000/2000 [2:12:47<00:00,  3.98s/it]\n"
          ]
        }
      ]
    },
    {
      "cell_type": "code",
      "source": [
        "# Load the JSON data\n",
        "js_file = pd.read_json(\"/content/drive/MyDrive/NLP/WLASL_v0.3.json\")\n",
        "folder = \"/content/drive/MyDrive/NLP/dataset/\"\n",
        "training_folder = folder + \"train/\"\n",
        "test_folder = folder + \"test/\"\n",
        "training_video = training_folder + \"video/\"\n",
        "test_video = test_folder + \"video/\"\n",
        "training_images = training_folder + \"images/\"\n",
        "test_images = test_folder + \"images/\"\n",
        "os.makedirs(training_folder, exist_ok=True)\n",
        "os.makedirs(test_folder, exist_ok=True)\n",
        "os.makedirs(training_video, exist_ok=True)\n",
        "os.makedirs(test_video, exist_ok=True)\n",
        "os.makedirs(training_images, exist_ok=True)\n",
        "os.makedirs(test_images, exist_ok=True)\n",
        "\n",
        "for i, word in enumerate(list(js_file['gloss'])):\n",
        "  for j, instance in enumerate(js_file['instances'][i]):\n",
        "\n",
        "    video_id = js_file['instances'][i][j]['video_id']\n",
        "    url = js_file['instances'][i][j]['url']\n",
        "    try:\n",
        "      resp = requests.get(url, stream=True)\n",
        "\n",
        "      if js_file['instances'][i][j]['split'] == 'train':\n",
        "        dest_file = training_video + js_file['gloss'][i] + '.mp4'\n",
        "        with open(dest_file, mode='wb') as f:\n",
        "          f.write(resp.content)\n",
        "\n",
        "      else:\n",
        "        dest_file = test_video + js_file['gloss'][i] + '.mp4'\n",
        "        with open(dest_file, mode='wb') as f:\n",
        "          f.write(resp.content)\n",
        "    except:\n",
        "      continue"
      ],
      "metadata": {
        "id": "TTh5QNZvQZRc"
      },
      "execution_count": null,
      "outputs": []
    },
    {
      "cell_type": "code",
      "source": [
        "js_file['instances'][0]"
      ],
      "metadata": {
        "id": "dmidXyLeTvHp"
      },
      "execution_count": null,
      "outputs": []
    },
    {
      "cell_type": "code",
      "source": [
        "import pandas as pd\n",
        "import cv2\n",
        "import requests\n",
        "import os\n",
        "from google.colab.patches import cv2_imshow\n",
        "\n",
        "# Load the JSON data\n",
        "js_file = pd.read_json(\"/content/drive/MyDrive/NLP/WLASL_v0.3.json\")\n",
        "url = js_file['instances'][0][0]['url']\n",
        "folder = \"/content/drive/MyDrive/NLP/dataset/\" + js_file['gloss'][0] + \"/video/\"\n",
        "instance = js_file['instances'][0][0]['video_id']\n",
        "\n",
        "# Create the destination folder if it doesn't exist\n",
        "dest_file = folder + instance + \".mp4\"\n",
        "os.makedirs(os.path.dirname(dest_file), exist_ok=True)\n",
        "\n",
        "# Download the video\n",
        "resp = requests.get(url)\n",
        "with open(dest_file, mode=\"wb\") as f:\n",
        "  f.write(resp.content)\n",
        "# _________________________________________________________________________________________________________________________________________________\n",
        "# Open the video file\n",
        "cap = cv2.VideoCapture(dest_file)\n",
        "\n",
        "# Get FPS and total frames from the video\n",
        "fps = js_file['instances'][0][0]['fps']\n",
        "cap.set(cv2.CAP_PROP_FPS, fps)\n",
        "\n",
        "curr_frame = 0\n",
        "total_frames = cap.get(cv2.CAP_PROP_FRAME_COUNT)\n",
        "\n",
        "while True:\n",
        "  ret, frame = cap.read()\n",
        "  if not ret:\n",
        "    break\n",
        "  if curr_frame % 10 == 0:\n",
        "    cv2_imshow(frame)\n",
        "    curr_folder = \"/content/drive/MyDrive/NLP/dataset/\" + js_file['gloss'][0] + \"/\" + instance\n",
        "    os.makedirs(curr_folder, exist_ok=True)\n",
        "    frame_name = curr_folder + \"/\" + str(curr_frame) + \".jpg\"\n",
        "    cv2.imwrite(frame_name, frame)\n",
        "  curr_frame += 1"
      ],
      "metadata": {
        "id": "wFBWLNZw03ri"
      },
      "execution_count": null,
      "outputs": []
    }
  ]
}