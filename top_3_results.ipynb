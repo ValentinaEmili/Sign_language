{
  "nbformat": 4,
  "nbformat_minor": 0,
  "metadata": {
    "colab": {
      "provenance": [],
      "authorship_tag": "ABX9TyP3rMEmmU3m46/ShMTECPuF",
      "include_colab_link": true
    },
    "kernelspec": {
      "name": "python3",
      "display_name": "Python 3"
    },
    "language_info": {
      "name": "python"
    }
  },
  "cells": [
    {
      "cell_type": "markdown",
      "metadata": {
        "id": "view-in-github",
        "colab_type": "text"
      },
      "source": [
        "<a href=\"https://colab.research.google.com/github/ValentinaEmili/Sign_language/blob/main/top_3_results.ipynb\" target=\"_parent\"><img src=\"https://colab.research.google.com/assets/colab-badge.svg\" alt=\"Open In Colab\"/></a>"
      ]
    },
    {
      "cell_type": "markdown",
      "source": [
        "Best params without visibility information (LSTM)"
      ],
      "metadata": {
        "id": "fULz16pG7r8N"
      }
    },
    {
      "cell_type": "code",
      "execution_count": null,
      "metadata": {
        "id": "x_VBlyoy7Zb5"
      },
      "outputs": [],
      "source": [
        "def get_training_config():\n",
        "    return {\n",
        "      'hidden_size': 512,\n",
        "      'learning_rate': 1e-4,\n",
        "      'num_epochs': 150,\n",
        "      'weight_decay': 1e-4,\n",
        "      'dropout_rate': 0.2,\n",
        "      'scheduler_params': {\n",
        "        'factor': 0.5,\n",
        "        'min_lr': 1e-5\n",
        "      },\n",
        "    }\n",
        "    # num_layers = 2, batch_size = 8\n",
        "    # Validation Accuracy: 71.56%\n",
        "    # Test Accuracy: 64.02%\n",
        "\n",
        "def get_training_config():\n",
        "    return {\n",
        "      'hidden_size': 512,\n",
        "      'learning_rate': 1e-4,\n",
        "      'num_epochs': 150,\n",
        "      'weight_decay': 1e-4,\n",
        "      'dropout_rate': 0.1,\n",
        "      'scheduler_params': {\n",
        "        'factor': 0.5,\n",
        "        'min_lr': 1e-5\n",
        "      },\n",
        "    }\n",
        "    # num_layers = 2, batch_size = 8\n",
        "    # Validation Accuracy: 68.72%\n",
        "    # Test Accuracy: 63.49%\n",
        "\n",
        "def get_training_config():\n",
        "    return {\n",
        "      'hidden_size': 512,\n",
        "      'learning_rate': 1e-3,\n",
        "      'num_epochs': 150,\n",
        "      'weight_decay': 1e-4,\n",
        "      'dropout_rate': 0.1,\n",
        "      'scheduler_params': {\n",
        "        'factor': 0.5,\n",
        "        'min_lr': 1e-5\n",
        "      },\n",
        "    }\n",
        "    # num_layers = 2, batch_size = 8\n",
        "    # Validation Accuracy: 64.45%\n",
        "    # Test Accuracy: 61.38%"
      ]
    },
    {
      "cell_type": "markdown",
      "source": [
        "Best params without visibility information (GRU) and Bahdanau Attention mechanism"
      ],
      "metadata": {
        "id": "kCpwoGPH7xne"
      }
    },
    {
      "cell_type": "code",
      "source": [
        "def get_training_config():\n",
        "    return {\n",
        "      'hidden_size': 256,\n",
        "      'learning_rate': 1e-3,\n",
        "      'num_epochs': 150,\n",
        "      'weight_decay': 1e-4,\n",
        "      'dropout_rate': 0.2,\n",
        "      'scheduler_params': {\n",
        "        'factor': 0.5,\n",
        "        'min_lr': 1e-5\n",
        "      },\n",
        "    }\n",
        "    # num_layers = 2, batch_size = 8\n",
        "    # Validation Accuracy: 66.35%\n",
        "    # Test Accuracy: 60.85%\n",
        "\n",
        "def get_training_config():\n",
        "    return {\n",
        "      'hidden_size': 256,\n",
        "      'learning_rate': 1e-3,\n",
        "      'num_epochs': 150,\n",
        "      'weight_decay': 1e-4,\n",
        "      'dropout_rate': 0.2,\n",
        "      'scheduler_params': {\n",
        "        'factor': 0.5,\n",
        "        'min_lr': 1e-4\n",
        "      },\n",
        "    }\n",
        "    # num_layers = 2, batch_size = 8\n",
        "    # Validation Accuracy: 72.04%\n",
        "    # Test Accuracy: 60.32%\n",
        "\n",
        "def get_training_config():\n",
        "    return {\n",
        "      'hidden_size': 256,\n",
        "      'learning_rate': 1e-4,\n",
        "      'num_epochs': 150,\n",
        "      'weight_decay': 1e-4,\n",
        "      'dropout_rate': 0.2,\n",
        "      'scheduler_params': {\n",
        "        'factor': 0.5,\n",
        "        'min_lr': 1e-5\n",
        "      },\n",
        "    }\n",
        "    # num_layers = 2, batch_size = 8\n",
        "    # Validation Accuracy: 68.25%\n",
        "    # Test Accuracy: 61.90%\n",
        "\n",
        "def get_training_config():\n",
        "    return {\n",
        "      'hidden_size': 256,\n",
        "      'learning_rate': 1e-3,\n",
        "      'num_epochs': 150,\n",
        "      'weight_decay': 1e-4,\n",
        "      'dropout_rate': 0.2,\n",
        "      'scheduler_params': {\n",
        "        'factor': 0.5,\n",
        "        'min_lr': 1e-4\n",
        "      },\n",
        "    }\n",
        "    # num_layers = 2, batch_size = 8\n",
        "    # Validation Accuracy: 69.19%\n",
        "    # Test Accuracy: 64.02%"
      ],
      "metadata": {
        "id": "RXrb7Vmu7y4v"
      },
      "execution_count": null,
      "outputs": []
    }
  ]
}