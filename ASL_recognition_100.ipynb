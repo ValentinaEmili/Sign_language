{
  "nbformat": 4,
  "nbformat_minor": 0,
  "metadata": {
    "colab": {
      "provenance": [],
      "gpuType": "T4",
      "include_colab_link": true
    },
    "kernelspec": {
      "name": "python3",
      "display_name": "Python 3"
    },
    "language_info": {
      "name": "python"
    },
    "accelerator": "GPU"
  },
  "cells": [
    {
      "cell_type": "markdown",
      "metadata": {
        "id": "view-in-github",
        "colab_type": "text"
      },
      "source": [
        "<a href=\"https://colab.research.google.com/github/ValentinaEmili/Sign_language/blob/main/ASL_recognition_100.ipynb\" target=\"_parent\"><img src=\"https://colab.research.google.com/assets/colab-badge.svg\" alt=\"Open In Colab\"/></a>"
      ]
    },
    {
      "cell_type": "markdown",
      "source": [
        "The glossary is made of 100 different words but the instances for each word are not the same as the ones in WLASL_v0.3 file. Indeed, some links were broken and the correspective instances have been removed. Every word has at least one instance."
      ],
      "metadata": {
        "id": "K5puhnnLO5Nx"
      }
    },
    {
      "cell_type": "code",
      "execution_count": 3,
      "metadata": {
        "id": "I9719RldLOi8",
        "colab": {
          "base_uri": "https://localhost:8080/"
        },
        "outputId": "90c84bc0-23ff-4e43-fa03-8d420668a8c4"
      },
      "outputs": [
        {
          "output_type": "stream",
          "name": "stdout",
          "text": [
            "Mounted at /content/drive\n"
          ]
        }
      ],
      "source": [
        "# mount google drive on colab\n",
        "from google.colab import drive\n",
        "drive.mount('/content/drive')"
      ]
    },
    {
      "cell_type": "code",
      "source": [
        "import pandas as pd\n",
        "import cv2\n",
        "from google.colab.patches import cv2_imshow\n",
        "from tqdm import tqdm\n",
        "import numpy as np\n",
        "import os\n",
        "import torch\n",
        "import torch.nn as nn\n",
        "import torch.nn.functional as F\n",
        "from torch.nn.utils.rnn import pack_padded_sequence, pad_sequence, pad_packed_sequence\n",
        "from torch.nn import LSTM\n",
        "import torch.optim as optim\n",
        "from torch.utils.data import TensorDataset, DataLoader, Dataset\n",
        "import shutil"
      ],
      "metadata": {
        "id": "GEpUCIpXMCeD"
      },
      "execution_count": 1,
      "outputs": []
    },
    {
      "cell_type": "code",
      "source": [
        "js_100 = pd.read_json(\"/content/drive/MyDrive/NLP/WLASL100.json\")\n",
        "folder = \"/content/drive/MyDrive/NLP/dataset/subset_100/\"\n",
        "original_folder = \"/content/drive/MyDrive/NLP/dataset/\"\n",
        "\n",
        "training_folder = folder + \"train/\"\n",
        "validation_folder = folder + \"val/\"\n",
        "test_folder = folder + \"test/\"\n",
        "\n",
        "training_video = training_folder + \"video/\"\n",
        "validation_video = validation_folder + \"video/\"\n",
        "test_video = test_folder + \"video/\"\n",
        "\n",
        "training_images = training_folder + \"images_no_vis/\"\n",
        "validation_images = validation_folder + \"images_no_vis/\"\n",
        "test_images = test_folder + \"images_no_vis/\"\n"
      ],
      "metadata": {
        "id": "WvijBQ7dMEUn"
      },
      "execution_count": 4,
      "outputs": []
    },
    {
      "cell_type": "markdown",
      "source": [
        "Preprocess the data"
      ],
      "metadata": {
        "id": "YCec3DzkY0KI"
      }
    },
    {
      "cell_type": "code",
      "source": [
        "train_gloss, val_gloss, test_gloss = set(), set(), set()\n",
        "for image in os.listdir(training_images):\n",
        "  word, _ = image.split(\"_\")\n",
        "  train_gloss.add(word)\n",
        "\n",
        "for image in os.listdir(validation_images):\n",
        "  word, _ = image.split(\"_\")\n",
        "  val_gloss.add(word)\n",
        "\n",
        "for image in os.listdir(test_images):\n",
        "  word, _ = image.split(\"_\")\n",
        "  test_gloss.add(word)\n",
        "gloss = sorted(list(train_gloss | val_gloss | test_gloss))\n",
        "\n",
        "\n",
        "label_map = {label: num for num, label in enumerate(gloss)}"
      ],
      "metadata": {
        "id": "gVLXBTHjY2PB"
      },
      "execution_count": 5,
      "outputs": []
    },
    {
      "cell_type": "code",
      "source": [
        "print('train set:', len(os.listdir(training_images)))\n",
        "print('val set:', len(os.listdir(validation_images)))\n",
        "print('test set:', len(os.listdir(test_images)))\n",
        "print('tot dataset:', len(os.listdir(training_images))+len(os.listdir(validation_images))+len(os.listdir(test_images)))"
      ],
      "metadata": {
        "id": "UEKo96AYYlL5",
        "outputId": "72a01c40-62d2-4d89-846b-5309ceee513e",
        "colab": {
          "base_uri": "https://localhost:8080/"
        }
      },
      "execution_count": null,
      "outputs": [
        {
          "output_type": "stream",
          "name": "stdout",
          "text": [
            "train set: 914\n",
            "val set: 211\n",
            "test set: 189\n",
            "tot dataset: 1314\n"
          ]
        }
      ]
    },
    {
      "cell_type": "code",
      "source": [
        "class SignLanguageDataset(Dataset):\n",
        "  def __init__(self, image_dir, label_map):\n",
        "     self.image_dir = image_dir\n",
        "     self.label_map = label_map\n",
        "     self.files = sorted(os.listdir(image_dir))\n",
        "\n",
        "  def __len__(self):\n",
        "    return len(self.files)\n",
        "\n",
        "  def __getitem__(self, idx):\n",
        "    file_name = self.files[idx]\n",
        "    np_array = np.load(os.path.join(self.image_dir, file_name))\n",
        "    if np_array.size == 0 or len(np_array.shape) != 2 or np_array.shape[1] != 258:\n",
        "      print(f\"Warning: Empty or invalid shape for file: {file_name}\")\n",
        "      np_array = np.zeros((1, 258), dtype=np.float32)\n",
        "\n",
        "    label, _ = file_name.split(\"_\")\n",
        "    label = self.label_map[label]\n",
        "\n",
        "    return torch.tensor(np_array, dtype=torch.float32), torch.tensor(label, dtype=torch.long)\n",
        "\n",
        "# Add zero-padding to get sequences of the same length for each batch\n",
        "def collate_fn(batch):\n",
        "  sequences, labels = zip(*batch)\n",
        "  lengths = [len(seq) for seq in sequences]\n",
        "  padded_sequences = pad_sequence(sequences, batch_first=True)\n",
        "\n",
        "  # pack the padded sequence\n",
        "  packed_sequences = pack_padded_sequence(padded_sequences, lengths, batch_first=True, enforce_sorted=False)\n",
        "  return packed_sequences, torch.tensor(labels)\n",
        "\n",
        "train_dataset = SignLanguageDataset(training_images, label_map)\n",
        "val_dataset = SignLanguageDataset(validation_images, label_map)\n",
        "test_dataset = SignLanguageDataset(test_images, label_map)\n",
        "\n",
        "batch_size = 16\n",
        "train_loader = DataLoader(train_dataset, batch_size=batch_size, shuffle=True, collate_fn=collate_fn)\n",
        "val_loader = DataLoader(val_dataset, batch_size=batch_size, shuffle=False, collate_fn=collate_fn)\n",
        "test_loader = DataLoader(test_dataset, batch_size=batch_size, shuffle=False, collate_fn=collate_fn)"
      ],
      "metadata": {
        "id": "xgyckkrlY8IZ"
      },
      "execution_count": 6,
      "outputs": []
    },
    {
      "cell_type": "markdown",
      "source": [
        "Build and train LSTM Neural Network"
      ],
      "metadata": {
        "id": "MkgMAWetmoR6"
      }
    },
    {
      "cell_type": "code",
      "source": [
        "class SignLanguageLSTM(nn.Module):\n",
        "  def __init__(self, input_size, hidden_size, num_classes, dropout_rate=0.5):\n",
        "    super(SignLanguageLSTM, self).__init__()\n",
        "\n",
        "    # input regularization\n",
        "    self.input_bn = nn.BatchNorm1d(input_size)\n",
        "    self.input_dropout = nn.Dropout(0.3)\n",
        "\n",
        "    # single bidirectional LSTM layer\n",
        "    self.lstm = nn.LSTM(\n",
        "        input_size=input_size,\n",
        "        hidden_size=hidden_size,\n",
        "        batch_first=True,\n",
        "        dropout=dropout_rate,\n",
        "        bidirectional=True)\n",
        "\n",
        "    # fully connected layers\n",
        "    self.fc1 = nn.Linear(hidden_size * 2, hidden_size)\n",
        "    self.fc2 = nn.Linear(hidden_size, num_classes)\n",
        "\n",
        "    self.dropout = nn.Dropout(dropout_rate)\n",
        "\n",
        "  def forward(self, packed_input):\n",
        "    # unpack input for batch normalization\n",
        "    padded_input, lengths = pad_packed_sequence(packed_input, batch_first=True)\n",
        "\n",
        "    # apply input normalization and dropout\n",
        "    padded_input = padded_input.transpose(1, 2)\n",
        "    padded_input = self.input_bn(padded_input)\n",
        "    padded_input = padded_input.transpose(1, 2)\n",
        "    padded_input = self.input_dropout(padded_input)\n",
        "\n",
        "    # re-pack input\n",
        "    packed_input = pack_padded_sequence(padded_input, lengths, batch_first=True, enforce_sorted=False)\n",
        "\n",
        "    # LSTM\n",
        "    packed_output, (hn, cn) = self.lstm(packed_input)\n",
        "\n",
        "    output_forward = hn[0, :, :] # last hidden state for forward direction\n",
        "    output_backward = hn[1, :, :] # last hidden state for backward direction\n",
        "    output = torch.cat((output_forward, output_backward), dim=1)\n",
        "\n",
        "    output = F.relu(self.fc1(output))\n",
        "    output = self.fc2(self.dropout(output))\n",
        "\n",
        "    return output"
      ],
      "metadata": {
        "id": "AVvzitBMmrLp"
      },
      "execution_count": null,
      "outputs": []
    },
    {
      "cell_type": "code",
      "source": [
        "# training configuration tailored for small datasets\n",
        "def get_training_config():\n",
        "  return {\n",
        "    'hidden_size': 256, # {64, 128, 256}\n",
        "    'learning_rate': 1e-4, # {1e-3, 1e-4, 1e-5}\n",
        "    'num_epochs': 100,\n",
        "    'weight_decay': 1e-4, # {1e-2, 1e-3}\n",
        "    'dropout_rate': 0.1,\n",
        "    'scheduler_params': {\n",
        "      'factor': 0.5,\n",
        "      'min_lr': 1e-6\n",
        "    },\n",
        "  }\n",
        "\n",
        "best_accuracy = 0.0\n",
        "training_history = []\n",
        "config = get_training_config()\n",
        "device = torch.device(\"cuda\" if torch.cuda.is_available() else \"cpu\")\n",
        "num_epochs = config['num_epochs']\n",
        "\n",
        "model = SignLanguageLSTM(\n",
        "    input_size=258,\n",
        "    hidden_size = config['hidden_size'],\n",
        "    num_classes = len(label_map),\n",
        "    dropout_rate=config['dropout_rate']).to(device)\n",
        "\n",
        "criterion = nn.CrossEntropyLoss() # for multi-class classification\n",
        "optimizer = torch.optim.Adam(\n",
        "    model.parameters(),\n",
        "    lr=config['learning_rate'],\n",
        "    weight_decay=config['weight_decay'])\n",
        "\n",
        "scheduler = torch.optim.lr_scheduler.ReduceLROnPlateau(\n",
        "    optimizer,\n",
        "    mode='max',\n",
        "    factor=config['scheduler_params']['factor'],\n",
        "    min_lr=config['scheduler_params']['min_lr'],\n",
        "    patience=5)\n",
        "\n",
        "for epoch in range(num_epochs):\n",
        "  model.train()\n",
        "  running_loss = 0.0\n",
        "\n",
        "  for inputs, labels in tqdm(train_loader, desc=f'Epoch {epoch + 1}/{num_epochs} [Train]'):\n",
        "    inputs, labels = inputs.to(device), labels.to(device)\n",
        "\n",
        "    optimizer.zero_grad()\n",
        "    outputs = model(inputs)\n",
        "    loss = criterion(outputs, labels)\n",
        "    loss.backward()\n",
        "\n",
        "    torch.nn.utils.clip_grad_norm_(model.parameters(), max_norm=1.0)\n",
        "\n",
        "    optimizer.step()\n",
        "\n",
        "    running_loss += loss.item()\n",
        "\n",
        "  avg_train_loss = running_loss / len(train_loader)\n",
        "  print(f'Epoch [{epoch+1}/{num_epochs}], Loss: {avg_train_loss:.4f}')\n",
        "\n",
        "  # evaluation phase\n",
        "  model.eval()\n",
        "  val_loss, correct, total = 0, 0, 0\n",
        "\n",
        "  with torch.no_grad():\n",
        "    for inputs, labels in tqdm(val_loader, desc=f'Epoch {epoch + 1}/{num_epochs} [Valid]'):\n",
        "      inputs, labels = inputs.to(device), labels.to(device)\n",
        "      outputs = model(inputs)\n",
        "      loss = criterion(outputs, labels)\n",
        "      val_loss += loss.item()\n",
        "\n",
        "      _, predicted = torch.max(outputs, 1)\n",
        "      total += labels.size(0)\n",
        "      correct += (predicted == labels).sum().item()\n",
        "  accuracy = correct / total\n",
        "  avg_val_loss = val_loss / len(val_loader)\n",
        "\n",
        "  # update learning rate based on validation accuracy\n",
        "  scheduler.step(accuracy)\n",
        "\n",
        "  print(f'Validation Accuracy: {accuracy * 100:.2f}%')\n",
        "  print(f'Epoch [{epoch+1}/{num_epochs}], Validation Loss: {avg_val_loss:.4f}')\n",
        "\n",
        "  # store training history\n",
        "  training_history.append({\n",
        "    'epoch': epoch + 1,\n",
        "    'train_loss': avg_train_loss,\n",
        "    'val_loss': avg_val_loss,\n",
        "    'acc': round(accuracy * 100, 2),  # store as percentage\n",
        "    'lr': optimizer.param_groups[0]['lr']\n",
        "    })\n",
        "\n",
        "  # save best model\n",
        "  if accuracy > best_accuracy:\n",
        "    best_accuracy = accuracy\n",
        "    torch.save({\n",
        "      'epoch': epoch,\n",
        "      'model_state_dict': model.state_dict(),\n",
        "      'optimizer_state_dict': optimizer.state_dict(),\n",
        "      'accuracy': accuracy, # saved as decimal\n",
        "      'val_loss': avg_val_loss,\n",
        "    }, '/content/drive/MyDrive/NLP/saved_models/best_model_100.pth')\n",
        "    print(f'Saved new best model with accuracy: {best_accuracy * 100:.2f}%\\n-----')"
      ],
      "metadata": {
        "id": "rJDMNIIUmuI4"
      },
      "execution_count": null,
      "outputs": []
    },
    {
      "cell_type": "code",
      "source": [
        "model.eval()\n",
        "correct, total = 0, 0\n",
        "with torch.no_grad():\n",
        "  for inputs, labels in test_loader:\n",
        "    inputs, labels = inputs.to(device), labels.to(device)\n",
        "    outputs = model(inputs)\n",
        "    _, predicted = torch.max(outputs, 1)\n",
        "    total += labels.size(0)\n",
        "    correct += (predicted == labels).sum().item()\n",
        "test_accuracy = correct / total  # Test accuracy\n",
        "print(f'Test Accuracy: {test_accuracy * 100:.2f}%')"
      ],
      "metadata": {
        "id": "ty1dOZLZmrTD",
        "outputId": "8ef912af-82b6-42b1-a817-356732b8ba44",
        "colab": {
          "base_uri": "https://localhost:8080/"
        }
      },
      "execution_count": null,
      "outputs": [
        {
          "output_type": "stream",
          "name": "stdout",
          "text": [
            "Test Accuracy: 22.22%\n"
          ]
        }
      ]
    },
    {
      "cell_type": "markdown",
      "source": [
        "LSTM with Attention Mechanism"
      ],
      "metadata": {
        "id": "PGbtC6q5PKgy"
      }
    },
    {
      "cell_type": "markdown",
      "source": [
        "code inspired to:\n",
        "\n",
        "https://medium.com/@eugenesh4work/attention-mechanism-for-lstm-used-in-a-sequence-to-sequence-task-be1d54919876"
      ],
      "metadata": {
        "id": "VeJpwEsMepdh"
      }
    },
    {
      "cell_type": "code",
      "source": [
        "class Attention(nn.Module):\n",
        "  def __init__(self, hidden_size):\n",
        "    super(Attention, self).__init__()\n",
        "    self.hidden_size = hidden_size\n",
        "\n",
        "  def forward(self, lstm_output, final_hidden_state):\n",
        "    # lstm_output: (batch_size, seq_len, hidden_size * 2)\n",
        "    # final hidden state: (batch_size, hidden_size * 2)\n",
        "    scores = torch.bmm(lstm_output, final_hidden_state.unsqueeze(2)).squeeze(2) # (batch_size, seq_len)\n",
        "    attention_weights = F.softmax(scores, dim=1) # (batch_size, seq_len)\n",
        "    context_vector = torch.bmm(attention_weights.unsqueeze(1), lstm_output).squeeze(1)  # (batch_size, hidden_dim * 2)\n",
        "    return context_vector, attention_weights\n",
        "\n",
        "class SignLanguageLSTM(nn.Module):\n",
        "  def __init__(self, input_size, hidden_size, num_classes, dropout_rate=0.5):\n",
        "    super(SignLanguageLSTM, self).__init__()\n",
        "\n",
        "    # input regularization\n",
        "    self.input_bn = nn.BatchNorm1d(input_size)\n",
        "    self.input_dropout = nn.Dropout(0.3)\n",
        "\n",
        "    # single bidirectional LSTM layer\n",
        "    self.lstm = nn.LSTM(\n",
        "        input_size=input_size,\n",
        "        hidden_size=hidden_size,\n",
        "        batch_first=True,\n",
        "        dropout=dropout_rate,\n",
        "        bidirectional=True)\n",
        "\n",
        "    # attention mechanism\n",
        "    self.attention = Attention(hidden_size)\n",
        "\n",
        "    # fully connected layers\n",
        "    self.fc1 = nn.Linear(hidden_size * 2, hidden_size)\n",
        "    self.fc2 = nn.Linear(hidden_size, num_classes)\n",
        "\n",
        "    self.dropout = nn.Dropout(dropout_rate)\n",
        "\n",
        "  def forward(self, packed_input):\n",
        "    # unpack input for batch normalization\n",
        "    padded_input, lengths = pad_packed_sequence(packed_input, batch_first=True)\n",
        "\n",
        "    # apply input normalization and dropout\n",
        "    padded_input = padded_input.transpose(1, 2)\n",
        "    padded_input = self.input_bn(padded_input)\n",
        "    padded_input = padded_input.transpose(1, 2)\n",
        "    padded_input = self.input_dropout(padded_input)\n",
        "\n",
        "    # re-pack input\n",
        "    packed_input = pack_padded_sequence(padded_input, lengths, batch_first=True, enforce_sorted=False)\n",
        "\n",
        "    # LSTM\n",
        "    packed_output, (hn, cn) = self.lstm(packed_input)\n",
        "\n",
        "    output_forward = hn[0, :, :] # last hidden state for forward direction\n",
        "    output_backward = hn[1, :, :] # last hidden state for backward direction\n",
        "    final_hidden_state = torch.cat((output_forward, output_backward), dim=1)\n",
        "\n",
        "    lstm_output, _ = pad_packed_sequence(packed_output, batch_first=True)\n",
        "    context_vector, _ = self.attention(lstm_output, final_hidden_state)\n",
        "\n",
        "    output = F.relu(self.fc1(context_vector))\n",
        "    output = self.fc2(self.dropout(output))\n",
        "\n",
        "    return output"
      ],
      "metadata": {
        "id": "n9SYmu0nPNw4"
      },
      "execution_count": 7,
      "outputs": []
    },
    {
      "cell_type": "code",
      "source": [
        "# training configuration tailored for small datasets\n",
        "def get_training_config():\n",
        "  return {\n",
        "    'hidden_size': 512, # {64, 128, 256}\n",
        "    'learning_rate': 1e-4, # {1e-3, 1e-4, 1e-5}\n",
        "    'num_epochs': 100,\n",
        "    'weight_decay': 1e-4, # {1e-2, 1e-3}\n",
        "    'dropout_rate': 0.1,\n",
        "    'scheduler_params': {\n",
        "      'factor': 0.5,\n",
        "      'min_lr': 1e-6\n",
        "    },\n",
        "  }\n",
        "\n",
        "best_accuracy = 0.0\n",
        "training_history = []\n",
        "config = get_training_config()\n",
        "device = torch.device(\"cuda\" if torch.cuda.is_available() else \"cpu\")\n",
        "num_epochs = config['num_epochs']\n",
        "\n",
        "model = SignLanguageLSTM(\n",
        "    input_size=258,\n",
        "    hidden_size = config['hidden_size'],\n",
        "    num_classes = len(label_map),\n",
        "    dropout_rate=config['dropout_rate']).to(device)\n",
        "\n",
        "criterion = nn.CrossEntropyLoss() # for multi-class classification\n",
        "optimizer = torch.optim.Adam(\n",
        "    model.parameters(),\n",
        "    lr=config['learning_rate'],\n",
        "    weight_decay=config['weight_decay'])\n",
        "\n",
        "scheduler = torch.optim.lr_scheduler.ReduceLROnPlateau(\n",
        "    optimizer,\n",
        "    mode='max',\n",
        "    factor=config['scheduler_params']['factor'],\n",
        "    min_lr=config['scheduler_params']['min_lr'],\n",
        "    patience=5)\n",
        "\n",
        "for epoch in range(num_epochs):\n",
        "  model.train()\n",
        "  running_loss = 0.0\n",
        "\n",
        "  for inputs, labels in tqdm(train_loader, desc=f'Epoch {epoch + 1}/{num_epochs} [Train]'):\n",
        "    inputs, labels = inputs.to(device), labels.to(device)\n",
        "\n",
        "    optimizer.zero_grad()\n",
        "    outputs = model(inputs)\n",
        "    loss = criterion(outputs, labels)\n",
        "    loss.backward()\n",
        "\n",
        "    torch.nn.utils.clip_grad_norm_(model.parameters(), max_norm=1.0)\n",
        "\n",
        "    optimizer.step()\n",
        "\n",
        "    running_loss += loss.item()\n",
        "\n",
        "  avg_train_loss = running_loss / len(train_loader)\n",
        "  print(f'Epoch [{epoch+1}/{num_epochs}], Loss: {avg_train_loss:.4f}')\n",
        "\n",
        "  # evaluation phase\n",
        "  model.eval()\n",
        "  val_loss, correct, total = 0, 0, 0\n",
        "\n",
        "  with torch.no_grad():\n",
        "    for inputs, labels in tqdm(val_loader, desc=f'Epoch {epoch + 1}/{num_epochs} [Valid]'):\n",
        "      inputs, labels = inputs.to(device), labels.to(device)\n",
        "      outputs = model(inputs)\n",
        "      loss = criterion(outputs, labels)\n",
        "      val_loss += loss.item()\n",
        "\n",
        "      _, predicted = torch.max(outputs, 1)\n",
        "      total += labels.size(0)\n",
        "      correct += (predicted == labels).sum().item()\n",
        "  accuracy = correct / total\n",
        "  avg_val_loss = val_loss / len(val_loader)\n",
        "\n",
        "  # update learning rate based on validation accuracy\n",
        "  scheduler.step(accuracy)\n",
        "\n",
        "  print(f'Validation Accuracy: {accuracy * 100:.2f}%')\n",
        "  print(f'Epoch [{epoch+1}/{num_epochs}], Validation Loss: {avg_val_loss:.4f}')\n",
        "\n",
        "  # store training history\n",
        "  training_history.append({\n",
        "    'epoch': epoch + 1,\n",
        "    'train_loss': avg_train_loss,\n",
        "    'val_loss': avg_val_loss,\n",
        "    'acc': round(accuracy * 100, 2),  # store as percentage\n",
        "    'lr': optimizer.param_groups[0]['lr']\n",
        "    })\n",
        "\n",
        "  # save best model\n",
        "  if accuracy > best_accuracy:\n",
        "    best_accuracy = accuracy\n",
        "    torch.save({\n",
        "      'epoch': epoch,\n",
        "      'model_state_dict': model.state_dict(),\n",
        "      'optimizer_state_dict': optimizer.state_dict(),\n",
        "      'accuracy': accuracy, # saved as decimal\n",
        "      'val_loss': avg_val_loss,\n",
        "    }, '/content/drive/MyDrive/NLP/saved_models/best_model_100.pth')\n",
        "    print(f'Saved new best model with accuracy: {best_accuracy * 100:.2f}%\\n-----')"
      ],
      "metadata": {
        "id": "Id7IGe9J0HVc"
      },
      "execution_count": null,
      "outputs": []
    },
    {
      "cell_type": "markdown",
      "source": [
        "Validation Accuracy: 48.34%"
      ],
      "metadata": {
        "id": "fLAV23dn0ssh"
      }
    },
    {
      "cell_type": "code",
      "source": [
        "model.eval()\n",
        "correct, total = 0, 0\n",
        "with torch.no_grad():\n",
        "  for inputs, labels in test_loader:\n",
        "    inputs, labels = inputs.to(device), labels.to(device)\n",
        "    outputs = model(inputs)\n",
        "    _, predicted = torch.max(outputs, 1)\n",
        "    total += labels.size(0)\n",
        "    correct += (predicted == labels).sum().item()\n",
        "test_accuracy = correct / total  # Test accuracy\n",
        "print(f'Test Accuracy: {test_accuracy * 100:.2f}%')"
      ],
      "metadata": {
        "id": "Yx_RS5Qemu5r",
        "outputId": "e2ab7c85-860b-48bb-9815-77a34476e4e4",
        "colab": {
          "base_uri": "https://localhost:8080/"
        }
      },
      "execution_count": null,
      "outputs": [
        {
          "output_type": "stream",
          "name": "stdout",
          "text": [
            "Test Accuracy: 39.15%\n"
          ]
        }
      ]
    },
    {
      "cell_type": "markdown",
      "source": [
        "No visibility information in the data"
      ],
      "metadata": {
        "id": "VROarUghQVpb"
      }
    },
    {
      "cell_type": "code",
      "source": [
        "class SignLanguageDataset(Dataset):\n",
        "  def __init__(self, image_dir, label_map):\n",
        "     self.image_dir = image_dir\n",
        "     self.label_map = label_map\n",
        "     self.files = sorted(os.listdir(image_dir))\n",
        "\n",
        "  def __len__(self):\n",
        "    return len(self.files)\n",
        "\n",
        "  def __getitem__(self, idx):\n",
        "    file_name = self.files[idx]\n",
        "    np_array = np.load(os.path.join(self.image_dir, file_name))\n",
        "    if np_array.size == 0 or len(np_array.shape) != 2 or np_array.shape[1] != 225:\n",
        "      print(f\"Warning: Empty or invalid shape for file: {file_name}\")\n",
        "      np_array = np.zeros((1, 225), dtype=np.float32)\n",
        "\n",
        "    label, _ = file_name.split(\"_\")\n",
        "    label = self.label_map[label]\n",
        "\n",
        "    return torch.tensor(np_array, dtype=torch.float32), torch.tensor(label, dtype=torch.long)\n",
        "\n",
        "# Add zero-padding to get sequences of the same length for each batch\n",
        "def collate_fn(batch):\n",
        "  sequences, labels = zip(*batch)\n",
        "  lengths = [len(seq) for seq in sequences]\n",
        "  padded_sequences = pad_sequence(sequences, batch_first=True)\n",
        "\n",
        "  # pack the padded sequence\n",
        "  packed_sequences = pack_padded_sequence(padded_sequences, lengths, batch_first=True, enforce_sorted=False)\n",
        "  return packed_sequences, torch.tensor(labels)\n",
        "\n",
        "train_dataset = SignLanguageDataset(training_images, label_map)\n",
        "val_dataset = SignLanguageDataset(validation_images, label_map)\n",
        "test_dataset = SignLanguageDataset(test_images, label_map)\n",
        "\n",
        "batch_size = 16\n",
        "train_loader = DataLoader(train_dataset, batch_size=batch_size, shuffle=True, collate_fn=collate_fn)\n",
        "val_loader = DataLoader(val_dataset, batch_size=batch_size, shuffle=False, collate_fn=collate_fn)\n",
        "test_loader = DataLoader(test_dataset, batch_size=batch_size, shuffle=False, collate_fn=collate_fn)"
      ],
      "metadata": {
        "id": "sF41yNkRQjYY"
      },
      "execution_count": 12,
      "outputs": []
    },
    {
      "cell_type": "code",
      "source": [
        "# best\n",
        "def get_training_config():\n",
        "  return {\n",
        "    'hidden_size': 512, # {64, 128, 256}\n",
        "    'learning_rate': 1e-4, # {1e-3, 1e-4, 1e-5}\n",
        "    'num_epochs': 200,\n",
        "    'weight_decay': 1e-4, # {1e-2, 1e-3}\n",
        "    'dropout_rate': 0.2,\n",
        "    'scheduler_params': {\n",
        "      'factor': 0.5,\n",
        "      'min_lr': 1e-6\n",
        "    },\n",
        "  }"
      ],
      "metadata": {
        "id": "MJ52bAGCb0cN"
      },
      "execution_count": null,
      "outputs": []
    },
    {
      "cell_type": "code",
      "source": [
        "# training configuration tailored for small datasets\n",
        "def get_training_config():\n",
        "  return {\n",
        "    'hidden_size': 128, # {64, 128, 256}\n",
        "    'learning_rate': 1e-3, # {1e-3, 1e-4, 1e-5}\n",
        "    'num_epochs': 300,\n",
        "    'weight_decay': 1e-3, # {1e-2, 1e-3}\n",
        "    'dropout_rate': 0.4,\n",
        "    'scheduler_params': {\n",
        "      'factor': 0.5,\n",
        "      'min_lr': 1e-6\n",
        "    },\n",
        "  }\n",
        "\n",
        "best_accuracy = 0.0\n",
        "training_history = []\n",
        "config = get_training_config()\n",
        "device = torch.device(\"cuda\" if torch.cuda.is_available() else \"cpu\")\n",
        "num_epochs = config['num_epochs']\n",
        "\n",
        "model = SignLanguageLSTM(\n",
        "    input_size=225,\n",
        "    hidden_size = config['hidden_size'],\n",
        "    num_classes = len(label_map),\n",
        "    dropout_rate=config['dropout_rate']).to(device)\n",
        "\n",
        "criterion = nn.CrossEntropyLoss() # for multi-class classification\n",
        "optimizer = torch.optim.Adam(\n",
        "    model.parameters(),\n",
        "    lr=config['learning_rate'],\n",
        "    weight_decay=config['weight_decay'])\n",
        "\n",
        "scheduler = torch.optim.lr_scheduler.ReduceLROnPlateau(\n",
        "    optimizer,\n",
        "    mode='max',\n",
        "    factor=config['scheduler_params']['factor'],\n",
        "    min_lr=config['scheduler_params']['min_lr'],\n",
        "    patience=5)\n",
        "\n",
        "for epoch in range(num_epochs):\n",
        "  model.train()\n",
        "  running_loss = 0.0\n",
        "\n",
        "  for inputs, labels in tqdm(train_loader, desc=f'Epoch {epoch + 1}/{num_epochs} [Train]'):\n",
        "    inputs, labels = inputs.to(device), labels.to(device)\n",
        "\n",
        "    optimizer.zero_grad()\n",
        "    outputs = model(inputs)\n",
        "    loss = criterion(outputs, labels)\n",
        "    loss.backward()\n",
        "\n",
        "    torch.nn.utils.clip_grad_norm_(model.parameters(), max_norm=1.0)\n",
        "\n",
        "    optimizer.step()\n",
        "\n",
        "    running_loss += loss.item()\n",
        "\n",
        "  avg_train_loss = running_loss / len(train_loader)\n",
        "  print(f'Epoch [{epoch+1}/{num_epochs}], Loss: {avg_train_loss:.4f}')\n",
        "\n",
        "  # evaluation phase\n",
        "  model.eval()\n",
        "  val_loss, correct, total = 0, 0, 0\n",
        "\n",
        "  with torch.no_grad():\n",
        "    for inputs, labels in tqdm(val_loader, desc=f'Epoch {epoch + 1}/{num_epochs} [Valid]'):\n",
        "      inputs, labels = inputs.to(device), labels.to(device)\n",
        "      outputs = model(inputs)\n",
        "      loss = criterion(outputs, labels)\n",
        "      val_loss += loss.item()\n",
        "\n",
        "      _, predicted = torch.max(outputs, 1)\n",
        "      total += labels.size(0)\n",
        "      correct += (predicted == labels).sum().item()\n",
        "  accuracy = correct / total\n",
        "  avg_val_loss = val_loss / len(val_loader)\n",
        "\n",
        "  # update learning rate based on validation accuracy\n",
        "  scheduler.step(accuracy)\n",
        "\n",
        "  print(f'Validation Accuracy: {accuracy * 100:.2f}%')\n",
        "  print(f'Epoch [{epoch+1}/{num_epochs}], Validation Loss: {avg_val_loss:.4f}')\n",
        "\n",
        "  # store training history\n",
        "  training_history.append({\n",
        "    'epoch': epoch + 1,\n",
        "    'train_loss': avg_train_loss,\n",
        "    'val_loss': avg_val_loss,\n",
        "    'acc': round(accuracy * 100, 2),  # store as percentage\n",
        "    'lr': optimizer.param_groups[0]['lr']\n",
        "    })\n",
        "\n",
        "  # save best model\n",
        "  if accuracy > best_accuracy:\n",
        "    best_accuracy = accuracy\n",
        "    torch.save({\n",
        "      'epoch': epoch,\n",
        "      'model_state_dict': model.state_dict(),\n",
        "      'optimizer_state_dict': optimizer.state_dict(),\n",
        "      'accuracy': accuracy, # saved as decimal\n",
        "      'val_loss': avg_val_loss,\n",
        "    }, '/content/drive/MyDrive/NLP/saved_models/best_model_100_no_vis.pth')\n",
        "    print(f'Saved new best model with accuracy: {best_accuracy * 100:.2f}%\\n-----')"
      ],
      "metadata": {
        "id": "0VMRSzDCQUio",
        "outputId": "830dacb0-10aa-48cd-e909-ba0626793e94",
        "colab": {
          "base_uri": "https://localhost:8080/"
        }
      },
      "execution_count": 31,
      "outputs": [
        {
          "output_type": "stream",
          "name": "stderr",
          "text": [
            "/usr/local/lib/python3.11/dist-packages/torch/nn/modules/rnn.py:123: UserWarning: dropout option adds dropout after all but last recurrent layer, so non-zero dropout expects num_layers greater than 1, but got dropout=0.4 and num_layers=1\n",
            "  warnings.warn(\n",
            "Epoch 1/300 [Train]: 100%|██████████| 58/58 [00:03<00:00, 14.61it/s]\n"
          ]
        },
        {
          "output_type": "stream",
          "name": "stdout",
          "text": [
            "Epoch [1/300], Loss: 4.6267\n"
          ]
        },
        {
          "output_type": "stream",
          "name": "stderr",
          "text": [
            "Epoch 1/300 [Valid]: 100%|██████████| 14/14 [00:00<00:00, 18.67it/s]\n"
          ]
        },
        {
          "output_type": "stream",
          "name": "stdout",
          "text": [
            "Validation Accuracy: 0.47%\n",
            "Epoch [1/300], Validation Loss: 4.5995\n",
            "Saved new best model with accuracy: 0.47%\n",
            "-----\n"
          ]
        },
        {
          "output_type": "stream",
          "name": "stderr",
          "text": [
            "Epoch 2/300 [Train]: 100%|██████████| 58/58 [00:03<00:00, 14.71it/s]\n"
          ]
        },
        {
          "output_type": "stream",
          "name": "stdout",
          "text": [
            "Epoch [2/300], Loss: 4.4890\n"
          ]
        },
        {
          "output_type": "stream",
          "name": "stderr",
          "text": [
            "Epoch 2/300 [Valid]: 100%|██████████| 14/14 [00:00<00:00, 18.70it/s]\n"
          ]
        },
        {
          "output_type": "stream",
          "name": "stdout",
          "text": [
            "Validation Accuracy: 3.32%\n",
            "Epoch [2/300], Validation Loss: 4.3463\n",
            "Saved new best model with accuracy: 3.32%\n",
            "-----\n"
          ]
        },
        {
          "output_type": "stream",
          "name": "stderr",
          "text": [
            "Epoch 3/300 [Train]: 100%|██████████| 58/58 [00:04<00:00, 13.56it/s]\n"
          ]
        },
        {
          "output_type": "stream",
          "name": "stdout",
          "text": [
            "Epoch [3/300], Loss: 4.3001\n"
          ]
        },
        {
          "output_type": "stream",
          "name": "stderr",
          "text": [
            "Epoch 3/300 [Valid]: 100%|██████████| 14/14 [00:00<00:00, 17.64it/s]\n"
          ]
        },
        {
          "output_type": "stream",
          "name": "stdout",
          "text": [
            "Validation Accuracy: 1.42%\n",
            "Epoch [3/300], Validation Loss: 4.2538\n"
          ]
        },
        {
          "output_type": "stream",
          "name": "stderr",
          "text": [
            "Epoch 4/300 [Train]: 100%|██████████| 58/58 [00:03<00:00, 14.84it/s]\n"
          ]
        },
        {
          "output_type": "stream",
          "name": "stdout",
          "text": [
            "Epoch [4/300], Loss: 4.2091\n"
          ]
        },
        {
          "output_type": "stream",
          "name": "stderr",
          "text": [
            "Epoch 4/300 [Valid]: 100%|██████████| 14/14 [00:00<00:00, 19.23it/s]\n"
          ]
        },
        {
          "output_type": "stream",
          "name": "stdout",
          "text": [
            "Validation Accuracy: 5.21%\n",
            "Epoch [4/300], Validation Loss: 4.1743\n",
            "Saved new best model with accuracy: 5.21%\n",
            "-----\n"
          ]
        },
        {
          "output_type": "stream",
          "name": "stderr",
          "text": [
            "Epoch 5/300 [Train]: 100%|██████████| 58/58 [00:04<00:00, 14.18it/s]\n"
          ]
        },
        {
          "output_type": "stream",
          "name": "stdout",
          "text": [
            "Epoch [5/300], Loss: 4.1146\n"
          ]
        },
        {
          "output_type": "stream",
          "name": "stderr",
          "text": [
            "Epoch 5/300 [Valid]: 100%|██████████| 14/14 [00:00<00:00, 17.06it/s]\n"
          ]
        },
        {
          "output_type": "stream",
          "name": "stdout",
          "text": [
            "Validation Accuracy: 3.79%\n",
            "Epoch [5/300], Validation Loss: 4.0864\n"
          ]
        },
        {
          "output_type": "stream",
          "name": "stderr",
          "text": [
            "Epoch 6/300 [Train]: 100%|██████████| 58/58 [00:04<00:00, 14.46it/s]\n"
          ]
        },
        {
          "output_type": "stream",
          "name": "stdout",
          "text": [
            "Epoch [6/300], Loss: 4.0148\n"
          ]
        },
        {
          "output_type": "stream",
          "name": "stderr",
          "text": [
            "Epoch 6/300 [Valid]: 100%|██████████| 14/14 [00:00<00:00, 18.61it/s]\n"
          ]
        },
        {
          "output_type": "stream",
          "name": "stdout",
          "text": [
            "Validation Accuracy: 5.69%\n",
            "Epoch [6/300], Validation Loss: 4.0422\n",
            "Saved new best model with accuracy: 5.69%\n",
            "-----\n"
          ]
        },
        {
          "output_type": "stream",
          "name": "stderr",
          "text": [
            "Epoch 7/300 [Train]: 100%|██████████| 58/58 [00:03<00:00, 14.56it/s]\n"
          ]
        },
        {
          "output_type": "stream",
          "name": "stdout",
          "text": [
            "Epoch [7/300], Loss: 3.9754\n"
          ]
        },
        {
          "output_type": "stream",
          "name": "stderr",
          "text": [
            "Epoch 7/300 [Valid]: 100%|██████████| 14/14 [00:00<00:00, 17.80it/s]\n"
          ]
        },
        {
          "output_type": "stream",
          "name": "stdout",
          "text": [
            "Validation Accuracy: 6.64%\n",
            "Epoch [7/300], Validation Loss: 3.9246\n",
            "Saved new best model with accuracy: 6.64%\n",
            "-----\n"
          ]
        },
        {
          "output_type": "stream",
          "name": "stderr",
          "text": [
            "Epoch 8/300 [Train]: 100%|██████████| 58/58 [00:04<00:00, 12.86it/s]\n"
          ]
        },
        {
          "output_type": "stream",
          "name": "stdout",
          "text": [
            "Epoch [8/300], Loss: 3.8791\n"
          ]
        },
        {
          "output_type": "stream",
          "name": "stderr",
          "text": [
            "Epoch 8/300 [Valid]: 100%|██████████| 14/14 [00:00<00:00, 15.65it/s]\n"
          ]
        },
        {
          "output_type": "stream",
          "name": "stdout",
          "text": [
            "Validation Accuracy: 7.11%\n",
            "Epoch [8/300], Validation Loss: 3.8163\n",
            "Saved new best model with accuracy: 7.11%\n",
            "-----\n"
          ]
        },
        {
          "output_type": "stream",
          "name": "stderr",
          "text": [
            "Epoch 9/300 [Train]: 100%|██████████| 58/58 [00:04<00:00, 14.16it/s]\n"
          ]
        },
        {
          "output_type": "stream",
          "name": "stdout",
          "text": [
            "Epoch [9/300], Loss: 3.8006\n"
          ]
        },
        {
          "output_type": "stream",
          "name": "stderr",
          "text": [
            "Epoch 9/300 [Valid]: 100%|██████████| 14/14 [00:00<00:00, 17.29it/s]\n"
          ]
        },
        {
          "output_type": "stream",
          "name": "stdout",
          "text": [
            "Validation Accuracy: 8.53%\n",
            "Epoch [9/300], Validation Loss: 3.7782\n",
            "Saved new best model with accuracy: 8.53%\n",
            "-----\n"
          ]
        },
        {
          "output_type": "stream",
          "name": "stderr",
          "text": [
            "Epoch 10/300 [Train]: 100%|██████████| 58/58 [00:04<00:00, 13.78it/s]\n"
          ]
        },
        {
          "output_type": "stream",
          "name": "stdout",
          "text": [
            "Epoch [10/300], Loss: 3.7271\n"
          ]
        },
        {
          "output_type": "stream",
          "name": "stderr",
          "text": [
            "Epoch 10/300 [Valid]: 100%|██████████| 14/14 [00:00<00:00, 17.97it/s]\n"
          ]
        },
        {
          "output_type": "stream",
          "name": "stdout",
          "text": [
            "Validation Accuracy: 6.64%\n",
            "Epoch [10/300], Validation Loss: 3.6670\n"
          ]
        },
        {
          "output_type": "stream",
          "name": "stderr",
          "text": [
            "Epoch 11/300 [Train]: 100%|██████████| 58/58 [00:04<00:00, 13.35it/s]\n"
          ]
        },
        {
          "output_type": "stream",
          "name": "stdout",
          "text": [
            "Epoch [11/300], Loss: 3.6687\n"
          ]
        },
        {
          "output_type": "stream",
          "name": "stderr",
          "text": [
            "Epoch 11/300 [Valid]: 100%|██████████| 14/14 [00:00<00:00, 17.32it/s]\n"
          ]
        },
        {
          "output_type": "stream",
          "name": "stdout",
          "text": [
            "Validation Accuracy: 9.00%\n",
            "Epoch [11/300], Validation Loss: 3.6442\n",
            "Saved new best model with accuracy: 9.00%\n",
            "-----\n"
          ]
        },
        {
          "output_type": "stream",
          "name": "stderr",
          "text": [
            "Epoch 12/300 [Train]: 100%|██████████| 58/58 [00:04<00:00, 13.89it/s]\n"
          ]
        },
        {
          "output_type": "stream",
          "name": "stdout",
          "text": [
            "Epoch [12/300], Loss: 3.6384\n"
          ]
        },
        {
          "output_type": "stream",
          "name": "stderr",
          "text": [
            "Epoch 12/300 [Valid]: 100%|██████████| 14/14 [00:00<00:00, 17.04it/s]\n"
          ]
        },
        {
          "output_type": "stream",
          "name": "stdout",
          "text": [
            "Validation Accuracy: 9.00%\n",
            "Epoch [12/300], Validation Loss: 3.5817\n"
          ]
        },
        {
          "output_type": "stream",
          "name": "stderr",
          "text": [
            "Epoch 13/300 [Train]: 100%|██████████| 58/58 [00:04<00:00, 13.20it/s]\n"
          ]
        },
        {
          "output_type": "stream",
          "name": "stdout",
          "text": [
            "Epoch [13/300], Loss: 3.5708\n"
          ]
        },
        {
          "output_type": "stream",
          "name": "stderr",
          "text": [
            "Epoch 13/300 [Valid]: 100%|██████████| 14/14 [00:00<00:00, 15.99it/s]\n"
          ]
        },
        {
          "output_type": "stream",
          "name": "stdout",
          "text": [
            "Validation Accuracy: 8.06%\n",
            "Epoch [13/300], Validation Loss: 3.5057\n"
          ]
        },
        {
          "output_type": "stream",
          "name": "stderr",
          "text": [
            "Epoch 14/300 [Train]: 100%|██████████| 58/58 [00:04<00:00, 12.94it/s]\n"
          ]
        },
        {
          "output_type": "stream",
          "name": "stdout",
          "text": [
            "Epoch [14/300], Loss: 3.5568\n"
          ]
        },
        {
          "output_type": "stream",
          "name": "stderr",
          "text": [
            "Epoch 14/300 [Valid]: 100%|██████████| 14/14 [00:00<00:00, 17.35it/s]\n"
          ]
        },
        {
          "output_type": "stream",
          "name": "stdout",
          "text": [
            "Validation Accuracy: 9.95%\n",
            "Epoch [14/300], Validation Loss: 3.5235\n",
            "Saved new best model with accuracy: 9.95%\n",
            "-----\n"
          ]
        },
        {
          "output_type": "stream",
          "name": "stderr",
          "text": [
            "Epoch 15/300 [Train]: 100%|██████████| 58/58 [00:04<00:00, 13.69it/s]\n"
          ]
        },
        {
          "output_type": "stream",
          "name": "stdout",
          "text": [
            "Epoch [15/300], Loss: 3.5656\n"
          ]
        },
        {
          "output_type": "stream",
          "name": "stderr",
          "text": [
            "Epoch 15/300 [Valid]: 100%|██████████| 14/14 [00:00<00:00, 16.76it/s]\n"
          ]
        },
        {
          "output_type": "stream",
          "name": "stdout",
          "text": [
            "Validation Accuracy: 6.64%\n",
            "Epoch [15/300], Validation Loss: 3.4583\n"
          ]
        },
        {
          "output_type": "stream",
          "name": "stderr",
          "text": [
            "Epoch 16/300 [Train]: 100%|██████████| 58/58 [00:04<00:00, 13.19it/s]\n"
          ]
        },
        {
          "output_type": "stream",
          "name": "stdout",
          "text": [
            "Epoch [16/300], Loss: 3.4482\n"
          ]
        },
        {
          "output_type": "stream",
          "name": "stderr",
          "text": [
            "Epoch 16/300 [Valid]: 100%|██████████| 14/14 [00:00<00:00, 16.90it/s]\n"
          ]
        },
        {
          "output_type": "stream",
          "name": "stdout",
          "text": [
            "Validation Accuracy: 9.48%\n",
            "Epoch [16/300], Validation Loss: 3.4465\n"
          ]
        },
        {
          "output_type": "stream",
          "name": "stderr",
          "text": [
            "Epoch 17/300 [Train]: 100%|██████████| 58/58 [00:04<00:00, 13.09it/s]\n"
          ]
        },
        {
          "output_type": "stream",
          "name": "stdout",
          "text": [
            "Epoch [17/300], Loss: 3.4119\n"
          ]
        },
        {
          "output_type": "stream",
          "name": "stderr",
          "text": [
            "Epoch 17/300 [Valid]: 100%|██████████| 14/14 [00:00<00:00, 17.04it/s]\n"
          ]
        },
        {
          "output_type": "stream",
          "name": "stdout",
          "text": [
            "Validation Accuracy: 10.43%\n",
            "Epoch [17/300], Validation Loss: 3.3952\n",
            "Saved new best model with accuracy: 10.43%\n",
            "-----\n"
          ]
        },
        {
          "output_type": "stream",
          "name": "stderr",
          "text": [
            "Epoch 18/300 [Train]: 100%|██████████| 58/58 [00:04<00:00, 13.54it/s]\n"
          ]
        },
        {
          "output_type": "stream",
          "name": "stdout",
          "text": [
            "Epoch [18/300], Loss: 3.3297\n"
          ]
        },
        {
          "output_type": "stream",
          "name": "stderr",
          "text": [
            "Epoch 18/300 [Valid]: 100%|██████████| 14/14 [00:00<00:00, 16.26it/s]\n"
          ]
        },
        {
          "output_type": "stream",
          "name": "stdout",
          "text": [
            "Validation Accuracy: 13.27%\n",
            "Epoch [18/300], Validation Loss: 3.3210\n",
            "Saved new best model with accuracy: 13.27%\n",
            "-----\n"
          ]
        },
        {
          "output_type": "stream",
          "name": "stderr",
          "text": [
            "Epoch 19/300 [Train]: 100%|██████████| 58/58 [00:04<00:00, 14.44it/s]\n"
          ]
        },
        {
          "output_type": "stream",
          "name": "stdout",
          "text": [
            "Epoch [19/300], Loss: 3.3045\n"
          ]
        },
        {
          "output_type": "stream",
          "name": "stderr",
          "text": [
            "Epoch 19/300 [Valid]: 100%|██████████| 14/14 [00:00<00:00, 17.70it/s]\n"
          ]
        },
        {
          "output_type": "stream",
          "name": "stdout",
          "text": [
            "Validation Accuracy: 13.74%\n",
            "Epoch [19/300], Validation Loss: 3.3437\n",
            "Saved new best model with accuracy: 13.74%\n",
            "-----\n"
          ]
        },
        {
          "output_type": "stream",
          "name": "stderr",
          "text": [
            "Epoch 20/300 [Train]: 100%|██████████| 58/58 [00:04<00:00, 14.30it/s]\n"
          ]
        },
        {
          "output_type": "stream",
          "name": "stdout",
          "text": [
            "Epoch [20/300], Loss: 3.2642\n"
          ]
        },
        {
          "output_type": "stream",
          "name": "stderr",
          "text": [
            "Epoch 20/300 [Valid]: 100%|██████████| 14/14 [00:00<00:00, 18.02it/s]\n"
          ]
        },
        {
          "output_type": "stream",
          "name": "stdout",
          "text": [
            "Validation Accuracy: 17.54%\n",
            "Epoch [20/300], Validation Loss: 3.3052\n",
            "Saved new best model with accuracy: 17.54%\n",
            "-----\n"
          ]
        },
        {
          "output_type": "stream",
          "name": "stderr",
          "text": [
            "Epoch 21/300 [Train]: 100%|██████████| 58/58 [00:04<00:00, 13.48it/s]\n"
          ]
        },
        {
          "output_type": "stream",
          "name": "stdout",
          "text": [
            "Epoch [21/300], Loss: 3.2279\n"
          ]
        },
        {
          "output_type": "stream",
          "name": "stderr",
          "text": [
            "Epoch 21/300 [Valid]: 100%|██████████| 14/14 [00:00<00:00, 18.18it/s]\n"
          ]
        },
        {
          "output_type": "stream",
          "name": "stdout",
          "text": [
            "Validation Accuracy: 11.37%\n",
            "Epoch [21/300], Validation Loss: 3.2763\n"
          ]
        },
        {
          "output_type": "stream",
          "name": "stderr",
          "text": [
            "Epoch 22/300 [Train]: 100%|██████████| 58/58 [00:04<00:00, 13.48it/s]\n"
          ]
        },
        {
          "output_type": "stream",
          "name": "stdout",
          "text": [
            "Epoch [22/300], Loss: 3.1973\n"
          ]
        },
        {
          "output_type": "stream",
          "name": "stderr",
          "text": [
            "Epoch 22/300 [Valid]: 100%|██████████| 14/14 [00:00<00:00, 18.04it/s]\n"
          ]
        },
        {
          "output_type": "stream",
          "name": "stdout",
          "text": [
            "Validation Accuracy: 15.17%\n",
            "Epoch [22/300], Validation Loss: 3.2231\n"
          ]
        },
        {
          "output_type": "stream",
          "name": "stderr",
          "text": [
            "Epoch 23/300 [Train]: 100%|██████████| 58/58 [00:04<00:00, 14.15it/s]\n"
          ]
        },
        {
          "output_type": "stream",
          "name": "stdout",
          "text": [
            "Epoch [23/300], Loss: 3.1283\n"
          ]
        },
        {
          "output_type": "stream",
          "name": "stderr",
          "text": [
            "Epoch 23/300 [Valid]: 100%|██████████| 14/14 [00:00<00:00, 17.70it/s]\n"
          ]
        },
        {
          "output_type": "stream",
          "name": "stdout",
          "text": [
            "Validation Accuracy: 12.32%\n",
            "Epoch [23/300], Validation Loss: 3.2203\n"
          ]
        },
        {
          "output_type": "stream",
          "name": "stderr",
          "text": [
            "Epoch 24/300 [Train]: 100%|██████████| 58/58 [00:04<00:00, 13.57it/s]\n"
          ]
        },
        {
          "output_type": "stream",
          "name": "stdout",
          "text": [
            "Epoch [24/300], Loss: 3.1687\n"
          ]
        },
        {
          "output_type": "stream",
          "name": "stderr",
          "text": [
            "Epoch 24/300 [Valid]: 100%|██████████| 14/14 [00:00<00:00, 17.85it/s]\n"
          ]
        },
        {
          "output_type": "stream",
          "name": "stdout",
          "text": [
            "Validation Accuracy: 10.90%\n",
            "Epoch [24/300], Validation Loss: 3.2287\n"
          ]
        },
        {
          "output_type": "stream",
          "name": "stderr",
          "text": [
            "Epoch 25/300 [Train]: 100%|██████████| 58/58 [00:04<00:00, 14.30it/s]\n"
          ]
        },
        {
          "output_type": "stream",
          "name": "stdout",
          "text": [
            "Epoch [25/300], Loss: 3.0890\n"
          ]
        },
        {
          "output_type": "stream",
          "name": "stderr",
          "text": [
            "Epoch 25/300 [Valid]: 100%|██████████| 14/14 [00:00<00:00, 17.65it/s]\n"
          ]
        },
        {
          "output_type": "stream",
          "name": "stdout",
          "text": [
            "Validation Accuracy: 13.74%\n",
            "Epoch [25/300], Validation Loss: 3.2272\n"
          ]
        },
        {
          "output_type": "stream",
          "name": "stderr",
          "text": [
            "Epoch 26/300 [Train]: 100%|██████████| 58/58 [00:04<00:00, 13.74it/s]\n"
          ]
        },
        {
          "output_type": "stream",
          "name": "stdout",
          "text": [
            "Epoch [26/300], Loss: 3.1088\n"
          ]
        },
        {
          "output_type": "stream",
          "name": "stderr",
          "text": [
            "Epoch 26/300 [Valid]: 100%|██████████| 14/14 [00:00<00:00, 15.93it/s]\n"
          ]
        },
        {
          "output_type": "stream",
          "name": "stdout",
          "text": [
            "Validation Accuracy: 16.59%\n",
            "Epoch [26/300], Validation Loss: 3.1656\n"
          ]
        },
        {
          "output_type": "stream",
          "name": "stderr",
          "text": [
            "Epoch 27/300 [Train]: 100%|██████████| 58/58 [00:04<00:00, 14.20it/s]\n"
          ]
        },
        {
          "output_type": "stream",
          "name": "stdout",
          "text": [
            "Epoch [27/300], Loss: 2.9451\n"
          ]
        },
        {
          "output_type": "stream",
          "name": "stderr",
          "text": [
            "Epoch 27/300 [Valid]: 100%|██████████| 14/14 [00:00<00:00, 17.98it/s]\n"
          ]
        },
        {
          "output_type": "stream",
          "name": "stdout",
          "text": [
            "Validation Accuracy: 17.06%\n",
            "Epoch [27/300], Validation Loss: 3.0525\n"
          ]
        },
        {
          "output_type": "stream",
          "name": "stderr",
          "text": [
            "Epoch 28/300 [Train]: 100%|██████████| 58/58 [00:03<00:00, 14.59it/s]\n"
          ]
        },
        {
          "output_type": "stream",
          "name": "stdout",
          "text": [
            "Epoch [28/300], Loss: 2.8976\n"
          ]
        },
        {
          "output_type": "stream",
          "name": "stderr",
          "text": [
            "Epoch 28/300 [Valid]: 100%|██████████| 14/14 [00:00<00:00, 18.44it/s]\n"
          ]
        },
        {
          "output_type": "stream",
          "name": "stdout",
          "text": [
            "Validation Accuracy: 18.48%\n",
            "Epoch [28/300], Validation Loss: 3.0327\n",
            "Saved new best model with accuracy: 18.48%\n",
            "-----\n"
          ]
        },
        {
          "output_type": "stream",
          "name": "stderr",
          "text": [
            "Epoch 29/300 [Train]: 100%|██████████| 58/58 [00:04<00:00, 12.96it/s]\n"
          ]
        },
        {
          "output_type": "stream",
          "name": "stdout",
          "text": [
            "Epoch [29/300], Loss: 2.8437\n"
          ]
        },
        {
          "output_type": "stream",
          "name": "stderr",
          "text": [
            "Epoch 29/300 [Valid]: 100%|██████████| 14/14 [00:00<00:00, 18.01it/s]\n"
          ]
        },
        {
          "output_type": "stream",
          "name": "stdout",
          "text": [
            "Validation Accuracy: 18.96%\n",
            "Epoch [29/300], Validation Loss: 3.0544\n",
            "Saved new best model with accuracy: 18.96%\n",
            "-----\n"
          ]
        },
        {
          "output_type": "stream",
          "name": "stderr",
          "text": [
            "Epoch 30/300 [Train]: 100%|██████████| 58/58 [00:04<00:00, 14.44it/s]\n"
          ]
        },
        {
          "output_type": "stream",
          "name": "stdout",
          "text": [
            "Epoch [30/300], Loss: 2.8284\n"
          ]
        },
        {
          "output_type": "stream",
          "name": "stderr",
          "text": [
            "Epoch 30/300 [Valid]: 100%|██████████| 14/14 [00:00<00:00, 17.92it/s]\n"
          ]
        },
        {
          "output_type": "stream",
          "name": "stdout",
          "text": [
            "Validation Accuracy: 20.38%\n",
            "Epoch [30/300], Validation Loss: 3.0181\n",
            "Saved new best model with accuracy: 20.38%\n",
            "-----\n"
          ]
        },
        {
          "output_type": "stream",
          "name": "stderr",
          "text": [
            "Epoch 31/300 [Train]: 100%|██████████| 58/58 [00:04<00:00, 14.13it/s]\n"
          ]
        },
        {
          "output_type": "stream",
          "name": "stdout",
          "text": [
            "Epoch [31/300], Loss: 2.7729\n"
          ]
        },
        {
          "output_type": "stream",
          "name": "stderr",
          "text": [
            "Epoch 31/300 [Valid]: 100%|██████████| 14/14 [00:00<00:00, 16.85it/s]\n"
          ]
        },
        {
          "output_type": "stream",
          "name": "stdout",
          "text": [
            "Validation Accuracy: 19.43%\n",
            "Epoch [31/300], Validation Loss: 2.9970\n"
          ]
        },
        {
          "output_type": "stream",
          "name": "stderr",
          "text": [
            "Epoch 32/300 [Train]: 100%|██████████| 58/58 [00:04<00:00, 13.56it/s]\n"
          ]
        },
        {
          "output_type": "stream",
          "name": "stdout",
          "text": [
            "Epoch [32/300], Loss: 2.7672\n"
          ]
        },
        {
          "output_type": "stream",
          "name": "stderr",
          "text": [
            "Epoch 32/300 [Valid]: 100%|██████████| 14/14 [00:00<00:00, 17.56it/s]\n"
          ]
        },
        {
          "output_type": "stream",
          "name": "stdout",
          "text": [
            "Validation Accuracy: 21.33%\n",
            "Epoch [32/300], Validation Loss: 2.9190\n",
            "Saved new best model with accuracy: 21.33%\n",
            "-----\n"
          ]
        },
        {
          "output_type": "stream",
          "name": "stderr",
          "text": [
            "Epoch 33/300 [Train]: 100%|██████████| 58/58 [00:04<00:00, 14.16it/s]\n"
          ]
        },
        {
          "output_type": "stream",
          "name": "stdout",
          "text": [
            "Epoch [33/300], Loss: 2.7739\n"
          ]
        },
        {
          "output_type": "stream",
          "name": "stderr",
          "text": [
            "Epoch 33/300 [Valid]: 100%|██████████| 14/14 [00:00<00:00, 18.00it/s]\n"
          ]
        },
        {
          "output_type": "stream",
          "name": "stdout",
          "text": [
            "Validation Accuracy: 20.85%\n",
            "Epoch [33/300], Validation Loss: 2.9650\n"
          ]
        },
        {
          "output_type": "stream",
          "name": "stderr",
          "text": [
            "Epoch 34/300 [Train]: 100%|██████████| 58/58 [00:04<00:00, 12.62it/s]\n"
          ]
        },
        {
          "output_type": "stream",
          "name": "stdout",
          "text": [
            "Epoch [34/300], Loss: 2.7459\n"
          ]
        },
        {
          "output_type": "stream",
          "name": "stderr",
          "text": [
            "Epoch 34/300 [Valid]: 100%|██████████| 14/14 [00:00<00:00, 16.30it/s]\n"
          ]
        },
        {
          "output_type": "stream",
          "name": "stdout",
          "text": [
            "Validation Accuracy: 18.01%\n",
            "Epoch [34/300], Validation Loss: 2.9417\n"
          ]
        },
        {
          "output_type": "stream",
          "name": "stderr",
          "text": [
            "Epoch 35/300 [Train]: 100%|██████████| 58/58 [00:04<00:00, 14.40it/s]\n"
          ]
        },
        {
          "output_type": "stream",
          "name": "stdout",
          "text": [
            "Epoch [35/300], Loss: 2.7039\n"
          ]
        },
        {
          "output_type": "stream",
          "name": "stderr",
          "text": [
            "Epoch 35/300 [Valid]: 100%|██████████| 14/14 [00:00<00:00, 17.77it/s]\n"
          ]
        },
        {
          "output_type": "stream",
          "name": "stdout",
          "text": [
            "Validation Accuracy: 16.11%\n",
            "Epoch [35/300], Validation Loss: 2.9292\n"
          ]
        },
        {
          "output_type": "stream",
          "name": "stderr",
          "text": [
            "Epoch 36/300 [Train]: 100%|██████████| 58/58 [00:04<00:00, 14.14it/s]\n"
          ]
        },
        {
          "output_type": "stream",
          "name": "stdout",
          "text": [
            "Epoch [36/300], Loss: 2.6502\n"
          ]
        },
        {
          "output_type": "stream",
          "name": "stderr",
          "text": [
            "Epoch 36/300 [Valid]: 100%|██████████| 14/14 [00:00<00:00, 17.73it/s]\n"
          ]
        },
        {
          "output_type": "stream",
          "name": "stdout",
          "text": [
            "Validation Accuracy: 18.96%\n",
            "Epoch [36/300], Validation Loss: 2.9383\n"
          ]
        },
        {
          "output_type": "stream",
          "name": "stderr",
          "text": [
            "Epoch 37/300 [Train]: 100%|██████████| 58/58 [00:04<00:00, 13.44it/s]\n"
          ]
        },
        {
          "output_type": "stream",
          "name": "stdout",
          "text": [
            "Epoch [37/300], Loss: 2.6623\n"
          ]
        },
        {
          "output_type": "stream",
          "name": "stderr",
          "text": [
            "Epoch 37/300 [Valid]: 100%|██████████| 14/14 [00:00<00:00, 18.06it/s]\n"
          ]
        },
        {
          "output_type": "stream",
          "name": "stdout",
          "text": [
            "Validation Accuracy: 21.33%\n",
            "Epoch [37/300], Validation Loss: 2.8802\n"
          ]
        },
        {
          "output_type": "stream",
          "name": "stderr",
          "text": [
            "Epoch 38/300 [Train]: 100%|██████████| 58/58 [00:04<00:00, 14.24it/s]\n"
          ]
        },
        {
          "output_type": "stream",
          "name": "stdout",
          "text": [
            "Epoch [38/300], Loss: 2.6571\n"
          ]
        },
        {
          "output_type": "stream",
          "name": "stderr",
          "text": [
            "Epoch 38/300 [Valid]: 100%|██████████| 14/14 [00:00<00:00, 17.50it/s]\n"
          ]
        },
        {
          "output_type": "stream",
          "name": "stdout",
          "text": [
            "Validation Accuracy: 20.38%\n",
            "Epoch [38/300], Validation Loss: 2.9601\n"
          ]
        },
        {
          "output_type": "stream",
          "name": "stderr",
          "text": [
            "Epoch 39/300 [Train]: 100%|██████████| 58/58 [00:04<00:00, 13.91it/s]\n"
          ]
        },
        {
          "output_type": "stream",
          "name": "stdout",
          "text": [
            "Epoch [39/300], Loss: 2.5700\n"
          ]
        },
        {
          "output_type": "stream",
          "name": "stderr",
          "text": [
            "Epoch 39/300 [Valid]: 100%|██████████| 14/14 [00:00<00:00, 18.07it/s]\n"
          ]
        },
        {
          "output_type": "stream",
          "name": "stdout",
          "text": [
            "Validation Accuracy: 20.38%\n",
            "Epoch [39/300], Validation Loss: 2.9516\n"
          ]
        },
        {
          "output_type": "stream",
          "name": "stderr",
          "text": [
            "Epoch 40/300 [Train]: 100%|██████████| 58/58 [00:04<00:00, 13.79it/s]\n"
          ]
        },
        {
          "output_type": "stream",
          "name": "stdout",
          "text": [
            "Epoch [40/300], Loss: 2.5015\n"
          ]
        },
        {
          "output_type": "stream",
          "name": "stderr",
          "text": [
            "Epoch 40/300 [Valid]: 100%|██████████| 14/14 [00:00<00:00, 17.94it/s]\n"
          ]
        },
        {
          "output_type": "stream",
          "name": "stdout",
          "text": [
            "Validation Accuracy: 19.91%\n",
            "Epoch [40/300], Validation Loss: 2.8345\n"
          ]
        },
        {
          "output_type": "stream",
          "name": "stderr",
          "text": [
            "Epoch 41/300 [Train]: 100%|██████████| 58/58 [00:04<00:00, 13.99it/s]\n"
          ]
        },
        {
          "output_type": "stream",
          "name": "stdout",
          "text": [
            "Epoch [41/300], Loss: 2.4808\n"
          ]
        },
        {
          "output_type": "stream",
          "name": "stderr",
          "text": [
            "Epoch 41/300 [Valid]: 100%|██████████| 14/14 [00:00<00:00, 17.72it/s]\n"
          ]
        },
        {
          "output_type": "stream",
          "name": "stdout",
          "text": [
            "Validation Accuracy: 21.80%\n",
            "Epoch [41/300], Validation Loss: 2.8476\n",
            "Saved new best model with accuracy: 21.80%\n",
            "-----\n"
          ]
        },
        {
          "output_type": "stream",
          "name": "stderr",
          "text": [
            "Epoch 42/300 [Train]: 100%|██████████| 58/58 [00:04<00:00, 13.41it/s]\n"
          ]
        },
        {
          "output_type": "stream",
          "name": "stdout",
          "text": [
            "Epoch [42/300], Loss: 2.4049\n"
          ]
        },
        {
          "output_type": "stream",
          "name": "stderr",
          "text": [
            "Epoch 42/300 [Valid]: 100%|██████████| 14/14 [00:00<00:00, 16.97it/s]\n"
          ]
        },
        {
          "output_type": "stream",
          "name": "stdout",
          "text": [
            "Validation Accuracy: 25.59%\n",
            "Epoch [42/300], Validation Loss: 2.8046\n",
            "Saved new best model with accuracy: 25.59%\n",
            "-----\n"
          ]
        },
        {
          "output_type": "stream",
          "name": "stderr",
          "text": [
            "Epoch 43/300 [Train]: 100%|██████████| 58/58 [00:04<00:00, 14.27it/s]\n"
          ]
        },
        {
          "output_type": "stream",
          "name": "stdout",
          "text": [
            "Epoch [43/300], Loss: 2.4302\n"
          ]
        },
        {
          "output_type": "stream",
          "name": "stderr",
          "text": [
            "Epoch 43/300 [Valid]: 100%|██████████| 14/14 [00:00<00:00, 17.49it/s]\n"
          ]
        },
        {
          "output_type": "stream",
          "name": "stdout",
          "text": [
            "Validation Accuracy: 24.17%\n",
            "Epoch [43/300], Validation Loss: 2.7971\n"
          ]
        },
        {
          "output_type": "stream",
          "name": "stderr",
          "text": [
            "Epoch 44/300 [Train]: 100%|██████████| 58/58 [00:04<00:00, 14.30it/s]\n"
          ]
        },
        {
          "output_type": "stream",
          "name": "stdout",
          "text": [
            "Epoch [44/300], Loss: 2.4190\n"
          ]
        },
        {
          "output_type": "stream",
          "name": "stderr",
          "text": [
            "Epoch 44/300 [Valid]: 100%|██████████| 14/14 [00:00<00:00, 18.05it/s]\n"
          ]
        },
        {
          "output_type": "stream",
          "name": "stdout",
          "text": [
            "Validation Accuracy: 23.70%\n",
            "Epoch [44/300], Validation Loss: 2.8016\n"
          ]
        },
        {
          "output_type": "stream",
          "name": "stderr",
          "text": [
            "Epoch 45/300 [Train]: 100%|██████████| 58/58 [00:04<00:00, 13.31it/s]\n"
          ]
        },
        {
          "output_type": "stream",
          "name": "stdout",
          "text": [
            "Epoch [45/300], Loss: 2.4113\n"
          ]
        },
        {
          "output_type": "stream",
          "name": "stderr",
          "text": [
            "Epoch 45/300 [Valid]: 100%|██████████| 14/14 [00:00<00:00, 18.40it/s]\n"
          ]
        },
        {
          "output_type": "stream",
          "name": "stdout",
          "text": [
            "Validation Accuracy: 20.38%\n",
            "Epoch [45/300], Validation Loss: 2.8524\n"
          ]
        },
        {
          "output_type": "stream",
          "name": "stderr",
          "text": [
            "Epoch 46/300 [Train]: 100%|██████████| 58/58 [00:04<00:00, 14.22it/s]\n"
          ]
        },
        {
          "output_type": "stream",
          "name": "stdout",
          "text": [
            "Epoch [46/300], Loss: 2.4557\n"
          ]
        },
        {
          "output_type": "stream",
          "name": "stderr",
          "text": [
            "Epoch 46/300 [Valid]: 100%|██████████| 14/14 [00:00<00:00, 18.28it/s]\n"
          ]
        },
        {
          "output_type": "stream",
          "name": "stdout",
          "text": [
            "Validation Accuracy: 25.59%\n",
            "Epoch [46/300], Validation Loss: 2.7491\n"
          ]
        },
        {
          "output_type": "stream",
          "name": "stderr",
          "text": [
            "Epoch 47/300 [Train]: 100%|██████████| 58/58 [00:04<00:00, 13.75it/s]\n"
          ]
        },
        {
          "output_type": "stream",
          "name": "stdout",
          "text": [
            "Epoch [47/300], Loss: 2.3635\n"
          ]
        },
        {
          "output_type": "stream",
          "name": "stderr",
          "text": [
            "Epoch 47/300 [Valid]: 100%|██████████| 14/14 [00:00<00:00, 17.06it/s]\n"
          ]
        },
        {
          "output_type": "stream",
          "name": "stdout",
          "text": [
            "Validation Accuracy: 24.64%\n",
            "Epoch [47/300], Validation Loss: 2.7395\n"
          ]
        },
        {
          "output_type": "stream",
          "name": "stderr",
          "text": [
            "Epoch 48/300 [Train]: 100%|██████████| 58/58 [00:04<00:00, 13.38it/s]\n"
          ]
        },
        {
          "output_type": "stream",
          "name": "stdout",
          "text": [
            "Epoch [48/300], Loss: 2.3232\n"
          ]
        },
        {
          "output_type": "stream",
          "name": "stderr",
          "text": [
            "Epoch 48/300 [Valid]: 100%|██████████| 14/14 [00:00<00:00, 17.43it/s]\n"
          ]
        },
        {
          "output_type": "stream",
          "name": "stdout",
          "text": [
            "Validation Accuracy: 24.64%\n",
            "Epoch [48/300], Validation Loss: 2.7158\n"
          ]
        },
        {
          "output_type": "stream",
          "name": "stderr",
          "text": [
            "Epoch 49/300 [Train]: 100%|██████████| 58/58 [00:04<00:00, 14.36it/s]\n"
          ]
        },
        {
          "output_type": "stream",
          "name": "stdout",
          "text": [
            "Epoch [49/300], Loss: 2.3241\n"
          ]
        },
        {
          "output_type": "stream",
          "name": "stderr",
          "text": [
            "Epoch 49/300 [Valid]: 100%|██████████| 14/14 [00:00<00:00, 17.84it/s]\n"
          ]
        },
        {
          "output_type": "stream",
          "name": "stdout",
          "text": [
            "Validation Accuracy: 24.64%\n",
            "Epoch [49/300], Validation Loss: 2.7209\n"
          ]
        },
        {
          "output_type": "stream",
          "name": "stderr",
          "text": [
            "Epoch 50/300 [Train]: 100%|██████████| 58/58 [00:04<00:00, 13.42it/s]\n"
          ]
        },
        {
          "output_type": "stream",
          "name": "stdout",
          "text": [
            "Epoch [50/300], Loss: 2.2680\n"
          ]
        },
        {
          "output_type": "stream",
          "name": "stderr",
          "text": [
            "Epoch 50/300 [Valid]: 100%|██████████| 14/14 [00:00<00:00, 16.03it/s]\n"
          ]
        },
        {
          "output_type": "stream",
          "name": "stdout",
          "text": [
            "Validation Accuracy: 24.17%\n",
            "Epoch [50/300], Validation Loss: 2.7541\n"
          ]
        },
        {
          "output_type": "stream",
          "name": "stderr",
          "text": [
            "Epoch 51/300 [Train]: 100%|██████████| 58/58 [00:04<00:00, 13.79it/s]\n"
          ]
        },
        {
          "output_type": "stream",
          "name": "stdout",
          "text": [
            "Epoch [51/300], Loss: 2.2489\n"
          ]
        },
        {
          "output_type": "stream",
          "name": "stderr",
          "text": [
            "Epoch 51/300 [Valid]: 100%|██████████| 14/14 [00:00<00:00, 17.86it/s]\n"
          ]
        },
        {
          "output_type": "stream",
          "name": "stdout",
          "text": [
            "Validation Accuracy: 24.17%\n",
            "Epoch [51/300], Validation Loss: 2.7003\n"
          ]
        },
        {
          "output_type": "stream",
          "name": "stderr",
          "text": [
            "Epoch 52/300 [Train]: 100%|██████████| 58/58 [00:04<00:00, 13.90it/s]\n"
          ]
        },
        {
          "output_type": "stream",
          "name": "stdout",
          "text": [
            "Epoch [52/300], Loss: 2.2710\n"
          ]
        },
        {
          "output_type": "stream",
          "name": "stderr",
          "text": [
            "Epoch 52/300 [Valid]: 100%|██████████| 14/14 [00:00<00:00, 16.94it/s]\n"
          ]
        },
        {
          "output_type": "stream",
          "name": "stdout",
          "text": [
            "Validation Accuracy: 25.59%\n",
            "Epoch [52/300], Validation Loss: 2.6925\n"
          ]
        },
        {
          "output_type": "stream",
          "name": "stderr",
          "text": [
            "Epoch 53/300 [Train]: 100%|██████████| 58/58 [00:04<00:00, 13.24it/s]\n"
          ]
        },
        {
          "output_type": "stream",
          "name": "stdout",
          "text": [
            "Epoch [53/300], Loss: 2.2273\n"
          ]
        },
        {
          "output_type": "stream",
          "name": "stderr",
          "text": [
            "Epoch 53/300 [Valid]: 100%|██████████| 14/14 [00:00<00:00, 18.13it/s]\n"
          ]
        },
        {
          "output_type": "stream",
          "name": "stdout",
          "text": [
            "Validation Accuracy: 27.49%\n",
            "Epoch [53/300], Validation Loss: 2.7027\n",
            "Saved new best model with accuracy: 27.49%\n",
            "-----\n"
          ]
        },
        {
          "output_type": "stream",
          "name": "stderr",
          "text": [
            "Epoch 54/300 [Train]: 100%|██████████| 58/58 [00:04<00:00, 14.33it/s]\n"
          ]
        },
        {
          "output_type": "stream",
          "name": "stdout",
          "text": [
            "Epoch [54/300], Loss: 2.2190\n"
          ]
        },
        {
          "output_type": "stream",
          "name": "stderr",
          "text": [
            "Epoch 54/300 [Valid]: 100%|██████████| 14/14 [00:00<00:00, 17.90it/s]\n"
          ]
        },
        {
          "output_type": "stream",
          "name": "stdout",
          "text": [
            "Validation Accuracy: 28.44%\n",
            "Epoch [54/300], Validation Loss: 2.7306\n",
            "Saved new best model with accuracy: 28.44%\n",
            "-----\n"
          ]
        },
        {
          "output_type": "stream",
          "name": "stderr",
          "text": [
            "Epoch 55/300 [Train]: 100%|██████████| 58/58 [00:04<00:00, 13.93it/s]\n"
          ]
        },
        {
          "output_type": "stream",
          "name": "stdout",
          "text": [
            "Epoch [55/300], Loss: 2.3114\n"
          ]
        },
        {
          "output_type": "stream",
          "name": "stderr",
          "text": [
            "Epoch 55/300 [Valid]: 100%|██████████| 14/14 [00:01<00:00, 12.83it/s]\n"
          ]
        },
        {
          "output_type": "stream",
          "name": "stdout",
          "text": [
            "Validation Accuracy: 24.64%\n",
            "Epoch [55/300], Validation Loss: 2.7456\n"
          ]
        },
        {
          "output_type": "stream",
          "name": "stderr",
          "text": [
            "Epoch 56/300 [Train]: 100%|██████████| 58/58 [00:04<00:00, 13.88it/s]\n"
          ]
        },
        {
          "output_type": "stream",
          "name": "stdout",
          "text": [
            "Epoch [56/300], Loss: 2.1929\n"
          ]
        },
        {
          "output_type": "stream",
          "name": "stderr",
          "text": [
            "Epoch 56/300 [Valid]: 100%|██████████| 14/14 [00:00<00:00, 17.69it/s]\n"
          ]
        },
        {
          "output_type": "stream",
          "name": "stdout",
          "text": [
            "Validation Accuracy: 24.17%\n",
            "Epoch [56/300], Validation Loss: 2.6485\n"
          ]
        },
        {
          "output_type": "stream",
          "name": "stderr",
          "text": [
            "Epoch 57/300 [Train]: 100%|██████████| 58/58 [00:04<00:00, 14.33it/s]\n"
          ]
        },
        {
          "output_type": "stream",
          "name": "stdout",
          "text": [
            "Epoch [57/300], Loss: 2.2147\n"
          ]
        },
        {
          "output_type": "stream",
          "name": "stderr",
          "text": [
            "Epoch 57/300 [Valid]: 100%|██████████| 14/14 [00:00<00:00, 18.04it/s]\n"
          ]
        },
        {
          "output_type": "stream",
          "name": "stdout",
          "text": [
            "Validation Accuracy: 25.59%\n",
            "Epoch [57/300], Validation Loss: 2.6907\n"
          ]
        },
        {
          "output_type": "stream",
          "name": "stderr",
          "text": [
            "Epoch 58/300 [Train]: 100%|██████████| 58/58 [00:04<00:00, 13.28it/s]\n"
          ]
        },
        {
          "output_type": "stream",
          "name": "stdout",
          "text": [
            "Epoch [58/300], Loss: 2.1340\n"
          ]
        },
        {
          "output_type": "stream",
          "name": "stderr",
          "text": [
            "Epoch 58/300 [Valid]: 100%|██████████| 14/14 [00:00<00:00, 17.90it/s]\n"
          ]
        },
        {
          "output_type": "stream",
          "name": "stdout",
          "text": [
            "Validation Accuracy: 25.12%\n",
            "Epoch [58/300], Validation Loss: 2.6966\n"
          ]
        },
        {
          "output_type": "stream",
          "name": "stderr",
          "text": [
            "Epoch 59/300 [Train]: 100%|██████████| 58/58 [00:04<00:00, 14.29it/s]\n"
          ]
        },
        {
          "output_type": "stream",
          "name": "stdout",
          "text": [
            "Epoch [59/300], Loss: 2.2145\n"
          ]
        },
        {
          "output_type": "stream",
          "name": "stderr",
          "text": [
            "Epoch 59/300 [Valid]: 100%|██████████| 14/14 [00:00<00:00, 18.25it/s]\n"
          ]
        },
        {
          "output_type": "stream",
          "name": "stdout",
          "text": [
            "Validation Accuracy: 26.07%\n",
            "Epoch [59/300], Validation Loss: 2.6588\n"
          ]
        },
        {
          "output_type": "stream",
          "name": "stderr",
          "text": [
            "Epoch 60/300 [Train]: 100%|██████████| 58/58 [00:04<00:00, 14.41it/s]\n"
          ]
        },
        {
          "output_type": "stream",
          "name": "stdout",
          "text": [
            "Epoch [60/300], Loss: 2.1812\n"
          ]
        },
        {
          "output_type": "stream",
          "name": "stderr",
          "text": [
            "Epoch 60/300 [Valid]: 100%|██████████| 14/14 [00:00<00:00, 16.66it/s]\n"
          ]
        },
        {
          "output_type": "stream",
          "name": "stdout",
          "text": [
            "Validation Accuracy: 27.01%\n",
            "Epoch [60/300], Validation Loss: 2.6599\n"
          ]
        },
        {
          "output_type": "stream",
          "name": "stderr",
          "text": [
            "Epoch 61/300 [Train]: 100%|██████████| 58/58 [00:04<00:00, 13.50it/s]\n"
          ]
        },
        {
          "output_type": "stream",
          "name": "stdout",
          "text": [
            "Epoch [61/300], Loss: 2.1730\n"
          ]
        },
        {
          "output_type": "stream",
          "name": "stderr",
          "text": [
            "Epoch 61/300 [Valid]: 100%|██████████| 14/14 [00:00<00:00, 17.90it/s]\n"
          ]
        },
        {
          "output_type": "stream",
          "name": "stdout",
          "text": [
            "Validation Accuracy: 28.44%\n",
            "Epoch [61/300], Validation Loss: 2.6551\n"
          ]
        },
        {
          "output_type": "stream",
          "name": "stderr",
          "text": [
            "Epoch 62/300 [Train]: 100%|██████████| 58/58 [00:04<00:00, 14.06it/s]\n"
          ]
        },
        {
          "output_type": "stream",
          "name": "stdout",
          "text": [
            "Epoch [62/300], Loss: 2.1091\n"
          ]
        },
        {
          "output_type": "stream",
          "name": "stderr",
          "text": [
            "Epoch 62/300 [Valid]: 100%|██████████| 14/14 [00:00<00:00, 18.05it/s]\n"
          ]
        },
        {
          "output_type": "stream",
          "name": "stdout",
          "text": [
            "Validation Accuracy: 26.54%\n",
            "Epoch [62/300], Validation Loss: 2.6644\n"
          ]
        },
        {
          "output_type": "stream",
          "name": "stderr",
          "text": [
            "Epoch 63/300 [Train]: 100%|██████████| 58/58 [00:04<00:00, 13.68it/s]\n"
          ]
        },
        {
          "output_type": "stream",
          "name": "stdout",
          "text": [
            "Epoch [63/300], Loss: 2.1593\n"
          ]
        },
        {
          "output_type": "stream",
          "name": "stderr",
          "text": [
            "Epoch 63/300 [Valid]: 100%|██████████| 14/14 [00:00<00:00, 17.27it/s]\n"
          ]
        },
        {
          "output_type": "stream",
          "name": "stdout",
          "text": [
            "Validation Accuracy: 28.91%\n",
            "Epoch [63/300], Validation Loss: 2.6543\n",
            "Saved new best model with accuracy: 28.91%\n",
            "-----\n"
          ]
        },
        {
          "output_type": "stream",
          "name": "stderr",
          "text": [
            "Epoch 64/300 [Train]: 100%|██████████| 58/58 [00:04<00:00, 13.92it/s]\n"
          ]
        },
        {
          "output_type": "stream",
          "name": "stdout",
          "text": [
            "Epoch [64/300], Loss: 2.1205\n"
          ]
        },
        {
          "output_type": "stream",
          "name": "stderr",
          "text": [
            "Epoch 64/300 [Valid]: 100%|██████████| 14/14 [00:00<00:00, 18.16it/s]\n"
          ]
        },
        {
          "output_type": "stream",
          "name": "stdout",
          "text": [
            "Validation Accuracy: 24.17%\n",
            "Epoch [64/300], Validation Loss: 2.6031\n"
          ]
        },
        {
          "output_type": "stream",
          "name": "stderr",
          "text": [
            "Epoch 65/300 [Train]: 100%|██████████| 58/58 [00:04<00:00, 14.18it/s]\n"
          ]
        },
        {
          "output_type": "stream",
          "name": "stdout",
          "text": [
            "Epoch [65/300], Loss: 2.1293\n"
          ]
        },
        {
          "output_type": "stream",
          "name": "stderr",
          "text": [
            "Epoch 65/300 [Valid]: 100%|██████████| 14/14 [00:00<00:00, 18.19it/s]\n"
          ]
        },
        {
          "output_type": "stream",
          "name": "stdout",
          "text": [
            "Validation Accuracy: 27.01%\n",
            "Epoch [65/300], Validation Loss: 2.6510\n"
          ]
        },
        {
          "output_type": "stream",
          "name": "stderr",
          "text": [
            "Epoch 66/300 [Train]: 100%|██████████| 58/58 [00:04<00:00, 13.33it/s]\n"
          ]
        },
        {
          "output_type": "stream",
          "name": "stdout",
          "text": [
            "Epoch [66/300], Loss: 2.0691\n"
          ]
        },
        {
          "output_type": "stream",
          "name": "stderr",
          "text": [
            "Epoch 66/300 [Valid]: 100%|██████████| 14/14 [00:00<00:00, 17.85it/s]\n"
          ]
        },
        {
          "output_type": "stream",
          "name": "stdout",
          "text": [
            "Validation Accuracy: 27.49%\n",
            "Epoch [66/300], Validation Loss: 2.6199\n"
          ]
        },
        {
          "output_type": "stream",
          "name": "stderr",
          "text": [
            "Epoch 67/300 [Train]: 100%|██████████| 58/58 [00:04<00:00, 14.40it/s]\n"
          ]
        },
        {
          "output_type": "stream",
          "name": "stdout",
          "text": [
            "Epoch [67/300], Loss: 2.1822\n"
          ]
        },
        {
          "output_type": "stream",
          "name": "stderr",
          "text": [
            "Epoch 67/300 [Valid]: 100%|██████████| 14/14 [00:00<00:00, 17.85it/s]\n"
          ]
        },
        {
          "output_type": "stream",
          "name": "stdout",
          "text": [
            "Validation Accuracy: 26.07%\n",
            "Epoch [67/300], Validation Loss: 2.6378\n"
          ]
        },
        {
          "output_type": "stream",
          "name": "stderr",
          "text": [
            "Epoch 68/300 [Train]: 100%|██████████| 58/58 [00:04<00:00, 14.18it/s]\n"
          ]
        },
        {
          "output_type": "stream",
          "name": "stdout",
          "text": [
            "Epoch [68/300], Loss: 2.1029\n"
          ]
        },
        {
          "output_type": "stream",
          "name": "stderr",
          "text": [
            "Epoch 68/300 [Valid]: 100%|██████████| 14/14 [00:00<00:00, 16.65it/s]\n"
          ]
        },
        {
          "output_type": "stream",
          "name": "stdout",
          "text": [
            "Validation Accuracy: 28.44%\n",
            "Epoch [68/300], Validation Loss: 2.6414\n"
          ]
        },
        {
          "output_type": "stream",
          "name": "stderr",
          "text": [
            "Epoch 69/300 [Train]: 100%|██████████| 58/58 [00:04<00:00, 13.57it/s]\n"
          ]
        },
        {
          "output_type": "stream",
          "name": "stdout",
          "text": [
            "Epoch [69/300], Loss: 2.0749\n"
          ]
        },
        {
          "output_type": "stream",
          "name": "stderr",
          "text": [
            "Epoch 69/300 [Valid]: 100%|██████████| 14/14 [00:00<00:00, 17.99it/s]\n"
          ]
        },
        {
          "output_type": "stream",
          "name": "stdout",
          "text": [
            "Validation Accuracy: 28.91%\n",
            "Epoch [69/300], Validation Loss: 2.6150\n"
          ]
        },
        {
          "output_type": "stream",
          "name": "stderr",
          "text": [
            "Epoch 70/300 [Train]: 100%|██████████| 58/58 [00:04<00:00, 14.23it/s]\n"
          ]
        },
        {
          "output_type": "stream",
          "name": "stdout",
          "text": [
            "Epoch [70/300], Loss: 2.0704\n"
          ]
        },
        {
          "output_type": "stream",
          "name": "stderr",
          "text": [
            "Epoch 70/300 [Valid]: 100%|██████████| 14/14 [00:00<00:00, 18.01it/s]\n"
          ]
        },
        {
          "output_type": "stream",
          "name": "stdout",
          "text": [
            "Validation Accuracy: 26.54%\n",
            "Epoch [70/300], Validation Loss: 2.6609\n"
          ]
        },
        {
          "output_type": "stream",
          "name": "stderr",
          "text": [
            "Epoch 71/300 [Train]: 100%|██████████| 58/58 [00:04<00:00, 14.00it/s]\n"
          ]
        },
        {
          "output_type": "stream",
          "name": "stdout",
          "text": [
            "Epoch [71/300], Loss: 2.1088\n"
          ]
        },
        {
          "output_type": "stream",
          "name": "stderr",
          "text": [
            "Epoch 71/300 [Valid]: 100%|██████████| 14/14 [00:00<00:00, 17.93it/s]\n"
          ]
        },
        {
          "output_type": "stream",
          "name": "stdout",
          "text": [
            "Validation Accuracy: 29.38%\n",
            "Epoch [71/300], Validation Loss: 2.6120\n",
            "Saved new best model with accuracy: 29.38%\n",
            "-----\n"
          ]
        },
        {
          "output_type": "stream",
          "name": "stderr",
          "text": [
            "Epoch 72/300 [Train]: 100%|██████████| 58/58 [00:04<00:00, 13.92it/s]\n"
          ]
        },
        {
          "output_type": "stream",
          "name": "stdout",
          "text": [
            "Epoch [72/300], Loss: 2.0747\n"
          ]
        },
        {
          "output_type": "stream",
          "name": "stderr",
          "text": [
            "Epoch 72/300 [Valid]: 100%|██████████| 14/14 [00:00<00:00, 17.17it/s]\n"
          ]
        },
        {
          "output_type": "stream",
          "name": "stdout",
          "text": [
            "Validation Accuracy: 28.44%\n",
            "Epoch [72/300], Validation Loss: 2.6075\n"
          ]
        },
        {
          "output_type": "stream",
          "name": "stderr",
          "text": [
            "Epoch 73/300 [Train]: 100%|██████████| 58/58 [00:04<00:00, 14.15it/s]\n"
          ]
        },
        {
          "output_type": "stream",
          "name": "stdout",
          "text": [
            "Epoch [73/300], Loss: 2.0677\n"
          ]
        },
        {
          "output_type": "stream",
          "name": "stderr",
          "text": [
            "Epoch 73/300 [Valid]: 100%|██████████| 14/14 [00:00<00:00, 17.99it/s]\n"
          ]
        },
        {
          "output_type": "stream",
          "name": "stdout",
          "text": [
            "Validation Accuracy: 28.91%\n",
            "Epoch [73/300], Validation Loss: 2.6249\n"
          ]
        },
        {
          "output_type": "stream",
          "name": "stderr",
          "text": [
            "Epoch 74/300 [Train]: 100%|██████████| 58/58 [00:04<00:00, 12.96it/s]\n"
          ]
        },
        {
          "output_type": "stream",
          "name": "stdout",
          "text": [
            "Epoch [74/300], Loss: 2.0162\n"
          ]
        },
        {
          "output_type": "stream",
          "name": "stderr",
          "text": [
            "Epoch 74/300 [Valid]: 100%|██████████| 14/14 [00:00<00:00, 17.71it/s]\n"
          ]
        },
        {
          "output_type": "stream",
          "name": "stdout",
          "text": [
            "Validation Accuracy: 27.96%\n",
            "Epoch [74/300], Validation Loss: 2.6165\n"
          ]
        },
        {
          "output_type": "stream",
          "name": "stderr",
          "text": [
            "Epoch 75/300 [Train]: 100%|██████████| 58/58 [00:04<00:00, 14.19it/s]\n"
          ]
        },
        {
          "output_type": "stream",
          "name": "stdout",
          "text": [
            "Epoch [75/300], Loss: 2.0860\n"
          ]
        },
        {
          "output_type": "stream",
          "name": "stderr",
          "text": [
            "Epoch 75/300 [Valid]: 100%|██████████| 14/14 [00:00<00:00, 18.17it/s]\n"
          ]
        },
        {
          "output_type": "stream",
          "name": "stdout",
          "text": [
            "Validation Accuracy: 27.96%\n",
            "Epoch [75/300], Validation Loss: 2.5943\n"
          ]
        },
        {
          "output_type": "stream",
          "name": "stderr",
          "text": [
            "Epoch 76/300 [Train]: 100%|██████████| 58/58 [00:04<00:00, 14.43it/s]\n"
          ]
        },
        {
          "output_type": "stream",
          "name": "stdout",
          "text": [
            "Epoch [76/300], Loss: 2.1227\n"
          ]
        },
        {
          "output_type": "stream",
          "name": "stderr",
          "text": [
            "Epoch 76/300 [Valid]: 100%|██████████| 14/14 [00:00<00:00, 17.24it/s]\n"
          ]
        },
        {
          "output_type": "stream",
          "name": "stdout",
          "text": [
            "Validation Accuracy: 28.91%\n",
            "Epoch [76/300], Validation Loss: 2.6303\n"
          ]
        },
        {
          "output_type": "stream",
          "name": "stderr",
          "text": [
            "Epoch 77/300 [Train]: 100%|██████████| 58/58 [00:04<00:00, 13.10it/s]\n"
          ]
        },
        {
          "output_type": "stream",
          "name": "stdout",
          "text": [
            "Epoch [77/300], Loss: 2.0842\n"
          ]
        },
        {
          "output_type": "stream",
          "name": "stderr",
          "text": [
            "Epoch 77/300 [Valid]: 100%|██████████| 14/14 [00:00<00:00, 17.48it/s]\n"
          ]
        },
        {
          "output_type": "stream",
          "name": "stdout",
          "text": [
            "Validation Accuracy: 28.44%\n",
            "Epoch [77/300], Validation Loss: 2.5970\n"
          ]
        },
        {
          "output_type": "stream",
          "name": "stderr",
          "text": [
            "Epoch 78/300 [Train]: 100%|██████████| 58/58 [00:04<00:00, 14.15it/s]\n"
          ]
        },
        {
          "output_type": "stream",
          "name": "stdout",
          "text": [
            "Epoch [78/300], Loss: 2.0379\n"
          ]
        },
        {
          "output_type": "stream",
          "name": "stderr",
          "text": [
            "Epoch 78/300 [Valid]: 100%|██████████| 14/14 [00:00<00:00, 18.25it/s]\n"
          ]
        },
        {
          "output_type": "stream",
          "name": "stdout",
          "text": [
            "Validation Accuracy: 27.96%\n",
            "Epoch [78/300], Validation Loss: 2.6104\n"
          ]
        },
        {
          "output_type": "stream",
          "name": "stderr",
          "text": [
            "Epoch 79/300 [Train]: 100%|██████████| 58/58 [00:04<00:00, 13.93it/s]\n"
          ]
        },
        {
          "output_type": "stream",
          "name": "stdout",
          "text": [
            "Epoch [79/300], Loss: 2.0666\n"
          ]
        },
        {
          "output_type": "stream",
          "name": "stderr",
          "text": [
            "Epoch 79/300 [Valid]: 100%|██████████| 14/14 [00:00<00:00, 17.13it/s]\n"
          ]
        },
        {
          "output_type": "stream",
          "name": "stdout",
          "text": [
            "Validation Accuracy: 27.49%\n",
            "Epoch [79/300], Validation Loss: 2.6154\n"
          ]
        },
        {
          "output_type": "stream",
          "name": "stderr",
          "text": [
            "Epoch 80/300 [Train]: 100%|██████████| 58/58 [00:04<00:00, 13.73it/s]\n"
          ]
        },
        {
          "output_type": "stream",
          "name": "stdout",
          "text": [
            "Epoch [80/300], Loss: 2.0439\n"
          ]
        },
        {
          "output_type": "stream",
          "name": "stderr",
          "text": [
            "Epoch 80/300 [Valid]: 100%|██████████| 14/14 [00:00<00:00, 17.66it/s]\n"
          ]
        },
        {
          "output_type": "stream",
          "name": "stdout",
          "text": [
            "Validation Accuracy: 28.91%\n",
            "Epoch [80/300], Validation Loss: 2.5863\n"
          ]
        },
        {
          "output_type": "stream",
          "name": "stderr",
          "text": [
            "Epoch 81/300 [Train]: 100%|██████████| 58/58 [00:04<00:00, 14.29it/s]\n"
          ]
        },
        {
          "output_type": "stream",
          "name": "stdout",
          "text": [
            "Epoch [81/300], Loss: 2.0851\n"
          ]
        },
        {
          "output_type": "stream",
          "name": "stderr",
          "text": [
            "Epoch 81/300 [Valid]: 100%|██████████| 14/14 [00:00<00:00, 18.07it/s]\n"
          ]
        },
        {
          "output_type": "stream",
          "name": "stdout",
          "text": [
            "Validation Accuracy: 29.38%\n",
            "Epoch [81/300], Validation Loss: 2.6189\n"
          ]
        },
        {
          "output_type": "stream",
          "name": "stderr",
          "text": [
            "Epoch 82/300 [Train]: 100%|██████████| 58/58 [00:04<00:00, 12.90it/s]\n"
          ]
        },
        {
          "output_type": "stream",
          "name": "stdout",
          "text": [
            "Epoch [82/300], Loss: 2.0137\n"
          ]
        },
        {
          "output_type": "stream",
          "name": "stderr",
          "text": [
            "Epoch 82/300 [Valid]: 100%|██████████| 14/14 [00:00<00:00, 18.19it/s]\n"
          ]
        },
        {
          "output_type": "stream",
          "name": "stdout",
          "text": [
            "Validation Accuracy: 28.44%\n",
            "Epoch [82/300], Validation Loss: 2.5794\n"
          ]
        },
        {
          "output_type": "stream",
          "name": "stderr",
          "text": [
            "Epoch 83/300 [Train]: 100%|██████████| 58/58 [00:04<00:00, 14.20it/s]\n"
          ]
        },
        {
          "output_type": "stream",
          "name": "stdout",
          "text": [
            "Epoch [83/300], Loss: 2.0601\n"
          ]
        },
        {
          "output_type": "stream",
          "name": "stderr",
          "text": [
            "Epoch 83/300 [Valid]: 100%|██████████| 14/14 [00:00<00:00, 17.76it/s]\n"
          ]
        },
        {
          "output_type": "stream",
          "name": "stdout",
          "text": [
            "Validation Accuracy: 27.01%\n",
            "Epoch [83/300], Validation Loss: 2.6164\n"
          ]
        },
        {
          "output_type": "stream",
          "name": "stderr",
          "text": [
            "Epoch 84/300 [Train]: 100%|██████████| 58/58 [00:04<00:00, 14.41it/s]\n"
          ]
        },
        {
          "output_type": "stream",
          "name": "stdout",
          "text": [
            "Epoch [84/300], Loss: 2.0781\n"
          ]
        },
        {
          "output_type": "stream",
          "name": "stderr",
          "text": [
            "Epoch 84/300 [Valid]: 100%|██████████| 14/14 [00:00<00:00, 17.04it/s]\n"
          ]
        },
        {
          "output_type": "stream",
          "name": "stdout",
          "text": [
            "Validation Accuracy: 27.01%\n",
            "Epoch [84/300], Validation Loss: 2.5923\n"
          ]
        },
        {
          "output_type": "stream",
          "name": "stderr",
          "text": [
            "Epoch 85/300 [Train]: 100%|██████████| 58/58 [00:04<00:00, 13.99it/s]\n"
          ]
        },
        {
          "output_type": "stream",
          "name": "stdout",
          "text": [
            "Epoch [85/300], Loss: 2.0377\n"
          ]
        },
        {
          "output_type": "stream",
          "name": "stderr",
          "text": [
            "Epoch 85/300 [Valid]: 100%|██████████| 14/14 [00:00<00:00, 18.82it/s]\n"
          ]
        },
        {
          "output_type": "stream",
          "name": "stdout",
          "text": [
            "Validation Accuracy: 27.96%\n",
            "Epoch [85/300], Validation Loss: 2.5873\n"
          ]
        },
        {
          "output_type": "stream",
          "name": "stderr",
          "text": [
            "Epoch 86/300 [Train]: 100%|██████████| 58/58 [00:03<00:00, 14.92it/s]\n"
          ]
        },
        {
          "output_type": "stream",
          "name": "stdout",
          "text": [
            "Epoch [86/300], Loss: 2.0483\n"
          ]
        },
        {
          "output_type": "stream",
          "name": "stderr",
          "text": [
            "Epoch 86/300 [Valid]: 100%|██████████| 14/14 [00:00<00:00, 18.40it/s]\n"
          ]
        },
        {
          "output_type": "stream",
          "name": "stdout",
          "text": [
            "Validation Accuracy: 28.44%\n",
            "Epoch [86/300], Validation Loss: 2.6368\n"
          ]
        },
        {
          "output_type": "stream",
          "name": "stderr",
          "text": [
            "Epoch 87/300 [Train]: 100%|██████████| 58/58 [00:04<00:00, 14.25it/s]\n"
          ]
        },
        {
          "output_type": "stream",
          "name": "stdout",
          "text": [
            "Epoch [87/300], Loss: 2.0672\n"
          ]
        },
        {
          "output_type": "stream",
          "name": "stderr",
          "text": [
            "Epoch 87/300 [Valid]: 100%|██████████| 14/14 [00:00<00:00, 17.09it/s]\n"
          ]
        },
        {
          "output_type": "stream",
          "name": "stdout",
          "text": [
            "Validation Accuracy: 28.44%\n",
            "Epoch [87/300], Validation Loss: 2.6034\n"
          ]
        },
        {
          "output_type": "stream",
          "name": "stderr",
          "text": [
            "Epoch 88/300 [Train]: 100%|██████████| 58/58 [00:04<00:00, 14.39it/s]\n"
          ]
        },
        {
          "output_type": "stream",
          "name": "stdout",
          "text": [
            "Epoch [88/300], Loss: 2.0123\n"
          ]
        },
        {
          "output_type": "stream",
          "name": "stderr",
          "text": [
            "Epoch 88/300 [Valid]: 100%|██████████| 14/14 [00:00<00:00, 18.28it/s]\n"
          ]
        },
        {
          "output_type": "stream",
          "name": "stdout",
          "text": [
            "Validation Accuracy: 28.44%\n",
            "Epoch [88/300], Validation Loss: 2.5960\n"
          ]
        },
        {
          "output_type": "stream",
          "name": "stderr",
          "text": [
            "Epoch 89/300 [Train]: 100%|██████████| 58/58 [00:03<00:00, 14.82it/s]\n"
          ]
        },
        {
          "output_type": "stream",
          "name": "stdout",
          "text": [
            "Epoch [89/300], Loss: 2.0242\n"
          ]
        },
        {
          "output_type": "stream",
          "name": "stderr",
          "text": [
            "Epoch 89/300 [Valid]: 100%|██████████| 14/14 [00:00<00:00, 18.43it/s]\n"
          ]
        },
        {
          "output_type": "stream",
          "name": "stdout",
          "text": [
            "Validation Accuracy: 30.33%\n",
            "Epoch [89/300], Validation Loss: 2.5767\n",
            "Saved new best model with accuracy: 30.33%\n",
            "-----\n"
          ]
        },
        {
          "output_type": "stream",
          "name": "stderr",
          "text": [
            "Epoch 90/300 [Train]: 100%|██████████| 58/58 [00:04<00:00, 14.18it/s]\n"
          ]
        },
        {
          "output_type": "stream",
          "name": "stdout",
          "text": [
            "Epoch [90/300], Loss: 2.0500\n"
          ]
        },
        {
          "output_type": "stream",
          "name": "stderr",
          "text": [
            "Epoch 90/300 [Valid]: 100%|██████████| 14/14 [00:00<00:00, 16.57it/s]\n"
          ]
        },
        {
          "output_type": "stream",
          "name": "stdout",
          "text": [
            "Validation Accuracy: 27.01%\n",
            "Epoch [90/300], Validation Loss: 2.6272\n"
          ]
        },
        {
          "output_type": "stream",
          "name": "stderr",
          "text": [
            "Epoch 91/300 [Train]: 100%|██████████| 58/58 [00:03<00:00, 14.99it/s]\n"
          ]
        },
        {
          "output_type": "stream",
          "name": "stdout",
          "text": [
            "Epoch [91/300], Loss: 2.0543\n"
          ]
        },
        {
          "output_type": "stream",
          "name": "stderr",
          "text": [
            "Epoch 91/300 [Valid]: 100%|██████████| 14/14 [00:00<00:00, 18.68it/s]\n"
          ]
        },
        {
          "output_type": "stream",
          "name": "stdout",
          "text": [
            "Validation Accuracy: 27.49%\n",
            "Epoch [91/300], Validation Loss: 2.6192\n"
          ]
        },
        {
          "output_type": "stream",
          "name": "stderr",
          "text": [
            "Epoch 92/300 [Train]: 100%|██████████| 58/58 [00:03<00:00, 14.58it/s]\n"
          ]
        },
        {
          "output_type": "stream",
          "name": "stdout",
          "text": [
            "Epoch [92/300], Loss: 2.0477\n"
          ]
        },
        {
          "output_type": "stream",
          "name": "stderr",
          "text": [
            "Epoch 92/300 [Valid]: 100%|██████████| 14/14 [00:00<00:00, 18.39it/s]\n"
          ]
        },
        {
          "output_type": "stream",
          "name": "stdout",
          "text": [
            "Validation Accuracy: 30.33%\n",
            "Epoch [92/300], Validation Loss: 2.5956\n"
          ]
        },
        {
          "output_type": "stream",
          "name": "stderr",
          "text": [
            "Epoch 93/300 [Train]: 100%|██████████| 58/58 [00:04<00:00, 13.68it/s]\n"
          ]
        },
        {
          "output_type": "stream",
          "name": "stdout",
          "text": [
            "Epoch [93/300], Loss: 1.9964\n"
          ]
        },
        {
          "output_type": "stream",
          "name": "stderr",
          "text": [
            "Epoch 93/300 [Valid]: 100%|██████████| 14/14 [00:00<00:00, 18.65it/s]\n"
          ]
        },
        {
          "output_type": "stream",
          "name": "stdout",
          "text": [
            "Validation Accuracy: 27.96%\n",
            "Epoch [93/300], Validation Loss: 2.6253\n"
          ]
        },
        {
          "output_type": "stream",
          "name": "stderr",
          "text": [
            "Epoch 94/300 [Train]: 100%|██████████| 58/58 [00:03<00:00, 14.84it/s]\n"
          ]
        },
        {
          "output_type": "stream",
          "name": "stdout",
          "text": [
            "Epoch [94/300], Loss: 2.0370\n"
          ]
        },
        {
          "output_type": "stream",
          "name": "stderr",
          "text": [
            "Epoch 94/300 [Valid]: 100%|██████████| 14/14 [00:00<00:00, 18.29it/s]\n"
          ]
        },
        {
          "output_type": "stream",
          "name": "stdout",
          "text": [
            "Validation Accuracy: 29.86%\n",
            "Epoch [94/300], Validation Loss: 2.6142\n"
          ]
        },
        {
          "output_type": "stream",
          "name": "stderr",
          "text": [
            "Epoch 95/300 [Train]: 100%|██████████| 58/58 [00:04<00:00, 14.47it/s]\n"
          ]
        },
        {
          "output_type": "stream",
          "name": "stdout",
          "text": [
            "Epoch [95/300], Loss: 1.9842\n"
          ]
        },
        {
          "output_type": "stream",
          "name": "stderr",
          "text": [
            "Epoch 95/300 [Valid]: 100%|██████████| 14/14 [00:00<00:00, 17.25it/s]\n"
          ]
        },
        {
          "output_type": "stream",
          "name": "stdout",
          "text": [
            "Validation Accuracy: 30.33%\n",
            "Epoch [95/300], Validation Loss: 2.6261\n"
          ]
        },
        {
          "output_type": "stream",
          "name": "stderr",
          "text": [
            "Epoch 96/300 [Train]: 100%|██████████| 58/58 [00:04<00:00, 13.78it/s]\n"
          ]
        },
        {
          "output_type": "stream",
          "name": "stdout",
          "text": [
            "Epoch [96/300], Loss: 2.0637\n"
          ]
        },
        {
          "output_type": "stream",
          "name": "stderr",
          "text": [
            "Epoch 96/300 [Valid]: 100%|██████████| 14/14 [00:00<00:00, 18.56it/s]\n"
          ]
        },
        {
          "output_type": "stream",
          "name": "stdout",
          "text": [
            "Validation Accuracy: 27.96%\n",
            "Epoch [96/300], Validation Loss: 2.6051\n"
          ]
        },
        {
          "output_type": "stream",
          "name": "stderr",
          "text": [
            "Epoch 97/300 [Train]: 100%|██████████| 58/58 [00:03<00:00, 14.73it/s]\n"
          ]
        },
        {
          "output_type": "stream",
          "name": "stdout",
          "text": [
            "Epoch [97/300], Loss: 2.0241\n"
          ]
        },
        {
          "output_type": "stream",
          "name": "stderr",
          "text": [
            "Epoch 97/300 [Valid]: 100%|██████████| 14/14 [00:00<00:00, 18.44it/s]\n"
          ]
        },
        {
          "output_type": "stream",
          "name": "stdout",
          "text": [
            "Validation Accuracy: 27.96%\n",
            "Epoch [97/300], Validation Loss: 2.6323\n"
          ]
        },
        {
          "output_type": "stream",
          "name": "stderr",
          "text": [
            "Epoch 98/300 [Train]: 100%|██████████| 58/58 [00:04<00:00, 14.29it/s]\n"
          ]
        },
        {
          "output_type": "stream",
          "name": "stdout",
          "text": [
            "Epoch [98/300], Loss: 2.0243\n"
          ]
        },
        {
          "output_type": "stream",
          "name": "stderr",
          "text": [
            "Epoch 98/300 [Valid]: 100%|██████████| 14/14 [00:00<00:00, 17.61it/s]\n"
          ]
        },
        {
          "output_type": "stream",
          "name": "stdout",
          "text": [
            "Validation Accuracy: 28.44%\n",
            "Epoch [98/300], Validation Loss: 2.5841\n"
          ]
        },
        {
          "output_type": "stream",
          "name": "stderr",
          "text": [
            "Epoch 99/300 [Train]: 100%|██████████| 58/58 [00:04<00:00, 14.09it/s]\n"
          ]
        },
        {
          "output_type": "stream",
          "name": "stdout",
          "text": [
            "Epoch [99/300], Loss: 2.0410\n"
          ]
        },
        {
          "output_type": "stream",
          "name": "stderr",
          "text": [
            "Epoch 99/300 [Valid]: 100%|██████████| 14/14 [00:00<00:00, 18.85it/s]\n"
          ]
        },
        {
          "output_type": "stream",
          "name": "stdout",
          "text": [
            "Validation Accuracy: 28.44%\n",
            "Epoch [99/300], Validation Loss: 2.6653\n"
          ]
        },
        {
          "output_type": "stream",
          "name": "stderr",
          "text": [
            "Epoch 100/300 [Train]: 100%|██████████| 58/58 [00:03<00:00, 14.59it/s]\n"
          ]
        },
        {
          "output_type": "stream",
          "name": "stdout",
          "text": [
            "Epoch [100/300], Loss: 2.0194\n"
          ]
        },
        {
          "output_type": "stream",
          "name": "stderr",
          "text": [
            "Epoch 100/300 [Valid]: 100%|██████████| 14/14 [00:00<00:00, 18.99it/s]\n"
          ]
        },
        {
          "output_type": "stream",
          "name": "stdout",
          "text": [
            "Validation Accuracy: 28.44%\n",
            "Epoch [100/300], Validation Loss: 2.6113\n"
          ]
        },
        {
          "output_type": "stream",
          "name": "stderr",
          "text": [
            "Epoch 101/300 [Train]: 100%|██████████| 58/58 [00:04<00:00, 14.16it/s]\n"
          ]
        },
        {
          "output_type": "stream",
          "name": "stdout",
          "text": [
            "Epoch [101/300], Loss: 2.0545\n"
          ]
        },
        {
          "output_type": "stream",
          "name": "stderr",
          "text": [
            "Epoch 101/300 [Valid]: 100%|██████████| 14/14 [00:00<00:00, 16.09it/s]\n"
          ]
        },
        {
          "output_type": "stream",
          "name": "stdout",
          "text": [
            "Validation Accuracy: 29.38%\n",
            "Epoch [101/300], Validation Loss: 2.6336\n"
          ]
        },
        {
          "output_type": "stream",
          "name": "stderr",
          "text": [
            "Epoch 102/300 [Train]: 100%|██████████| 58/58 [00:03<00:00, 14.63it/s]\n"
          ]
        },
        {
          "output_type": "stream",
          "name": "stdout",
          "text": [
            "Epoch [102/300], Loss: 2.0197\n"
          ]
        },
        {
          "output_type": "stream",
          "name": "stderr",
          "text": [
            "Epoch 102/300 [Valid]: 100%|██████████| 14/14 [00:00<00:00, 19.00it/s]\n"
          ]
        },
        {
          "output_type": "stream",
          "name": "stdout",
          "text": [
            "Validation Accuracy: 27.01%\n",
            "Epoch [102/300], Validation Loss: 2.6303\n"
          ]
        },
        {
          "output_type": "stream",
          "name": "stderr",
          "text": [
            "Epoch 103/300 [Train]: 100%|██████████| 58/58 [00:03<00:00, 14.86it/s]\n"
          ]
        },
        {
          "output_type": "stream",
          "name": "stdout",
          "text": [
            "Epoch [103/300], Loss: 2.0085\n"
          ]
        },
        {
          "output_type": "stream",
          "name": "stderr",
          "text": [
            "Epoch 103/300 [Valid]: 100%|██████████| 14/14 [00:00<00:00, 18.36it/s]\n"
          ]
        },
        {
          "output_type": "stream",
          "name": "stdout",
          "text": [
            "Validation Accuracy: 29.86%\n",
            "Epoch [103/300], Validation Loss: 2.6440\n"
          ]
        },
        {
          "output_type": "stream",
          "name": "stderr",
          "text": [
            "Epoch 104/300 [Train]: 100%|██████████| 58/58 [00:04<00:00, 13.71it/s]\n"
          ]
        },
        {
          "output_type": "stream",
          "name": "stdout",
          "text": [
            "Epoch [104/300], Loss: 1.9917\n"
          ]
        },
        {
          "output_type": "stream",
          "name": "stderr",
          "text": [
            "Epoch 104/300 [Valid]: 100%|██████████| 14/14 [00:00<00:00, 18.04it/s]\n"
          ]
        },
        {
          "output_type": "stream",
          "name": "stdout",
          "text": [
            "Validation Accuracy: 27.49%\n",
            "Epoch [104/300], Validation Loss: 2.5957\n"
          ]
        },
        {
          "output_type": "stream",
          "name": "stderr",
          "text": [
            "Epoch 105/300 [Train]: 100%|██████████| 58/58 [00:03<00:00, 14.71it/s]\n"
          ]
        },
        {
          "output_type": "stream",
          "name": "stdout",
          "text": [
            "Epoch [105/300], Loss: 2.0551\n"
          ]
        },
        {
          "output_type": "stream",
          "name": "stderr",
          "text": [
            "Epoch 105/300 [Valid]: 100%|██████████| 14/14 [00:00<00:00, 18.36it/s]\n"
          ]
        },
        {
          "output_type": "stream",
          "name": "stdout",
          "text": [
            "Validation Accuracy: 28.91%\n",
            "Epoch [105/300], Validation Loss: 2.6492\n"
          ]
        },
        {
          "output_type": "stream",
          "name": "stderr",
          "text": [
            "Epoch 106/300 [Train]: 100%|██████████| 58/58 [00:03<00:00, 14.76it/s]\n"
          ]
        },
        {
          "output_type": "stream",
          "name": "stdout",
          "text": [
            "Epoch [106/300], Loss: 2.0150\n"
          ]
        },
        {
          "output_type": "stream",
          "name": "stderr",
          "text": [
            "Epoch 106/300 [Valid]: 100%|██████████| 14/14 [00:00<00:00, 14.67it/s]\n"
          ]
        },
        {
          "output_type": "stream",
          "name": "stdout",
          "text": [
            "Validation Accuracy: 27.96%\n",
            "Epoch [106/300], Validation Loss: 2.6328\n"
          ]
        },
        {
          "output_type": "stream",
          "name": "stderr",
          "text": [
            "Epoch 107/300 [Train]: 100%|██████████| 58/58 [00:04<00:00, 13.65it/s]\n"
          ]
        },
        {
          "output_type": "stream",
          "name": "stdout",
          "text": [
            "Epoch [107/300], Loss: 2.0509\n"
          ]
        },
        {
          "output_type": "stream",
          "name": "stderr",
          "text": [
            "Epoch 107/300 [Valid]: 100%|██████████| 14/14 [00:00<00:00, 18.41it/s]\n"
          ]
        },
        {
          "output_type": "stream",
          "name": "stdout",
          "text": [
            "Validation Accuracy: 27.96%\n",
            "Epoch [107/300], Validation Loss: 2.6120\n"
          ]
        },
        {
          "output_type": "stream",
          "name": "stderr",
          "text": [
            "Epoch 108/300 [Train]: 100%|██████████| 58/58 [00:03<00:00, 14.68it/s]\n"
          ]
        },
        {
          "output_type": "stream",
          "name": "stdout",
          "text": [
            "Epoch [108/300], Loss: 2.0106\n"
          ]
        },
        {
          "output_type": "stream",
          "name": "stderr",
          "text": [
            "Epoch 108/300 [Valid]: 100%|██████████| 14/14 [00:00<00:00, 18.86it/s]\n"
          ]
        },
        {
          "output_type": "stream",
          "name": "stdout",
          "text": [
            "Validation Accuracy: 29.38%\n",
            "Epoch [108/300], Validation Loss: 2.5791\n"
          ]
        },
        {
          "output_type": "stream",
          "name": "stderr",
          "text": [
            "Epoch 109/300 [Train]: 100%|██████████| 58/58 [00:03<00:00, 14.54it/s]\n"
          ]
        },
        {
          "output_type": "stream",
          "name": "stdout",
          "text": [
            "Epoch [109/300], Loss: 1.9967\n"
          ]
        },
        {
          "output_type": "stream",
          "name": "stderr",
          "text": [
            "Epoch 109/300 [Valid]: 100%|██████████| 14/14 [00:00<00:00, 17.85it/s]\n"
          ]
        },
        {
          "output_type": "stream",
          "name": "stdout",
          "text": [
            "Validation Accuracy: 28.44%\n",
            "Epoch [109/300], Validation Loss: 2.5776\n"
          ]
        },
        {
          "output_type": "stream",
          "name": "stderr",
          "text": [
            "Epoch 110/300 [Train]: 100%|██████████| 58/58 [00:04<00:00, 14.21it/s]\n"
          ]
        },
        {
          "output_type": "stream",
          "name": "stdout",
          "text": [
            "Epoch [110/300], Loss: 2.0728\n"
          ]
        },
        {
          "output_type": "stream",
          "name": "stderr",
          "text": [
            "Epoch 110/300 [Valid]: 100%|██████████| 14/14 [00:00<00:00, 18.52it/s]\n"
          ]
        },
        {
          "output_type": "stream",
          "name": "stdout",
          "text": [
            "Validation Accuracy: 27.96%\n",
            "Epoch [110/300], Validation Loss: 2.6156\n"
          ]
        },
        {
          "output_type": "stream",
          "name": "stderr",
          "text": [
            "Epoch 111/300 [Train]: 100%|██████████| 58/58 [00:03<00:00, 14.97it/s]\n"
          ]
        },
        {
          "output_type": "stream",
          "name": "stdout",
          "text": [
            "Epoch [111/300], Loss: 1.9926\n"
          ]
        },
        {
          "output_type": "stream",
          "name": "stderr",
          "text": [
            "Epoch 111/300 [Valid]: 100%|██████████| 14/14 [00:00<00:00, 18.56it/s]\n"
          ]
        },
        {
          "output_type": "stream",
          "name": "stdout",
          "text": [
            "Validation Accuracy: 27.96%\n",
            "Epoch [111/300], Validation Loss: 2.6334\n"
          ]
        },
        {
          "output_type": "stream",
          "name": "stderr",
          "text": [
            "Epoch 112/300 [Train]: 100%|██████████| 58/58 [00:04<00:00, 14.24it/s]\n"
          ]
        },
        {
          "output_type": "stream",
          "name": "stdout",
          "text": [
            "Epoch [112/300], Loss: 2.0364\n"
          ]
        },
        {
          "output_type": "stream",
          "name": "stderr",
          "text": [
            "Epoch 112/300 [Valid]: 100%|██████████| 14/14 [00:00<00:00, 17.07it/s]\n"
          ]
        },
        {
          "output_type": "stream",
          "name": "stdout",
          "text": [
            "Validation Accuracy: 27.01%\n",
            "Epoch [112/300], Validation Loss: 2.5840\n"
          ]
        },
        {
          "output_type": "stream",
          "name": "stderr",
          "text": [
            "Epoch 113/300 [Train]: 100%|██████████| 58/58 [00:04<00:00, 14.48it/s]\n"
          ]
        },
        {
          "output_type": "stream",
          "name": "stdout",
          "text": [
            "Epoch [113/300], Loss: 2.0236\n"
          ]
        },
        {
          "output_type": "stream",
          "name": "stderr",
          "text": [
            "Epoch 113/300 [Valid]: 100%|██████████| 14/14 [00:00<00:00, 18.35it/s]\n"
          ]
        },
        {
          "output_type": "stream",
          "name": "stdout",
          "text": [
            "Validation Accuracy: 28.44%\n",
            "Epoch [113/300], Validation Loss: 2.5915\n"
          ]
        },
        {
          "output_type": "stream",
          "name": "stderr",
          "text": [
            "Epoch 114/300 [Train]: 100%|██████████| 58/58 [00:04<00:00, 14.46it/s]\n"
          ]
        },
        {
          "output_type": "stream",
          "name": "stdout",
          "text": [
            "Epoch [114/300], Loss: 2.0012\n"
          ]
        },
        {
          "output_type": "stream",
          "name": "stderr",
          "text": [
            "Epoch 114/300 [Valid]: 100%|██████████| 14/14 [00:00<00:00, 14.83it/s]\n"
          ]
        },
        {
          "output_type": "stream",
          "name": "stdout",
          "text": [
            "Validation Accuracy: 29.38%\n",
            "Epoch [114/300], Validation Loss: 2.5958\n"
          ]
        },
        {
          "output_type": "stream",
          "name": "stderr",
          "text": [
            "Epoch 115/300 [Train]: 100%|██████████| 58/58 [00:04<00:00, 13.57it/s]\n"
          ]
        },
        {
          "output_type": "stream",
          "name": "stdout",
          "text": [
            "Epoch [115/300], Loss: 2.0770\n"
          ]
        },
        {
          "output_type": "stream",
          "name": "stderr",
          "text": [
            "Epoch 115/300 [Valid]: 100%|██████████| 14/14 [00:00<00:00, 18.58it/s]\n"
          ]
        },
        {
          "output_type": "stream",
          "name": "stdout",
          "text": [
            "Validation Accuracy: 27.49%\n",
            "Epoch [115/300], Validation Loss: 2.5790\n"
          ]
        },
        {
          "output_type": "stream",
          "name": "stderr",
          "text": [
            "Epoch 116/300 [Train]: 100%|██████████| 58/58 [00:03<00:00, 14.55it/s]\n"
          ]
        },
        {
          "output_type": "stream",
          "name": "stdout",
          "text": [
            "Epoch [116/300], Loss: 2.0277\n"
          ]
        },
        {
          "output_type": "stream",
          "name": "stderr",
          "text": [
            "Epoch 116/300 [Valid]: 100%|██████████| 14/14 [00:00<00:00, 18.54it/s]\n"
          ]
        },
        {
          "output_type": "stream",
          "name": "stdout",
          "text": [
            "Validation Accuracy: 27.96%\n",
            "Epoch [116/300], Validation Loss: 2.6153\n"
          ]
        },
        {
          "output_type": "stream",
          "name": "stderr",
          "text": [
            "Epoch 117/300 [Train]: 100%|██████████| 58/58 [00:03<00:00, 14.69it/s]\n"
          ]
        },
        {
          "output_type": "stream",
          "name": "stdout",
          "text": [
            "Epoch [117/300], Loss: 2.0734\n"
          ]
        },
        {
          "output_type": "stream",
          "name": "stderr",
          "text": [
            "Epoch 117/300 [Valid]: 100%|██████████| 14/14 [00:00<00:00, 17.27it/s]\n"
          ]
        },
        {
          "output_type": "stream",
          "name": "stdout",
          "text": [
            "Validation Accuracy: 29.38%\n",
            "Epoch [117/300], Validation Loss: 2.6140\n"
          ]
        },
        {
          "output_type": "stream",
          "name": "stderr",
          "text": [
            "Epoch 118/300 [Train]: 100%|██████████| 58/58 [00:04<00:00, 14.11it/s]\n"
          ]
        },
        {
          "output_type": "stream",
          "name": "stdout",
          "text": [
            "Epoch [118/300], Loss: 2.0158\n"
          ]
        },
        {
          "output_type": "stream",
          "name": "stderr",
          "text": [
            "Epoch 118/300 [Valid]: 100%|██████████| 14/14 [00:00<00:00, 18.83it/s]\n"
          ]
        },
        {
          "output_type": "stream",
          "name": "stdout",
          "text": [
            "Validation Accuracy: 29.38%\n",
            "Epoch [118/300], Validation Loss: 2.5946\n"
          ]
        },
        {
          "output_type": "stream",
          "name": "stderr",
          "text": [
            "Epoch 119/300 [Train]: 100%|██████████| 58/58 [00:03<00:00, 14.84it/s]\n"
          ]
        },
        {
          "output_type": "stream",
          "name": "stdout",
          "text": [
            "Epoch [119/300], Loss: 2.0602\n"
          ]
        },
        {
          "output_type": "stream",
          "name": "stderr",
          "text": [
            "Epoch 119/300 [Valid]: 100%|██████████| 14/14 [00:00<00:00, 18.50it/s]\n"
          ]
        },
        {
          "output_type": "stream",
          "name": "stdout",
          "text": [
            "Validation Accuracy: 25.12%\n",
            "Epoch [119/300], Validation Loss: 2.7274\n"
          ]
        },
        {
          "output_type": "stream",
          "name": "stderr",
          "text": [
            "Epoch 120/300 [Train]: 100%|██████████| 58/58 [00:04<00:00, 14.48it/s]\n"
          ]
        },
        {
          "output_type": "stream",
          "name": "stdout",
          "text": [
            "Epoch [120/300], Loss: 2.0013\n"
          ]
        },
        {
          "output_type": "stream",
          "name": "stderr",
          "text": [
            "Epoch 120/300 [Valid]: 100%|██████████| 14/14 [00:00<00:00, 17.90it/s]\n"
          ]
        },
        {
          "output_type": "stream",
          "name": "stdout",
          "text": [
            "Validation Accuracy: 28.44%\n",
            "Epoch [120/300], Validation Loss: 2.6144\n"
          ]
        },
        {
          "output_type": "stream",
          "name": "stderr",
          "text": [
            "Epoch 121/300 [Train]: 100%|██████████| 58/58 [00:04<00:00, 14.23it/s]\n"
          ]
        },
        {
          "output_type": "stream",
          "name": "stdout",
          "text": [
            "Epoch [121/300], Loss: 2.0367\n"
          ]
        },
        {
          "output_type": "stream",
          "name": "stderr",
          "text": [
            "Epoch 121/300 [Valid]: 100%|██████████| 14/14 [00:00<00:00, 18.53it/s]\n"
          ]
        },
        {
          "output_type": "stream",
          "name": "stdout",
          "text": [
            "Validation Accuracy: 27.96%\n",
            "Epoch [121/300], Validation Loss: 2.6121\n"
          ]
        },
        {
          "output_type": "stream",
          "name": "stderr",
          "text": [
            "Epoch 122/300 [Train]: 100%|██████████| 58/58 [00:03<00:00, 14.97it/s]\n"
          ]
        },
        {
          "output_type": "stream",
          "name": "stdout",
          "text": [
            "Epoch [122/300], Loss: 2.0581\n"
          ]
        },
        {
          "output_type": "stream",
          "name": "stderr",
          "text": [
            "Epoch 122/300 [Valid]: 100%|██████████| 14/14 [00:00<00:00, 18.53it/s]\n"
          ]
        },
        {
          "output_type": "stream",
          "name": "stdout",
          "text": [
            "Validation Accuracy: 27.96%\n",
            "Epoch [122/300], Validation Loss: 2.6003\n"
          ]
        },
        {
          "output_type": "stream",
          "name": "stderr",
          "text": [
            "Epoch 123/300 [Train]: 100%|██████████| 58/58 [00:04<00:00, 13.89it/s]\n"
          ]
        },
        {
          "output_type": "stream",
          "name": "stdout",
          "text": [
            "Epoch [123/300], Loss: 2.0041\n"
          ]
        },
        {
          "output_type": "stream",
          "name": "stderr",
          "text": [
            "Epoch 123/300 [Valid]: 100%|██████████| 14/14 [00:00<00:00, 16.71it/s]\n"
          ]
        },
        {
          "output_type": "stream",
          "name": "stdout",
          "text": [
            "Validation Accuracy: 27.49%\n",
            "Epoch [123/300], Validation Loss: 2.6252\n"
          ]
        },
        {
          "output_type": "stream",
          "name": "stderr",
          "text": [
            "Epoch 124/300 [Train]: 100%|██████████| 58/58 [00:03<00:00, 14.77it/s]\n"
          ]
        },
        {
          "output_type": "stream",
          "name": "stdout",
          "text": [
            "Epoch [124/300], Loss: 2.0156\n"
          ]
        },
        {
          "output_type": "stream",
          "name": "stderr",
          "text": [
            "Epoch 124/300 [Valid]: 100%|██████████| 14/14 [00:00<00:00, 18.17it/s]\n"
          ]
        },
        {
          "output_type": "stream",
          "name": "stdout",
          "text": [
            "Validation Accuracy: 26.54%\n",
            "Epoch [124/300], Validation Loss: 2.5860\n"
          ]
        },
        {
          "output_type": "stream",
          "name": "stderr",
          "text": [
            "Epoch 125/300 [Train]: 100%|██████████| 58/58 [00:03<00:00, 14.80it/s]\n"
          ]
        },
        {
          "output_type": "stream",
          "name": "stdout",
          "text": [
            "Epoch [125/300], Loss: 2.0467\n"
          ]
        },
        {
          "output_type": "stream",
          "name": "stderr",
          "text": [
            "Epoch 125/300 [Valid]: 100%|██████████| 14/14 [00:00<00:00, 18.52it/s]\n"
          ]
        },
        {
          "output_type": "stream",
          "name": "stdout",
          "text": [
            "Validation Accuracy: 29.38%\n",
            "Epoch [125/300], Validation Loss: 2.5898\n"
          ]
        },
        {
          "output_type": "stream",
          "name": "stderr",
          "text": [
            "Epoch 126/300 [Train]: 100%|██████████| 58/58 [00:04<00:00, 13.95it/s]\n"
          ]
        },
        {
          "output_type": "stream",
          "name": "stdout",
          "text": [
            "Epoch [126/300], Loss: 2.0031\n"
          ]
        },
        {
          "output_type": "stream",
          "name": "stderr",
          "text": [
            "Epoch 126/300 [Valid]: 100%|██████████| 14/14 [00:00<00:00, 18.95it/s]\n"
          ]
        },
        {
          "output_type": "stream",
          "name": "stdout",
          "text": [
            "Validation Accuracy: 27.01%\n",
            "Epoch [126/300], Validation Loss: 2.5741\n"
          ]
        },
        {
          "output_type": "stream",
          "name": "stderr",
          "text": [
            "Epoch 127/300 [Train]: 100%|██████████| 58/58 [00:03<00:00, 14.89it/s]\n"
          ]
        },
        {
          "output_type": "stream",
          "name": "stdout",
          "text": [
            "Epoch [127/300], Loss: 1.9834\n"
          ]
        },
        {
          "output_type": "stream",
          "name": "stderr",
          "text": [
            "Epoch 127/300 [Valid]: 100%|██████████| 14/14 [00:00<00:00, 17.99it/s]\n"
          ]
        },
        {
          "output_type": "stream",
          "name": "stdout",
          "text": [
            "Validation Accuracy: 27.49%\n",
            "Epoch [127/300], Validation Loss: 2.5860\n"
          ]
        },
        {
          "output_type": "stream",
          "name": "stderr",
          "text": [
            "Epoch 128/300 [Train]: 100%|██████████| 58/58 [00:03<00:00, 14.89it/s]\n"
          ]
        },
        {
          "output_type": "stream",
          "name": "stdout",
          "text": [
            "Epoch [128/300], Loss: 2.0234\n"
          ]
        },
        {
          "output_type": "stream",
          "name": "stderr",
          "text": [
            "Epoch 128/300 [Valid]: 100%|██████████| 14/14 [00:00<00:00, 18.07it/s]\n"
          ]
        },
        {
          "output_type": "stream",
          "name": "stdout",
          "text": [
            "Validation Accuracy: 28.44%\n",
            "Epoch [128/300], Validation Loss: 2.6112\n"
          ]
        },
        {
          "output_type": "stream",
          "name": "stderr",
          "text": [
            "Epoch 129/300 [Train]: 100%|██████████| 58/58 [00:04<00:00, 13.17it/s]\n"
          ]
        },
        {
          "output_type": "stream",
          "name": "stdout",
          "text": [
            "Epoch [129/300], Loss: 2.0358\n"
          ]
        },
        {
          "output_type": "stream",
          "name": "stderr",
          "text": [
            "Epoch 129/300 [Valid]: 100%|██████████| 14/14 [00:00<00:00, 18.54it/s]\n"
          ]
        },
        {
          "output_type": "stream",
          "name": "stdout",
          "text": [
            "Validation Accuracy: 27.96%\n",
            "Epoch [129/300], Validation Loss: 2.6534\n"
          ]
        },
        {
          "output_type": "stream",
          "name": "stderr",
          "text": [
            "Epoch 130/300 [Train]: 100%|██████████| 58/58 [00:03<00:00, 14.82it/s]\n"
          ]
        },
        {
          "output_type": "stream",
          "name": "stdout",
          "text": [
            "Epoch [130/300], Loss: 2.0318\n"
          ]
        },
        {
          "output_type": "stream",
          "name": "stderr",
          "text": [
            "Epoch 130/300 [Valid]: 100%|██████████| 14/14 [00:00<00:00, 18.76it/s]\n"
          ]
        },
        {
          "output_type": "stream",
          "name": "stdout",
          "text": [
            "Validation Accuracy: 28.44%\n",
            "Epoch [130/300], Validation Loss: 2.6595\n"
          ]
        },
        {
          "output_type": "stream",
          "name": "stderr",
          "text": [
            "Epoch 131/300 [Train]: 100%|██████████| 58/58 [00:03<00:00, 14.54it/s]\n"
          ]
        },
        {
          "output_type": "stream",
          "name": "stdout",
          "text": [
            "Epoch [131/300], Loss: 2.0316\n"
          ]
        },
        {
          "output_type": "stream",
          "name": "stderr",
          "text": [
            "Epoch 131/300 [Valid]: 100%|██████████| 14/14 [00:00<00:00, 18.06it/s]\n"
          ]
        },
        {
          "output_type": "stream",
          "name": "stdout",
          "text": [
            "Validation Accuracy: 28.44%\n",
            "Epoch [131/300], Validation Loss: 2.6374\n"
          ]
        },
        {
          "output_type": "stream",
          "name": "stderr",
          "text": [
            "Epoch 132/300 [Train]: 100%|██████████| 58/58 [00:04<00:00, 14.16it/s]\n"
          ]
        },
        {
          "output_type": "stream",
          "name": "stdout",
          "text": [
            "Epoch [132/300], Loss: 1.9942\n"
          ]
        },
        {
          "output_type": "stream",
          "name": "stderr",
          "text": [
            "Epoch 132/300 [Valid]: 100%|██████████| 14/14 [00:00<00:00, 18.53it/s]\n"
          ]
        },
        {
          "output_type": "stream",
          "name": "stdout",
          "text": [
            "Validation Accuracy: 29.38%\n",
            "Epoch [132/300], Validation Loss: 2.5827\n"
          ]
        },
        {
          "output_type": "stream",
          "name": "stderr",
          "text": [
            "Epoch 133/300 [Train]: 100%|██████████| 58/58 [00:03<00:00, 14.78it/s]\n"
          ]
        },
        {
          "output_type": "stream",
          "name": "stdout",
          "text": [
            "Epoch [133/300], Loss: 2.0512\n"
          ]
        },
        {
          "output_type": "stream",
          "name": "stderr",
          "text": [
            "Epoch 133/300 [Valid]: 100%|██████████| 14/14 [00:00<00:00, 18.97it/s]\n"
          ]
        },
        {
          "output_type": "stream",
          "name": "stdout",
          "text": [
            "Validation Accuracy: 26.54%\n",
            "Epoch [133/300], Validation Loss: 2.6098\n"
          ]
        },
        {
          "output_type": "stream",
          "name": "stderr",
          "text": [
            "Epoch 134/300 [Train]: 100%|██████████| 58/58 [00:04<00:00, 14.07it/s]\n"
          ]
        },
        {
          "output_type": "stream",
          "name": "stdout",
          "text": [
            "Epoch [134/300], Loss: 1.9858\n"
          ]
        },
        {
          "output_type": "stream",
          "name": "stderr",
          "text": [
            "Epoch 134/300 [Valid]: 100%|██████████| 14/14 [00:00<00:00, 16.32it/s]\n"
          ]
        },
        {
          "output_type": "stream",
          "name": "stdout",
          "text": [
            "Validation Accuracy: 28.91%\n",
            "Epoch [134/300], Validation Loss: 2.6059\n"
          ]
        },
        {
          "output_type": "stream",
          "name": "stderr",
          "text": [
            "Epoch 135/300 [Train]: 100%|██████████| 58/58 [00:03<00:00, 14.92it/s]\n"
          ]
        },
        {
          "output_type": "stream",
          "name": "stdout",
          "text": [
            "Epoch [135/300], Loss: 2.0342\n"
          ]
        },
        {
          "output_type": "stream",
          "name": "stderr",
          "text": [
            "Epoch 135/300 [Valid]: 100%|██████████| 14/14 [00:00<00:00, 18.62it/s]\n"
          ]
        },
        {
          "output_type": "stream",
          "name": "stdout",
          "text": [
            "Validation Accuracy: 27.96%\n",
            "Epoch [135/300], Validation Loss: 2.5746\n"
          ]
        },
        {
          "output_type": "stream",
          "name": "stderr",
          "text": [
            "Epoch 136/300 [Train]: 100%|██████████| 58/58 [00:03<00:00, 15.03it/s]\n"
          ]
        },
        {
          "output_type": "stream",
          "name": "stdout",
          "text": [
            "Epoch [136/300], Loss: 2.0845\n"
          ]
        },
        {
          "output_type": "stream",
          "name": "stderr",
          "text": [
            "Epoch 136/300 [Valid]: 100%|██████████| 14/14 [00:00<00:00, 18.93it/s]\n"
          ]
        },
        {
          "output_type": "stream",
          "name": "stdout",
          "text": [
            "Validation Accuracy: 28.91%\n",
            "Epoch [136/300], Validation Loss: 2.6091\n"
          ]
        },
        {
          "output_type": "stream",
          "name": "stderr",
          "text": [
            "Epoch 137/300 [Train]: 100%|██████████| 58/58 [00:04<00:00, 13.83it/s]\n"
          ]
        },
        {
          "output_type": "stream",
          "name": "stdout",
          "text": [
            "Epoch [137/300], Loss: 2.0702\n"
          ]
        },
        {
          "output_type": "stream",
          "name": "stderr",
          "text": [
            "Epoch 137/300 [Valid]: 100%|██████████| 14/14 [00:00<00:00, 18.96it/s]\n"
          ]
        },
        {
          "output_type": "stream",
          "name": "stdout",
          "text": [
            "Validation Accuracy: 27.96%\n",
            "Epoch [137/300], Validation Loss: 2.7159\n"
          ]
        },
        {
          "output_type": "stream",
          "name": "stderr",
          "text": [
            "Epoch 138/300 [Train]: 100%|██████████| 58/58 [00:03<00:00, 14.80it/s]\n"
          ]
        },
        {
          "output_type": "stream",
          "name": "stdout",
          "text": [
            "Epoch [138/300], Loss: 1.9757\n"
          ]
        },
        {
          "output_type": "stream",
          "name": "stderr",
          "text": [
            "Epoch 138/300 [Valid]: 100%|██████████| 14/14 [00:00<00:00, 18.53it/s]\n"
          ]
        },
        {
          "output_type": "stream",
          "name": "stdout",
          "text": [
            "Validation Accuracy: 29.38%\n",
            "Epoch [138/300], Validation Loss: 2.5973\n"
          ]
        },
        {
          "output_type": "stream",
          "name": "stderr",
          "text": [
            "Epoch 139/300 [Train]: 100%|██████████| 58/58 [00:03<00:00, 14.80it/s]\n"
          ]
        },
        {
          "output_type": "stream",
          "name": "stdout",
          "text": [
            "Epoch [139/300], Loss: 2.1034\n"
          ]
        },
        {
          "output_type": "stream",
          "name": "stderr",
          "text": [
            "Epoch 139/300 [Valid]: 100%|██████████| 14/14 [00:00<00:00, 16.81it/s]\n"
          ]
        },
        {
          "output_type": "stream",
          "name": "stdout",
          "text": [
            "Validation Accuracy: 29.38%\n",
            "Epoch [139/300], Validation Loss: 2.5878\n"
          ]
        },
        {
          "output_type": "stream",
          "name": "stderr",
          "text": [
            "Epoch 140/300 [Train]: 100%|██████████| 58/58 [00:04<00:00, 13.85it/s]\n"
          ]
        },
        {
          "output_type": "stream",
          "name": "stdout",
          "text": [
            "Epoch [140/300], Loss: 2.1127\n"
          ]
        },
        {
          "output_type": "stream",
          "name": "stderr",
          "text": [
            "Epoch 140/300 [Valid]: 100%|██████████| 14/14 [00:00<00:00, 18.68it/s]\n"
          ]
        },
        {
          "output_type": "stream",
          "name": "stdout",
          "text": [
            "Validation Accuracy: 30.33%\n",
            "Epoch [140/300], Validation Loss: 2.5880\n"
          ]
        },
        {
          "output_type": "stream",
          "name": "stderr",
          "text": [
            "Epoch 141/300 [Train]: 100%|██████████| 58/58 [00:03<00:00, 14.87it/s]\n"
          ]
        },
        {
          "output_type": "stream",
          "name": "stdout",
          "text": [
            "Epoch [141/300], Loss: 2.0548\n"
          ]
        },
        {
          "output_type": "stream",
          "name": "stderr",
          "text": [
            "Epoch 141/300 [Valid]: 100%|██████████| 14/14 [00:00<00:00, 18.81it/s]\n"
          ]
        },
        {
          "output_type": "stream",
          "name": "stdout",
          "text": [
            "Validation Accuracy: 29.86%\n",
            "Epoch [141/300], Validation Loss: 2.6077\n"
          ]
        },
        {
          "output_type": "stream",
          "name": "stderr",
          "text": [
            "Epoch 142/300 [Train]: 100%|██████████| 58/58 [00:03<00:00, 14.58it/s]\n"
          ]
        },
        {
          "output_type": "stream",
          "name": "stdout",
          "text": [
            "Epoch [142/300], Loss: 2.0376\n"
          ]
        },
        {
          "output_type": "stream",
          "name": "stderr",
          "text": [
            "Epoch 142/300 [Valid]: 100%|██████████| 14/14 [00:00<00:00, 17.63it/s]\n"
          ]
        },
        {
          "output_type": "stream",
          "name": "stdout",
          "text": [
            "Validation Accuracy: 28.91%\n",
            "Epoch [142/300], Validation Loss: 2.6313\n"
          ]
        },
        {
          "output_type": "stream",
          "name": "stderr",
          "text": [
            "Epoch 143/300 [Train]: 100%|██████████| 58/58 [00:04<00:00, 14.12it/s]\n"
          ]
        },
        {
          "output_type": "stream",
          "name": "stdout",
          "text": [
            "Epoch [143/300], Loss: 2.0214\n"
          ]
        },
        {
          "output_type": "stream",
          "name": "stderr",
          "text": [
            "Epoch 143/300 [Valid]: 100%|██████████| 14/14 [00:00<00:00, 19.12it/s]\n"
          ]
        },
        {
          "output_type": "stream",
          "name": "stdout",
          "text": [
            "Validation Accuracy: 29.38%\n",
            "Epoch [143/300], Validation Loss: 2.6334\n"
          ]
        },
        {
          "output_type": "stream",
          "name": "stderr",
          "text": [
            "Epoch 144/300 [Train]: 100%|██████████| 58/58 [00:03<00:00, 14.88it/s]\n"
          ]
        },
        {
          "output_type": "stream",
          "name": "stdout",
          "text": [
            "Epoch [144/300], Loss: 2.0355\n"
          ]
        },
        {
          "output_type": "stream",
          "name": "stderr",
          "text": [
            "Epoch 144/300 [Valid]: 100%|██████████| 14/14 [00:00<00:00, 18.77it/s]\n"
          ]
        },
        {
          "output_type": "stream",
          "name": "stdout",
          "text": [
            "Validation Accuracy: 27.49%\n",
            "Epoch [144/300], Validation Loss: 2.6004\n"
          ]
        },
        {
          "output_type": "stream",
          "name": "stderr",
          "text": [
            "Epoch 145/300 [Train]: 100%|██████████| 58/58 [00:04<00:00, 14.41it/s]\n"
          ]
        },
        {
          "output_type": "stream",
          "name": "stdout",
          "text": [
            "Epoch [145/300], Loss: 2.1030\n"
          ]
        },
        {
          "output_type": "stream",
          "name": "stderr",
          "text": [
            "Epoch 145/300 [Valid]: 100%|██████████| 14/14 [00:00<00:00, 17.41it/s]\n"
          ]
        },
        {
          "output_type": "stream",
          "name": "stdout",
          "text": [
            "Validation Accuracy: 28.91%\n",
            "Epoch [145/300], Validation Loss: 2.5967\n"
          ]
        },
        {
          "output_type": "stream",
          "name": "stderr",
          "text": [
            "Epoch 146/300 [Train]: 100%|██████████| 58/58 [00:04<00:00, 14.46it/s]\n"
          ]
        },
        {
          "output_type": "stream",
          "name": "stdout",
          "text": [
            "Epoch [146/300], Loss: 2.0259\n"
          ]
        },
        {
          "output_type": "stream",
          "name": "stderr",
          "text": [
            "Epoch 146/300 [Valid]: 100%|██████████| 14/14 [00:00<00:00, 18.02it/s]\n"
          ]
        },
        {
          "output_type": "stream",
          "name": "stdout",
          "text": [
            "Validation Accuracy: 27.96%\n",
            "Epoch [146/300], Validation Loss: 2.5729\n"
          ]
        },
        {
          "output_type": "stream",
          "name": "stderr",
          "text": [
            "Epoch 147/300 [Train]: 100%|██████████| 58/58 [00:03<00:00, 14.65it/s]\n"
          ]
        },
        {
          "output_type": "stream",
          "name": "stdout",
          "text": [
            "Epoch [147/300], Loss: 2.0688\n"
          ]
        },
        {
          "output_type": "stream",
          "name": "stderr",
          "text": [
            "Epoch 147/300 [Valid]: 100%|██████████| 14/14 [00:00<00:00, 18.72it/s]\n"
          ]
        },
        {
          "output_type": "stream",
          "name": "stdout",
          "text": [
            "Validation Accuracy: 27.49%\n",
            "Epoch [147/300], Validation Loss: 2.6079\n"
          ]
        },
        {
          "output_type": "stream",
          "name": "stderr",
          "text": [
            "Epoch 148/300 [Train]: 100%|██████████| 58/58 [00:04<00:00, 13.77it/s]\n"
          ]
        },
        {
          "output_type": "stream",
          "name": "stdout",
          "text": [
            "Epoch [148/300], Loss: 1.9958\n"
          ]
        },
        {
          "output_type": "stream",
          "name": "stderr",
          "text": [
            "Epoch 148/300 [Valid]: 100%|██████████| 14/14 [00:00<00:00, 18.49it/s]\n"
          ]
        },
        {
          "output_type": "stream",
          "name": "stdout",
          "text": [
            "Validation Accuracy: 27.49%\n",
            "Epoch [148/300], Validation Loss: 2.6043\n"
          ]
        },
        {
          "output_type": "stream",
          "name": "stderr",
          "text": [
            "Epoch 149/300 [Train]: 100%|██████████| 58/58 [00:03<00:00, 14.76it/s]\n"
          ]
        },
        {
          "output_type": "stream",
          "name": "stdout",
          "text": [
            "Epoch [149/300], Loss: 2.0463\n"
          ]
        },
        {
          "output_type": "stream",
          "name": "stderr",
          "text": [
            "Epoch 149/300 [Valid]: 100%|██████████| 14/14 [00:00<00:00, 18.27it/s]\n"
          ]
        },
        {
          "output_type": "stream",
          "name": "stdout",
          "text": [
            "Validation Accuracy: 27.49%\n",
            "Epoch [149/300], Validation Loss: 2.6028\n"
          ]
        },
        {
          "output_type": "stream",
          "name": "stderr",
          "text": [
            "Epoch 150/300 [Train]: 100%|██████████| 58/58 [00:03<00:00, 14.81it/s]\n"
          ]
        },
        {
          "output_type": "stream",
          "name": "stdout",
          "text": [
            "Epoch [150/300], Loss: 2.0165\n"
          ]
        },
        {
          "output_type": "stream",
          "name": "stderr",
          "text": [
            "Epoch 150/300 [Valid]: 100%|██████████| 14/14 [00:00<00:00, 18.47it/s]\n"
          ]
        },
        {
          "output_type": "stream",
          "name": "stdout",
          "text": [
            "Validation Accuracy: 28.44%\n",
            "Epoch [150/300], Validation Loss: 2.5948\n"
          ]
        },
        {
          "output_type": "stream",
          "name": "stderr",
          "text": [
            "Epoch 151/300 [Train]: 100%|██████████| 58/58 [00:04<00:00, 13.53it/s]\n"
          ]
        },
        {
          "output_type": "stream",
          "name": "stdout",
          "text": [
            "Epoch [151/300], Loss: 2.0274\n"
          ]
        },
        {
          "output_type": "stream",
          "name": "stderr",
          "text": [
            "Epoch 151/300 [Valid]: 100%|██████████| 14/14 [00:00<00:00, 18.59it/s]\n"
          ]
        },
        {
          "output_type": "stream",
          "name": "stdout",
          "text": [
            "Validation Accuracy: 27.96%\n",
            "Epoch [151/300], Validation Loss: 2.6063\n"
          ]
        },
        {
          "output_type": "stream",
          "name": "stderr",
          "text": [
            "Epoch 152/300 [Train]: 100%|██████████| 58/58 [00:03<00:00, 14.86it/s]\n"
          ]
        },
        {
          "output_type": "stream",
          "name": "stdout",
          "text": [
            "Epoch [152/300], Loss: 2.0093\n"
          ]
        },
        {
          "output_type": "stream",
          "name": "stderr",
          "text": [
            "Epoch 152/300 [Valid]: 100%|██████████| 14/14 [00:00<00:00, 17.62it/s]\n"
          ]
        },
        {
          "output_type": "stream",
          "name": "stdout",
          "text": [
            "Validation Accuracy: 30.33%\n",
            "Epoch [152/300], Validation Loss: 2.6475\n"
          ]
        },
        {
          "output_type": "stream",
          "name": "stderr",
          "text": [
            "Epoch 153/300 [Train]: 100%|██████████| 58/58 [00:04<00:00, 14.49it/s]\n"
          ]
        },
        {
          "output_type": "stream",
          "name": "stdout",
          "text": [
            "Epoch [153/300], Loss: 2.0307\n"
          ]
        },
        {
          "output_type": "stream",
          "name": "stderr",
          "text": [
            "Epoch 153/300 [Valid]: 100%|██████████| 14/14 [00:00<00:00, 17.97it/s]\n"
          ]
        },
        {
          "output_type": "stream",
          "name": "stdout",
          "text": [
            "Validation Accuracy: 28.91%\n",
            "Epoch [153/300], Validation Loss: 2.5919\n"
          ]
        },
        {
          "output_type": "stream",
          "name": "stderr",
          "text": [
            "Epoch 154/300 [Train]: 100%|██████████| 58/58 [00:04<00:00, 14.23it/s]\n"
          ]
        },
        {
          "output_type": "stream",
          "name": "stdout",
          "text": [
            "Epoch [154/300], Loss: 2.0267\n"
          ]
        },
        {
          "output_type": "stream",
          "name": "stderr",
          "text": [
            "Epoch 154/300 [Valid]: 100%|██████████| 14/14 [00:00<00:00, 18.57it/s]\n"
          ]
        },
        {
          "output_type": "stream",
          "name": "stdout",
          "text": [
            "Validation Accuracy: 28.44%\n",
            "Epoch [154/300], Validation Loss: 2.6274\n"
          ]
        },
        {
          "output_type": "stream",
          "name": "stderr",
          "text": [
            "Epoch 155/300 [Train]: 100%|██████████| 58/58 [00:03<00:00, 14.72it/s]\n"
          ]
        },
        {
          "output_type": "stream",
          "name": "stdout",
          "text": [
            "Epoch [155/300], Loss: 2.0243\n"
          ]
        },
        {
          "output_type": "stream",
          "name": "stderr",
          "text": [
            "Epoch 155/300 [Valid]: 100%|██████████| 14/14 [00:00<00:00, 18.94it/s]\n"
          ]
        },
        {
          "output_type": "stream",
          "name": "stdout",
          "text": [
            "Validation Accuracy: 28.44%\n",
            "Epoch [155/300], Validation Loss: 2.6274\n"
          ]
        },
        {
          "output_type": "stream",
          "name": "stderr",
          "text": [
            "Epoch 156/300 [Train]: 100%|██████████| 58/58 [00:03<00:00, 14.60it/s]\n"
          ]
        },
        {
          "output_type": "stream",
          "name": "stdout",
          "text": [
            "Epoch [156/300], Loss: 2.0028\n"
          ]
        },
        {
          "output_type": "stream",
          "name": "stderr",
          "text": [
            "Epoch 156/300 [Valid]: 100%|██████████| 14/14 [00:00<00:00, 16.66it/s]\n"
          ]
        },
        {
          "output_type": "stream",
          "name": "stdout",
          "text": [
            "Validation Accuracy: 28.44%\n",
            "Epoch [156/300], Validation Loss: 2.5842\n"
          ]
        },
        {
          "output_type": "stream",
          "name": "stderr",
          "text": [
            "Epoch 157/300 [Train]: 100%|██████████| 58/58 [00:03<00:00, 14.56it/s]\n"
          ]
        },
        {
          "output_type": "stream",
          "name": "stdout",
          "text": [
            "Epoch [157/300], Loss: 2.0100\n"
          ]
        },
        {
          "output_type": "stream",
          "name": "stderr",
          "text": [
            "Epoch 157/300 [Valid]: 100%|██████████| 14/14 [00:00<00:00, 18.72it/s]\n"
          ]
        },
        {
          "output_type": "stream",
          "name": "stdout",
          "text": [
            "Validation Accuracy: 28.91%\n",
            "Epoch [157/300], Validation Loss: 2.6024\n"
          ]
        },
        {
          "output_type": "stream",
          "name": "stderr",
          "text": [
            "Epoch 158/300 [Train]: 100%|██████████| 58/58 [00:03<00:00, 14.92it/s]\n"
          ]
        },
        {
          "output_type": "stream",
          "name": "stdout",
          "text": [
            "Epoch [158/300], Loss: 2.0522\n"
          ]
        },
        {
          "output_type": "stream",
          "name": "stderr",
          "text": [
            "Epoch 158/300 [Valid]: 100%|██████████| 14/14 [00:00<00:00, 18.77it/s]\n"
          ]
        },
        {
          "output_type": "stream",
          "name": "stdout",
          "text": [
            "Validation Accuracy: 29.38%\n",
            "Epoch [158/300], Validation Loss: 2.5737\n"
          ]
        },
        {
          "output_type": "stream",
          "name": "stderr",
          "text": [
            "Epoch 159/300 [Train]: 100%|██████████| 58/58 [00:04<00:00, 13.77it/s]\n"
          ]
        },
        {
          "output_type": "stream",
          "name": "stdout",
          "text": [
            "Epoch [159/300], Loss: 2.0254\n"
          ]
        },
        {
          "output_type": "stream",
          "name": "stderr",
          "text": [
            "Epoch 159/300 [Valid]: 100%|██████████| 14/14 [00:00<00:00, 18.13it/s]\n"
          ]
        },
        {
          "output_type": "stream",
          "name": "stdout",
          "text": [
            "Validation Accuracy: 29.86%\n",
            "Epoch [159/300], Validation Loss: 2.5830\n"
          ]
        },
        {
          "output_type": "stream",
          "name": "stderr",
          "text": [
            "Epoch 160/300 [Train]: 100%|██████████| 58/58 [00:03<00:00, 15.00it/s]\n"
          ]
        },
        {
          "output_type": "stream",
          "name": "stdout",
          "text": [
            "Epoch [160/300], Loss: 2.0304\n"
          ]
        },
        {
          "output_type": "stream",
          "name": "stderr",
          "text": [
            "Epoch 160/300 [Valid]: 100%|██████████| 14/14 [00:00<00:00, 19.20it/s]\n"
          ]
        },
        {
          "output_type": "stream",
          "name": "stdout",
          "text": [
            "Validation Accuracy: 27.49%\n",
            "Epoch [160/300], Validation Loss: 2.6058\n"
          ]
        },
        {
          "output_type": "stream",
          "name": "stderr",
          "text": [
            "Epoch 161/300 [Train]: 100%|██████████| 58/58 [00:03<00:00, 15.10it/s]\n"
          ]
        },
        {
          "output_type": "stream",
          "name": "stdout",
          "text": [
            "Epoch [161/300], Loss: 2.0355\n"
          ]
        },
        {
          "output_type": "stream",
          "name": "stderr",
          "text": [
            "Epoch 161/300 [Valid]: 100%|██████████| 14/14 [00:00<00:00, 18.70it/s]\n"
          ]
        },
        {
          "output_type": "stream",
          "name": "stdout",
          "text": [
            "Validation Accuracy: 27.96%\n",
            "Epoch [161/300], Validation Loss: 2.5761\n"
          ]
        },
        {
          "output_type": "stream",
          "name": "stderr",
          "text": [
            "Epoch 162/300 [Train]: 100%|██████████| 58/58 [00:04<00:00, 13.78it/s]\n"
          ]
        },
        {
          "output_type": "stream",
          "name": "stdout",
          "text": [
            "Epoch [162/300], Loss: 2.0774\n"
          ]
        },
        {
          "output_type": "stream",
          "name": "stderr",
          "text": [
            "Epoch 162/300 [Valid]: 100%|██████████| 14/14 [00:00<00:00, 19.35it/s]\n"
          ]
        },
        {
          "output_type": "stream",
          "name": "stdout",
          "text": [
            "Validation Accuracy: 28.44%\n",
            "Epoch [162/300], Validation Loss: 2.5529\n"
          ]
        },
        {
          "output_type": "stream",
          "name": "stderr",
          "text": [
            "Epoch 163/300 [Train]: 100%|██████████| 58/58 [00:03<00:00, 14.90it/s]\n"
          ]
        },
        {
          "output_type": "stream",
          "name": "stdout",
          "text": [
            "Epoch [163/300], Loss: 2.0655\n"
          ]
        },
        {
          "output_type": "stream",
          "name": "stderr",
          "text": [
            "Epoch 163/300 [Valid]: 100%|██████████| 14/14 [00:00<00:00, 18.53it/s]\n"
          ]
        },
        {
          "output_type": "stream",
          "name": "stdout",
          "text": [
            "Validation Accuracy: 27.01%\n",
            "Epoch [163/300], Validation Loss: 2.6199\n"
          ]
        },
        {
          "output_type": "stream",
          "name": "stderr",
          "text": [
            "Epoch 164/300 [Train]: 100%|██████████| 58/58 [00:03<00:00, 14.95it/s]\n"
          ]
        },
        {
          "output_type": "stream",
          "name": "stdout",
          "text": [
            "Epoch [164/300], Loss: 2.0248\n"
          ]
        },
        {
          "output_type": "stream",
          "name": "stderr",
          "text": [
            "Epoch 164/300 [Valid]: 100%|██████████| 14/14 [00:00<00:00, 17.22it/s]\n"
          ]
        },
        {
          "output_type": "stream",
          "name": "stdout",
          "text": [
            "Validation Accuracy: 28.44%\n",
            "Epoch [164/300], Validation Loss: 2.5679\n"
          ]
        },
        {
          "output_type": "stream",
          "name": "stderr",
          "text": [
            "Epoch 165/300 [Train]: 100%|██████████| 58/58 [00:04<00:00, 13.97it/s]\n"
          ]
        },
        {
          "output_type": "stream",
          "name": "stdout",
          "text": [
            "Epoch [165/300], Loss: 2.0238\n"
          ]
        },
        {
          "output_type": "stream",
          "name": "stderr",
          "text": [
            "Epoch 165/300 [Valid]: 100%|██████████| 14/14 [00:00<00:00, 18.79it/s]\n"
          ]
        },
        {
          "output_type": "stream",
          "name": "stdout",
          "text": [
            "Validation Accuracy: 27.49%\n",
            "Epoch [165/300], Validation Loss: 2.5938\n"
          ]
        },
        {
          "output_type": "stream",
          "name": "stderr",
          "text": [
            "Epoch 166/300 [Train]: 100%|██████████| 58/58 [00:03<00:00, 14.96it/s]\n"
          ]
        },
        {
          "output_type": "stream",
          "name": "stdout",
          "text": [
            "Epoch [166/300], Loss: 2.0305\n"
          ]
        },
        {
          "output_type": "stream",
          "name": "stderr",
          "text": [
            "Epoch 166/300 [Valid]: 100%|██████████| 14/14 [00:00<00:00, 18.73it/s]\n"
          ]
        },
        {
          "output_type": "stream",
          "name": "stdout",
          "text": [
            "Validation Accuracy: 28.91%\n",
            "Epoch [166/300], Validation Loss: 2.5778\n"
          ]
        },
        {
          "output_type": "stream",
          "name": "stderr",
          "text": [
            "Epoch 167/300 [Train]: 100%|██████████| 58/58 [00:04<00:00, 14.45it/s]\n"
          ]
        },
        {
          "output_type": "stream",
          "name": "stdout",
          "text": [
            "Epoch [167/300], Loss: 2.0368\n"
          ]
        },
        {
          "output_type": "stream",
          "name": "stderr",
          "text": [
            "Epoch 167/300 [Valid]: 100%|██████████| 14/14 [00:00<00:00, 17.68it/s]\n"
          ]
        },
        {
          "output_type": "stream",
          "name": "stdout",
          "text": [
            "Validation Accuracy: 28.91%\n",
            "Epoch [167/300], Validation Loss: 2.5614\n"
          ]
        },
        {
          "output_type": "stream",
          "name": "stderr",
          "text": [
            "Epoch 168/300 [Train]: 100%|██████████| 58/58 [00:04<00:00, 13.99it/s]\n"
          ]
        },
        {
          "output_type": "stream",
          "name": "stdout",
          "text": [
            "Epoch [168/300], Loss: 2.0414\n"
          ]
        },
        {
          "output_type": "stream",
          "name": "stderr",
          "text": [
            "Epoch 168/300 [Valid]: 100%|██████████| 14/14 [00:00<00:00, 18.15it/s]\n"
          ]
        },
        {
          "output_type": "stream",
          "name": "stdout",
          "text": [
            "Validation Accuracy: 28.44%\n",
            "Epoch [168/300], Validation Loss: 2.5991\n"
          ]
        },
        {
          "output_type": "stream",
          "name": "stderr",
          "text": [
            "Epoch 169/300 [Train]: 100%|██████████| 58/58 [00:03<00:00, 14.78it/s]\n"
          ]
        },
        {
          "output_type": "stream",
          "name": "stdout",
          "text": [
            "Epoch [169/300], Loss: 2.1141\n"
          ]
        },
        {
          "output_type": "stream",
          "name": "stderr",
          "text": [
            "Epoch 169/300 [Valid]: 100%|██████████| 14/14 [00:00<00:00, 18.57it/s]\n"
          ]
        },
        {
          "output_type": "stream",
          "name": "stdout",
          "text": [
            "Validation Accuracy: 27.49%\n",
            "Epoch [169/300], Validation Loss: 2.5875\n"
          ]
        },
        {
          "output_type": "stream",
          "name": "stderr",
          "text": [
            "Epoch 170/300 [Train]: 100%|██████████| 58/58 [00:04<00:00, 14.11it/s]\n"
          ]
        },
        {
          "output_type": "stream",
          "name": "stdout",
          "text": [
            "Epoch [170/300], Loss: 1.9830\n"
          ]
        },
        {
          "output_type": "stream",
          "name": "stderr",
          "text": [
            "Epoch 170/300 [Valid]: 100%|██████████| 14/14 [00:00<00:00, 16.53it/s]\n"
          ]
        },
        {
          "output_type": "stream",
          "name": "stdout",
          "text": [
            "Validation Accuracy: 28.91%\n",
            "Epoch [170/300], Validation Loss: 2.5964\n"
          ]
        },
        {
          "output_type": "stream",
          "name": "stderr",
          "text": [
            "Epoch 171/300 [Train]: 100%|██████████| 58/58 [00:03<00:00, 14.88it/s]\n"
          ]
        },
        {
          "output_type": "stream",
          "name": "stdout",
          "text": [
            "Epoch [171/300], Loss: 1.9937\n"
          ]
        },
        {
          "output_type": "stream",
          "name": "stderr",
          "text": [
            "Epoch 171/300 [Valid]: 100%|██████████| 14/14 [00:00<00:00, 18.65it/s]\n"
          ]
        },
        {
          "output_type": "stream",
          "name": "stdout",
          "text": [
            "Validation Accuracy: 27.96%\n",
            "Epoch [171/300], Validation Loss: 2.5879\n"
          ]
        },
        {
          "output_type": "stream",
          "name": "stderr",
          "text": [
            "Epoch 172/300 [Train]: 100%|██████████| 58/58 [00:03<00:00, 14.82it/s]\n"
          ]
        },
        {
          "output_type": "stream",
          "name": "stdout",
          "text": [
            "Epoch [172/300], Loss: 2.0266\n"
          ]
        },
        {
          "output_type": "stream",
          "name": "stderr",
          "text": [
            "Epoch 172/300 [Valid]: 100%|██████████| 14/14 [00:00<00:00, 18.52it/s]\n"
          ]
        },
        {
          "output_type": "stream",
          "name": "stdout",
          "text": [
            "Validation Accuracy: 28.91%\n",
            "Epoch [172/300], Validation Loss: 2.6368\n"
          ]
        },
        {
          "output_type": "stream",
          "name": "stderr",
          "text": [
            "Epoch 173/300 [Train]: 100%|██████████| 58/58 [00:04<00:00, 14.03it/s]\n"
          ]
        },
        {
          "output_type": "stream",
          "name": "stdout",
          "text": [
            "Epoch [173/300], Loss: 2.0896\n"
          ]
        },
        {
          "output_type": "stream",
          "name": "stderr",
          "text": [
            "Epoch 173/300 [Valid]: 100%|██████████| 14/14 [00:00<00:00, 19.13it/s]\n"
          ]
        },
        {
          "output_type": "stream",
          "name": "stdout",
          "text": [
            "Validation Accuracy: 28.91%\n",
            "Epoch [173/300], Validation Loss: 2.5842\n"
          ]
        },
        {
          "output_type": "stream",
          "name": "stderr",
          "text": [
            "Epoch 174/300 [Train]: 100%|██████████| 58/58 [00:03<00:00, 14.79it/s]\n"
          ]
        },
        {
          "output_type": "stream",
          "name": "stdout",
          "text": [
            "Epoch [174/300], Loss: 2.0551\n"
          ]
        },
        {
          "output_type": "stream",
          "name": "stderr",
          "text": [
            "Epoch 174/300 [Valid]: 100%|██████████| 14/14 [00:00<00:00, 17.51it/s]\n"
          ]
        },
        {
          "output_type": "stream",
          "name": "stdout",
          "text": [
            "Validation Accuracy: 27.96%\n",
            "Epoch [174/300], Validation Loss: 2.5973\n"
          ]
        },
        {
          "output_type": "stream",
          "name": "stderr",
          "text": [
            "Epoch 175/300 [Train]: 100%|██████████| 58/58 [00:03<00:00, 14.81it/s]\n"
          ]
        },
        {
          "output_type": "stream",
          "name": "stdout",
          "text": [
            "Epoch [175/300], Loss: 2.0671\n"
          ]
        },
        {
          "output_type": "stream",
          "name": "stderr",
          "text": [
            "Epoch 175/300 [Valid]: 100%|██████████| 14/14 [00:00<00:00, 17.36it/s]\n"
          ]
        },
        {
          "output_type": "stream",
          "name": "stdout",
          "text": [
            "Validation Accuracy: 27.96%\n",
            "Epoch [175/300], Validation Loss: 2.6521\n"
          ]
        },
        {
          "output_type": "stream",
          "name": "stderr",
          "text": [
            "Epoch 176/300 [Train]: 100%|██████████| 58/58 [00:04<00:00, 14.00it/s]\n"
          ]
        },
        {
          "output_type": "stream",
          "name": "stdout",
          "text": [
            "Epoch [176/300], Loss: 2.0481\n"
          ]
        },
        {
          "output_type": "stream",
          "name": "stderr",
          "text": [
            "Epoch 176/300 [Valid]: 100%|██████████| 14/14 [00:00<00:00, 18.97it/s]\n"
          ]
        },
        {
          "output_type": "stream",
          "name": "stdout",
          "text": [
            "Validation Accuracy: 27.96%\n",
            "Epoch [176/300], Validation Loss: 2.5777\n"
          ]
        },
        {
          "output_type": "stream",
          "name": "stderr",
          "text": [
            "Epoch 177/300 [Train]: 100%|██████████| 58/58 [00:03<00:00, 14.84it/s]\n"
          ]
        },
        {
          "output_type": "stream",
          "name": "stdout",
          "text": [
            "Epoch [177/300], Loss: 2.0694\n"
          ]
        },
        {
          "output_type": "stream",
          "name": "stderr",
          "text": [
            "Epoch 177/300 [Valid]: 100%|██████████| 14/14 [00:00<00:00, 19.29it/s]\n"
          ]
        },
        {
          "output_type": "stream",
          "name": "stdout",
          "text": [
            "Validation Accuracy: 28.91%\n",
            "Epoch [177/300], Validation Loss: 2.6711\n"
          ]
        },
        {
          "output_type": "stream",
          "name": "stderr",
          "text": [
            "Epoch 178/300 [Train]: 100%|██████████| 58/58 [00:04<00:00, 14.32it/s]\n"
          ]
        },
        {
          "output_type": "stream",
          "name": "stdout",
          "text": [
            "Epoch [178/300], Loss: 2.0139\n"
          ]
        },
        {
          "output_type": "stream",
          "name": "stderr",
          "text": [
            "Epoch 178/300 [Valid]: 100%|██████████| 14/14 [00:00<00:00, 17.54it/s]\n"
          ]
        },
        {
          "output_type": "stream",
          "name": "stdout",
          "text": [
            "Validation Accuracy: 27.96%\n",
            "Epoch [178/300], Validation Loss: 2.6239\n"
          ]
        },
        {
          "output_type": "stream",
          "name": "stderr",
          "text": [
            "Epoch 179/300 [Train]: 100%|██████████| 58/58 [00:04<00:00, 14.08it/s]\n"
          ]
        },
        {
          "output_type": "stream",
          "name": "stdout",
          "text": [
            "Epoch [179/300], Loss: 1.9944\n"
          ]
        },
        {
          "output_type": "stream",
          "name": "stderr",
          "text": [
            "Epoch 179/300 [Valid]: 100%|██████████| 14/14 [00:00<00:00, 17.90it/s]\n"
          ]
        },
        {
          "output_type": "stream",
          "name": "stdout",
          "text": [
            "Validation Accuracy: 28.44%\n",
            "Epoch [179/300], Validation Loss: 2.5675\n"
          ]
        },
        {
          "output_type": "stream",
          "name": "stderr",
          "text": [
            "Epoch 180/300 [Train]: 100%|██████████| 58/58 [00:03<00:00, 14.62it/s]\n"
          ]
        },
        {
          "output_type": "stream",
          "name": "stdout",
          "text": [
            "Epoch [180/300], Loss: 2.0808\n"
          ]
        },
        {
          "output_type": "stream",
          "name": "stderr",
          "text": [
            "Epoch 180/300 [Valid]: 100%|██████████| 14/14 [00:00<00:00, 18.13it/s]\n"
          ]
        },
        {
          "output_type": "stream",
          "name": "stdout",
          "text": [
            "Validation Accuracy: 29.38%\n",
            "Epoch [180/300], Validation Loss: 2.6034\n"
          ]
        },
        {
          "output_type": "stream",
          "name": "stderr",
          "text": [
            "Epoch 181/300 [Train]: 100%|██████████| 58/58 [00:04<00:00, 13.40it/s]\n"
          ]
        },
        {
          "output_type": "stream",
          "name": "stdout",
          "text": [
            "Epoch [181/300], Loss: 1.9984\n"
          ]
        },
        {
          "output_type": "stream",
          "name": "stderr",
          "text": [
            "Epoch 181/300 [Valid]: 100%|██████████| 14/14 [00:00<00:00, 16.76it/s]\n"
          ]
        },
        {
          "output_type": "stream",
          "name": "stdout",
          "text": [
            "Validation Accuracy: 29.86%\n",
            "Epoch [181/300], Validation Loss: 2.5931\n"
          ]
        },
        {
          "output_type": "stream",
          "name": "stderr",
          "text": [
            "Epoch 182/300 [Train]: 100%|██████████| 58/58 [00:03<00:00, 14.76it/s]\n"
          ]
        },
        {
          "output_type": "stream",
          "name": "stdout",
          "text": [
            "Epoch [182/300], Loss: 2.0430\n"
          ]
        },
        {
          "output_type": "stream",
          "name": "stderr",
          "text": [
            "Epoch 182/300 [Valid]: 100%|██████████| 14/14 [00:00<00:00, 18.62it/s]\n"
          ]
        },
        {
          "output_type": "stream",
          "name": "stdout",
          "text": [
            "Validation Accuracy: 28.44%\n",
            "Epoch [182/300], Validation Loss: 2.5954\n"
          ]
        },
        {
          "output_type": "stream",
          "name": "stderr",
          "text": [
            "Epoch 183/300 [Train]: 100%|██████████| 58/58 [00:03<00:00, 14.75it/s]\n"
          ]
        },
        {
          "output_type": "stream",
          "name": "stdout",
          "text": [
            "Epoch [183/300], Loss: 2.0303\n"
          ]
        },
        {
          "output_type": "stream",
          "name": "stderr",
          "text": [
            "Epoch 183/300 [Valid]: 100%|██████████| 14/14 [00:00<00:00, 19.12it/s]\n"
          ]
        },
        {
          "output_type": "stream",
          "name": "stdout",
          "text": [
            "Validation Accuracy: 27.49%\n",
            "Epoch [183/300], Validation Loss: 2.5821\n"
          ]
        },
        {
          "output_type": "stream",
          "name": "stderr",
          "text": [
            "Epoch 184/300 [Train]: 100%|██████████| 58/58 [00:04<00:00, 13.79it/s]\n"
          ]
        },
        {
          "output_type": "stream",
          "name": "stdout",
          "text": [
            "Epoch [184/300], Loss: 2.0020\n"
          ]
        },
        {
          "output_type": "stream",
          "name": "stderr",
          "text": [
            "Epoch 184/300 [Valid]: 100%|██████████| 14/14 [00:00<00:00, 18.53it/s]\n"
          ]
        },
        {
          "output_type": "stream",
          "name": "stdout",
          "text": [
            "Validation Accuracy: 28.44%\n",
            "Epoch [184/300], Validation Loss: 2.5888\n"
          ]
        },
        {
          "output_type": "stream",
          "name": "stderr",
          "text": [
            "Epoch 185/300 [Train]: 100%|██████████| 58/58 [00:03<00:00, 15.02it/s]\n"
          ]
        },
        {
          "output_type": "stream",
          "name": "stdout",
          "text": [
            "Epoch [185/300], Loss: 2.0555\n"
          ]
        },
        {
          "output_type": "stream",
          "name": "stderr",
          "text": [
            "Epoch 185/300 [Valid]: 100%|██████████| 14/14 [00:00<00:00, 18.85it/s]\n"
          ]
        },
        {
          "output_type": "stream",
          "name": "stdout",
          "text": [
            "Validation Accuracy: 28.44%\n",
            "Epoch [185/300], Validation Loss: 2.5876\n"
          ]
        },
        {
          "output_type": "stream",
          "name": "stderr",
          "text": [
            "Epoch 186/300 [Train]: 100%|██████████| 58/58 [00:03<00:00, 15.00it/s]\n"
          ]
        },
        {
          "output_type": "stream",
          "name": "stdout",
          "text": [
            "Epoch [186/300], Loss: 2.0778\n"
          ]
        },
        {
          "output_type": "stream",
          "name": "stderr",
          "text": [
            "Epoch 186/300 [Valid]: 100%|██████████| 14/14 [00:00<00:00, 17.82it/s]\n"
          ]
        },
        {
          "output_type": "stream",
          "name": "stdout",
          "text": [
            "Validation Accuracy: 27.49%\n",
            "Epoch [186/300], Validation Loss: 2.6088\n"
          ]
        },
        {
          "output_type": "stream",
          "name": "stderr",
          "text": [
            "Epoch 187/300 [Train]: 100%|██████████| 58/58 [00:04<00:00, 13.82it/s]\n"
          ]
        },
        {
          "output_type": "stream",
          "name": "stdout",
          "text": [
            "Epoch [187/300], Loss: 1.9521\n"
          ]
        },
        {
          "output_type": "stream",
          "name": "stderr",
          "text": [
            "Epoch 187/300 [Valid]: 100%|██████████| 14/14 [00:00<00:00, 18.13it/s]\n"
          ]
        },
        {
          "output_type": "stream",
          "name": "stdout",
          "text": [
            "Validation Accuracy: 28.91%\n",
            "Epoch [187/300], Validation Loss: 2.6245\n"
          ]
        },
        {
          "output_type": "stream",
          "name": "stderr",
          "text": [
            "Epoch 188/300 [Train]: 100%|██████████| 58/58 [00:03<00:00, 14.99it/s]\n"
          ]
        },
        {
          "output_type": "stream",
          "name": "stdout",
          "text": [
            "Epoch [188/300], Loss: 1.9724\n"
          ]
        },
        {
          "output_type": "stream",
          "name": "stderr",
          "text": [
            "Epoch 188/300 [Valid]: 100%|██████████| 14/14 [00:00<00:00, 17.70it/s]\n"
          ]
        },
        {
          "output_type": "stream",
          "name": "stdout",
          "text": [
            "Validation Accuracy: 27.96%\n",
            "Epoch [188/300], Validation Loss: 2.6153\n"
          ]
        },
        {
          "output_type": "stream",
          "name": "stderr",
          "text": [
            "Epoch 189/300 [Train]: 100%|██████████| 58/58 [00:03<00:00, 14.71it/s]\n"
          ]
        },
        {
          "output_type": "stream",
          "name": "stdout",
          "text": [
            "Epoch [189/300], Loss: 2.0024\n"
          ]
        },
        {
          "output_type": "stream",
          "name": "stderr",
          "text": [
            "Epoch 189/300 [Valid]: 100%|██████████| 14/14 [00:00<00:00, 17.68it/s]\n"
          ]
        },
        {
          "output_type": "stream",
          "name": "stdout",
          "text": [
            "Validation Accuracy: 28.91%\n",
            "Epoch [189/300], Validation Loss: 2.6007\n"
          ]
        },
        {
          "output_type": "stream",
          "name": "stderr",
          "text": [
            "Epoch 190/300 [Train]: 100%|██████████| 58/58 [00:04<00:00, 14.03it/s]\n"
          ]
        },
        {
          "output_type": "stream",
          "name": "stdout",
          "text": [
            "Epoch [190/300], Loss: 1.9962\n"
          ]
        },
        {
          "output_type": "stream",
          "name": "stderr",
          "text": [
            "Epoch 190/300 [Valid]: 100%|██████████| 14/14 [00:00<00:00, 18.48it/s]\n"
          ]
        },
        {
          "output_type": "stream",
          "name": "stdout",
          "text": [
            "Validation Accuracy: 30.33%\n",
            "Epoch [190/300], Validation Loss: 2.6009\n"
          ]
        },
        {
          "output_type": "stream",
          "name": "stderr",
          "text": [
            "Epoch 191/300 [Train]: 100%|██████████| 58/58 [00:03<00:00, 14.96it/s]\n"
          ]
        },
        {
          "output_type": "stream",
          "name": "stdout",
          "text": [
            "Epoch [191/300], Loss: 2.0264\n"
          ]
        },
        {
          "output_type": "stream",
          "name": "stderr",
          "text": [
            "Epoch 191/300 [Valid]: 100%|██████████| 14/14 [00:00<00:00, 18.89it/s]\n"
          ]
        },
        {
          "output_type": "stream",
          "name": "stdout",
          "text": [
            "Validation Accuracy: 27.49%\n",
            "Epoch [191/300], Validation Loss: 2.5969\n"
          ]
        },
        {
          "output_type": "stream",
          "name": "stderr",
          "text": [
            "Epoch 192/300 [Train]: 100%|██████████| 58/58 [00:04<00:00, 14.22it/s]\n"
          ]
        },
        {
          "output_type": "stream",
          "name": "stdout",
          "text": [
            "Epoch [192/300], Loss: 2.0660\n"
          ]
        },
        {
          "output_type": "stream",
          "name": "stderr",
          "text": [
            "Epoch 192/300 [Valid]: 100%|██████████| 14/14 [00:00<00:00, 16.91it/s]\n"
          ]
        },
        {
          "output_type": "stream",
          "name": "stdout",
          "text": [
            "Validation Accuracy: 28.44%\n",
            "Epoch [192/300], Validation Loss: 2.6175\n"
          ]
        },
        {
          "output_type": "stream",
          "name": "stderr",
          "text": [
            "Epoch 193/300 [Train]: 100%|██████████| 58/58 [00:03<00:00, 14.73it/s]\n"
          ]
        },
        {
          "output_type": "stream",
          "name": "stdout",
          "text": [
            "Epoch [193/300], Loss: 2.0099\n"
          ]
        },
        {
          "output_type": "stream",
          "name": "stderr",
          "text": [
            "Epoch 193/300 [Valid]: 100%|██████████| 14/14 [00:00<00:00, 19.18it/s]\n"
          ]
        },
        {
          "output_type": "stream",
          "name": "stdout",
          "text": [
            "Validation Accuracy: 28.44%\n",
            "Epoch [193/300], Validation Loss: 2.5859\n"
          ]
        },
        {
          "output_type": "stream",
          "name": "stderr",
          "text": [
            "Epoch 194/300 [Train]: 100%|██████████| 58/58 [00:03<00:00, 14.99it/s]\n"
          ]
        },
        {
          "output_type": "stream",
          "name": "stdout",
          "text": [
            "Epoch [194/300], Loss: 2.0201\n"
          ]
        },
        {
          "output_type": "stream",
          "name": "stderr",
          "text": [
            "Epoch 194/300 [Valid]: 100%|██████████| 14/14 [00:00<00:00, 18.66it/s]\n"
          ]
        },
        {
          "output_type": "stream",
          "name": "stdout",
          "text": [
            "Validation Accuracy: 29.38%\n",
            "Epoch [194/300], Validation Loss: 2.5818\n"
          ]
        },
        {
          "output_type": "stream",
          "name": "stderr",
          "text": [
            "Epoch 195/300 [Train]: 100%|██████████| 58/58 [00:04<00:00, 13.78it/s]\n"
          ]
        },
        {
          "output_type": "stream",
          "name": "stdout",
          "text": [
            "Epoch [195/300], Loss: 2.0179\n"
          ]
        },
        {
          "output_type": "stream",
          "name": "stderr",
          "text": [
            "Epoch 195/300 [Valid]: 100%|██████████| 14/14 [00:00<00:00, 18.33it/s]\n"
          ]
        },
        {
          "output_type": "stream",
          "name": "stdout",
          "text": [
            "Validation Accuracy: 27.96%\n",
            "Epoch [195/300], Validation Loss: 2.6181\n"
          ]
        },
        {
          "output_type": "stream",
          "name": "stderr",
          "text": [
            "Epoch 196/300 [Train]: 100%|██████████| 58/58 [00:03<00:00, 14.86it/s]\n"
          ]
        },
        {
          "output_type": "stream",
          "name": "stdout",
          "text": [
            "Epoch [196/300], Loss: 2.0358\n"
          ]
        },
        {
          "output_type": "stream",
          "name": "stderr",
          "text": [
            "Epoch 196/300 [Valid]: 100%|██████████| 14/14 [00:00<00:00, 19.15it/s]\n"
          ]
        },
        {
          "output_type": "stream",
          "name": "stdout",
          "text": [
            "Validation Accuracy: 27.01%\n",
            "Epoch [196/300], Validation Loss: 2.5704\n"
          ]
        },
        {
          "output_type": "stream",
          "name": "stderr",
          "text": [
            "Epoch 197/300 [Train]: 100%|██████████| 58/58 [00:03<00:00, 14.89it/s]\n"
          ]
        },
        {
          "output_type": "stream",
          "name": "stdout",
          "text": [
            "Epoch [197/300], Loss: 2.0252\n"
          ]
        },
        {
          "output_type": "stream",
          "name": "stderr",
          "text": [
            "Epoch 197/300 [Valid]: 100%|██████████| 14/14 [00:00<00:00, 18.56it/s]\n"
          ]
        },
        {
          "output_type": "stream",
          "name": "stdout",
          "text": [
            "Validation Accuracy: 28.44%\n",
            "Epoch [197/300], Validation Loss: 2.5763\n"
          ]
        },
        {
          "output_type": "stream",
          "name": "stderr",
          "text": [
            "Epoch 198/300 [Train]: 100%|██████████| 58/58 [00:04<00:00, 13.74it/s]\n"
          ]
        },
        {
          "output_type": "stream",
          "name": "stdout",
          "text": [
            "Epoch [198/300], Loss: 1.9980\n"
          ]
        },
        {
          "output_type": "stream",
          "name": "stderr",
          "text": [
            "Epoch 198/300 [Valid]: 100%|██████████| 14/14 [00:00<00:00, 19.08it/s]\n"
          ]
        },
        {
          "output_type": "stream",
          "name": "stdout",
          "text": [
            "Validation Accuracy: 29.86%\n",
            "Epoch [198/300], Validation Loss: 2.5792\n"
          ]
        },
        {
          "output_type": "stream",
          "name": "stderr",
          "text": [
            "Epoch 199/300 [Train]: 100%|██████████| 58/58 [00:03<00:00, 14.67it/s]\n"
          ]
        },
        {
          "output_type": "stream",
          "name": "stdout",
          "text": [
            "Epoch [199/300], Loss: 2.0321\n"
          ]
        },
        {
          "output_type": "stream",
          "name": "stderr",
          "text": [
            "Epoch 199/300 [Valid]: 100%|██████████| 14/14 [00:00<00:00, 18.08it/s]\n"
          ]
        },
        {
          "output_type": "stream",
          "name": "stdout",
          "text": [
            "Validation Accuracy: 27.96%\n",
            "Epoch [199/300], Validation Loss: 2.5887\n"
          ]
        },
        {
          "output_type": "stream",
          "name": "stderr",
          "text": [
            "Epoch 200/300 [Train]: 100%|██████████| 58/58 [00:03<00:00, 14.79it/s]\n"
          ]
        },
        {
          "output_type": "stream",
          "name": "stdout",
          "text": [
            "Epoch [200/300], Loss: 2.0021\n"
          ]
        },
        {
          "output_type": "stream",
          "name": "stderr",
          "text": [
            "Epoch 200/300 [Valid]: 100%|██████████| 14/14 [00:00<00:00, 18.39it/s]\n"
          ]
        },
        {
          "output_type": "stream",
          "name": "stdout",
          "text": [
            "Validation Accuracy: 27.01%\n",
            "Epoch [200/300], Validation Loss: 2.5921\n"
          ]
        },
        {
          "output_type": "stream",
          "name": "stderr",
          "text": [
            "Epoch 201/300 [Train]: 100%|██████████| 58/58 [00:04<00:00, 14.19it/s]\n"
          ]
        },
        {
          "output_type": "stream",
          "name": "stdout",
          "text": [
            "Epoch [201/300], Loss: 1.9835\n"
          ]
        },
        {
          "output_type": "stream",
          "name": "stderr",
          "text": [
            "Epoch 201/300 [Valid]: 100%|██████████| 14/14 [00:00<00:00, 18.73it/s]\n"
          ]
        },
        {
          "output_type": "stream",
          "name": "stdout",
          "text": [
            "Validation Accuracy: 27.96%\n",
            "Epoch [201/300], Validation Loss: 2.5914\n"
          ]
        },
        {
          "output_type": "stream",
          "name": "stderr",
          "text": [
            "Epoch 202/300 [Train]: 100%|██████████| 58/58 [00:03<00:00, 14.94it/s]\n"
          ]
        },
        {
          "output_type": "stream",
          "name": "stdout",
          "text": [
            "Epoch [202/300], Loss: 1.9832\n"
          ]
        },
        {
          "output_type": "stream",
          "name": "stderr",
          "text": [
            "Epoch 202/300 [Valid]: 100%|██████████| 14/14 [00:00<00:00, 18.29it/s]\n"
          ]
        },
        {
          "output_type": "stream",
          "name": "stdout",
          "text": [
            "Validation Accuracy: 28.44%\n",
            "Epoch [202/300], Validation Loss: 2.5883\n"
          ]
        },
        {
          "output_type": "stream",
          "name": "stderr",
          "text": [
            "Epoch 203/300 [Train]: 100%|██████████| 58/58 [00:04<00:00, 14.31it/s]\n"
          ]
        },
        {
          "output_type": "stream",
          "name": "stdout",
          "text": [
            "Epoch [203/300], Loss: 2.0128\n"
          ]
        },
        {
          "output_type": "stream",
          "name": "stderr",
          "text": [
            "Epoch 203/300 [Valid]: 100%|██████████| 14/14 [00:01<00:00, 13.43it/s]\n"
          ]
        },
        {
          "output_type": "stream",
          "name": "stdout",
          "text": [
            "Validation Accuracy: 28.91%\n",
            "Epoch [203/300], Validation Loss: 2.6148\n"
          ]
        },
        {
          "output_type": "stream",
          "name": "stderr",
          "text": [
            "Epoch 204/300 [Train]: 100%|██████████| 58/58 [00:04<00:00, 14.49it/s]\n"
          ]
        },
        {
          "output_type": "stream",
          "name": "stdout",
          "text": [
            "Epoch [204/300], Loss: 2.0680\n"
          ]
        },
        {
          "output_type": "stream",
          "name": "stderr",
          "text": [
            "Epoch 204/300 [Valid]: 100%|██████████| 14/14 [00:00<00:00, 18.66it/s]\n"
          ]
        },
        {
          "output_type": "stream",
          "name": "stdout",
          "text": [
            "Validation Accuracy: 27.01%\n",
            "Epoch [204/300], Validation Loss: 2.5846\n"
          ]
        },
        {
          "output_type": "stream",
          "name": "stderr",
          "text": [
            "Epoch 205/300 [Train]: 100%|██████████| 58/58 [00:03<00:00, 14.92it/s]\n"
          ]
        },
        {
          "output_type": "stream",
          "name": "stdout",
          "text": [
            "Epoch [205/300], Loss: 2.0432\n"
          ]
        },
        {
          "output_type": "stream",
          "name": "stderr",
          "text": [
            "Epoch 205/300 [Valid]: 100%|██████████| 14/14 [00:00<00:00, 18.36it/s]\n"
          ]
        },
        {
          "output_type": "stream",
          "name": "stdout",
          "text": [
            "Validation Accuracy: 28.44%\n",
            "Epoch [205/300], Validation Loss: 2.5903\n"
          ]
        },
        {
          "output_type": "stream",
          "name": "stderr",
          "text": [
            "Epoch 206/300 [Train]: 100%|██████████| 58/58 [00:04<00:00, 14.00it/s]\n"
          ]
        },
        {
          "output_type": "stream",
          "name": "stdout",
          "text": [
            "Epoch [206/300], Loss: 2.0401\n"
          ]
        },
        {
          "output_type": "stream",
          "name": "stderr",
          "text": [
            "Epoch 206/300 [Valid]: 100%|██████████| 14/14 [00:00<00:00, 17.33it/s]\n"
          ]
        },
        {
          "output_type": "stream",
          "name": "stdout",
          "text": [
            "Validation Accuracy: 29.86%\n",
            "Epoch [206/300], Validation Loss: 2.6029\n"
          ]
        },
        {
          "output_type": "stream",
          "name": "stderr",
          "text": [
            "Epoch 207/300 [Train]: 100%|██████████| 58/58 [00:03<00:00, 15.11it/s]\n"
          ]
        },
        {
          "output_type": "stream",
          "name": "stdout",
          "text": [
            "Epoch [207/300], Loss: 2.0141\n"
          ]
        },
        {
          "output_type": "stream",
          "name": "stderr",
          "text": [
            "Epoch 207/300 [Valid]: 100%|██████████| 14/14 [00:00<00:00, 18.85it/s]\n"
          ]
        },
        {
          "output_type": "stream",
          "name": "stdout",
          "text": [
            "Validation Accuracy: 28.44%\n",
            "Epoch [207/300], Validation Loss: 2.6052\n"
          ]
        },
        {
          "output_type": "stream",
          "name": "stderr",
          "text": [
            "Epoch 208/300 [Train]: 100%|██████████| 58/58 [00:03<00:00, 14.78it/s]\n"
          ]
        },
        {
          "output_type": "stream",
          "name": "stdout",
          "text": [
            "Epoch [208/300], Loss: 2.0808\n"
          ]
        },
        {
          "output_type": "stream",
          "name": "stderr",
          "text": [
            "Epoch 208/300 [Valid]: 100%|██████████| 14/14 [00:00<00:00, 19.19it/s]\n"
          ]
        },
        {
          "output_type": "stream",
          "name": "stdout",
          "text": [
            "Validation Accuracy: 28.91%\n",
            "Epoch [208/300], Validation Loss: 2.6361\n"
          ]
        },
        {
          "output_type": "stream",
          "name": "stderr",
          "text": [
            "Epoch 209/300 [Train]: 100%|██████████| 58/58 [00:04<00:00, 13.42it/s]\n"
          ]
        },
        {
          "output_type": "stream",
          "name": "stdout",
          "text": [
            "Epoch [209/300], Loss: 2.0009\n"
          ]
        },
        {
          "output_type": "stream",
          "name": "stderr",
          "text": [
            "Epoch 209/300 [Valid]: 100%|██████████| 14/14 [00:00<00:00, 18.35it/s]\n"
          ]
        },
        {
          "output_type": "stream",
          "name": "stdout",
          "text": [
            "Validation Accuracy: 28.44%\n",
            "Epoch [209/300], Validation Loss: 2.5863\n"
          ]
        },
        {
          "output_type": "stream",
          "name": "stderr",
          "text": [
            "Epoch 210/300 [Train]: 100%|██████████| 58/58 [00:04<00:00, 13.66it/s]\n"
          ]
        },
        {
          "output_type": "stream",
          "name": "stdout",
          "text": [
            "Epoch [210/300], Loss: 2.0097\n"
          ]
        },
        {
          "output_type": "stream",
          "name": "stderr",
          "text": [
            "Epoch 210/300 [Valid]: 100%|██████████| 14/14 [00:00<00:00, 18.29it/s]\n"
          ]
        },
        {
          "output_type": "stream",
          "name": "stdout",
          "text": [
            "Validation Accuracy: 27.49%\n",
            "Epoch [210/300], Validation Loss: 2.6106\n"
          ]
        },
        {
          "output_type": "stream",
          "name": "stderr",
          "text": [
            "Epoch 211/300 [Train]: 100%|██████████| 58/58 [00:03<00:00, 14.54it/s]\n"
          ]
        },
        {
          "output_type": "stream",
          "name": "stdout",
          "text": [
            "Epoch [211/300], Loss: 2.0229\n"
          ]
        },
        {
          "output_type": "stream",
          "name": "stderr",
          "text": [
            "Epoch 211/300 [Valid]: 100%|██████████| 14/14 [00:00<00:00, 18.21it/s]\n"
          ]
        },
        {
          "output_type": "stream",
          "name": "stdout",
          "text": [
            "Validation Accuracy: 27.49%\n",
            "Epoch [211/300], Validation Loss: 2.5672\n"
          ]
        },
        {
          "output_type": "stream",
          "name": "stderr",
          "text": [
            "Epoch 212/300 [Train]: 100%|██████████| 58/58 [00:04<00:00, 13.72it/s]\n"
          ]
        },
        {
          "output_type": "stream",
          "name": "stdout",
          "text": [
            "Epoch [212/300], Loss: 2.0371\n"
          ]
        },
        {
          "output_type": "stream",
          "name": "stderr",
          "text": [
            "Epoch 212/300 [Valid]: 100%|██████████| 14/14 [00:00<00:00, 18.42it/s]\n"
          ]
        },
        {
          "output_type": "stream",
          "name": "stdout",
          "text": [
            "Validation Accuracy: 29.86%\n",
            "Epoch [212/300], Validation Loss: 2.5888\n"
          ]
        },
        {
          "output_type": "stream",
          "name": "stderr",
          "text": [
            "Epoch 213/300 [Train]: 100%|██████████| 58/58 [00:03<00:00, 14.64it/s]\n"
          ]
        },
        {
          "output_type": "stream",
          "name": "stdout",
          "text": [
            "Epoch [213/300], Loss: 2.0527\n"
          ]
        },
        {
          "output_type": "stream",
          "name": "stderr",
          "text": [
            "Epoch 213/300 [Valid]: 100%|██████████| 14/14 [00:00<00:00, 18.45it/s]\n"
          ]
        },
        {
          "output_type": "stream",
          "name": "stdout",
          "text": [
            "Validation Accuracy: 29.38%\n",
            "Epoch [213/300], Validation Loss: 2.5780\n"
          ]
        },
        {
          "output_type": "stream",
          "name": "stderr",
          "text": [
            "Epoch 214/300 [Train]: 100%|██████████| 58/58 [00:04<00:00, 14.15it/s]\n"
          ]
        },
        {
          "output_type": "stream",
          "name": "stdout",
          "text": [
            "Epoch [214/300], Loss: 2.0179\n"
          ]
        },
        {
          "output_type": "stream",
          "name": "stderr",
          "text": [
            "Epoch 214/300 [Valid]: 100%|██████████| 14/14 [00:00<00:00, 17.25it/s]\n"
          ]
        },
        {
          "output_type": "stream",
          "name": "stdout",
          "text": [
            "Validation Accuracy: 28.44%\n",
            "Epoch [214/300], Validation Loss: 2.5784\n"
          ]
        },
        {
          "output_type": "stream",
          "name": "stderr",
          "text": [
            "Epoch 215/300 [Train]: 100%|██████████| 58/58 [00:04<00:00, 14.25it/s]\n"
          ]
        },
        {
          "output_type": "stream",
          "name": "stdout",
          "text": [
            "Epoch [215/300], Loss: 2.0286\n"
          ]
        },
        {
          "output_type": "stream",
          "name": "stderr",
          "text": [
            "Epoch 215/300 [Valid]: 100%|██████████| 14/14 [00:00<00:00, 18.00it/s]\n"
          ]
        },
        {
          "output_type": "stream",
          "name": "stdout",
          "text": [
            "Validation Accuracy: 28.44%\n",
            "Epoch [215/300], Validation Loss: 2.6179\n"
          ]
        },
        {
          "output_type": "stream",
          "name": "stderr",
          "text": [
            "Epoch 216/300 [Train]: 100%|██████████| 58/58 [00:03<00:00, 14.83it/s]\n"
          ]
        },
        {
          "output_type": "stream",
          "name": "stdout",
          "text": [
            "Epoch [216/300], Loss: 2.0089\n"
          ]
        },
        {
          "output_type": "stream",
          "name": "stderr",
          "text": [
            "Epoch 216/300 [Valid]: 100%|██████████| 14/14 [00:00<00:00, 17.98it/s]\n"
          ]
        },
        {
          "output_type": "stream",
          "name": "stdout",
          "text": [
            "Validation Accuracy: 27.01%\n",
            "Epoch [216/300], Validation Loss: 2.5920\n"
          ]
        },
        {
          "output_type": "stream",
          "name": "stderr",
          "text": [
            "Epoch 217/300 [Train]: 100%|██████████| 58/58 [00:04<00:00, 13.08it/s]\n"
          ]
        },
        {
          "output_type": "stream",
          "name": "stdout",
          "text": [
            "Epoch [217/300], Loss: 2.0227\n"
          ]
        },
        {
          "output_type": "stream",
          "name": "stderr",
          "text": [
            "Epoch 217/300 [Valid]: 100%|██████████| 14/14 [00:00<00:00, 17.39it/s]\n"
          ]
        },
        {
          "output_type": "stream",
          "name": "stdout",
          "text": [
            "Validation Accuracy: 27.96%\n",
            "Epoch [217/300], Validation Loss: 2.5978\n"
          ]
        },
        {
          "output_type": "stream",
          "name": "stderr",
          "text": [
            "Epoch 218/300 [Train]: 100%|██████████| 58/58 [00:04<00:00, 13.94it/s]\n"
          ]
        },
        {
          "output_type": "stream",
          "name": "stdout",
          "text": [
            "Epoch [218/300], Loss: 2.0077\n"
          ]
        },
        {
          "output_type": "stream",
          "name": "stderr",
          "text": [
            "Epoch 218/300 [Valid]: 100%|██████████| 14/14 [00:00<00:00, 18.19it/s]\n"
          ]
        },
        {
          "output_type": "stream",
          "name": "stdout",
          "text": [
            "Validation Accuracy: 28.91%\n",
            "Epoch [218/300], Validation Loss: 2.5774\n"
          ]
        },
        {
          "output_type": "stream",
          "name": "stderr",
          "text": [
            "Epoch 219/300 [Train]: 100%|██████████| 58/58 [00:04<00:00, 14.36it/s]\n"
          ]
        },
        {
          "output_type": "stream",
          "name": "stdout",
          "text": [
            "Epoch [219/300], Loss: 2.0076\n"
          ]
        },
        {
          "output_type": "stream",
          "name": "stderr",
          "text": [
            "Epoch 219/300 [Valid]: 100%|██████████| 14/14 [00:00<00:00, 16.84it/s]\n"
          ]
        },
        {
          "output_type": "stream",
          "name": "stdout",
          "text": [
            "Validation Accuracy: 29.38%\n",
            "Epoch [219/300], Validation Loss: 2.5894\n"
          ]
        },
        {
          "output_type": "stream",
          "name": "stderr",
          "text": [
            "Epoch 220/300 [Train]: 100%|██████████| 58/58 [00:04<00:00, 13.39it/s]\n"
          ]
        },
        {
          "output_type": "stream",
          "name": "stdout",
          "text": [
            "Epoch [220/300], Loss: 1.9732\n"
          ]
        },
        {
          "output_type": "stream",
          "name": "stderr",
          "text": [
            "Epoch 220/300 [Valid]: 100%|██████████| 14/14 [00:00<00:00, 17.58it/s]\n"
          ]
        },
        {
          "output_type": "stream",
          "name": "stdout",
          "text": [
            "Validation Accuracy: 28.44%\n",
            "Epoch [220/300], Validation Loss: 2.6050\n"
          ]
        },
        {
          "output_type": "stream",
          "name": "stderr",
          "text": [
            "Epoch 221/300 [Train]: 100%|██████████| 58/58 [00:03<00:00, 14.70it/s]\n"
          ]
        },
        {
          "output_type": "stream",
          "name": "stdout",
          "text": [
            "Epoch [221/300], Loss: 2.0361\n"
          ]
        },
        {
          "output_type": "stream",
          "name": "stderr",
          "text": [
            "Epoch 221/300 [Valid]: 100%|██████████| 14/14 [00:00<00:00, 18.19it/s]\n"
          ]
        },
        {
          "output_type": "stream",
          "name": "stdout",
          "text": [
            "Validation Accuracy: 28.44%\n",
            "Epoch [221/300], Validation Loss: 2.5804\n"
          ]
        },
        {
          "output_type": "stream",
          "name": "stderr",
          "text": [
            "Epoch 222/300 [Train]: 100%|██████████| 58/58 [00:04<00:00, 14.02it/s]\n"
          ]
        },
        {
          "output_type": "stream",
          "name": "stdout",
          "text": [
            "Epoch [222/300], Loss: 2.0433\n"
          ]
        },
        {
          "output_type": "stream",
          "name": "stderr",
          "text": [
            "Epoch 222/300 [Valid]: 100%|██████████| 14/14 [00:00<00:00, 16.74it/s]\n"
          ]
        },
        {
          "output_type": "stream",
          "name": "stdout",
          "text": [
            "Validation Accuracy: 27.01%\n",
            "Epoch [222/300], Validation Loss: 2.6020\n"
          ]
        },
        {
          "output_type": "stream",
          "name": "stderr",
          "text": [
            "Epoch 223/300 [Train]: 100%|██████████| 58/58 [00:04<00:00, 13.93it/s]\n"
          ]
        },
        {
          "output_type": "stream",
          "name": "stdout",
          "text": [
            "Epoch [223/300], Loss: 1.9677\n"
          ]
        },
        {
          "output_type": "stream",
          "name": "stderr",
          "text": [
            "Epoch 223/300 [Valid]: 100%|██████████| 14/14 [00:00<00:00, 18.24it/s]\n"
          ]
        },
        {
          "output_type": "stream",
          "name": "stdout",
          "text": [
            "Validation Accuracy: 27.49%\n",
            "Epoch [223/300], Validation Loss: 2.6132\n"
          ]
        },
        {
          "output_type": "stream",
          "name": "stderr",
          "text": [
            "Epoch 224/300 [Train]: 100%|██████████| 58/58 [00:03<00:00, 14.57it/s]\n"
          ]
        },
        {
          "output_type": "stream",
          "name": "stdout",
          "text": [
            "Epoch [224/300], Loss: 2.0634\n"
          ]
        },
        {
          "output_type": "stream",
          "name": "stderr",
          "text": [
            "Epoch 224/300 [Valid]: 100%|██████████| 14/14 [00:00<00:00, 18.14it/s]\n"
          ]
        },
        {
          "output_type": "stream",
          "name": "stdout",
          "text": [
            "Validation Accuracy: 30.81%\n",
            "Epoch [224/300], Validation Loss: 2.5754\n",
            "Saved new best model with accuracy: 30.81%\n",
            "-----\n"
          ]
        },
        {
          "output_type": "stream",
          "name": "stderr",
          "text": [
            "Epoch 225/300 [Train]: 100%|██████████| 58/58 [00:04<00:00, 12.80it/s]\n"
          ]
        },
        {
          "output_type": "stream",
          "name": "stdout",
          "text": [
            "Epoch [225/300], Loss: 2.0636\n"
          ]
        },
        {
          "output_type": "stream",
          "name": "stderr",
          "text": [
            "Epoch 225/300 [Valid]: 100%|██████████| 14/14 [00:00<00:00, 18.12it/s]\n"
          ]
        },
        {
          "output_type": "stream",
          "name": "stdout",
          "text": [
            "Validation Accuracy: 27.96%\n",
            "Epoch [225/300], Validation Loss: 2.6645\n"
          ]
        },
        {
          "output_type": "stream",
          "name": "stderr",
          "text": [
            "Epoch 226/300 [Train]: 100%|██████████| 58/58 [00:03<00:00, 14.82it/s]\n"
          ]
        },
        {
          "output_type": "stream",
          "name": "stdout",
          "text": [
            "Epoch [226/300], Loss: 2.0088\n"
          ]
        },
        {
          "output_type": "stream",
          "name": "stderr",
          "text": [
            "Epoch 226/300 [Valid]: 100%|██████████| 14/14 [00:00<00:00, 17.95it/s]\n"
          ]
        },
        {
          "output_type": "stream",
          "name": "stdout",
          "text": [
            "Validation Accuracy: 28.44%\n",
            "Epoch [226/300], Validation Loss: 2.6442\n"
          ]
        },
        {
          "output_type": "stream",
          "name": "stderr",
          "text": [
            "Epoch 227/300 [Train]: 100%|██████████| 58/58 [00:04<00:00, 14.46it/s]\n"
          ]
        },
        {
          "output_type": "stream",
          "name": "stdout",
          "text": [
            "Epoch [227/300], Loss: 1.9962\n"
          ]
        },
        {
          "output_type": "stream",
          "name": "stderr",
          "text": [
            "Epoch 227/300 [Valid]: 100%|██████████| 14/14 [00:00<00:00, 17.80it/s]\n"
          ]
        },
        {
          "output_type": "stream",
          "name": "stdout",
          "text": [
            "Validation Accuracy: 28.44%\n",
            "Epoch [227/300], Validation Loss: 2.5861\n"
          ]
        },
        {
          "output_type": "stream",
          "name": "stderr",
          "text": [
            "Epoch 228/300 [Train]: 100%|██████████| 58/58 [00:04<00:00, 13.59it/s]\n"
          ]
        },
        {
          "output_type": "stream",
          "name": "stdout",
          "text": [
            "Epoch [228/300], Loss: 1.9901\n"
          ]
        },
        {
          "output_type": "stream",
          "name": "stderr",
          "text": [
            "Epoch 228/300 [Valid]: 100%|██████████| 14/14 [00:00<00:00, 18.31it/s]\n"
          ]
        },
        {
          "output_type": "stream",
          "name": "stdout",
          "text": [
            "Validation Accuracy: 28.44%\n",
            "Epoch [228/300], Validation Loss: 2.6357\n"
          ]
        },
        {
          "output_type": "stream",
          "name": "stderr",
          "text": [
            "Epoch 229/300 [Train]: 100%|██████████| 58/58 [00:04<00:00, 14.37it/s]\n"
          ]
        },
        {
          "output_type": "stream",
          "name": "stdout",
          "text": [
            "Epoch [229/300], Loss: 1.9994\n"
          ]
        },
        {
          "output_type": "stream",
          "name": "stderr",
          "text": [
            "Epoch 229/300 [Valid]: 100%|██████████| 14/14 [00:00<00:00, 17.22it/s]\n"
          ]
        },
        {
          "output_type": "stream",
          "name": "stdout",
          "text": [
            "Validation Accuracy: 27.96%\n",
            "Epoch [229/300], Validation Loss: 2.5906\n"
          ]
        },
        {
          "output_type": "stream",
          "name": "stderr",
          "text": [
            "Epoch 230/300 [Train]: 100%|██████████| 58/58 [00:04<00:00, 13.92it/s]\n"
          ]
        },
        {
          "output_type": "stream",
          "name": "stdout",
          "text": [
            "Epoch [230/300], Loss: 2.0187\n"
          ]
        },
        {
          "output_type": "stream",
          "name": "stderr",
          "text": [
            "Epoch 230/300 [Valid]: 100%|██████████| 14/14 [00:00<00:00, 17.40it/s]\n"
          ]
        },
        {
          "output_type": "stream",
          "name": "stdout",
          "text": [
            "Validation Accuracy: 28.91%\n",
            "Epoch [230/300], Validation Loss: 2.5928\n"
          ]
        },
        {
          "output_type": "stream",
          "name": "stderr",
          "text": [
            "Epoch 231/300 [Train]: 100%|██████████| 58/58 [00:04<00:00, 13.96it/s]\n"
          ]
        },
        {
          "output_type": "stream",
          "name": "stdout",
          "text": [
            "Epoch [231/300], Loss: 2.0726\n"
          ]
        },
        {
          "output_type": "stream",
          "name": "stderr",
          "text": [
            "Epoch 231/300 [Valid]: 100%|██████████| 14/14 [00:00<00:00, 18.26it/s]\n"
          ]
        },
        {
          "output_type": "stream",
          "name": "stdout",
          "text": [
            "Validation Accuracy: 27.96%\n",
            "Epoch [231/300], Validation Loss: 2.5757\n"
          ]
        },
        {
          "output_type": "stream",
          "name": "stderr",
          "text": [
            "Epoch 232/300 [Train]: 100%|██████████| 58/58 [00:04<00:00, 14.13it/s]\n"
          ]
        },
        {
          "output_type": "stream",
          "name": "stdout",
          "text": [
            "Epoch [232/300], Loss: 2.1168\n"
          ]
        },
        {
          "output_type": "stream",
          "name": "stderr",
          "text": [
            "Epoch 232/300 [Valid]: 100%|██████████| 14/14 [00:00<00:00, 18.53it/s]\n"
          ]
        },
        {
          "output_type": "stream",
          "name": "stdout",
          "text": [
            "Validation Accuracy: 27.96%\n",
            "Epoch [232/300], Validation Loss: 2.5846\n"
          ]
        },
        {
          "output_type": "stream",
          "name": "stderr",
          "text": [
            "Epoch 233/300 [Train]: 100%|██████████| 58/58 [00:04<00:00, 13.85it/s]\n"
          ]
        },
        {
          "output_type": "stream",
          "name": "stdout",
          "text": [
            "Epoch [233/300], Loss: 2.0668\n"
          ]
        },
        {
          "output_type": "stream",
          "name": "stderr",
          "text": [
            "Epoch 233/300 [Valid]: 100%|██████████| 14/14 [00:00<00:00, 15.70it/s]\n"
          ]
        },
        {
          "output_type": "stream",
          "name": "stdout",
          "text": [
            "Validation Accuracy: 28.44%\n",
            "Epoch [233/300], Validation Loss: 2.5927\n"
          ]
        },
        {
          "output_type": "stream",
          "name": "stderr",
          "text": [
            "Epoch 234/300 [Train]: 100%|██████████| 58/58 [00:03<00:00, 14.66it/s]\n"
          ]
        },
        {
          "output_type": "stream",
          "name": "stdout",
          "text": [
            "Epoch [234/300], Loss: 1.9781\n"
          ]
        },
        {
          "output_type": "stream",
          "name": "stderr",
          "text": [
            "Epoch 234/300 [Valid]: 100%|██████████| 14/14 [00:00<00:00, 18.30it/s]\n"
          ]
        },
        {
          "output_type": "stream",
          "name": "stdout",
          "text": [
            "Validation Accuracy: 28.44%\n",
            "Epoch [234/300], Validation Loss: 2.6054\n"
          ]
        },
        {
          "output_type": "stream",
          "name": "stderr",
          "text": [
            "Epoch 235/300 [Train]: 100%|██████████| 58/58 [00:04<00:00, 14.41it/s]\n"
          ]
        },
        {
          "output_type": "stream",
          "name": "stdout",
          "text": [
            "Epoch [235/300], Loss: 2.0272\n"
          ]
        },
        {
          "output_type": "stream",
          "name": "stderr",
          "text": [
            "Epoch 235/300 [Valid]: 100%|██████████| 14/14 [00:00<00:00, 17.80it/s]\n"
          ]
        },
        {
          "output_type": "stream",
          "name": "stdout",
          "text": [
            "Validation Accuracy: 27.96%\n",
            "Epoch [235/300], Validation Loss: 2.6187\n"
          ]
        },
        {
          "output_type": "stream",
          "name": "stderr",
          "text": [
            "Epoch 236/300 [Train]: 100%|██████████| 58/58 [00:04<00:00, 13.40it/s]\n"
          ]
        },
        {
          "output_type": "stream",
          "name": "stdout",
          "text": [
            "Epoch [236/300], Loss: 2.0217\n"
          ]
        },
        {
          "output_type": "stream",
          "name": "stderr",
          "text": [
            "Epoch 236/300 [Valid]: 100%|██████████| 14/14 [00:00<00:00, 18.55it/s]\n"
          ]
        },
        {
          "output_type": "stream",
          "name": "stdout",
          "text": [
            "Validation Accuracy: 27.96%\n",
            "Epoch [236/300], Validation Loss: 2.6035\n"
          ]
        },
        {
          "output_type": "stream",
          "name": "stderr",
          "text": [
            "Epoch 237/300 [Train]: 100%|██████████| 58/58 [00:04<00:00, 14.38it/s]\n"
          ]
        },
        {
          "output_type": "stream",
          "name": "stdout",
          "text": [
            "Epoch [237/300], Loss: 2.0081\n"
          ]
        },
        {
          "output_type": "stream",
          "name": "stderr",
          "text": [
            "Epoch 237/300 [Valid]: 100%|██████████| 14/14 [00:00<00:00, 18.29it/s]\n"
          ]
        },
        {
          "output_type": "stream",
          "name": "stdout",
          "text": [
            "Validation Accuracy: 27.49%\n",
            "Epoch [237/300], Validation Loss: 2.6528\n"
          ]
        },
        {
          "output_type": "stream",
          "name": "stderr",
          "text": [
            "Epoch 238/300 [Train]: 100%|██████████| 58/58 [00:03<00:00, 14.60it/s]\n"
          ]
        },
        {
          "output_type": "stream",
          "name": "stdout",
          "text": [
            "Epoch [238/300], Loss: 1.9874\n"
          ]
        },
        {
          "output_type": "stream",
          "name": "stderr",
          "text": [
            "Epoch 238/300 [Valid]: 100%|██████████| 14/14 [00:00<00:00, 17.02it/s]\n"
          ]
        },
        {
          "output_type": "stream",
          "name": "stdout",
          "text": [
            "Validation Accuracy: 28.91%\n",
            "Epoch [238/300], Validation Loss: 2.6135\n"
          ]
        },
        {
          "output_type": "stream",
          "name": "stderr",
          "text": [
            "Epoch 239/300 [Train]: 100%|██████████| 58/58 [00:04<00:00, 13.79it/s]\n"
          ]
        },
        {
          "output_type": "stream",
          "name": "stdout",
          "text": [
            "Epoch [239/300], Loss: 2.0495\n"
          ]
        },
        {
          "output_type": "stream",
          "name": "stderr",
          "text": [
            "Epoch 239/300 [Valid]: 100%|██████████| 14/14 [00:00<00:00, 17.88it/s]\n"
          ]
        },
        {
          "output_type": "stream",
          "name": "stdout",
          "text": [
            "Validation Accuracy: 29.38%\n",
            "Epoch [239/300], Validation Loss: 2.6036\n"
          ]
        },
        {
          "output_type": "stream",
          "name": "stderr",
          "text": [
            "Epoch 240/300 [Train]: 100%|██████████| 58/58 [00:03<00:00, 14.55it/s]\n"
          ]
        },
        {
          "output_type": "stream",
          "name": "stdout",
          "text": [
            "Epoch [240/300], Loss: 2.0185\n"
          ]
        },
        {
          "output_type": "stream",
          "name": "stderr",
          "text": [
            "Epoch 240/300 [Valid]: 100%|██████████| 14/14 [00:00<00:00, 18.03it/s]\n"
          ]
        },
        {
          "output_type": "stream",
          "name": "stdout",
          "text": [
            "Validation Accuracy: 27.96%\n",
            "Epoch [240/300], Validation Loss: 2.5838\n"
          ]
        },
        {
          "output_type": "stream",
          "name": "stderr",
          "text": [
            "Epoch 241/300 [Train]: 100%|██████████| 58/58 [00:04<00:00, 14.05it/s]\n"
          ]
        },
        {
          "output_type": "stream",
          "name": "stdout",
          "text": [
            "Epoch [241/300], Loss: 2.0677\n"
          ]
        },
        {
          "output_type": "stream",
          "name": "stderr",
          "text": [
            "Epoch 241/300 [Valid]: 100%|██████████| 14/14 [00:00<00:00, 17.41it/s]\n"
          ]
        },
        {
          "output_type": "stream",
          "name": "stdout",
          "text": [
            "Validation Accuracy: 28.44%\n",
            "Epoch [241/300], Validation Loss: 2.6011\n"
          ]
        },
        {
          "output_type": "stream",
          "name": "stderr",
          "text": [
            "Epoch 242/300 [Train]: 100%|██████████| 58/58 [00:04<00:00, 13.64it/s]\n"
          ]
        },
        {
          "output_type": "stream",
          "name": "stdout",
          "text": [
            "Epoch [242/300], Loss: 1.9925\n"
          ]
        },
        {
          "output_type": "stream",
          "name": "stderr",
          "text": [
            "Epoch 242/300 [Valid]: 100%|██████████| 14/14 [00:00<00:00, 17.96it/s]\n"
          ]
        },
        {
          "output_type": "stream",
          "name": "stdout",
          "text": [
            "Validation Accuracy: 28.44%\n",
            "Epoch [242/300], Validation Loss: 2.5657\n"
          ]
        },
        {
          "output_type": "stream",
          "name": "stderr",
          "text": [
            "Epoch 243/300 [Train]: 100%|██████████| 58/58 [00:04<00:00, 14.40it/s]\n"
          ]
        },
        {
          "output_type": "stream",
          "name": "stdout",
          "text": [
            "Epoch [243/300], Loss: 2.0692\n"
          ]
        },
        {
          "output_type": "stream",
          "name": "stderr",
          "text": [
            "Epoch 243/300 [Valid]: 100%|██████████| 14/14 [00:00<00:00, 17.92it/s]\n"
          ]
        },
        {
          "output_type": "stream",
          "name": "stdout",
          "text": [
            "Validation Accuracy: 28.44%\n",
            "Epoch [243/300], Validation Loss: 2.6281\n"
          ]
        },
        {
          "output_type": "stream",
          "name": "stderr",
          "text": [
            "Epoch 244/300 [Train]: 100%|██████████| 58/58 [00:04<00:00, 13.11it/s]\n"
          ]
        },
        {
          "output_type": "stream",
          "name": "stdout",
          "text": [
            "Epoch [244/300], Loss: 1.9442\n"
          ]
        },
        {
          "output_type": "stream",
          "name": "stderr",
          "text": [
            "Epoch 244/300 [Valid]: 100%|██████████| 14/14 [00:00<00:00, 17.69it/s]\n"
          ]
        },
        {
          "output_type": "stream",
          "name": "stdout",
          "text": [
            "Validation Accuracy: 27.96%\n",
            "Epoch [244/300], Validation Loss: 2.6056\n"
          ]
        },
        {
          "output_type": "stream",
          "name": "stderr",
          "text": [
            "Epoch 245/300 [Train]: 100%|██████████| 58/58 [00:04<00:00, 14.37it/s]\n"
          ]
        },
        {
          "output_type": "stream",
          "name": "stdout",
          "text": [
            "Epoch [245/300], Loss: 2.0957\n"
          ]
        },
        {
          "output_type": "stream",
          "name": "stderr",
          "text": [
            "Epoch 245/300 [Valid]: 100%|██████████| 14/14 [00:00<00:00, 17.49it/s]\n"
          ]
        },
        {
          "output_type": "stream",
          "name": "stdout",
          "text": [
            "Validation Accuracy: 27.96%\n",
            "Epoch [245/300], Validation Loss: 2.5861\n"
          ]
        },
        {
          "output_type": "stream",
          "name": "stderr",
          "text": [
            "Epoch 246/300 [Train]: 100%|██████████| 58/58 [00:03<00:00, 14.62it/s]\n"
          ]
        },
        {
          "output_type": "stream",
          "name": "stdout",
          "text": [
            "Epoch [246/300], Loss: 2.0012\n"
          ]
        },
        {
          "output_type": "stream",
          "name": "stderr",
          "text": [
            "Epoch 246/300 [Valid]: 100%|██████████| 14/14 [00:00<00:00, 17.49it/s]\n"
          ]
        },
        {
          "output_type": "stream",
          "name": "stdout",
          "text": [
            "Validation Accuracy: 28.91%\n",
            "Epoch [246/300], Validation Loss: 2.5967\n"
          ]
        },
        {
          "output_type": "stream",
          "name": "stderr",
          "text": [
            "Epoch 247/300 [Train]: 100%|██████████| 58/58 [00:04<00:00, 13.54it/s]\n"
          ]
        },
        {
          "output_type": "stream",
          "name": "stdout",
          "text": [
            "Epoch [247/300], Loss: 2.0185\n"
          ]
        },
        {
          "output_type": "stream",
          "name": "stderr",
          "text": [
            "Epoch 247/300 [Valid]: 100%|██████████| 14/14 [00:00<00:00, 18.02it/s]\n"
          ]
        },
        {
          "output_type": "stream",
          "name": "stdout",
          "text": [
            "Validation Accuracy: 29.38%\n",
            "Epoch [247/300], Validation Loss: 2.5869\n"
          ]
        },
        {
          "output_type": "stream",
          "name": "stderr",
          "text": [
            "Epoch 248/300 [Train]: 100%|██████████| 58/58 [00:04<00:00, 14.44it/s]\n"
          ]
        },
        {
          "output_type": "stream",
          "name": "stdout",
          "text": [
            "Epoch [248/300], Loss: 1.9701\n"
          ]
        },
        {
          "output_type": "stream",
          "name": "stderr",
          "text": [
            "Epoch 248/300 [Valid]: 100%|██████████| 14/14 [00:00<00:00, 17.83it/s]\n"
          ]
        },
        {
          "output_type": "stream",
          "name": "stdout",
          "text": [
            "Validation Accuracy: 29.38%\n",
            "Epoch [248/300], Validation Loss: 2.5855\n"
          ]
        },
        {
          "output_type": "stream",
          "name": "stderr",
          "text": [
            "Epoch 249/300 [Train]: 100%|██████████| 58/58 [00:04<00:00, 14.23it/s]\n"
          ]
        },
        {
          "output_type": "stream",
          "name": "stdout",
          "text": [
            "Epoch [249/300], Loss: 2.0925\n"
          ]
        },
        {
          "output_type": "stream",
          "name": "stderr",
          "text": [
            "Epoch 249/300 [Valid]: 100%|██████████| 14/14 [00:00<00:00, 18.05it/s]\n"
          ]
        },
        {
          "output_type": "stream",
          "name": "stdout",
          "text": [
            "Validation Accuracy: 27.96%\n",
            "Epoch [249/300], Validation Loss: 2.5874\n"
          ]
        },
        {
          "output_type": "stream",
          "name": "stderr",
          "text": [
            "Epoch 250/300 [Train]: 100%|██████████| 58/58 [00:04<00:00, 14.07it/s]\n"
          ]
        },
        {
          "output_type": "stream",
          "name": "stdout",
          "text": [
            "Epoch [250/300], Loss: 2.0440\n"
          ]
        },
        {
          "output_type": "stream",
          "name": "stderr",
          "text": [
            "Epoch 250/300 [Valid]: 100%|██████████| 14/14 [00:00<00:00, 18.71it/s]\n"
          ]
        },
        {
          "output_type": "stream",
          "name": "stdout",
          "text": [
            "Validation Accuracy: 28.44%\n",
            "Epoch [250/300], Validation Loss: 2.6049\n"
          ]
        },
        {
          "output_type": "stream",
          "name": "stderr",
          "text": [
            "Epoch 251/300 [Train]: 100%|██████████| 58/58 [00:03<00:00, 14.71it/s]\n"
          ]
        },
        {
          "output_type": "stream",
          "name": "stdout",
          "text": [
            "Epoch [251/300], Loss: 1.9915\n"
          ]
        },
        {
          "output_type": "stream",
          "name": "stderr",
          "text": [
            "Epoch 251/300 [Valid]: 100%|██████████| 14/14 [00:00<00:00, 18.19it/s]\n"
          ]
        },
        {
          "output_type": "stream",
          "name": "stdout",
          "text": [
            "Validation Accuracy: 27.96%\n",
            "Epoch [251/300], Validation Loss: 2.5674\n"
          ]
        },
        {
          "output_type": "stream",
          "name": "stderr",
          "text": [
            "Epoch 252/300 [Train]: 100%|██████████| 58/58 [00:04<00:00, 13.55it/s]\n"
          ]
        },
        {
          "output_type": "stream",
          "name": "stdout",
          "text": [
            "Epoch [252/300], Loss: 2.0083\n"
          ]
        },
        {
          "output_type": "stream",
          "name": "stderr",
          "text": [
            "Epoch 252/300 [Valid]: 100%|██████████| 14/14 [00:00<00:00, 16.77it/s]\n"
          ]
        },
        {
          "output_type": "stream",
          "name": "stdout",
          "text": [
            "Validation Accuracy: 27.96%\n",
            "Epoch [252/300], Validation Loss: 2.5718\n"
          ]
        },
        {
          "output_type": "stream",
          "name": "stderr",
          "text": [
            "Epoch 253/300 [Train]: 100%|██████████| 58/58 [00:03<00:00, 14.72it/s]\n"
          ]
        },
        {
          "output_type": "stream",
          "name": "stdout",
          "text": [
            "Epoch [253/300], Loss: 2.0363\n"
          ]
        },
        {
          "output_type": "stream",
          "name": "stderr",
          "text": [
            "Epoch 253/300 [Valid]: 100%|██████████| 14/14 [00:00<00:00, 18.47it/s]\n"
          ]
        },
        {
          "output_type": "stream",
          "name": "stdout",
          "text": [
            "Validation Accuracy: 28.91%\n",
            "Epoch [253/300], Validation Loss: 2.5737\n"
          ]
        },
        {
          "output_type": "stream",
          "name": "stderr",
          "text": [
            "Epoch 254/300 [Train]: 100%|██████████| 58/58 [00:03<00:00, 14.60it/s]\n"
          ]
        },
        {
          "output_type": "stream",
          "name": "stdout",
          "text": [
            "Epoch [254/300], Loss: 2.0828\n"
          ]
        },
        {
          "output_type": "stream",
          "name": "stderr",
          "text": [
            "Epoch 254/300 [Valid]: 100%|██████████| 14/14 [00:00<00:00, 17.32it/s]\n"
          ]
        },
        {
          "output_type": "stream",
          "name": "stdout",
          "text": [
            "Validation Accuracy: 27.96%\n",
            "Epoch [254/300], Validation Loss: 2.6048\n"
          ]
        },
        {
          "output_type": "stream",
          "name": "stderr",
          "text": [
            "Epoch 255/300 [Train]: 100%|██████████| 58/58 [00:04<00:00, 13.58it/s]\n"
          ]
        },
        {
          "output_type": "stream",
          "name": "stdout",
          "text": [
            "Epoch [255/300], Loss: 2.0165\n"
          ]
        },
        {
          "output_type": "stream",
          "name": "stderr",
          "text": [
            "Epoch 255/300 [Valid]: 100%|██████████| 14/14 [00:00<00:00, 17.98it/s]\n"
          ]
        },
        {
          "output_type": "stream",
          "name": "stdout",
          "text": [
            "Validation Accuracy: 27.96%\n",
            "Epoch [255/300], Validation Loss: 2.6246\n"
          ]
        },
        {
          "output_type": "stream",
          "name": "stderr",
          "text": [
            "Epoch 256/300 [Train]: 100%|██████████| 58/58 [00:03<00:00, 14.68it/s]\n"
          ]
        },
        {
          "output_type": "stream",
          "name": "stdout",
          "text": [
            "Epoch [256/300], Loss: 2.0764\n"
          ]
        },
        {
          "output_type": "stream",
          "name": "stderr",
          "text": [
            "Epoch 256/300 [Valid]: 100%|██████████| 14/14 [00:00<00:00, 18.49it/s]\n"
          ]
        },
        {
          "output_type": "stream",
          "name": "stdout",
          "text": [
            "Validation Accuracy: 28.91%\n",
            "Epoch [256/300], Validation Loss: 2.6074\n"
          ]
        },
        {
          "output_type": "stream",
          "name": "stderr",
          "text": [
            "Epoch 257/300 [Train]: 100%|██████████| 58/58 [00:04<00:00, 14.36it/s]\n"
          ]
        },
        {
          "output_type": "stream",
          "name": "stdout",
          "text": [
            "Epoch [257/300], Loss: 2.0099\n"
          ]
        },
        {
          "output_type": "stream",
          "name": "stderr",
          "text": [
            "Epoch 257/300 [Valid]: 100%|██████████| 14/14 [00:00<00:00, 16.88it/s]\n"
          ]
        },
        {
          "output_type": "stream",
          "name": "stdout",
          "text": [
            "Validation Accuracy: 29.38%\n",
            "Epoch [257/300], Validation Loss: 2.5939\n"
          ]
        },
        {
          "output_type": "stream",
          "name": "stderr",
          "text": [
            "Epoch 258/300 [Train]: 100%|██████████| 58/58 [00:04<00:00, 13.56it/s]\n"
          ]
        },
        {
          "output_type": "stream",
          "name": "stdout",
          "text": [
            "Epoch [258/300], Loss: 2.0228\n"
          ]
        },
        {
          "output_type": "stream",
          "name": "stderr",
          "text": [
            "Epoch 258/300 [Valid]: 100%|██████████| 14/14 [00:00<00:00, 18.44it/s]\n"
          ]
        },
        {
          "output_type": "stream",
          "name": "stdout",
          "text": [
            "Validation Accuracy: 27.49%\n",
            "Epoch [258/300], Validation Loss: 2.5997\n"
          ]
        },
        {
          "output_type": "stream",
          "name": "stderr",
          "text": [
            "Epoch 259/300 [Train]: 100%|██████████| 58/58 [00:04<00:00, 14.36it/s]\n"
          ]
        },
        {
          "output_type": "stream",
          "name": "stdout",
          "text": [
            "Epoch [259/300], Loss: 2.0593\n"
          ]
        },
        {
          "output_type": "stream",
          "name": "stderr",
          "text": [
            "Epoch 259/300 [Valid]: 100%|██████████| 14/14 [00:00<00:00, 17.97it/s]\n"
          ]
        },
        {
          "output_type": "stream",
          "name": "stdout",
          "text": [
            "Validation Accuracy: 27.49%\n",
            "Epoch [259/300], Validation Loss: 2.5945\n"
          ]
        },
        {
          "output_type": "stream",
          "name": "stderr",
          "text": [
            "Epoch 260/300 [Train]: 100%|██████████| 58/58 [00:04<00:00, 14.22it/s]\n"
          ]
        },
        {
          "output_type": "stream",
          "name": "stdout",
          "text": [
            "Epoch [260/300], Loss: 1.9906\n"
          ]
        },
        {
          "output_type": "stream",
          "name": "stderr",
          "text": [
            "Epoch 260/300 [Valid]: 100%|██████████| 14/14 [00:00<00:00, 17.29it/s]\n"
          ]
        },
        {
          "output_type": "stream",
          "name": "stdout",
          "text": [
            "Validation Accuracy: 27.49%\n",
            "Epoch [260/300], Validation Loss: 2.6091\n"
          ]
        },
        {
          "output_type": "stream",
          "name": "stderr",
          "text": [
            "Epoch 261/300 [Train]: 100%|██████████| 58/58 [00:04<00:00, 14.20it/s]\n"
          ]
        },
        {
          "output_type": "stream",
          "name": "stdout",
          "text": [
            "Epoch [261/300], Loss: 2.0046\n"
          ]
        },
        {
          "output_type": "stream",
          "name": "stderr",
          "text": [
            "Epoch 261/300 [Valid]: 100%|██████████| 14/14 [00:00<00:00, 18.75it/s]\n"
          ]
        },
        {
          "output_type": "stream",
          "name": "stdout",
          "text": [
            "Validation Accuracy: 29.38%\n",
            "Epoch [261/300], Validation Loss: 2.5837\n"
          ]
        },
        {
          "output_type": "stream",
          "name": "stderr",
          "text": [
            "Epoch 262/300 [Train]: 100%|██████████| 58/58 [00:04<00:00, 14.48it/s]\n"
          ]
        },
        {
          "output_type": "stream",
          "name": "stdout",
          "text": [
            "Epoch [262/300], Loss: 1.9887\n"
          ]
        },
        {
          "output_type": "stream",
          "name": "stderr",
          "text": [
            "Epoch 262/300 [Valid]: 100%|██████████| 14/14 [00:00<00:00, 18.81it/s]\n"
          ]
        },
        {
          "output_type": "stream",
          "name": "stdout",
          "text": [
            "Validation Accuracy: 28.44%\n",
            "Epoch [262/300], Validation Loss: 2.6177\n"
          ]
        },
        {
          "output_type": "stream",
          "name": "stderr",
          "text": [
            "Epoch 263/300 [Train]: 100%|██████████| 58/58 [00:04<00:00, 13.62it/s]\n"
          ]
        },
        {
          "output_type": "stream",
          "name": "stdout",
          "text": [
            "Epoch [263/300], Loss: 2.0286\n"
          ]
        },
        {
          "output_type": "stream",
          "name": "stderr",
          "text": [
            "Epoch 263/300 [Valid]: 100%|██████████| 14/14 [00:00<00:00, 17.71it/s]\n"
          ]
        },
        {
          "output_type": "stream",
          "name": "stdout",
          "text": [
            "Validation Accuracy: 28.44%\n",
            "Epoch [263/300], Validation Loss: 2.5834\n"
          ]
        },
        {
          "output_type": "stream",
          "name": "stderr",
          "text": [
            "Epoch 264/300 [Train]: 100%|██████████| 58/58 [00:04<00:00, 14.46it/s]\n"
          ]
        },
        {
          "output_type": "stream",
          "name": "stdout",
          "text": [
            "Epoch [264/300], Loss: 2.0212\n"
          ]
        },
        {
          "output_type": "stream",
          "name": "stderr",
          "text": [
            "Epoch 264/300 [Valid]: 100%|██████████| 14/14 [00:00<00:00, 18.05it/s]\n"
          ]
        },
        {
          "output_type": "stream",
          "name": "stdout",
          "text": [
            "Validation Accuracy: 27.96%\n",
            "Epoch [264/300], Validation Loss: 2.5684\n"
          ]
        },
        {
          "output_type": "stream",
          "name": "stderr",
          "text": [
            "Epoch 265/300 [Train]: 100%|██████████| 58/58 [00:03<00:00, 14.69it/s]\n"
          ]
        },
        {
          "output_type": "stream",
          "name": "stdout",
          "text": [
            "Epoch [265/300], Loss: 2.0497\n"
          ]
        },
        {
          "output_type": "stream",
          "name": "stderr",
          "text": [
            "Epoch 265/300 [Valid]: 100%|██████████| 14/14 [00:00<00:00, 18.14it/s]\n"
          ]
        },
        {
          "output_type": "stream",
          "name": "stdout",
          "text": [
            "Validation Accuracy: 29.86%\n",
            "Epoch [265/300], Validation Loss: 2.5956\n"
          ]
        },
        {
          "output_type": "stream",
          "name": "stderr",
          "text": [
            "Epoch 266/300 [Train]: 100%|██████████| 58/58 [00:04<00:00, 13.35it/s]\n"
          ]
        },
        {
          "output_type": "stream",
          "name": "stdout",
          "text": [
            "Epoch [266/300], Loss: 2.0279\n"
          ]
        },
        {
          "output_type": "stream",
          "name": "stderr",
          "text": [
            "Epoch 266/300 [Valid]: 100%|██████████| 14/14 [00:00<00:00, 17.97it/s]\n"
          ]
        },
        {
          "output_type": "stream",
          "name": "stdout",
          "text": [
            "Validation Accuracy: 27.49%\n",
            "Epoch [266/300], Validation Loss: 2.6214\n"
          ]
        },
        {
          "output_type": "stream",
          "name": "stderr",
          "text": [
            "Epoch 267/300 [Train]: 100%|██████████| 58/58 [00:03<00:00, 14.68it/s]\n"
          ]
        },
        {
          "output_type": "stream",
          "name": "stdout",
          "text": [
            "Epoch [267/300], Loss: 2.0448\n"
          ]
        },
        {
          "output_type": "stream",
          "name": "stderr",
          "text": [
            "Epoch 267/300 [Valid]: 100%|██████████| 14/14 [00:00<00:00, 18.91it/s]\n"
          ]
        },
        {
          "output_type": "stream",
          "name": "stdout",
          "text": [
            "Validation Accuracy: 28.44%\n",
            "Epoch [267/300], Validation Loss: 2.5919\n"
          ]
        },
        {
          "output_type": "stream",
          "name": "stderr",
          "text": [
            "Epoch 268/300 [Train]: 100%|██████████| 58/58 [00:04<00:00, 14.42it/s]\n"
          ]
        },
        {
          "output_type": "stream",
          "name": "stdout",
          "text": [
            "Epoch [268/300], Loss: 2.0262\n"
          ]
        },
        {
          "output_type": "stream",
          "name": "stderr",
          "text": [
            "Epoch 268/300 [Valid]: 100%|██████████| 14/14 [00:00<00:00, 17.22it/s]\n"
          ]
        },
        {
          "output_type": "stream",
          "name": "stdout",
          "text": [
            "Validation Accuracy: 27.96%\n",
            "Epoch [268/300], Validation Loss: 2.6128\n"
          ]
        },
        {
          "output_type": "stream",
          "name": "stderr",
          "text": [
            "Epoch 269/300 [Train]: 100%|██████████| 58/58 [00:04<00:00, 13.62it/s]\n"
          ]
        },
        {
          "output_type": "stream",
          "name": "stdout",
          "text": [
            "Epoch [269/300], Loss: 1.9963\n"
          ]
        },
        {
          "output_type": "stream",
          "name": "stderr",
          "text": [
            "Epoch 269/300 [Valid]: 100%|██████████| 14/14 [00:00<00:00, 18.78it/s]\n"
          ]
        },
        {
          "output_type": "stream",
          "name": "stdout",
          "text": [
            "Validation Accuracy: 29.38%\n",
            "Epoch [269/300], Validation Loss: 2.5809\n"
          ]
        },
        {
          "output_type": "stream",
          "name": "stderr",
          "text": [
            "Epoch 270/300 [Train]: 100%|██████████| 58/58 [00:03<00:00, 15.00it/s]\n"
          ]
        },
        {
          "output_type": "stream",
          "name": "stdout",
          "text": [
            "Epoch [270/300], Loss: 2.0481\n"
          ]
        },
        {
          "output_type": "stream",
          "name": "stderr",
          "text": [
            "Epoch 270/300 [Valid]: 100%|██████████| 14/14 [00:00<00:00, 18.55it/s]\n"
          ]
        },
        {
          "output_type": "stream",
          "name": "stdout",
          "text": [
            "Validation Accuracy: 27.96%\n",
            "Epoch [270/300], Validation Loss: 2.5992\n"
          ]
        },
        {
          "output_type": "stream",
          "name": "stderr",
          "text": [
            "Epoch 271/300 [Train]: 100%|██████████| 58/58 [00:04<00:00, 14.24it/s]\n"
          ]
        },
        {
          "output_type": "stream",
          "name": "stdout",
          "text": [
            "Epoch [271/300], Loss: 2.0424\n"
          ]
        },
        {
          "output_type": "stream",
          "name": "stderr",
          "text": [
            "Epoch 271/300 [Valid]: 100%|██████████| 14/14 [00:00<00:00, 16.99it/s]\n"
          ]
        },
        {
          "output_type": "stream",
          "name": "stdout",
          "text": [
            "Validation Accuracy: 27.96%\n",
            "Epoch [271/300], Validation Loss: 2.5972\n"
          ]
        },
        {
          "output_type": "stream",
          "name": "stderr",
          "text": [
            "Epoch 272/300 [Train]: 100%|██████████| 58/58 [00:04<00:00, 14.49it/s]\n"
          ]
        },
        {
          "output_type": "stream",
          "name": "stdout",
          "text": [
            "Epoch [272/300], Loss: 1.9223\n"
          ]
        },
        {
          "output_type": "stream",
          "name": "stderr",
          "text": [
            "Epoch 272/300 [Valid]: 100%|██████████| 14/14 [00:00<00:00, 18.85it/s]\n"
          ]
        },
        {
          "output_type": "stream",
          "name": "stdout",
          "text": [
            "Validation Accuracy: 28.44%\n",
            "Epoch [272/300], Validation Loss: 2.5692\n"
          ]
        },
        {
          "output_type": "stream",
          "name": "stderr",
          "text": [
            "Epoch 273/300 [Train]: 100%|██████████| 58/58 [00:03<00:00, 14.86it/s]\n"
          ]
        },
        {
          "output_type": "stream",
          "name": "stdout",
          "text": [
            "Epoch [273/300], Loss: 1.9863\n"
          ]
        },
        {
          "output_type": "stream",
          "name": "stderr",
          "text": [
            "Epoch 273/300 [Valid]: 100%|██████████| 14/14 [00:00<00:00, 18.73it/s]\n"
          ]
        },
        {
          "output_type": "stream",
          "name": "stdout",
          "text": [
            "Validation Accuracy: 29.86%\n",
            "Epoch [273/300], Validation Loss: 2.5986\n"
          ]
        },
        {
          "output_type": "stream",
          "name": "stderr",
          "text": [
            "Epoch 274/300 [Train]: 100%|██████████| 58/58 [00:04<00:00, 13.64it/s]\n"
          ]
        },
        {
          "output_type": "stream",
          "name": "stdout",
          "text": [
            "Epoch [274/300], Loss: 2.0374\n"
          ]
        },
        {
          "output_type": "stream",
          "name": "stderr",
          "text": [
            "Epoch 274/300 [Valid]: 100%|██████████| 14/14 [00:00<00:00, 17.94it/s]\n"
          ]
        },
        {
          "output_type": "stream",
          "name": "stdout",
          "text": [
            "Validation Accuracy: 27.01%\n",
            "Epoch [274/300], Validation Loss: 2.5724\n"
          ]
        },
        {
          "output_type": "stream",
          "name": "stderr",
          "text": [
            "Epoch 275/300 [Train]: 100%|██████████| 58/58 [00:03<00:00, 14.93it/s]\n"
          ]
        },
        {
          "output_type": "stream",
          "name": "stdout",
          "text": [
            "Epoch [275/300], Loss: 2.0105\n"
          ]
        },
        {
          "output_type": "stream",
          "name": "stderr",
          "text": [
            "Epoch 275/300 [Valid]: 100%|██████████| 14/14 [00:00<00:00, 18.74it/s]\n"
          ]
        },
        {
          "output_type": "stream",
          "name": "stdout",
          "text": [
            "Validation Accuracy: 30.33%\n",
            "Epoch [275/300], Validation Loss: 2.5719\n"
          ]
        },
        {
          "output_type": "stream",
          "name": "stderr",
          "text": [
            "Epoch 276/300 [Train]: 100%|██████████| 58/58 [00:03<00:00, 14.95it/s]\n"
          ]
        },
        {
          "output_type": "stream",
          "name": "stdout",
          "text": [
            "Epoch [276/300], Loss: 2.0269\n"
          ]
        },
        {
          "output_type": "stream",
          "name": "stderr",
          "text": [
            "Epoch 276/300 [Valid]: 100%|██████████| 14/14 [00:00<00:00, 17.61it/s]\n"
          ]
        },
        {
          "output_type": "stream",
          "name": "stdout",
          "text": [
            "Validation Accuracy: 29.38%\n",
            "Epoch [276/300], Validation Loss: 2.6302\n"
          ]
        },
        {
          "output_type": "stream",
          "name": "stderr",
          "text": [
            "Epoch 277/300 [Train]: 100%|██████████| 58/58 [00:04<00:00, 13.55it/s]\n"
          ]
        },
        {
          "output_type": "stream",
          "name": "stdout",
          "text": [
            "Epoch [277/300], Loss: 2.0804\n"
          ]
        },
        {
          "output_type": "stream",
          "name": "stderr",
          "text": [
            "Epoch 277/300 [Valid]: 100%|██████████| 14/14 [00:00<00:00, 19.19it/s]\n"
          ]
        },
        {
          "output_type": "stream",
          "name": "stdout",
          "text": [
            "Validation Accuracy: 27.49%\n",
            "Epoch [277/300], Validation Loss: 2.5974\n"
          ]
        },
        {
          "output_type": "stream",
          "name": "stderr",
          "text": [
            "Epoch 278/300 [Train]: 100%|██████████| 58/58 [00:03<00:00, 15.06it/s]\n"
          ]
        },
        {
          "output_type": "stream",
          "name": "stdout",
          "text": [
            "Epoch [278/300], Loss: 2.0687\n"
          ]
        },
        {
          "output_type": "stream",
          "name": "stderr",
          "text": [
            "Epoch 278/300 [Valid]: 100%|██████████| 14/14 [00:00<00:00, 18.58it/s]\n"
          ]
        },
        {
          "output_type": "stream",
          "name": "stdout",
          "text": [
            "Validation Accuracy: 29.38%\n",
            "Epoch [278/300], Validation Loss: 2.5975\n"
          ]
        },
        {
          "output_type": "stream",
          "name": "stderr",
          "text": [
            "Epoch 279/300 [Train]: 100%|██████████| 58/58 [00:03<00:00, 14.54it/s]\n"
          ]
        },
        {
          "output_type": "stream",
          "name": "stdout",
          "text": [
            "Epoch [279/300], Loss: 2.0169\n"
          ]
        },
        {
          "output_type": "stream",
          "name": "stderr",
          "text": [
            "Epoch 279/300 [Valid]: 100%|██████████| 14/14 [00:00<00:00, 17.09it/s]\n"
          ]
        },
        {
          "output_type": "stream",
          "name": "stdout",
          "text": [
            "Validation Accuracy: 28.91%\n",
            "Epoch [279/300], Validation Loss: 2.6043\n"
          ]
        },
        {
          "output_type": "stream",
          "name": "stderr",
          "text": [
            "Epoch 280/300 [Train]: 100%|██████████| 58/58 [00:04<00:00, 13.83it/s]\n"
          ]
        },
        {
          "output_type": "stream",
          "name": "stdout",
          "text": [
            "Epoch [280/300], Loss: 1.9781\n"
          ]
        },
        {
          "output_type": "stream",
          "name": "stderr",
          "text": [
            "Epoch 280/300 [Valid]: 100%|██████████| 14/14 [00:00<00:00, 18.84it/s]\n"
          ]
        },
        {
          "output_type": "stream",
          "name": "stdout",
          "text": [
            "Validation Accuracy: 29.38%\n",
            "Epoch [280/300], Validation Loss: 2.5961\n"
          ]
        },
        {
          "output_type": "stream",
          "name": "stderr",
          "text": [
            "Epoch 281/300 [Train]: 100%|██████████| 58/58 [00:03<00:00, 14.95it/s]\n"
          ]
        },
        {
          "output_type": "stream",
          "name": "stdout",
          "text": [
            "Epoch [281/300], Loss: 1.9695\n"
          ]
        },
        {
          "output_type": "stream",
          "name": "stderr",
          "text": [
            "Epoch 281/300 [Valid]: 100%|██████████| 14/14 [00:00<00:00, 18.49it/s]\n"
          ]
        },
        {
          "output_type": "stream",
          "name": "stdout",
          "text": [
            "Validation Accuracy: 28.91%\n",
            "Epoch [281/300], Validation Loss: 2.6230\n"
          ]
        },
        {
          "output_type": "stream",
          "name": "stderr",
          "text": [
            "Epoch 282/300 [Train]: 100%|██████████| 58/58 [00:04<00:00, 14.39it/s]\n"
          ]
        },
        {
          "output_type": "stream",
          "name": "stdout",
          "text": [
            "Epoch [282/300], Loss: 1.9948\n"
          ]
        },
        {
          "output_type": "stream",
          "name": "stderr",
          "text": [
            "Epoch 282/300 [Valid]: 100%|██████████| 14/14 [00:00<00:00, 17.84it/s]\n"
          ]
        },
        {
          "output_type": "stream",
          "name": "stdout",
          "text": [
            "Validation Accuracy: 29.86%\n",
            "Epoch [282/300], Validation Loss: 2.5910\n"
          ]
        },
        {
          "output_type": "stream",
          "name": "stderr",
          "text": [
            "Epoch 283/300 [Train]: 100%|██████████| 58/58 [00:04<00:00, 14.21it/s]\n"
          ]
        },
        {
          "output_type": "stream",
          "name": "stdout",
          "text": [
            "Epoch [283/300], Loss: 2.0243\n"
          ]
        },
        {
          "output_type": "stream",
          "name": "stderr",
          "text": [
            "Epoch 283/300 [Valid]: 100%|██████████| 14/14 [00:00<00:00, 18.86it/s]\n"
          ]
        },
        {
          "output_type": "stream",
          "name": "stdout",
          "text": [
            "Validation Accuracy: 29.86%\n",
            "Epoch [283/300], Validation Loss: 2.5930\n"
          ]
        },
        {
          "output_type": "stream",
          "name": "stderr",
          "text": [
            "Epoch 284/300 [Train]: 100%|██████████| 58/58 [00:03<00:00, 14.66it/s]\n"
          ]
        },
        {
          "output_type": "stream",
          "name": "stdout",
          "text": [
            "Epoch [284/300], Loss: 2.0193\n"
          ]
        },
        {
          "output_type": "stream",
          "name": "stderr",
          "text": [
            "Epoch 284/300 [Valid]: 100%|██████████| 14/14 [00:00<00:00, 18.86it/s]\n"
          ]
        },
        {
          "output_type": "stream",
          "name": "stdout",
          "text": [
            "Validation Accuracy: 27.01%\n",
            "Epoch [284/300], Validation Loss: 2.5949\n"
          ]
        },
        {
          "output_type": "stream",
          "name": "stderr",
          "text": [
            "Epoch 285/300 [Train]: 100%|██████████| 58/58 [00:04<00:00, 13.93it/s]\n"
          ]
        },
        {
          "output_type": "stream",
          "name": "stdout",
          "text": [
            "Epoch [285/300], Loss: 2.0215\n"
          ]
        },
        {
          "output_type": "stream",
          "name": "stderr",
          "text": [
            "Epoch 285/300 [Valid]: 100%|██████████| 14/14 [00:00<00:00, 16.20it/s]\n"
          ]
        },
        {
          "output_type": "stream",
          "name": "stdout",
          "text": [
            "Validation Accuracy: 27.96%\n",
            "Epoch [285/300], Validation Loss: 2.5875\n"
          ]
        },
        {
          "output_type": "stream",
          "name": "stderr",
          "text": [
            "Epoch 286/300 [Train]: 100%|██████████| 58/58 [00:03<00:00, 14.74it/s]\n"
          ]
        },
        {
          "output_type": "stream",
          "name": "stdout",
          "text": [
            "Epoch [286/300], Loss: 1.9887\n"
          ]
        },
        {
          "output_type": "stream",
          "name": "stderr",
          "text": [
            "Epoch 286/300 [Valid]: 100%|██████████| 14/14 [00:00<00:00, 18.41it/s]\n"
          ]
        },
        {
          "output_type": "stream",
          "name": "stdout",
          "text": [
            "Validation Accuracy: 28.44%\n",
            "Epoch [286/300], Validation Loss: 2.5657\n"
          ]
        },
        {
          "output_type": "stream",
          "name": "stderr",
          "text": [
            "Epoch 287/300 [Train]: 100%|██████████| 58/58 [00:03<00:00, 14.96it/s]\n"
          ]
        },
        {
          "output_type": "stream",
          "name": "stdout",
          "text": [
            "Epoch [287/300], Loss: 2.0181\n"
          ]
        },
        {
          "output_type": "stream",
          "name": "stderr",
          "text": [
            "Epoch 287/300 [Valid]: 100%|██████████| 14/14 [00:00<00:00, 19.16it/s]\n"
          ]
        },
        {
          "output_type": "stream",
          "name": "stdout",
          "text": [
            "Validation Accuracy: 30.81%\n",
            "Epoch [287/300], Validation Loss: 2.5845\n"
          ]
        },
        {
          "output_type": "stream",
          "name": "stderr",
          "text": [
            "Epoch 288/300 [Train]: 100%|██████████| 58/58 [00:04<00:00, 13.56it/s]\n"
          ]
        },
        {
          "output_type": "stream",
          "name": "stdout",
          "text": [
            "Epoch [288/300], Loss: 2.0046\n"
          ]
        },
        {
          "output_type": "stream",
          "name": "stderr",
          "text": [
            "Epoch 288/300 [Valid]: 100%|██████████| 14/14 [00:00<00:00, 18.73it/s]\n"
          ]
        },
        {
          "output_type": "stream",
          "name": "stdout",
          "text": [
            "Validation Accuracy: 27.96%\n",
            "Epoch [288/300], Validation Loss: 2.5781\n"
          ]
        },
        {
          "output_type": "stream",
          "name": "stderr",
          "text": [
            "Epoch 289/300 [Train]: 100%|██████████| 58/58 [00:03<00:00, 14.76it/s]\n"
          ]
        },
        {
          "output_type": "stream",
          "name": "stdout",
          "text": [
            "Epoch [289/300], Loss: 2.0667\n"
          ]
        },
        {
          "output_type": "stream",
          "name": "stderr",
          "text": [
            "Epoch 289/300 [Valid]: 100%|██████████| 14/14 [00:00<00:00, 18.88it/s]\n"
          ]
        },
        {
          "output_type": "stream",
          "name": "stdout",
          "text": [
            "Validation Accuracy: 28.44%\n",
            "Epoch [289/300], Validation Loss: 2.6594\n"
          ]
        },
        {
          "output_type": "stream",
          "name": "stderr",
          "text": [
            "Epoch 290/300 [Train]: 100%|██████████| 58/58 [00:03<00:00, 14.90it/s]\n"
          ]
        },
        {
          "output_type": "stream",
          "name": "stdout",
          "text": [
            "Epoch [290/300], Loss: 2.0184\n"
          ]
        },
        {
          "output_type": "stream",
          "name": "stderr",
          "text": [
            "Epoch 290/300 [Valid]: 100%|██████████| 14/14 [00:00<00:00, 17.84it/s]\n"
          ]
        },
        {
          "output_type": "stream",
          "name": "stdout",
          "text": [
            "Validation Accuracy: 28.44%\n",
            "Epoch [290/300], Validation Loss: 2.5814\n"
          ]
        },
        {
          "output_type": "stream",
          "name": "stderr",
          "text": [
            "Epoch 291/300 [Train]: 100%|██████████| 58/58 [00:04<00:00, 13.55it/s]\n"
          ]
        },
        {
          "output_type": "stream",
          "name": "stdout",
          "text": [
            "Epoch [291/300], Loss: 2.0262\n"
          ]
        },
        {
          "output_type": "stream",
          "name": "stderr",
          "text": [
            "Epoch 291/300 [Valid]: 100%|██████████| 14/14 [00:00<00:00, 17.94it/s]\n"
          ]
        },
        {
          "output_type": "stream",
          "name": "stdout",
          "text": [
            "Validation Accuracy: 29.38%\n",
            "Epoch [291/300], Validation Loss: 2.5958\n"
          ]
        },
        {
          "output_type": "stream",
          "name": "stderr",
          "text": [
            "Epoch 292/300 [Train]: 100%|██████████| 58/58 [00:03<00:00, 14.86it/s]\n"
          ]
        },
        {
          "output_type": "stream",
          "name": "stdout",
          "text": [
            "Epoch [292/300], Loss: 2.0461\n"
          ]
        },
        {
          "output_type": "stream",
          "name": "stderr",
          "text": [
            "Epoch 292/300 [Valid]: 100%|██████████| 14/14 [00:00<00:00, 18.77it/s]\n"
          ]
        },
        {
          "output_type": "stream",
          "name": "stdout",
          "text": [
            "Validation Accuracy: 29.86%\n",
            "Epoch [292/300], Validation Loss: 2.5923\n"
          ]
        },
        {
          "output_type": "stream",
          "name": "stderr",
          "text": [
            "Epoch 293/300 [Train]: 100%|██████████| 58/58 [00:04<00:00, 14.43it/s]\n"
          ]
        },
        {
          "output_type": "stream",
          "name": "stdout",
          "text": [
            "Epoch [293/300], Loss: 1.9811\n"
          ]
        },
        {
          "output_type": "stream",
          "name": "stderr",
          "text": [
            "Epoch 293/300 [Valid]: 100%|██████████| 14/14 [00:00<00:00, 16.56it/s]\n"
          ]
        },
        {
          "output_type": "stream",
          "name": "stdout",
          "text": [
            "Validation Accuracy: 28.91%\n",
            "Epoch [293/300], Validation Loss: 2.5799\n"
          ]
        },
        {
          "output_type": "stream",
          "name": "stderr",
          "text": [
            "Epoch 294/300 [Train]: 100%|██████████| 58/58 [00:04<00:00, 14.02it/s]\n"
          ]
        },
        {
          "output_type": "stream",
          "name": "stdout",
          "text": [
            "Epoch [294/300], Loss: 2.0077\n"
          ]
        },
        {
          "output_type": "stream",
          "name": "stderr",
          "text": [
            "Epoch 294/300 [Valid]: 100%|██████████| 14/14 [00:00<00:00, 18.81it/s]\n"
          ]
        },
        {
          "output_type": "stream",
          "name": "stdout",
          "text": [
            "Validation Accuracy: 29.38%\n",
            "Epoch [294/300], Validation Loss: 2.5707\n"
          ]
        },
        {
          "output_type": "stream",
          "name": "stderr",
          "text": [
            "Epoch 295/300 [Train]: 100%|██████████| 58/58 [00:03<00:00, 14.99it/s]\n"
          ]
        },
        {
          "output_type": "stream",
          "name": "stdout",
          "text": [
            "Epoch [295/300], Loss: 1.9627\n"
          ]
        },
        {
          "output_type": "stream",
          "name": "stderr",
          "text": [
            "Epoch 295/300 [Valid]: 100%|██████████| 14/14 [00:00<00:00, 19.06it/s]\n"
          ]
        },
        {
          "output_type": "stream",
          "name": "stdout",
          "text": [
            "Validation Accuracy: 28.91%\n",
            "Epoch [295/300], Validation Loss: 2.6063\n"
          ]
        },
        {
          "output_type": "stream",
          "name": "stderr",
          "text": [
            "Epoch 296/300 [Train]: 100%|██████████| 58/58 [00:04<00:00, 14.07it/s]\n"
          ]
        },
        {
          "output_type": "stream",
          "name": "stdout",
          "text": [
            "Epoch [296/300], Loss: 1.9805\n"
          ]
        },
        {
          "output_type": "stream",
          "name": "stderr",
          "text": [
            "Epoch 296/300 [Valid]: 100%|██████████| 14/14 [00:00<00:00, 16.24it/s]\n"
          ]
        },
        {
          "output_type": "stream",
          "name": "stdout",
          "text": [
            "Validation Accuracy: 27.96%\n",
            "Epoch [296/300], Validation Loss: 2.6009\n"
          ]
        },
        {
          "output_type": "stream",
          "name": "stderr",
          "text": [
            "Epoch 297/300 [Train]: 100%|██████████| 58/58 [00:03<00:00, 14.71it/s]\n"
          ]
        },
        {
          "output_type": "stream",
          "name": "stdout",
          "text": [
            "Epoch [297/300], Loss: 2.0189\n"
          ]
        },
        {
          "output_type": "stream",
          "name": "stderr",
          "text": [
            "Epoch 297/300 [Valid]: 100%|██████████| 14/14 [00:00<00:00, 19.27it/s]\n"
          ]
        },
        {
          "output_type": "stream",
          "name": "stdout",
          "text": [
            "Validation Accuracy: 29.86%\n",
            "Epoch [297/300], Validation Loss: 2.5745\n"
          ]
        },
        {
          "output_type": "stream",
          "name": "stderr",
          "text": [
            "Epoch 298/300 [Train]: 100%|██████████| 58/58 [00:03<00:00, 14.73it/s]\n"
          ]
        },
        {
          "output_type": "stream",
          "name": "stdout",
          "text": [
            "Epoch [298/300], Loss: 2.0583\n"
          ]
        },
        {
          "output_type": "stream",
          "name": "stderr",
          "text": [
            "Epoch 298/300 [Valid]: 100%|██████████| 14/14 [00:00<00:00, 18.36it/s]\n"
          ]
        },
        {
          "output_type": "stream",
          "name": "stdout",
          "text": [
            "Validation Accuracy: 29.86%\n",
            "Epoch [298/300], Validation Loss: 2.6380\n"
          ]
        },
        {
          "output_type": "stream",
          "name": "stderr",
          "text": [
            "Epoch 299/300 [Train]: 100%|██████████| 58/58 [00:04<00:00, 13.00it/s]\n"
          ]
        },
        {
          "output_type": "stream",
          "name": "stdout",
          "text": [
            "Epoch [299/300], Loss: 2.0162\n"
          ]
        },
        {
          "output_type": "stream",
          "name": "stderr",
          "text": [
            "Epoch 299/300 [Valid]: 100%|██████████| 14/14 [00:00<00:00, 18.67it/s]\n"
          ]
        },
        {
          "output_type": "stream",
          "name": "stdout",
          "text": [
            "Validation Accuracy: 28.44%\n",
            "Epoch [299/300], Validation Loss: 2.5999\n"
          ]
        },
        {
          "output_type": "stream",
          "name": "stderr",
          "text": [
            "Epoch 300/300 [Train]: 100%|██████████| 58/58 [00:03<00:00, 14.68it/s]\n"
          ]
        },
        {
          "output_type": "stream",
          "name": "stdout",
          "text": [
            "Epoch [300/300], Loss: 1.9734\n"
          ]
        },
        {
          "output_type": "stream",
          "name": "stderr",
          "text": [
            "Epoch 300/300 [Valid]: 100%|██████████| 14/14 [00:00<00:00, 18.27it/s]"
          ]
        },
        {
          "output_type": "stream",
          "name": "stdout",
          "text": [
            "Validation Accuracy: 28.44%\n",
            "Epoch [300/300], Validation Loss: 2.5825\n"
          ]
        },
        {
          "output_type": "stream",
          "name": "stderr",
          "text": [
            "\n"
          ]
        }
      ]
    },
    {
      "cell_type": "markdown",
      "source": [
        "Validation accuracy: 52.61%"
      ],
      "metadata": {
        "id": "fa-oZBhMnx1G"
      }
    },
    {
      "cell_type": "code",
      "source": [
        "model.eval()\n",
        "correct, total = 0, 0\n",
        "with torch.no_grad():\n",
        "  for inputs, labels in test_loader:\n",
        "    inputs, labels = inputs.to(device), labels.to(device)\n",
        "    outputs = model(inputs)\n",
        "    _, predicted = torch.max(outputs, 1)\n",
        "    total += labels.size(0)\n",
        "    correct += (predicted == labels).sum().item()\n",
        "test_accuracy = correct / total  # Test accuracy\n",
        "print(f'Test Accuracy: {test_accuracy * 100:.2f}%')"
      ],
      "metadata": {
        "id": "Ynn6anD-TkhG",
        "outputId": "1bb1ffcd-dc72-4577-f938-6f0782dbef93",
        "colab": {
          "base_uri": "https://localhost:8080/"
        }
      },
      "execution_count": 32,
      "outputs": [
        {
          "output_type": "stream",
          "name": "stdout",
          "text": [
            "Test Accuracy: 32.28%\n"
          ]
        }
      ]
    },
    {
      "cell_type": "markdown",
      "source": [
        "Test Accuracy: 43.39%"
      ],
      "metadata": {
        "id": "N9V1sxkVpAL4"
      }
    }
  ]
}