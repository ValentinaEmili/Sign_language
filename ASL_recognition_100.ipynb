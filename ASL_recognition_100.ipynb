{
  "nbformat": 4,
  "nbformat_minor": 0,
  "metadata": {
    "colab": {
      "provenance": [],
      "gpuType": "T4",
      "include_colab_link": true
    },
    "kernelspec": {
      "name": "python3",
      "display_name": "Python 3"
    },
    "language_info": {
      "name": "python"
    },
    "accelerator": "GPU"
  },
  "cells": [
    {
      "cell_type": "markdown",
      "metadata": {
        "id": "view-in-github",
        "colab_type": "text"
      },
      "source": [
        "<a href=\"https://colab.research.google.com/github/ValentinaEmili/Sign_language/blob/main/ASL_recognition_100.ipynb\" target=\"_parent\"><img src=\"https://colab.research.google.com/assets/colab-badge.svg\" alt=\"Open In Colab\"/></a>"
      ]
    },
    {
      "cell_type": "markdown",
      "source": [
        "The glossary is made of 100 different words but the instances for each word are not the same as the ones in WLASL_v0.3 file. Indeed, some links were broken and the correspective instances have been removed. Every word has at least one instance."
      ],
      "metadata": {
        "id": "K5puhnnLO5Nx"
      }
    },
    {
      "cell_type": "code",
      "execution_count": 1,
      "metadata": {
        "id": "I9719RldLOi8",
        "colab": {
          "base_uri": "https://localhost:8080/"
        },
        "outputId": "759442ce-5e14-4722-cf47-3d914a2084fa"
      },
      "outputs": [
        {
          "output_type": "stream",
          "name": "stdout",
          "text": [
            "Mounted at /content/drive\n"
          ]
        }
      ],
      "source": [
        "# mount google drive on colab\n",
        "from google.colab import drive\n",
        "drive.mount('/content/drive')"
      ]
    },
    {
      "cell_type": "code",
      "source": [
        "import pandas as pd\n",
        "import cv2\n",
        "from google.colab.patches import cv2_imshow\n",
        "from tqdm import tqdm\n",
        "import numpy as np\n",
        "import os\n",
        "import torch\n",
        "import torch.nn as nn\n",
        "import torch.nn.functional as F\n",
        "from torch.nn.utils.rnn import pack_padded_sequence, pad_sequence, pad_packed_sequence\n",
        "from torch.nn import LSTM\n",
        "import torch.optim as optim\n",
        "from torch.utils.data import TensorDataset, DataLoader, Dataset\n",
        "import shutil"
      ],
      "metadata": {
        "id": "GEpUCIpXMCeD"
      },
      "execution_count": 2,
      "outputs": []
    },
    {
      "cell_type": "code",
      "source": [
        "class SignLanguageDataset(Dataset):\n",
        "  def __init__(self, image_dir, label_map, vis):\n",
        "    self.image_dir = image_dir\n",
        "    self.label_map = label_map\n",
        "    self.files = sorted(os.listdir(image_dir))\n",
        "    self.vis = vis\n",
        "\n",
        "  def __len__(self):\n",
        "    return len(self.files)\n",
        "\n",
        "  def __getitem__(self, idx):\n",
        "    file_name = self.files[idx]\n",
        "    np_array = np.load(os.path.join(self.image_dir, file_name))\n",
        "    if self.vis:\n",
        "      if np_array.size == 0 or len(np_array.shape) != 2 or np_array.shape[1] != 258:\n",
        "        print(f\"Warning: Empty or invalid shape for file: {file_name}\")\n",
        "        np_array = np.zeros((1, 258), dtype=np.float32)\n",
        "    else:\n",
        "      if np_array.size == 0 or len(np_array.shape) != 2 or np_array.shape[1] != 225:\n",
        "        print(f\"Warning: Empty or invalid shape for file: {file_name}\")\n",
        "        np_array = np.zeros((1, 225), dtype=np.float32)\n",
        "\n",
        "    label, _ = file_name.split(\"_\")\n",
        "    label = self.label_map[label]\n",
        "\n",
        "    return torch.tensor(np_array, dtype=torch.float32), torch.tensor(label, dtype=torch.long)\n",
        "\n",
        "# Add zero-padding to get sequences of the same length for each batch\n",
        "def collate_fn(batch):\n",
        "  sequences, labels = zip(*batch)\n",
        "  lengths = [len(seq) for seq in sequences]\n",
        "  padded_sequences = pad_sequence(sequences, batch_first=True)\n",
        "\n",
        "  # pack the padded sequence\n",
        "  packed_sequences = pack_padded_sequence(padded_sequences, lengths, batch_first=True, enforce_sorted=False)\n",
        "  return packed_sequences, torch.tensor(labels)"
      ],
      "metadata": {
        "id": "CY3LDT2cvk1n"
      },
      "execution_count": 3,
      "outputs": []
    },
    {
      "cell_type": "markdown",
      "source": [
        "code inspired to:\n",
        "\n",
        "https://medium.com/@eugenesh4work/attention-mechanism-for-lstm-used-in-a-sequence-to-sequence-task-be1d54919876\n",
        "\n",
        "LSTM with Attention Mechanism"
      ],
      "metadata": {
        "id": "YcQwX1fKutML"
      }
    },
    {
      "cell_type": "code",
      "source": [
        "class Attention(nn.Module):\n",
        "  def __init__(self, hidden_size):\n",
        "    super(Attention, self).__init__()\n",
        "    self.hidden_size = hidden_size\n",
        "\n",
        "  def forward(self, lstm_output, final_hidden_state):\n",
        "    # lstm_output: (batch_size, seq_len, hidden_size * 2)\n",
        "    # final hidden state: (batch_size, hidden_size * 2)\n",
        "    scores = torch.bmm(lstm_output, final_hidden_state.unsqueeze(2)).squeeze(2) # (batch_size, seq_len)\n",
        "    attention_weights = F.softmax(scores, dim=1) # (batch_size, seq_len)\n",
        "    context_vector = torch.bmm(attention_weights.unsqueeze(1), lstm_output).squeeze(1)  # (batch_size, hidden_dim * 2)\n",
        "    return context_vector, attention_weights\n",
        "\n",
        "class SignLanguageLSTM(nn.Module):\n",
        "  def __init__(self, input_size, hidden_size, num_classes, dropout_rate=0.5):\n",
        "    super(SignLanguageLSTM, self).__init__()\n",
        "\n",
        "    # input regularization\n",
        "    self.input_bn = nn.BatchNorm1d(input_size)\n",
        "    self.input_dropout = nn.Dropout(0.3)\n",
        "\n",
        "    # single bidirectional LSTM layer\n",
        "    self.lstm = nn.LSTM(\n",
        "        input_size=input_size,\n",
        "        hidden_size=hidden_size,\n",
        "        batch_first=True,\n",
        "        dropout=dropout_rate,\n",
        "        bidirectional=True)\n",
        "\n",
        "    # attention mechanism\n",
        "    self.attention = Attention(hidden_size)\n",
        "\n",
        "    # fully connected layers\n",
        "    self.fc1 = nn.Linear(hidden_size * 2, hidden_size)\n",
        "    self.fc2 = nn.Linear(hidden_size, num_classes)\n",
        "\n",
        "    self.dropout = nn.Dropout(dropout_rate)\n",
        "\n",
        "  def forward(self, packed_input):\n",
        "    # unpack input for batch normalization\n",
        "    padded_input, lengths = pad_packed_sequence(packed_input, batch_first=True)\n",
        "\n",
        "    # apply input normalization and dropout\n",
        "    padded_input = padded_input.transpose(1, 2)\n",
        "    padded_input = self.input_bn(padded_input)\n",
        "    padded_input = padded_input.transpose(1, 2)\n",
        "    padded_input = self.input_dropout(padded_input)\n",
        "\n",
        "    # re-pack input\n",
        "    packed_input = pack_padded_sequence(padded_input, lengths, batch_first=True, enforce_sorted=False)\n",
        "\n",
        "    # LSTM\n",
        "    packed_output, (hn, cn) = self.lstm(packed_input) # (batch_size, seq_len, hidden_size * 2), (2, batch_size, hidden_size), (2, batch_size, hidden_size)\n",
        "\n",
        "    output_forward = hn[0, :, :] # last hidden state for forward direction (batch_size, hidden_size)\n",
        "    output_backward = hn[1, :, :] # last hidden state for backward direction (batch_size, hidden_size)\n",
        "    final_hidden_state = torch.cat((output_forward, output_backward), dim=1) # (batch_size, hidden_size * 2)\n",
        "\n",
        "    lstm_output, _ = pad_packed_sequence(packed_output, batch_first=True) # (batch_size, seq_len, hidden_size * 2)\n",
        "    context_vector, _ = self.attention(lstm_output, final_hidden_state) # (batch_size, hidden_size * 2)\n",
        "\n",
        "    output = F.relu(self.fc1(context_vector)) # (batch_size, hidden_size)\n",
        "    output = self.fc2(self.dropout(output)) # (hidden_size, num_classes)\n",
        "\n",
        "    return output"
      ],
      "metadata": {
        "id": "S8HD_AESubSX"
      },
      "execution_count": 4,
      "outputs": []
    },
    {
      "cell_type": "markdown",
      "source": [
        "GRU with Attention Mechanism"
      ],
      "metadata": {
        "id": "7tny1NzVv9mz"
      }
    },
    {
      "cell_type": "code",
      "source": [
        "class Attention(nn.Module):\n",
        "  def __init__(self, hidden_size):\n",
        "    super(Attention, self).__init__()\n",
        "    self.hidden_size = hidden_size\n",
        "\n",
        "  def forward(self, lstm_output, final_hidden_state):\n",
        "    # lstm_output: (batch_size, seq_len, hidden_size * 2)\n",
        "    # final hidden state: (batch_size, hidden_size * 2)\n",
        "    scores = torch.bmm(lstm_output, final_hidden_state.unsqueeze(2)).squeeze(2) # (batch_size, seq_len)\n",
        "    attention_weights = F.softmax(scores, dim=1) # (batch_size, seq_len)\n",
        "    context_vector = torch.bmm(attention_weights.unsqueeze(1), lstm_output).squeeze(1)  # (batch_size, hidden_dim * 2)\n",
        "    return context_vector, attention_weights\n",
        "\n",
        "class SignLanguageGRU(nn.Module):\n",
        "  def __init__(self, input_size, hidden_size, num_classes, dropout_rate=0.5):\n",
        "    super(SignLanguageGRU, self).__init__()\n",
        "\n",
        "    # input regularization\n",
        "    self.input_bn = nn.BatchNorm1d(input_size)\n",
        "    self.input_dropout = nn.Dropout(0.3)\n",
        "\n",
        "    # single bidirectional GRU layer\n",
        "    self.gru = nn.GRU(\n",
        "        input_size=input_size,\n",
        "        hidden_size=hidden_size,\n",
        "        batch_first=True,\n",
        "        dropout=dropout_rate,\n",
        "        bidirectional=True)\n",
        "\n",
        "    # attention mechanism\n",
        "    self.attention = Attention(hidden_size)\n",
        "\n",
        "    # fully connected layers\n",
        "    self.fc1 = nn.Linear(hidden_size * 2, hidden_size)\n",
        "    self.fc2 = nn.Linear(hidden_size, num_classes)\n",
        "\n",
        "    self.dropout = nn.Dropout(dropout_rate)\n",
        "\n",
        "  def forward(self, packed_input):\n",
        "    # unpack input for batch normalization\n",
        "    padded_input, lengths = pad_packed_sequence(packed_input, batch_first=True)\n",
        "\n",
        "    # apply input normalization and dropout\n",
        "    padded_input = padded_input.transpose(1, 2)\n",
        "    padded_input = self.input_bn(padded_input)\n",
        "    padded_input = padded_input.transpose(1, 2)\n",
        "    padded_input = self.input_dropout(padded_input)\n",
        "\n",
        "    # re-pack input\n",
        "    packed_input = pack_padded_sequence(padded_input, lengths, batch_first=True, enforce_sorted=False)\n",
        "\n",
        "    # GRU\n",
        "    packed_output, hn = self.gru(packed_input)\n",
        "\n",
        "    output_forward = hn[0, :, :]\n",
        "    output_backward = hn[1, :, :]\n",
        "    final_hidden_state = torch.cat((output_forward, output_backward), dim=1)\n",
        "\n",
        "    gru_output, _ = pad_packed_sequence(packed_output, batch_first=True)\n",
        "    context_vector, _ = self.attention(gru_output, final_hidden_state)\n",
        "\n",
        "    output = F.relu(self.fc1(context_vector))\n",
        "    output = self.fc2(self.dropout(output))\n",
        "\n",
        "    return output"
      ],
      "metadata": {
        "id": "vpA-kQxtv6ba"
      },
      "execution_count": 17,
      "outputs": []
    },
    {
      "cell_type": "code",
      "source": [
        "def train(model, num_epochs, train_loader, val_loader, optimizer, criterion, scheduler, device, training_history, best_accuracy):\n",
        "  for epoch in range(num_epochs):\n",
        "    model.train()\n",
        "    running_loss = 0.0\n",
        "\n",
        "    for inputs, labels in tqdm(train_loader, desc=f'Epoch {epoch + 1}/{num_epochs} [Train]'):\n",
        "      inputs, labels = inputs.to(device), labels.to(device)\n",
        "\n",
        "      optimizer.zero_grad()\n",
        "      outputs = model(inputs)\n",
        "      loss = criterion(outputs, labels)\n",
        "      loss.backward()\n",
        "\n",
        "      torch.nn.utils.clip_grad_norm_(model.parameters(), max_norm=1.0)\n",
        "\n",
        "      optimizer.step()\n",
        "\n",
        "      running_loss += loss.item()\n",
        "\n",
        "    avg_train_loss = running_loss / len(train_loader)\n",
        "    print(f'Epoch [{epoch+1}/{num_epochs}], Loss: {avg_train_loss:.4f}')\n",
        "\n",
        "    # evaluation phase\n",
        "    model.eval()\n",
        "    val_loss, correct, total = 0, 0, 0\n",
        "\n",
        "    with torch.no_grad():\n",
        "      for inputs, labels in tqdm(val_loader, desc=f'Epoch {epoch + 1}/{num_epochs} [Valid]'):\n",
        "        inputs, labels = inputs.to(device), labels.to(device)\n",
        "        outputs = model(inputs)\n",
        "        loss = criterion(outputs, labels)\n",
        "        val_loss += loss.item()\n",
        "\n",
        "        _, predicted = torch.max(outputs, 1)\n",
        "        total += labels.size(0)\n",
        "        correct += (predicted == labels).sum().item()\n",
        "    accuracy = correct / total\n",
        "    avg_val_loss = val_loss / len(val_loader)\n",
        "\n",
        "    # update learning rate based on validation accuracy\n",
        "    scheduler.step(accuracy)\n",
        "\n",
        "    print(f'Validation Accuracy: {accuracy * 100:.2f}%')\n",
        "    print(f'Epoch [{epoch+1}/{num_epochs}], Validation Loss: {avg_val_loss:.4f}')\n",
        "\n",
        "    # store training history\n",
        "    training_history.append({\n",
        "      'epoch': epoch + 1,\n",
        "      'train_loss': avg_train_loss,\n",
        "      'val_loss': avg_val_loss,\n",
        "      'acc': round(accuracy * 100, 2),  # store as percentage\n",
        "      'lr': optimizer.param_groups[0]['lr']\n",
        "      })\n",
        "\n",
        "    # save best model\n",
        "    if accuracy > best_accuracy:\n",
        "      best_accuracy = accuracy\n",
        "      #torch.save({\n",
        "      #  'epoch': epoch,\n",
        "      #  'model_state_dict': model.state_dict(),\n",
        "      #  'optimizer_state_dict': optimizer.state_dict(),\n",
        "      #  'accuracy': accuracy, # saved as decimal\n",
        "      #  'val_loss': avg_val_loss,\n",
        "      #}, '/content/drive/MyDrive/NLP/saved_models/best_model_100.pth')\n",
        "      print(f'Saved new best model with accuracy: {best_accuracy * 100:.2f}%\\n-----')"
      ],
      "metadata": {
        "id": "-B4UZin-wnW6"
      },
      "execution_count": 19,
      "outputs": []
    },
    {
      "cell_type": "code",
      "source": [
        "def evaluate(model, test_loader, device):\n",
        "  model.eval()\n",
        "  correct, total = 0, 0\n",
        "  with torch.no_grad():\n",
        "    for inputs, labels in test_loader:\n",
        "      inputs, labels = inputs.to(device), labels.to(device)\n",
        "      outputs = model(inputs)\n",
        "      _, predicted = torch.max(outputs, 1)\n",
        "      total += labels.size(0)\n",
        "      correct += (predicted == labels).sum().item()\n",
        "  test_accuracy = correct / total  # Test accuracy\n",
        "  print(f'Test Accuracy: {test_accuracy * 100:.2f}%')"
      ],
      "metadata": {
        "id": "HkQn6HieyDy0"
      },
      "execution_count": 22,
      "outputs": []
    },
    {
      "cell_type": "code",
      "source": [
        "def main():\n",
        "  js_100 = pd.read_json(\"/content/drive/MyDrive/NLP/WLASL100.json\")\n",
        "  folder = \"/content/drive/MyDrive/NLP/dataset/subset_100/\"\n",
        "  original_folder = \"/content/drive/MyDrive/NLP/dataset/\"\n",
        "  vis = False\n",
        "\n",
        "  training_folder = folder + \"train/\"\n",
        "  validation_folder = folder + \"val/\"\n",
        "  test_folder = folder + \"test/\"\n",
        "\n",
        "  training_video = training_folder + \"video/\"\n",
        "  validation_video = validation_folder + \"video/\"\n",
        "  test_video = test_folder + \"video/\"\n",
        "\n",
        "  if vis:\n",
        "    training_images = training_folder + \"images/\"\n",
        "    validation_images = validation_folder + \"images/\"\n",
        "    test_images = test_folder + \"images/\"\n",
        "  else:\n",
        "    training_images = training_folder + \"images_no_vis/\"\n",
        "    validation_images = validation_folder + \"images_no_vis/\"\n",
        "    test_images = test_folder + \"images_no_vis/\"\n",
        "\n",
        "  gloss = set()\n",
        "  for image in os.listdir(training_images):\n",
        "    word, _ = image.split(\"_\")\n",
        "    gloss.add(word)\n",
        "  label_map = {label: num for num, label in enumerate(gloss)}\n",
        "\n",
        "  train_dataset = SignLanguageDataset(training_images, label_map, vis)\n",
        "  val_dataset = SignLanguageDataset(validation_images, label_map, vis)\n",
        "  test_dataset = SignLanguageDataset(test_images, label_map, vis)\n",
        "\n",
        "  batch_size = 16\n",
        "  train_loader = DataLoader(train_dataset, batch_size=batch_size, shuffle=True, collate_fn=collate_fn)\n",
        "  val_loader = DataLoader(val_dataset, batch_size=batch_size, shuffle=False, collate_fn=collate_fn)\n",
        "  test_loader = DataLoader(test_dataset, batch_size=batch_size, shuffle=False, collate_fn=collate_fn)\n",
        "\n",
        "  def get_training_config():\n",
        "    return {\n",
        "      'hidden_size': 256,\n",
        "      'learning_rate': 1e-3,\n",
        "      'num_epochs': 100,\n",
        "      'weight_decay': 1e-4,\n",
        "      'dropout_rate': 0.2,\n",
        "      'scheduler_params': {\n",
        "        'factor': 0.5,\n",
        "        'min_lr': 1e-6\n",
        "      },\n",
        "    }\n",
        "\n",
        "  best_accuracy = 0.0\n",
        "  training_history = []\n",
        "  config = get_training_config()\n",
        "  device = torch.device(\"cuda\" if torch.cuda.is_available() else \"cpu\")\n",
        "  num_epochs = config['num_epochs']\n",
        "\n",
        "  input_size = 258 if vis else 225\n",
        "\n",
        "  #model = SignLanguageLSTM(\n",
        "  #    input_size=input_size,\n",
        "  #    hidden_size = config['hidden_size'],\n",
        "  #    num_classes = len(label_map),\n",
        "  #    dropout_rate=config['dropout_rate']).to(device)\n",
        "\n",
        "  model = SignLanguageGRU(\n",
        "      input_size=input_size,\n",
        "      hidden_size = config['hidden_size'],\n",
        "      num_classes = len(label_map),\n",
        "      dropout_rate=config['dropout_rate']).to(device)\n",
        "\n",
        "  criterion = nn.CrossEntropyLoss()\n",
        "  optimizer = torch.optim.Adam(\n",
        "      model.parameters(),\n",
        "      lr=config['learning_rate'],\n",
        "      weight_decay=config['weight_decay'])\n",
        "\n",
        "  scheduler = torch.optim.lr_scheduler.ReduceLROnPlateau(\n",
        "      optimizer,\n",
        "      mode='max',\n",
        "      factor=config['scheduler_params']['factor'],\n",
        "      min_lr=config['scheduler_params']['min_lr'],\n",
        "      patience=5)\n",
        "\n",
        "  train(model, num_epochs, train_loader, val_loader, optimizer, criterion, scheduler, device, training_history, best_accuracy)\n",
        "  evaluate(model, test_loader, device)\n",
        "\n",
        "if __name__ == \"__main__\":\n",
        "  main()"
      ],
      "metadata": {
        "id": "M-TjBnd3satO",
        "outputId": "a1824d11-5b23-4561-99ea-7fedcb710cb9",
        "colab": {
          "base_uri": "https://localhost:8080/"
        }
      },
      "execution_count": 27,
      "outputs": [
        {
          "metadata": {
            "tags": null
          },
          "name": "stderr",
          "output_type": "stream",
          "text": [
            "/usr/local/lib/python3.11/dist-packages/torch/nn/modules/rnn.py:123: UserWarning: dropout option adds dropout after all but last recurrent layer, so non-zero dropout expects num_layers greater than 1, but got dropout=0.2 and num_layers=1\n",
            "  warnings.warn(\n",
            "Epoch 1/100 [Train]: 100%|██████████| 58/58 [00:06<00:00,  8.48it/s]\n"
          ]
        },
        {
          "metadata": {
            "tags": null
          },
          "name": "stdout",
          "output_type": "stream",
          "text": [
            "Epoch [1/100], Loss: 4.6837\n"
          ]
        },
        {
          "metadata": {
            "tags": null
          },
          "name": "stderr",
          "output_type": "stream",
          "text": [
            "Epoch 1/100 [Valid]: 100%|██████████| 14/14 [00:00<00:00, 17.92it/s]\n"
          ]
        },
        {
          "metadata": {
            "tags": null
          },
          "name": "stdout",
          "output_type": "stream",
          "text": [
            "Validation Accuracy: 1.90%\n",
            "Epoch [1/100], Validation Loss: 4.6103\n",
            "Saved new best model with accuracy: 1.90%\n",
            "-----\n"
          ]
        },
        {
          "metadata": {
            "tags": null
          },
          "name": "stderr",
          "output_type": "stream",
          "text": [
            "Epoch 2/100 [Train]: 100%|██████████| 58/58 [00:03<00:00, 14.93it/s]\n"
          ]
        },
        {
          "metadata": {
            "tags": null
          },
          "name": "stdout",
          "output_type": "stream",
          "text": [
            "Epoch [2/100], Loss: 4.5533\n"
          ]
        },
        {
          "metadata": {
            "tags": null
          },
          "name": "stderr",
          "output_type": "stream",
          "text": [
            "Epoch 2/100 [Valid]: 100%|██████████| 14/14 [00:00<00:00, 18.16it/s]\n"
          ]
        },
        {
          "metadata": {
            "tags": null
          },
          "name": "stdout",
          "output_type": "stream",
          "text": [
            "Validation Accuracy: 2.84%\n",
            "Epoch [2/100], Validation Loss: 4.4684\n",
            "Saved new best model with accuracy: 2.84%\n",
            "-----\n"
          ]
        },
        {
          "metadata": {
            "tags": null
          },
          "name": "stderr",
          "output_type": "stream",
          "text": [
            "Epoch 3/100 [Train]: 100%|██████████| 58/58 [00:03<00:00, 14.97it/s]\n"
          ]
        },
        {
          "metadata": {
            "tags": null
          },
          "name": "stdout",
          "output_type": "stream",
          "text": [
            "Epoch [3/100], Loss: 4.3357\n"
          ]
        },
        {
          "metadata": {
            "tags": null
          },
          "name": "stderr",
          "output_type": "stream",
          "text": [
            "Epoch 3/100 [Valid]: 100%|██████████| 14/14 [00:00<00:00, 18.22it/s]\n"
          ]
        },
        {
          "metadata": {
            "tags": null
          },
          "name": "stdout",
          "output_type": "stream",
          "text": [
            "Validation Accuracy: 3.32%\n",
            "Epoch [3/100], Validation Loss: 4.2690\n",
            "Saved new best model with accuracy: 3.32%\n",
            "-----\n"
          ]
        },
        {
          "metadata": {
            "tags": null
          },
          "name": "stderr",
          "output_type": "stream",
          "text": [
            "Epoch 4/100 [Train]: 100%|██████████| 58/58 [00:04<00:00, 13.78it/s]\n"
          ]
        },
        {
          "metadata": {
            "tags": null
          },
          "name": "stdout",
          "output_type": "stream",
          "text": [
            "Epoch [4/100], Loss: 4.2147\n"
          ]
        },
        {
          "metadata": {
            "tags": null
          },
          "name": "stderr",
          "output_type": "stream",
          "text": [
            "Epoch 4/100 [Valid]: 100%|██████████| 14/14 [00:00<00:00, 17.80it/s]\n"
          ]
        },
        {
          "metadata": {
            "tags": null
          },
          "name": "stdout",
          "output_type": "stream",
          "text": [
            "Validation Accuracy: 3.32%\n",
            "Epoch [4/100], Validation Loss: 4.2297\n"
          ]
        },
        {
          "metadata": {
            "tags": null
          },
          "name": "stderr",
          "output_type": "stream",
          "text": [
            "Epoch 5/100 [Train]: 100%|██████████| 58/58 [00:03<00:00, 14.85it/s]\n"
          ]
        },
        {
          "metadata": {
            "tags": null
          },
          "name": "stdout",
          "output_type": "stream",
          "text": [
            "Epoch [5/100], Loss: 4.1347\n"
          ]
        },
        {
          "metadata": {
            "tags": null
          },
          "name": "stderr",
          "output_type": "stream",
          "text": [
            "Epoch 5/100 [Valid]: 100%|██████████| 14/14 [00:00<00:00, 18.70it/s]\n"
          ]
        },
        {
          "metadata": {
            "tags": null
          },
          "name": "stdout",
          "output_type": "stream",
          "text": [
            "Validation Accuracy: 3.32%\n",
            "Epoch [5/100], Validation Loss: 4.1998\n"
          ]
        },
        {
          "metadata": {
            "tags": null
          },
          "name": "stderr",
          "output_type": "stream",
          "text": [
            "Epoch 6/100 [Train]: 100%|██████████| 58/58 [00:03<00:00, 14.72it/s]\n"
          ]
        },
        {
          "metadata": {
            "tags": null
          },
          "name": "stdout",
          "output_type": "stream",
          "text": [
            "Epoch [6/100], Loss: 4.0269\n"
          ]
        },
        {
          "metadata": {
            "tags": null
          },
          "name": "stderr",
          "output_type": "stream",
          "text": [
            "Epoch 6/100 [Valid]: 100%|██████████| 14/14 [00:00<00:00, 18.09it/s]\n"
          ]
        },
        {
          "metadata": {
            "tags": null
          },
          "name": "stdout",
          "output_type": "stream",
          "text": [
            "Validation Accuracy: 7.58%\n",
            "Epoch [6/100], Validation Loss: 4.0175\n",
            "Saved new best model with accuracy: 7.58%\n",
            "-----\n"
          ]
        },
        {
          "metadata": {
            "tags": null
          },
          "name": "stderr",
          "output_type": "stream",
          "text": [
            "Epoch 7/100 [Train]: 100%|██████████| 58/58 [00:03<00:00, 14.57it/s]\n"
          ]
        },
        {
          "metadata": {
            "tags": null
          },
          "name": "stdout",
          "output_type": "stream",
          "text": [
            "Epoch [7/100], Loss: 3.8608\n"
          ]
        },
        {
          "metadata": {
            "tags": null
          },
          "name": "stderr",
          "output_type": "stream",
          "text": [
            "Epoch 7/100 [Valid]: 100%|██████████| 14/14 [00:00<00:00, 18.69it/s]\n"
          ]
        },
        {
          "metadata": {
            "tags": null
          },
          "name": "stdout",
          "output_type": "stream",
          "text": [
            "Validation Accuracy: 5.21%\n",
            "Epoch [7/100], Validation Loss: 3.9525\n"
          ]
        },
        {
          "metadata": {
            "tags": null
          },
          "name": "stderr",
          "output_type": "stream",
          "text": [
            "Epoch 8/100 [Train]: 100%|██████████| 58/58 [00:04<00:00, 14.17it/s]\n"
          ]
        },
        {
          "metadata": {
            "tags": null
          },
          "name": "stdout",
          "output_type": "stream",
          "text": [
            "Epoch [8/100], Loss: 3.7360\n"
          ]
        },
        {
          "metadata": {
            "tags": null
          },
          "name": "stderr",
          "output_type": "stream",
          "text": [
            "Epoch 8/100 [Valid]: 100%|██████████| 14/14 [00:00<00:00, 18.51it/s]\n"
          ]
        },
        {
          "metadata": {
            "tags": null
          },
          "name": "stdout",
          "output_type": "stream",
          "text": [
            "Validation Accuracy: 3.79%\n",
            "Epoch [8/100], Validation Loss: 3.9746\n"
          ]
        },
        {
          "metadata": {
            "tags": null
          },
          "name": "stderr",
          "output_type": "stream",
          "text": [
            "Epoch 9/100 [Train]: 100%|██████████| 58/58 [00:04<00:00, 14.47it/s]\n"
          ]
        },
        {
          "metadata": {
            "tags": null
          },
          "name": "stdout",
          "output_type": "stream",
          "text": [
            "Epoch [9/100], Loss: 3.6185\n"
          ]
        },
        {
          "metadata": {
            "tags": null
          },
          "name": "stderr",
          "output_type": "stream",
          "text": [
            "Epoch 9/100 [Valid]: 100%|██████████| 14/14 [00:00<00:00, 16.57it/s]\n"
          ]
        },
        {
          "metadata": {
            "tags": null
          },
          "name": "stdout",
          "output_type": "stream",
          "text": [
            "Validation Accuracy: 5.69%\n",
            "Epoch [9/100], Validation Loss: 3.9384\n"
          ]
        },
        {
          "metadata": {
            "tags": null
          },
          "name": "stderr",
          "output_type": "stream",
          "text": [
            "Epoch 10/100 [Train]: 100%|██████████| 58/58 [00:04<00:00, 13.48it/s]\n"
          ]
        },
        {
          "metadata": {
            "tags": null
          },
          "name": "stdout",
          "output_type": "stream",
          "text": [
            "Epoch [10/100], Loss: 3.4942\n"
          ]
        },
        {
          "metadata": {
            "tags": null
          },
          "name": "stderr",
          "output_type": "stream",
          "text": [
            "Epoch 10/100 [Valid]: 100%|██████████| 14/14 [00:00<00:00, 18.42it/s]\n"
          ]
        },
        {
          "metadata": {
            "tags": null
          },
          "name": "stdout",
          "output_type": "stream",
          "text": [
            "Validation Accuracy: 9.48%\n",
            "Epoch [10/100], Validation Loss: 3.6979\n",
            "Saved new best model with accuracy: 9.48%\n",
            "-----\n"
          ]
        },
        {
          "metadata": {
            "tags": null
          },
          "name": "stderr",
          "output_type": "stream",
          "text": [
            "Epoch 11/100 [Train]: 100%|██████████| 58/58 [00:03<00:00, 14.88it/s]\n"
          ]
        },
        {
          "metadata": {
            "tags": null
          },
          "name": "stdout",
          "output_type": "stream",
          "text": [
            "Epoch [11/100], Loss: 3.3711\n"
          ]
        },
        {
          "metadata": {
            "tags": null
          },
          "name": "stderr",
          "output_type": "stream",
          "text": [
            "Epoch 11/100 [Valid]: 100%|██████████| 14/14 [00:00<00:00, 18.40it/s]\n"
          ]
        },
        {
          "metadata": {
            "tags": null
          },
          "name": "stdout",
          "output_type": "stream",
          "text": [
            "Validation Accuracy: 10.90%\n",
            "Epoch [11/100], Validation Loss: 3.6869\n",
            "Saved new best model with accuracy: 10.90%\n",
            "-----\n"
          ]
        },
        {
          "metadata": {
            "tags": null
          },
          "name": "stderr",
          "output_type": "stream",
          "text": [
            "Epoch 12/100 [Train]: 100%|██████████| 58/58 [00:04<00:00, 13.78it/s]\n"
          ]
        },
        {
          "metadata": {
            "tags": null
          },
          "name": "stdout",
          "output_type": "stream",
          "text": [
            "Epoch [12/100], Loss: 3.2453\n"
          ]
        },
        {
          "metadata": {
            "tags": null
          },
          "name": "stderr",
          "output_type": "stream",
          "text": [
            "Epoch 12/100 [Valid]: 100%|██████████| 14/14 [00:00<00:00, 17.70it/s]\n"
          ]
        },
        {
          "metadata": {
            "tags": null
          },
          "name": "stdout",
          "output_type": "stream",
          "text": [
            "Validation Accuracy: 8.53%\n",
            "Epoch [12/100], Validation Loss: 3.7275\n"
          ]
        },
        {
          "metadata": {
            "tags": null
          },
          "name": "stderr",
          "output_type": "stream",
          "text": [
            "Epoch 13/100 [Train]: 100%|██████████| 58/58 [00:03<00:00, 14.74it/s]\n"
          ]
        },
        {
          "metadata": {
            "tags": null
          },
          "name": "stdout",
          "output_type": "stream",
          "text": [
            "Epoch [13/100], Loss: 3.1458\n"
          ]
        },
        {
          "metadata": {
            "tags": null
          },
          "name": "stderr",
          "output_type": "stream",
          "text": [
            "Epoch 13/100 [Valid]: 100%|██████████| 14/14 [00:00<00:00, 18.29it/s]\n"
          ]
        },
        {
          "metadata": {
            "tags": null
          },
          "name": "stdout",
          "output_type": "stream",
          "text": [
            "Validation Accuracy: 7.11%\n",
            "Epoch [13/100], Validation Loss: 3.6966\n"
          ]
        },
        {
          "metadata": {
            "tags": null
          },
          "name": "stderr",
          "output_type": "stream",
          "text": [
            "Epoch 14/100 [Train]: 100%|██████████| 58/58 [00:03<00:00, 14.85it/s]\n"
          ]
        },
        {
          "metadata": {
            "tags": null
          },
          "name": "stdout",
          "output_type": "stream",
          "text": [
            "Epoch [14/100], Loss: 3.0973\n"
          ]
        },
        {
          "metadata": {
            "tags": null
          },
          "name": "stderr",
          "output_type": "stream",
          "text": [
            "Epoch 14/100 [Valid]: 100%|██████████| 14/14 [00:00<00:00, 17.10it/s]\n"
          ]
        },
        {
          "metadata": {
            "tags": null
          },
          "name": "stdout",
          "output_type": "stream",
          "text": [
            "Validation Accuracy: 11.85%\n",
            "Epoch [14/100], Validation Loss: 3.5464\n",
            "Saved new best model with accuracy: 11.85%\n",
            "-----\n"
          ]
        },
        {
          "metadata": {
            "tags": null
          },
          "name": "stderr",
          "output_type": "stream",
          "text": [
            "Epoch 15/100 [Train]: 100%|██████████| 58/58 [00:04<00:00, 14.07it/s]\n"
          ]
        },
        {
          "metadata": {
            "tags": null
          },
          "name": "stdout",
          "output_type": "stream",
          "text": [
            "Epoch [15/100], Loss: 2.9474\n"
          ]
        },
        {
          "metadata": {
            "tags": null
          },
          "name": "stderr",
          "output_type": "stream",
          "text": [
            "Epoch 15/100 [Valid]: 100%|██████████| 14/14 [00:00<00:00, 18.56it/s]\n"
          ]
        },
        {
          "metadata": {
            "tags": null
          },
          "name": "stdout",
          "output_type": "stream",
          "text": [
            "Validation Accuracy: 13.27%\n",
            "Epoch [15/100], Validation Loss: 3.5495\n",
            "Saved new best model with accuracy: 13.27%\n",
            "-----\n"
          ]
        },
        {
          "metadata": {
            "tags": null
          },
          "name": "stderr",
          "output_type": "stream",
          "text": [
            "Epoch 16/100 [Train]: 100%|██████████| 58/58 [00:03<00:00, 14.81it/s]\n"
          ]
        },
        {
          "metadata": {
            "tags": null
          },
          "name": "stdout",
          "output_type": "stream",
          "text": [
            "Epoch [16/100], Loss: 2.7315\n"
          ]
        },
        {
          "metadata": {
            "tags": null
          },
          "name": "stderr",
          "output_type": "stream",
          "text": [
            "Epoch 16/100 [Valid]: 100%|██████████| 14/14 [00:00<00:00, 18.69it/s]\n"
          ]
        },
        {
          "metadata": {
            "tags": null
          },
          "name": "stdout",
          "output_type": "stream",
          "text": [
            "Validation Accuracy: 15.17%\n",
            "Epoch [16/100], Validation Loss: 3.4538\n",
            "Saved new best model with accuracy: 15.17%\n",
            "-----\n"
          ]
        },
        {
          "metadata": {
            "tags": null
          },
          "name": "stderr",
          "output_type": "stream",
          "text": [
            "Epoch 17/100 [Train]: 100%|██████████| 58/58 [00:03<00:00, 14.53it/s]\n"
          ]
        },
        {
          "metadata": {
            "tags": null
          },
          "name": "stdout",
          "output_type": "stream",
          "text": [
            "Epoch [17/100], Loss: 2.6055\n"
          ]
        },
        {
          "metadata": {
            "tags": null
          },
          "name": "stderr",
          "output_type": "stream",
          "text": [
            "Epoch 17/100 [Valid]: 100%|██████████| 14/14 [00:00<00:00, 18.18it/s]\n"
          ]
        },
        {
          "metadata": {
            "tags": null
          },
          "name": "stdout",
          "output_type": "stream",
          "text": [
            "Validation Accuracy: 15.17%\n",
            "Epoch [17/100], Validation Loss: 3.4507\n"
          ]
        },
        {
          "metadata": {
            "tags": null
          },
          "name": "stderr",
          "output_type": "stream",
          "text": [
            "Epoch 18/100 [Train]: 100%|██████████| 58/58 [00:03<00:00, 14.61it/s]\n"
          ]
        },
        {
          "metadata": {
            "tags": null
          },
          "name": "stdout",
          "output_type": "stream",
          "text": [
            "Epoch [18/100], Loss: 2.5359\n"
          ]
        },
        {
          "metadata": {
            "tags": null
          },
          "name": "stderr",
          "output_type": "stream",
          "text": [
            "Epoch 18/100 [Valid]: 100%|██████████| 14/14 [00:00<00:00, 18.60it/s]\n"
          ]
        },
        {
          "metadata": {
            "tags": null
          },
          "name": "stdout",
          "output_type": "stream",
          "text": [
            "Validation Accuracy: 15.17%\n",
            "Epoch [18/100], Validation Loss: 3.4206\n"
          ]
        },
        {
          "metadata": {
            "tags": null
          },
          "name": "stderr",
          "output_type": "stream",
          "text": [
            "Epoch 19/100 [Train]: 100%|██████████| 58/58 [00:03<00:00, 14.85it/s]\n"
          ]
        },
        {
          "metadata": {
            "tags": null
          },
          "name": "stdout",
          "output_type": "stream",
          "text": [
            "Epoch [19/100], Loss: 2.4633\n"
          ]
        },
        {
          "metadata": {
            "tags": null
          },
          "name": "stderr",
          "output_type": "stream",
          "text": [
            "Epoch 19/100 [Valid]: 100%|██████████| 14/14 [00:00<00:00, 18.26it/s]\n"
          ]
        },
        {
          "metadata": {
            "tags": null
          },
          "name": "stdout",
          "output_type": "stream",
          "text": [
            "Validation Accuracy: 17.06%\n",
            "Epoch [19/100], Validation Loss: 3.4458\n",
            "Saved new best model with accuracy: 17.06%\n",
            "-----\n"
          ]
        },
        {
          "metadata": {
            "tags": null
          },
          "name": "stderr",
          "output_type": "stream",
          "text": [
            "Epoch 20/100 [Train]: 100%|██████████| 58/58 [00:04<00:00, 14.07it/s]\n"
          ]
        },
        {
          "metadata": {
            "tags": null
          },
          "name": "stdout",
          "output_type": "stream",
          "text": [
            "Epoch [20/100], Loss: 2.2976\n"
          ]
        },
        {
          "metadata": {
            "tags": null
          },
          "name": "stderr",
          "output_type": "stream",
          "text": [
            "Epoch 20/100 [Valid]: 100%|██████████| 14/14 [00:00<00:00, 17.13it/s]\n"
          ]
        },
        {
          "metadata": {
            "tags": null
          },
          "name": "stdout",
          "output_type": "stream",
          "text": [
            "Validation Accuracy: 17.54%\n",
            "Epoch [20/100], Validation Loss: 3.4132\n",
            "Saved new best model with accuracy: 17.54%\n",
            "-----\n"
          ]
        },
        {
          "metadata": {
            "tags": null
          },
          "name": "stderr",
          "output_type": "stream",
          "text": [
            "Epoch 21/100 [Train]: 100%|██████████| 58/58 [00:03<00:00, 14.93it/s]\n"
          ]
        },
        {
          "metadata": {
            "tags": null
          },
          "name": "stdout",
          "output_type": "stream",
          "text": [
            "Epoch [21/100], Loss: 2.1969\n"
          ]
        },
        {
          "metadata": {
            "tags": null
          },
          "name": "stderr",
          "output_type": "stream",
          "text": [
            "Epoch 21/100 [Valid]: 100%|██████████| 14/14 [00:00<00:00, 18.33it/s]\n"
          ]
        },
        {
          "metadata": {
            "tags": null
          },
          "name": "stdout",
          "output_type": "stream",
          "text": [
            "Validation Accuracy: 16.11%\n",
            "Epoch [21/100], Validation Loss: 3.3349\n"
          ]
        },
        {
          "metadata": {
            "tags": null
          },
          "name": "stderr",
          "output_type": "stream",
          "text": [
            "Epoch 22/100 [Train]: 100%|██████████| 58/58 [00:03<00:00, 14.74it/s]\n"
          ]
        },
        {
          "metadata": {
            "tags": null
          },
          "name": "stdout",
          "output_type": "stream",
          "text": [
            "Epoch [22/100], Loss: 2.0338\n"
          ]
        },
        {
          "metadata": {
            "tags": null
          },
          "name": "stderr",
          "output_type": "stream",
          "text": [
            "Epoch 22/100 [Valid]: 100%|██████████| 14/14 [00:00<00:00, 18.14it/s]\n"
          ]
        },
        {
          "metadata": {
            "tags": null
          },
          "name": "stdout",
          "output_type": "stream",
          "text": [
            "Validation Accuracy: 18.96%\n",
            "Epoch [22/100], Validation Loss: 3.1905\n",
            "Saved new best model with accuracy: 18.96%\n",
            "-----\n"
          ]
        },
        {
          "metadata": {
            "tags": null
          },
          "name": "stderr",
          "output_type": "stream",
          "text": [
            "Epoch 23/100 [Train]: 100%|██████████| 58/58 [00:04<00:00, 13.81it/s]\n"
          ]
        },
        {
          "metadata": {
            "tags": null
          },
          "name": "stdout",
          "output_type": "stream",
          "text": [
            "Epoch [23/100], Loss: 1.9907\n"
          ]
        },
        {
          "metadata": {
            "tags": null
          },
          "name": "stderr",
          "output_type": "stream",
          "text": [
            "Epoch 23/100 [Valid]: 100%|██████████| 14/14 [00:00<00:00, 18.59it/s]\n"
          ]
        },
        {
          "metadata": {
            "tags": null
          },
          "name": "stdout",
          "output_type": "stream",
          "text": [
            "Validation Accuracy: 19.43%\n",
            "Epoch [23/100], Validation Loss: 3.4183\n",
            "Saved new best model with accuracy: 19.43%\n",
            "-----\n"
          ]
        },
        {
          "metadata": {
            "tags": null
          },
          "name": "stderr",
          "output_type": "stream",
          "text": [
            "Epoch 24/100 [Train]: 100%|██████████| 58/58 [00:03<00:00, 14.97it/s]\n"
          ]
        },
        {
          "metadata": {
            "tags": null
          },
          "name": "stdout",
          "output_type": "stream",
          "text": [
            "Epoch [24/100], Loss: 1.8877\n"
          ]
        },
        {
          "metadata": {
            "tags": null
          },
          "name": "stderr",
          "output_type": "stream",
          "text": [
            "Epoch 24/100 [Valid]: 100%|██████████| 14/14 [00:00<00:00, 18.12it/s]\n"
          ]
        },
        {
          "metadata": {
            "tags": null
          },
          "name": "stdout",
          "output_type": "stream",
          "text": [
            "Validation Accuracy: 21.33%\n",
            "Epoch [24/100], Validation Loss: 3.2279\n",
            "Saved new best model with accuracy: 21.33%\n",
            "-----\n"
          ]
        },
        {
          "metadata": {
            "tags": null
          },
          "name": "stderr",
          "output_type": "stream",
          "text": [
            "Epoch 25/100 [Train]: 100%|██████████| 58/58 [00:03<00:00, 14.84it/s]\n"
          ]
        },
        {
          "metadata": {
            "tags": null
          },
          "name": "stdout",
          "output_type": "stream",
          "text": [
            "Epoch [25/100], Loss: 1.8055\n"
          ]
        },
        {
          "metadata": {
            "tags": null
          },
          "name": "stderr",
          "output_type": "stream",
          "text": [
            "Epoch 25/100 [Valid]: 100%|██████████| 14/14 [00:00<00:00, 17.33it/s]\n"
          ]
        },
        {
          "metadata": {
            "tags": null
          },
          "name": "stdout",
          "output_type": "stream",
          "text": [
            "Validation Accuracy: 23.22%\n",
            "Epoch [25/100], Validation Loss: 3.3447\n",
            "Saved new best model with accuracy: 23.22%\n",
            "-----\n"
          ]
        },
        {
          "metadata": {
            "tags": null
          },
          "name": "stderr",
          "output_type": "stream",
          "text": [
            "Epoch 26/100 [Train]: 100%|██████████| 58/58 [00:04<00:00, 14.37it/s]\n"
          ]
        },
        {
          "metadata": {
            "tags": null
          },
          "name": "stdout",
          "output_type": "stream",
          "text": [
            "Epoch [26/100], Loss: 1.7180\n"
          ]
        },
        {
          "metadata": {
            "tags": null
          },
          "name": "stderr",
          "output_type": "stream",
          "text": [
            "Epoch 26/100 [Valid]: 100%|██████████| 14/14 [00:00<00:00, 18.25it/s]\n"
          ]
        },
        {
          "metadata": {
            "tags": null
          },
          "name": "stdout",
          "output_type": "stream",
          "text": [
            "Validation Accuracy: 26.54%\n",
            "Epoch [26/100], Validation Loss: 3.2685\n",
            "Saved new best model with accuracy: 26.54%\n",
            "-----\n"
          ]
        },
        {
          "metadata": {
            "tags": null
          },
          "name": "stderr",
          "output_type": "stream",
          "text": [
            "Epoch 27/100 [Train]: 100%|██████████| 58/58 [00:03<00:00, 14.95it/s]\n"
          ]
        },
        {
          "metadata": {
            "tags": null
          },
          "name": "stdout",
          "output_type": "stream",
          "text": [
            "Epoch [27/100], Loss: 1.5489\n"
          ]
        },
        {
          "metadata": {
            "tags": null
          },
          "name": "stderr",
          "output_type": "stream",
          "text": [
            "Epoch 27/100 [Valid]: 100%|██████████| 14/14 [00:00<00:00, 18.69it/s]\n"
          ]
        },
        {
          "metadata": {
            "tags": null
          },
          "name": "stdout",
          "output_type": "stream",
          "text": [
            "Validation Accuracy: 27.49%\n",
            "Epoch [27/100], Validation Loss: 3.3089\n",
            "Saved new best model with accuracy: 27.49%\n",
            "-----\n"
          ]
        },
        {
          "metadata": {
            "tags": null
          },
          "name": "stderr",
          "output_type": "stream",
          "text": [
            "Epoch 28/100 [Train]: 100%|██████████| 58/58 [00:03<00:00, 14.65it/s]\n"
          ]
        },
        {
          "metadata": {
            "tags": null
          },
          "name": "stdout",
          "output_type": "stream",
          "text": [
            "Epoch [28/100], Loss: 1.4923\n"
          ]
        },
        {
          "metadata": {
            "tags": null
          },
          "name": "stderr",
          "output_type": "stream",
          "text": [
            "Epoch 28/100 [Valid]: 100%|██████████| 14/14 [00:00<00:00, 18.42it/s]\n"
          ]
        },
        {
          "metadata": {
            "tags": null
          },
          "name": "stdout",
          "output_type": "stream",
          "text": [
            "Validation Accuracy: 22.75%\n",
            "Epoch [28/100], Validation Loss: 3.2397\n"
          ]
        },
        {
          "metadata": {
            "tags": null
          },
          "name": "stderr",
          "output_type": "stream",
          "text": [
            "Epoch 29/100 [Train]: 100%|██████████| 58/58 [00:04<00:00, 14.40it/s]\n"
          ]
        },
        {
          "metadata": {
            "tags": null
          },
          "name": "stdout",
          "output_type": "stream",
          "text": [
            "Epoch [29/100], Loss: 1.4237\n"
          ]
        },
        {
          "metadata": {
            "tags": null
          },
          "name": "stderr",
          "output_type": "stream",
          "text": [
            "Epoch 29/100 [Valid]: 100%|██████████| 14/14 [00:00<00:00, 18.45it/s]\n"
          ]
        },
        {
          "metadata": {
            "tags": null
          },
          "name": "stdout",
          "output_type": "stream",
          "text": [
            "Validation Accuracy: 25.12%\n",
            "Epoch [29/100], Validation Loss: 3.3579\n"
          ]
        },
        {
          "metadata": {
            "tags": null
          },
          "name": "stderr",
          "output_type": "stream",
          "text": [
            "Epoch 30/100 [Train]: 100%|██████████| 58/58 [00:03<00:00, 14.93it/s]\n"
          ]
        },
        {
          "metadata": {
            "tags": null
          },
          "name": "stdout",
          "output_type": "stream",
          "text": [
            "Epoch [30/100], Loss: 1.3096\n"
          ]
        },
        {
          "metadata": {
            "tags": null
          },
          "name": "stderr",
          "output_type": "stream",
          "text": [
            "Epoch 30/100 [Valid]: 100%|██████████| 14/14 [00:00<00:00, 18.75it/s]\n"
          ]
        },
        {
          "metadata": {
            "tags": null
          },
          "name": "stdout",
          "output_type": "stream",
          "text": [
            "Validation Accuracy: 28.91%\n",
            "Epoch [30/100], Validation Loss: 3.3453\n",
            "Saved new best model with accuracy: 28.91%\n",
            "-----\n"
          ]
        },
        {
          "metadata": {
            "tags": null
          },
          "name": "stderr",
          "output_type": "stream",
          "text": [
            "Epoch 31/100 [Train]: 100%|██████████| 58/58 [00:04<00:00, 14.30it/s]\n"
          ]
        },
        {
          "metadata": {
            "tags": null
          },
          "name": "stdout",
          "output_type": "stream",
          "text": [
            "Epoch [31/100], Loss: 1.2615\n"
          ]
        },
        {
          "metadata": {
            "tags": null
          },
          "name": "stderr",
          "output_type": "stream",
          "text": [
            "Epoch 31/100 [Valid]: 100%|██████████| 14/14 [00:00<00:00, 17.23it/s]\n"
          ]
        },
        {
          "metadata": {
            "tags": null
          },
          "name": "stdout",
          "output_type": "stream",
          "text": [
            "Validation Accuracy: 32.23%\n",
            "Epoch [31/100], Validation Loss: 3.1997\n",
            "Saved new best model with accuracy: 32.23%\n",
            "-----\n"
          ]
        },
        {
          "metadata": {
            "tags": null
          },
          "name": "stderr",
          "output_type": "stream",
          "text": [
            "Epoch 32/100 [Train]: 100%|██████████| 58/58 [00:03<00:00, 15.04it/s]\n"
          ]
        },
        {
          "metadata": {
            "tags": null
          },
          "name": "stdout",
          "output_type": "stream",
          "text": [
            "Epoch [32/100], Loss: 1.1750\n"
          ]
        },
        {
          "metadata": {
            "tags": null
          },
          "name": "stderr",
          "output_type": "stream",
          "text": [
            "Epoch 32/100 [Valid]: 100%|██████████| 14/14 [00:00<00:00, 18.56it/s]\n"
          ]
        },
        {
          "metadata": {
            "tags": null
          },
          "name": "stdout",
          "output_type": "stream",
          "text": [
            "Validation Accuracy: 25.12%\n",
            "Epoch [32/100], Validation Loss: 3.4178\n"
          ]
        },
        {
          "metadata": {
            "tags": null
          },
          "name": "stderr",
          "output_type": "stream",
          "text": [
            "Epoch 33/100 [Train]: 100%|██████████| 58/58 [00:03<00:00, 15.06it/s]\n"
          ]
        },
        {
          "metadata": {
            "tags": null
          },
          "name": "stdout",
          "output_type": "stream",
          "text": [
            "Epoch [33/100], Loss: 1.0701\n"
          ]
        },
        {
          "metadata": {
            "tags": null
          },
          "name": "stderr",
          "output_type": "stream",
          "text": [
            "Epoch 33/100 [Valid]: 100%|██████████| 14/14 [00:00<00:00, 18.40it/s]\n"
          ]
        },
        {
          "metadata": {
            "tags": null
          },
          "name": "stdout",
          "output_type": "stream",
          "text": [
            "Validation Accuracy: 30.81%\n",
            "Epoch [33/100], Validation Loss: 3.3007\n"
          ]
        },
        {
          "metadata": {
            "tags": null
          },
          "name": "stderr",
          "output_type": "stream",
          "text": [
            "Epoch 34/100 [Train]: 100%|██████████| 58/58 [00:04<00:00, 13.13it/s]\n"
          ]
        },
        {
          "metadata": {
            "tags": null
          },
          "name": "stdout",
          "output_type": "stream",
          "text": [
            "Epoch [34/100], Loss: 0.9986\n"
          ]
        },
        {
          "metadata": {
            "tags": null
          },
          "name": "stderr",
          "output_type": "stream",
          "text": [
            "Epoch 34/100 [Valid]: 100%|██████████| 14/14 [00:00<00:00, 18.71it/s]\n"
          ]
        },
        {
          "metadata": {
            "tags": null
          },
          "name": "stdout",
          "output_type": "stream",
          "text": [
            "Validation Accuracy: 29.86%\n",
            "Epoch [34/100], Validation Loss: 3.3441\n"
          ]
        },
        {
          "metadata": {
            "tags": null
          },
          "name": "stderr",
          "output_type": "stream",
          "text": [
            "Epoch 35/100 [Train]: 100%|██████████| 58/58 [00:03<00:00, 15.11it/s]\n"
          ]
        },
        {
          "metadata": {
            "tags": null
          },
          "name": "stdout",
          "output_type": "stream",
          "text": [
            "Epoch [35/100], Loss: 1.0094\n"
          ]
        },
        {
          "metadata": {
            "tags": null
          },
          "name": "stderr",
          "output_type": "stream",
          "text": [
            "Epoch 35/100 [Valid]: 100%|██████████| 14/14 [00:00<00:00, 18.56it/s]\n"
          ]
        },
        {
          "metadata": {
            "tags": null
          },
          "name": "stdout",
          "output_type": "stream",
          "text": [
            "Validation Accuracy: 27.96%\n",
            "Epoch [35/100], Validation Loss: 3.2658\n"
          ]
        },
        {
          "metadata": {
            "tags": null
          },
          "name": "stderr",
          "output_type": "stream",
          "text": [
            "Epoch 36/100 [Train]: 100%|██████████| 58/58 [00:03<00:00, 15.13it/s]\n"
          ]
        },
        {
          "metadata": {
            "tags": null
          },
          "name": "stdout",
          "output_type": "stream",
          "text": [
            "Epoch [36/100], Loss: 1.0153\n"
          ]
        },
        {
          "metadata": {
            "tags": null
          },
          "name": "stderr",
          "output_type": "stream",
          "text": [
            "Epoch 36/100 [Valid]: 100%|██████████| 14/14 [00:00<00:00, 17.66it/s]\n"
          ]
        },
        {
          "metadata": {
            "tags": null
          },
          "name": "stdout",
          "output_type": "stream",
          "text": [
            "Validation Accuracy: 29.38%\n",
            "Epoch [36/100], Validation Loss: 3.3591\n"
          ]
        },
        {
          "metadata": {
            "tags": null
          },
          "name": "stderr",
          "output_type": "stream",
          "text": [
            "Epoch 37/100 [Train]: 100%|██████████| 58/58 [00:04<00:00, 14.19it/s]\n"
          ]
        },
        {
          "metadata": {
            "tags": null
          },
          "name": "stdout",
          "output_type": "stream",
          "text": [
            "Epoch [37/100], Loss: 1.0152\n"
          ]
        },
        {
          "metadata": {
            "tags": null
          },
          "name": "stderr",
          "output_type": "stream",
          "text": [
            "Epoch 37/100 [Valid]: 100%|██████████| 14/14 [00:00<00:00, 18.63it/s]\n"
          ]
        },
        {
          "metadata": {
            "tags": null
          },
          "name": "stdout",
          "output_type": "stream",
          "text": [
            "Validation Accuracy: 29.38%\n",
            "Epoch [37/100], Validation Loss: 3.2864\n"
          ]
        },
        {
          "metadata": {
            "tags": null
          },
          "name": "stderr",
          "output_type": "stream",
          "text": [
            "Epoch 38/100 [Train]: 100%|██████████| 58/58 [00:03<00:00, 15.07it/s]\n"
          ]
        },
        {
          "metadata": {
            "tags": null
          },
          "name": "stdout",
          "output_type": "stream",
          "text": [
            "Epoch [38/100], Loss: 0.7663\n"
          ]
        },
        {
          "metadata": {
            "tags": null
          },
          "name": "stderr",
          "output_type": "stream",
          "text": [
            "Epoch 38/100 [Valid]: 100%|██████████| 14/14 [00:00<00:00, 18.46it/s]\n"
          ]
        },
        {
          "metadata": {
            "tags": null
          },
          "name": "stdout",
          "output_type": "stream",
          "text": [
            "Validation Accuracy: 31.28%\n",
            "Epoch [38/100], Validation Loss: 3.2477\n"
          ]
        },
        {
          "metadata": {
            "tags": null
          },
          "name": "stderr",
          "output_type": "stream",
          "text": [
            "Epoch 39/100 [Train]: 100%|██████████| 58/58 [00:03<00:00, 14.73it/s]\n"
          ]
        },
        {
          "metadata": {
            "tags": null
          },
          "name": "stdout",
          "output_type": "stream",
          "text": [
            "Epoch [39/100], Loss: 0.5745\n"
          ]
        },
        {
          "metadata": {
            "tags": null
          },
          "name": "stderr",
          "output_type": "stream",
          "text": [
            "Epoch 39/100 [Valid]: 100%|██████████| 14/14 [00:00<00:00, 17.28it/s]\n"
          ]
        },
        {
          "metadata": {
            "tags": null
          },
          "name": "stdout",
          "output_type": "stream",
          "text": [
            "Validation Accuracy: 32.70%\n",
            "Epoch [39/100], Validation Loss: 3.3560\n",
            "Saved new best model with accuracy: 32.70%\n",
            "-----\n"
          ]
        },
        {
          "metadata": {
            "tags": null
          },
          "name": "stderr",
          "output_type": "stream",
          "text": [
            "Epoch 40/100 [Train]: 100%|██████████| 58/58 [00:03<00:00, 14.52it/s]\n"
          ]
        },
        {
          "metadata": {
            "tags": null
          },
          "name": "stdout",
          "output_type": "stream",
          "text": [
            "Epoch [40/100], Loss: 0.5086\n"
          ]
        },
        {
          "metadata": {
            "tags": null
          },
          "name": "stderr",
          "output_type": "stream",
          "text": [
            "Epoch 40/100 [Valid]: 100%|██████████| 14/14 [00:00<00:00, 18.69it/s]\n"
          ]
        },
        {
          "metadata": {
            "tags": null
          },
          "name": "stdout",
          "output_type": "stream",
          "text": [
            "Validation Accuracy: 35.07%\n",
            "Epoch [40/100], Validation Loss: 3.3614\n",
            "Saved new best model with accuracy: 35.07%\n",
            "-----\n"
          ]
        },
        {
          "metadata": {
            "tags": null
          },
          "name": "stderr",
          "output_type": "stream",
          "text": [
            "Epoch 41/100 [Train]: 100%|██████████| 58/58 [00:03<00:00, 14.95it/s]\n"
          ]
        },
        {
          "metadata": {
            "tags": null
          },
          "name": "stdout",
          "output_type": "stream",
          "text": [
            "Epoch [41/100], Loss: 0.5124\n"
          ]
        },
        {
          "metadata": {
            "tags": null
          },
          "name": "stderr",
          "output_type": "stream",
          "text": [
            "Epoch 41/100 [Valid]: 100%|██████████| 14/14 [00:00<00:00, 18.38it/s]\n"
          ]
        },
        {
          "metadata": {
            "tags": null
          },
          "name": "stdout",
          "output_type": "stream",
          "text": [
            "Validation Accuracy: 33.65%\n",
            "Epoch [41/100], Validation Loss: 3.4730\n"
          ]
        },
        {
          "metadata": {
            "tags": null
          },
          "name": "stderr",
          "output_type": "stream",
          "text": [
            "Epoch 42/100 [Train]: 100%|██████████| 58/58 [00:04<00:00, 14.32it/s]\n"
          ]
        },
        {
          "metadata": {
            "tags": null
          },
          "name": "stdout",
          "output_type": "stream",
          "text": [
            "Epoch [42/100], Loss: 0.5689\n"
          ]
        },
        {
          "metadata": {
            "tags": null
          },
          "name": "stderr",
          "output_type": "stream",
          "text": [
            "Epoch 42/100 [Valid]: 100%|██████████| 14/14 [00:00<00:00, 16.86it/s]\n"
          ]
        },
        {
          "metadata": {
            "tags": null
          },
          "name": "stdout",
          "output_type": "stream",
          "text": [
            "Validation Accuracy: 34.60%\n",
            "Epoch [42/100], Validation Loss: 3.4001\n"
          ]
        },
        {
          "metadata": {
            "tags": null
          },
          "name": "stderr",
          "output_type": "stream",
          "text": [
            "Epoch 43/100 [Train]: 100%|██████████| 58/58 [00:03<00:00, 15.08it/s]\n"
          ]
        },
        {
          "metadata": {
            "tags": null
          },
          "name": "stdout",
          "output_type": "stream",
          "text": [
            "Epoch [43/100], Loss: 0.4482\n"
          ]
        },
        {
          "metadata": {
            "tags": null
          },
          "name": "stderr",
          "output_type": "stream",
          "text": [
            "Epoch 43/100 [Valid]: 100%|██████████| 14/14 [00:00<00:00, 18.43it/s]\n"
          ]
        },
        {
          "metadata": {
            "tags": null
          },
          "name": "stdout",
          "output_type": "stream",
          "text": [
            "Validation Accuracy: 32.70%\n",
            "Epoch [43/100], Validation Loss: 3.4605\n"
          ]
        },
        {
          "metadata": {
            "tags": null
          },
          "name": "stderr",
          "output_type": "stream",
          "text": [
            "Epoch 44/100 [Train]: 100%|██████████| 58/58 [00:03<00:00, 14.83it/s]\n"
          ]
        },
        {
          "metadata": {
            "tags": null
          },
          "name": "stdout",
          "output_type": "stream",
          "text": [
            "Epoch [44/100], Loss: 0.4609\n"
          ]
        },
        {
          "metadata": {
            "tags": null
          },
          "name": "stderr",
          "output_type": "stream",
          "text": [
            "Epoch 44/100 [Valid]: 100%|██████████| 14/14 [00:00<00:00, 18.44it/s]\n"
          ]
        },
        {
          "metadata": {
            "tags": null
          },
          "name": "stdout",
          "output_type": "stream",
          "text": [
            "Validation Accuracy: 35.07%\n",
            "Epoch [44/100], Validation Loss: 3.4414\n"
          ]
        },
        {
          "metadata": {
            "tags": null
          },
          "name": "stderr",
          "output_type": "stream",
          "text": [
            "Epoch 45/100 [Train]: 100%|██████████| 58/58 [00:04<00:00, 14.04it/s]\n"
          ]
        },
        {
          "metadata": {
            "tags": null
          },
          "name": "stdout",
          "output_type": "stream",
          "text": [
            "Epoch [45/100], Loss: 0.4093\n"
          ]
        },
        {
          "metadata": {
            "tags": null
          },
          "name": "stderr",
          "output_type": "stream",
          "text": [
            "Epoch 45/100 [Valid]: 100%|██████████| 14/14 [00:00<00:00, 18.72it/s]\n"
          ]
        },
        {
          "metadata": {
            "tags": null
          },
          "name": "stdout",
          "output_type": "stream",
          "text": [
            "Validation Accuracy: 33.18%\n",
            "Epoch [45/100], Validation Loss: 3.5333\n"
          ]
        },
        {
          "metadata": {
            "tags": null
          },
          "name": "stderr",
          "output_type": "stream",
          "text": [
            "Epoch 46/100 [Train]: 100%|██████████| 58/58 [00:03<00:00, 15.08it/s]\n"
          ]
        },
        {
          "metadata": {
            "tags": null
          },
          "name": "stdout",
          "output_type": "stream",
          "text": [
            "Epoch [46/100], Loss: 0.3906\n"
          ]
        },
        {
          "metadata": {
            "tags": null
          },
          "name": "stderr",
          "output_type": "stream",
          "text": [
            "Epoch 46/100 [Valid]: 100%|██████████| 14/14 [00:00<00:00, 18.36it/s]\n"
          ]
        },
        {
          "metadata": {
            "tags": null
          },
          "name": "stdout",
          "output_type": "stream",
          "text": [
            "Validation Accuracy: 31.75%\n",
            "Epoch [46/100], Validation Loss: 3.5485\n"
          ]
        },
        {
          "metadata": {
            "tags": null
          },
          "name": "stderr",
          "output_type": "stream",
          "text": [
            "Epoch 47/100 [Train]: 100%|██████████| 58/58 [00:03<00:00, 15.21it/s]\n"
          ]
        },
        {
          "metadata": {
            "tags": null
          },
          "name": "stdout",
          "output_type": "stream",
          "text": [
            "Epoch [47/100], Loss: 0.3817\n"
          ]
        },
        {
          "metadata": {
            "tags": null
          },
          "name": "stderr",
          "output_type": "stream",
          "text": [
            "Epoch 47/100 [Valid]: 100%|██████████| 14/14 [00:00<00:00, 17.55it/s]\n"
          ]
        },
        {
          "metadata": {
            "tags": null
          },
          "name": "stdout",
          "output_type": "stream",
          "text": [
            "Validation Accuracy: 35.55%\n",
            "Epoch [47/100], Validation Loss: 3.4557\n",
            "Saved new best model with accuracy: 35.55%\n",
            "-----\n"
          ]
        },
        {
          "metadata": {
            "tags": null
          },
          "name": "stderr",
          "output_type": "stream",
          "text": [
            "Epoch 48/100 [Train]: 100%|██████████| 58/58 [00:04<00:00, 14.06it/s]\n"
          ]
        },
        {
          "metadata": {
            "tags": null
          },
          "name": "stdout",
          "output_type": "stream",
          "text": [
            "Epoch [48/100], Loss: 0.3361\n"
          ]
        },
        {
          "metadata": {
            "tags": null
          },
          "name": "stderr",
          "output_type": "stream",
          "text": [
            "Epoch 48/100 [Valid]: 100%|██████████| 14/14 [00:00<00:00, 18.46it/s]\n"
          ]
        },
        {
          "metadata": {
            "tags": null
          },
          "name": "stdout",
          "output_type": "stream",
          "text": [
            "Validation Accuracy: 34.60%\n",
            "Epoch [48/100], Validation Loss: 3.4535\n"
          ]
        },
        {
          "metadata": {
            "tags": null
          },
          "name": "stderr",
          "output_type": "stream",
          "text": [
            "Epoch 49/100 [Train]: 100%|██████████| 58/58 [00:03<00:00, 14.92it/s]\n"
          ]
        },
        {
          "metadata": {
            "tags": null
          },
          "name": "stdout",
          "output_type": "stream",
          "text": [
            "Epoch [49/100], Loss: 0.2963\n"
          ]
        },
        {
          "metadata": {
            "tags": null
          },
          "name": "stderr",
          "output_type": "stream",
          "text": [
            "Epoch 49/100 [Valid]: 100%|██████████| 14/14 [00:00<00:00, 18.58it/s]\n"
          ]
        },
        {
          "metadata": {
            "tags": null
          },
          "name": "stdout",
          "output_type": "stream",
          "text": [
            "Validation Accuracy: 31.28%\n",
            "Epoch [49/100], Validation Loss: 3.4763\n"
          ]
        },
        {
          "metadata": {
            "tags": null
          },
          "name": "stderr",
          "output_type": "stream",
          "text": [
            "Epoch 50/100 [Train]: 100%|██████████| 58/58 [00:03<00:00, 14.60it/s]\n"
          ]
        },
        {
          "metadata": {
            "tags": null
          },
          "name": "stdout",
          "output_type": "stream",
          "text": [
            "Epoch [50/100], Loss: 0.2465\n"
          ]
        },
        {
          "metadata": {
            "tags": null
          },
          "name": "stderr",
          "output_type": "stream",
          "text": [
            "Epoch 50/100 [Valid]: 100%|██████████| 14/14 [00:00<00:00, 17.44it/s]\n"
          ]
        },
        {
          "metadata": {
            "tags": null
          },
          "name": "stdout",
          "output_type": "stream",
          "text": [
            "Validation Accuracy: 33.65%\n",
            "Epoch [50/100], Validation Loss: 3.5159\n"
          ]
        },
        {
          "metadata": {
            "tags": null
          },
          "name": "stderr",
          "output_type": "stream",
          "text": [
            "Epoch 51/100 [Train]: 100%|██████████| 58/58 [00:04<00:00, 14.47it/s]\n"
          ]
        },
        {
          "metadata": {
            "tags": null
          },
          "name": "stdout",
          "output_type": "stream",
          "text": [
            "Epoch [51/100], Loss: 0.2963\n"
          ]
        },
        {
          "metadata": {
            "tags": null
          },
          "name": "stderr",
          "output_type": "stream",
          "text": [
            "Epoch 51/100 [Valid]: 100%|██████████| 14/14 [00:00<00:00, 18.64it/s]\n"
          ]
        },
        {
          "metadata": {
            "tags": null
          },
          "name": "stdout",
          "output_type": "stream",
          "text": [
            "Validation Accuracy: 34.12%\n",
            "Epoch [51/100], Validation Loss: 3.5255\n"
          ]
        },
        {
          "metadata": {
            "tags": null
          },
          "name": "stderr",
          "output_type": "stream",
          "text": [
            "Epoch 52/100 [Train]: 100%|██████████| 58/58 [00:03<00:00, 15.12it/s]\n"
          ]
        },
        {
          "metadata": {
            "tags": null
          },
          "name": "stdout",
          "output_type": "stream",
          "text": [
            "Epoch [52/100], Loss: 0.3457\n"
          ]
        },
        {
          "metadata": {
            "tags": null
          },
          "name": "stderr",
          "output_type": "stream",
          "text": [
            "Epoch 52/100 [Valid]: 100%|██████████| 14/14 [00:00<00:00, 18.82it/s]\n"
          ]
        },
        {
          "metadata": {
            "tags": null
          },
          "name": "stdout",
          "output_type": "stream",
          "text": [
            "Validation Accuracy: 35.55%\n",
            "Epoch [52/100], Validation Loss: 3.5748\n"
          ]
        },
        {
          "metadata": {
            "tags": null
          },
          "name": "stderr",
          "output_type": "stream",
          "text": [
            "Epoch 53/100 [Train]: 100%|██████████| 58/58 [00:03<00:00, 14.56it/s]\n"
          ]
        },
        {
          "metadata": {
            "tags": null
          },
          "name": "stdout",
          "output_type": "stream",
          "text": [
            "Epoch [53/100], Loss: 0.2310\n"
          ]
        },
        {
          "metadata": {
            "tags": null
          },
          "name": "stderr",
          "output_type": "stream",
          "text": [
            "Epoch 53/100 [Valid]: 100%|██████████| 14/14 [00:00<00:00, 16.78it/s]\n"
          ]
        },
        {
          "metadata": {
            "tags": null
          },
          "name": "stdout",
          "output_type": "stream",
          "text": [
            "Validation Accuracy: 36.49%\n",
            "Epoch [53/100], Validation Loss: 3.4713\n",
            "Saved new best model with accuracy: 36.49%\n",
            "-----\n"
          ]
        },
        {
          "metadata": {
            "tags": null
          },
          "name": "stderr",
          "output_type": "stream",
          "text": [
            "Epoch 54/100 [Train]: 100%|██████████| 58/58 [00:04<00:00, 13.48it/s]\n"
          ]
        },
        {
          "metadata": {
            "tags": null
          },
          "name": "stdout",
          "output_type": "stream",
          "text": [
            "Epoch [54/100], Loss: 0.3198\n"
          ]
        },
        {
          "metadata": {
            "tags": null
          },
          "name": "stderr",
          "output_type": "stream",
          "text": [
            "Epoch 54/100 [Valid]: 100%|██████████| 14/14 [00:00<00:00, 16.75it/s]\n"
          ]
        },
        {
          "metadata": {
            "tags": null
          },
          "name": "stdout",
          "output_type": "stream",
          "text": [
            "Validation Accuracy: 38.86%\n",
            "Epoch [54/100], Validation Loss: 3.5477\n",
            "Saved new best model with accuracy: 38.86%\n",
            "-----\n"
          ]
        },
        {
          "metadata": {
            "tags": null
          },
          "name": "stderr",
          "output_type": "stream",
          "text": [
            "Epoch 55/100 [Train]: 100%|██████████| 58/58 [00:04<00:00, 13.43it/s]\n"
          ]
        },
        {
          "metadata": {
            "tags": null
          },
          "name": "stdout",
          "output_type": "stream",
          "text": [
            "Epoch [55/100], Loss: 0.2645\n"
          ]
        },
        {
          "metadata": {
            "tags": null
          },
          "name": "stderr",
          "output_type": "stream",
          "text": [
            "Epoch 55/100 [Valid]: 100%|██████████| 14/14 [00:00<00:00, 17.90it/s]\n"
          ]
        },
        {
          "metadata": {
            "tags": null
          },
          "name": "stdout",
          "output_type": "stream",
          "text": [
            "Validation Accuracy: 35.55%\n",
            "Epoch [55/100], Validation Loss: 3.5338\n"
          ]
        },
        {
          "metadata": {
            "tags": null
          },
          "name": "stderr",
          "output_type": "stream",
          "text": [
            "Epoch 56/100 [Train]: 100%|██████████| 58/58 [00:05<00:00, 11.08it/s]\n"
          ]
        },
        {
          "metadata": {
            "tags": null
          },
          "name": "stdout",
          "output_type": "stream",
          "text": [
            "Epoch [56/100], Loss: 0.2557\n"
          ]
        },
        {
          "metadata": {
            "tags": null
          },
          "name": "stderr",
          "output_type": "stream",
          "text": [
            "Epoch 56/100 [Valid]: 100%|██████████| 14/14 [00:00<00:00, 18.66it/s]\n"
          ]
        },
        {
          "metadata": {
            "tags": null
          },
          "name": "stdout",
          "output_type": "stream",
          "text": [
            "Validation Accuracy: 35.55%\n",
            "Epoch [56/100], Validation Loss: 3.5635\n"
          ]
        },
        {
          "metadata": {
            "tags": null
          },
          "name": "stderr",
          "output_type": "stream",
          "text": [
            "Epoch 57/100 [Train]: 100%|██████████| 58/58 [00:04<00:00, 12.98it/s]\n"
          ]
        },
        {
          "metadata": {
            "tags": null
          },
          "name": "stdout",
          "output_type": "stream",
          "text": [
            "Epoch [57/100], Loss: 0.2771\n"
          ]
        },
        {
          "metadata": {
            "tags": null
          },
          "name": "stderr",
          "output_type": "stream",
          "text": [
            "Epoch 57/100 [Valid]: 100%|██████████| 14/14 [00:00<00:00, 18.01it/s]\n"
          ]
        },
        {
          "metadata": {
            "tags": null
          },
          "name": "stdout",
          "output_type": "stream",
          "text": [
            "Validation Accuracy: 39.81%\n",
            "Epoch [57/100], Validation Loss: 3.5067\n",
            "Saved new best model with accuracy: 39.81%\n",
            "-----\n"
          ]
        },
        {
          "metadata": {
            "tags": null
          },
          "name": "stderr",
          "output_type": "stream",
          "text": [
            "Epoch 58/100 [Train]: 100%|██████████| 58/58 [00:04<00:00, 13.75it/s]\n"
          ]
        },
        {
          "metadata": {
            "tags": null
          },
          "name": "stdout",
          "output_type": "stream",
          "text": [
            "Epoch [58/100], Loss: 0.2321\n"
          ]
        },
        {
          "metadata": {
            "tags": null
          },
          "name": "stderr",
          "output_type": "stream",
          "text": [
            "Epoch 58/100 [Valid]: 100%|██████████| 14/14 [00:00<00:00, 16.53it/s]\n"
          ]
        },
        {
          "metadata": {
            "tags": null
          },
          "name": "stdout",
          "output_type": "stream",
          "text": [
            "Validation Accuracy: 35.07%\n",
            "Epoch [58/100], Validation Loss: 3.6325\n"
          ]
        },
        {
          "metadata": {
            "tags": null
          },
          "name": "stderr",
          "output_type": "stream",
          "text": [
            "Epoch 59/100 [Train]: 100%|██████████| 58/58 [00:04<00:00, 14.31it/s]\n"
          ]
        },
        {
          "metadata": {
            "tags": null
          },
          "name": "stdout",
          "output_type": "stream",
          "text": [
            "Epoch [59/100], Loss: 0.2563\n"
          ]
        },
        {
          "metadata": {
            "tags": null
          },
          "name": "stderr",
          "output_type": "stream",
          "text": [
            "Epoch 59/100 [Valid]: 100%|██████████| 14/14 [00:00<00:00, 17.90it/s]\n"
          ]
        },
        {
          "metadata": {
            "tags": null
          },
          "name": "stdout",
          "output_type": "stream",
          "text": [
            "Validation Accuracy: 37.44%\n",
            "Epoch [59/100], Validation Loss: 3.5753\n"
          ]
        },
        {
          "metadata": {
            "tags": null
          },
          "name": "stderr",
          "output_type": "stream",
          "text": [
            "Epoch 60/100 [Train]: 100%|██████████| 58/58 [00:03<00:00, 14.70it/s]\n"
          ]
        },
        {
          "metadata": {
            "tags": null
          },
          "name": "stdout",
          "output_type": "stream",
          "text": [
            "Epoch [60/100], Loss: 0.2317\n"
          ]
        },
        {
          "metadata": {
            "tags": null
          },
          "name": "stderr",
          "output_type": "stream",
          "text": [
            "Epoch 60/100 [Valid]: 100%|██████████| 14/14 [00:00<00:00, 17.90it/s]\n"
          ]
        },
        {
          "metadata": {
            "tags": null
          },
          "name": "stdout",
          "output_type": "stream",
          "text": [
            "Validation Accuracy: 36.49%\n",
            "Epoch [60/100], Validation Loss: 3.6086\n"
          ]
        },
        {
          "metadata": {
            "tags": null
          },
          "name": "stderr",
          "output_type": "stream",
          "text": [
            "Epoch 61/100 [Train]: 100%|██████████| 58/58 [00:04<00:00, 13.90it/s]\n"
          ]
        },
        {
          "metadata": {
            "tags": null
          },
          "name": "stdout",
          "output_type": "stream",
          "text": [
            "Epoch [61/100], Loss: 0.1824\n"
          ]
        },
        {
          "metadata": {
            "tags": null
          },
          "name": "stderr",
          "output_type": "stream",
          "text": [
            "Epoch 61/100 [Valid]: 100%|██████████| 14/14 [00:00<00:00, 18.37it/s]\n"
          ]
        },
        {
          "metadata": {
            "tags": null
          },
          "name": "stdout",
          "output_type": "stream",
          "text": [
            "Validation Accuracy: 34.60%\n",
            "Epoch [61/100], Validation Loss: 3.6771\n"
          ]
        },
        {
          "metadata": {
            "tags": null
          },
          "name": "stderr",
          "output_type": "stream",
          "text": [
            "Epoch 62/100 [Train]: 100%|██████████| 58/58 [00:03<00:00, 14.79it/s]\n"
          ]
        },
        {
          "metadata": {
            "tags": null
          },
          "name": "stdout",
          "output_type": "stream",
          "text": [
            "Epoch [62/100], Loss: 0.1992\n"
          ]
        },
        {
          "metadata": {
            "tags": null
          },
          "name": "stderr",
          "output_type": "stream",
          "text": [
            "Epoch 62/100 [Valid]: 100%|██████████| 14/14 [00:00<00:00, 18.22it/s]\n"
          ]
        },
        {
          "metadata": {
            "tags": null
          },
          "name": "stdout",
          "output_type": "stream",
          "text": [
            "Validation Accuracy: 38.86%\n",
            "Epoch [62/100], Validation Loss: 3.5817\n"
          ]
        },
        {
          "output_type": "stream",
          "name": "stderr",
          "text": [
            "Epoch 63/100 [Train]: 100%|██████████| 58/58 [00:03<00:00, 15.00it/s]\n"
          ]
        },
        {
          "output_type": "stream",
          "name": "stdout",
          "text": [
            "Epoch [63/100], Loss: 0.2973\n"
          ]
        },
        {
          "output_type": "stream",
          "name": "stderr",
          "text": [
            "Epoch 63/100 [Valid]: 100%|██████████| 14/14 [00:00<00:00, 17.39it/s]\n"
          ]
        },
        {
          "output_type": "stream",
          "name": "stdout",
          "text": [
            "Validation Accuracy: 36.49%\n",
            "Epoch [63/100], Validation Loss: 3.7749\n"
          ]
        },
        {
          "output_type": "stream",
          "name": "stderr",
          "text": [
            "Epoch 64/100 [Train]: 100%|██████████| 58/58 [00:04<00:00, 13.34it/s]\n"
          ]
        },
        {
          "output_type": "stream",
          "name": "stdout",
          "text": [
            "Epoch [64/100], Loss: 0.1389\n"
          ]
        },
        {
          "output_type": "stream",
          "name": "stderr",
          "text": [
            "Epoch 64/100 [Valid]: 100%|██████████| 14/14 [00:00<00:00, 18.10it/s]\n"
          ]
        },
        {
          "output_type": "stream",
          "name": "stdout",
          "text": [
            "Validation Accuracy: 39.34%\n",
            "Epoch [64/100], Validation Loss: 3.6129\n"
          ]
        },
        {
          "output_type": "stream",
          "name": "stderr",
          "text": [
            "Epoch 65/100 [Train]: 100%|██████████| 58/58 [00:03<00:00, 14.91it/s]\n"
          ]
        },
        {
          "output_type": "stream",
          "name": "stdout",
          "text": [
            "Epoch [65/100], Loss: 0.1889\n"
          ]
        },
        {
          "output_type": "stream",
          "name": "stderr",
          "text": [
            "Epoch 65/100 [Valid]: 100%|██████████| 14/14 [00:00<00:00, 18.06it/s]\n"
          ]
        },
        {
          "output_type": "stream",
          "name": "stdout",
          "text": [
            "Validation Accuracy: 39.81%\n",
            "Epoch [65/100], Validation Loss: 3.5681\n"
          ]
        },
        {
          "output_type": "stream",
          "name": "stderr",
          "text": [
            "Epoch 66/100 [Train]: 100%|██████████| 58/58 [00:03<00:00, 14.67it/s]\n"
          ]
        },
        {
          "output_type": "stream",
          "name": "stdout",
          "text": [
            "Epoch [66/100], Loss: 0.1564\n"
          ]
        },
        {
          "output_type": "stream",
          "name": "stderr",
          "text": [
            "Epoch 66/100 [Valid]: 100%|██████████| 14/14 [00:00<00:00, 18.13it/s]\n"
          ]
        },
        {
          "output_type": "stream",
          "name": "stdout",
          "text": [
            "Validation Accuracy: 40.28%\n",
            "Epoch [66/100], Validation Loss: 3.6002\n",
            "Saved new best model with accuracy: 40.28%\n",
            "-----\n"
          ]
        },
        {
          "output_type": "stream",
          "name": "stderr",
          "text": [
            "Epoch 67/100 [Train]: 100%|██████████| 58/58 [00:04<00:00, 14.30it/s]\n"
          ]
        },
        {
          "output_type": "stream",
          "name": "stdout",
          "text": [
            "Epoch [67/100], Loss: 0.1399\n"
          ]
        },
        {
          "output_type": "stream",
          "name": "stderr",
          "text": [
            "Epoch 67/100 [Valid]: 100%|██████████| 14/14 [00:00<00:00, 18.66it/s]\n"
          ]
        },
        {
          "output_type": "stream",
          "name": "stdout",
          "text": [
            "Validation Accuracy: 35.55%\n",
            "Epoch [67/100], Validation Loss: 3.8101\n"
          ]
        },
        {
          "output_type": "stream",
          "name": "stderr",
          "text": [
            "Epoch 68/100 [Train]: 100%|██████████| 58/58 [00:03<00:00, 15.02it/s]\n"
          ]
        },
        {
          "output_type": "stream",
          "name": "stdout",
          "text": [
            "Epoch [68/100], Loss: 0.1613\n"
          ]
        },
        {
          "output_type": "stream",
          "name": "stderr",
          "text": [
            "Epoch 68/100 [Valid]: 100%|██████████| 14/14 [00:00<00:00, 18.27it/s]\n"
          ]
        },
        {
          "output_type": "stream",
          "name": "stdout",
          "text": [
            "Validation Accuracy: 42.18%\n",
            "Epoch [68/100], Validation Loss: 3.6442\n",
            "Saved new best model with accuracy: 42.18%\n",
            "-----\n"
          ]
        },
        {
          "output_type": "stream",
          "name": "stderr",
          "text": [
            "Epoch 69/100 [Train]: 100%|██████████| 58/58 [00:04<00:00, 14.44it/s]\n"
          ]
        },
        {
          "output_type": "stream",
          "name": "stdout",
          "text": [
            "Epoch [69/100], Loss: 0.1675\n"
          ]
        },
        {
          "output_type": "stream",
          "name": "stderr",
          "text": [
            "Epoch 69/100 [Valid]: 100%|██████████| 14/14 [00:00<00:00, 16.38it/s]\n"
          ]
        },
        {
          "output_type": "stream",
          "name": "stdout",
          "text": [
            "Validation Accuracy: 39.81%\n",
            "Epoch [69/100], Validation Loss: 3.6221\n"
          ]
        },
        {
          "output_type": "stream",
          "name": "stderr",
          "text": [
            "Epoch 70/100 [Train]: 100%|██████████| 58/58 [00:03<00:00, 14.94it/s]\n"
          ]
        },
        {
          "output_type": "stream",
          "name": "stdout",
          "text": [
            "Epoch [70/100], Loss: 0.2026\n"
          ]
        },
        {
          "output_type": "stream",
          "name": "stderr",
          "text": [
            "Epoch 70/100 [Valid]: 100%|██████████| 14/14 [00:00<00:00, 18.33it/s]\n"
          ]
        },
        {
          "output_type": "stream",
          "name": "stdout",
          "text": [
            "Validation Accuracy: 40.76%\n",
            "Epoch [70/100], Validation Loss: 3.6755\n"
          ]
        },
        {
          "output_type": "stream",
          "name": "stderr",
          "text": [
            "Epoch 71/100 [Train]: 100%|██████████| 58/58 [00:03<00:00, 14.87it/s]\n"
          ]
        },
        {
          "output_type": "stream",
          "name": "stdout",
          "text": [
            "Epoch [71/100], Loss: 0.1843\n"
          ]
        },
        {
          "output_type": "stream",
          "name": "stderr",
          "text": [
            "Epoch 71/100 [Valid]: 100%|██████████| 14/14 [00:00<00:00, 18.59it/s]\n"
          ]
        },
        {
          "output_type": "stream",
          "name": "stdout",
          "text": [
            "Validation Accuracy: 36.97%\n",
            "Epoch [71/100], Validation Loss: 3.7640\n"
          ]
        },
        {
          "output_type": "stream",
          "name": "stderr",
          "text": [
            "Epoch 72/100 [Train]: 100%|██████████| 58/58 [00:04<00:00, 13.47it/s]\n"
          ]
        },
        {
          "output_type": "stream",
          "name": "stdout",
          "text": [
            "Epoch [72/100], Loss: 0.1351\n"
          ]
        },
        {
          "output_type": "stream",
          "name": "stderr",
          "text": [
            "Epoch 72/100 [Valid]: 100%|██████████| 14/14 [00:00<00:00, 18.15it/s]\n"
          ]
        },
        {
          "output_type": "stream",
          "name": "stdout",
          "text": [
            "Validation Accuracy: 36.97%\n",
            "Epoch [72/100], Validation Loss: 3.6168\n"
          ]
        },
        {
          "output_type": "stream",
          "name": "stderr",
          "text": [
            "Epoch 73/100 [Train]: 100%|██████████| 58/58 [00:03<00:00, 15.05it/s]\n"
          ]
        },
        {
          "output_type": "stream",
          "name": "stdout",
          "text": [
            "Epoch [73/100], Loss: 0.2800\n"
          ]
        },
        {
          "output_type": "stream",
          "name": "stderr",
          "text": [
            "Epoch 73/100 [Valid]: 100%|██████████| 14/14 [00:00<00:00, 18.42it/s]\n"
          ]
        },
        {
          "output_type": "stream",
          "name": "stdout",
          "text": [
            "Validation Accuracy: 39.81%\n",
            "Epoch [73/100], Validation Loss: 3.6204\n"
          ]
        },
        {
          "output_type": "stream",
          "name": "stderr",
          "text": [
            "Epoch 74/100 [Train]: 100%|██████████| 58/58 [00:03<00:00, 14.99it/s]\n"
          ]
        },
        {
          "output_type": "stream",
          "name": "stdout",
          "text": [
            "Epoch [74/100], Loss: 0.2237\n"
          ]
        },
        {
          "output_type": "stream",
          "name": "stderr",
          "text": [
            "Epoch 74/100 [Valid]: 100%|██████████| 14/14 [00:00<00:00, 17.47it/s]\n"
          ]
        },
        {
          "output_type": "stream",
          "name": "stdout",
          "text": [
            "Validation Accuracy: 40.76%\n",
            "Epoch [74/100], Validation Loss: 3.6349\n"
          ]
        },
        {
          "output_type": "stream",
          "name": "stderr",
          "text": [
            "Epoch 75/100 [Train]: 100%|██████████| 58/58 [00:04<00:00, 14.07it/s]\n"
          ]
        },
        {
          "output_type": "stream",
          "name": "stdout",
          "text": [
            "Epoch [75/100], Loss: 0.1204\n"
          ]
        },
        {
          "output_type": "stream",
          "name": "stderr",
          "text": [
            "Epoch 75/100 [Valid]: 100%|██████████| 14/14 [00:00<00:00, 18.23it/s]\n"
          ]
        },
        {
          "output_type": "stream",
          "name": "stdout",
          "text": [
            "Validation Accuracy: 39.34%\n",
            "Epoch [75/100], Validation Loss: 3.5994\n"
          ]
        },
        {
          "output_type": "stream",
          "name": "stderr",
          "text": [
            "Epoch 76/100 [Train]: 100%|██████████| 58/58 [00:03<00:00, 15.07it/s]\n"
          ]
        },
        {
          "output_type": "stream",
          "name": "stdout",
          "text": [
            "Epoch [76/100], Loss: 0.1098\n"
          ]
        },
        {
          "output_type": "stream",
          "name": "stderr",
          "text": [
            "Epoch 76/100 [Valid]: 100%|██████████| 14/14 [00:00<00:00, 18.50it/s]\n"
          ]
        },
        {
          "output_type": "stream",
          "name": "stdout",
          "text": [
            "Validation Accuracy: 38.86%\n",
            "Epoch [76/100], Validation Loss: 3.6688\n"
          ]
        },
        {
          "output_type": "stream",
          "name": "stderr",
          "text": [
            "Epoch 77/100 [Train]: 100%|██████████| 58/58 [00:03<00:00, 14.54it/s]\n"
          ]
        },
        {
          "output_type": "stream",
          "name": "stdout",
          "text": [
            "Epoch [77/100], Loss: 0.1823\n"
          ]
        },
        {
          "output_type": "stream",
          "name": "stderr",
          "text": [
            "Epoch 77/100 [Valid]: 100%|██████████| 14/14 [00:00<00:00, 17.41it/s]\n"
          ]
        },
        {
          "output_type": "stream",
          "name": "stdout",
          "text": [
            "Validation Accuracy: 38.39%\n",
            "Epoch [77/100], Validation Loss: 3.6652\n"
          ]
        },
        {
          "output_type": "stream",
          "name": "stderr",
          "text": [
            "Epoch 78/100 [Train]: 100%|██████████| 58/58 [00:04<00:00, 14.47it/s]\n"
          ]
        },
        {
          "output_type": "stream",
          "name": "stdout",
          "text": [
            "Epoch [78/100], Loss: 0.1390\n"
          ]
        },
        {
          "output_type": "stream",
          "name": "stderr",
          "text": [
            "Epoch 78/100 [Valid]: 100%|██████████| 14/14 [00:00<00:00, 18.21it/s]\n"
          ]
        },
        {
          "output_type": "stream",
          "name": "stdout",
          "text": [
            "Validation Accuracy: 39.34%\n",
            "Epoch [78/100], Validation Loss: 3.6597\n"
          ]
        },
        {
          "output_type": "stream",
          "name": "stderr",
          "text": [
            "Epoch 79/100 [Train]: 100%|██████████| 58/58 [00:03<00:00, 14.90it/s]\n"
          ]
        },
        {
          "output_type": "stream",
          "name": "stdout",
          "text": [
            "Epoch [79/100], Loss: 0.1520\n"
          ]
        },
        {
          "output_type": "stream",
          "name": "stderr",
          "text": [
            "Epoch 79/100 [Valid]: 100%|██████████| 14/14 [00:00<00:00, 18.43it/s]\n"
          ]
        },
        {
          "output_type": "stream",
          "name": "stdout",
          "text": [
            "Validation Accuracy: 39.34%\n",
            "Epoch [79/100], Validation Loss: 3.6264\n"
          ]
        },
        {
          "output_type": "stream",
          "name": "stderr",
          "text": [
            "Epoch 80/100 [Train]: 100%|██████████| 58/58 [00:04<00:00, 14.37it/s]\n"
          ]
        },
        {
          "output_type": "stream",
          "name": "stdout",
          "text": [
            "Epoch [80/100], Loss: 0.1886\n"
          ]
        },
        {
          "output_type": "stream",
          "name": "stderr",
          "text": [
            "Epoch 80/100 [Valid]: 100%|██████████| 14/14 [00:00<00:00, 16.59it/s]\n"
          ]
        },
        {
          "output_type": "stream",
          "name": "stdout",
          "text": [
            "Validation Accuracy: 39.34%\n",
            "Epoch [80/100], Validation Loss: 3.5881\n"
          ]
        },
        {
          "output_type": "stream",
          "name": "stderr",
          "text": [
            "Epoch 81/100 [Train]: 100%|██████████| 58/58 [00:03<00:00, 14.91it/s]\n"
          ]
        },
        {
          "output_type": "stream",
          "name": "stdout",
          "text": [
            "Epoch [81/100], Loss: 0.1254\n"
          ]
        },
        {
          "output_type": "stream",
          "name": "stderr",
          "text": [
            "Epoch 81/100 [Valid]: 100%|██████████| 14/14 [00:00<00:00, 18.23it/s]\n"
          ]
        },
        {
          "output_type": "stream",
          "name": "stdout",
          "text": [
            "Validation Accuracy: 39.34%\n",
            "Epoch [81/100], Validation Loss: 3.6371\n"
          ]
        },
        {
          "output_type": "stream",
          "name": "stderr",
          "text": [
            "Epoch 82/100 [Train]: 100%|██████████| 58/58 [00:03<00:00, 14.97it/s]\n"
          ]
        },
        {
          "output_type": "stream",
          "name": "stdout",
          "text": [
            "Epoch [82/100], Loss: 0.1910\n"
          ]
        },
        {
          "output_type": "stream",
          "name": "stderr",
          "text": [
            "Epoch 82/100 [Valid]: 100%|██████████| 14/14 [00:00<00:00, 18.34it/s]\n"
          ]
        },
        {
          "output_type": "stream",
          "name": "stdout",
          "text": [
            "Validation Accuracy: 38.86%\n",
            "Epoch [82/100], Validation Loss: 3.7027\n"
          ]
        },
        {
          "output_type": "stream",
          "name": "stderr",
          "text": [
            "Epoch 83/100 [Train]: 100%|██████████| 58/58 [00:04<00:00, 13.82it/s]\n"
          ]
        },
        {
          "output_type": "stream",
          "name": "stdout",
          "text": [
            "Epoch [83/100], Loss: 0.1098\n"
          ]
        },
        {
          "output_type": "stream",
          "name": "stderr",
          "text": [
            "Epoch 83/100 [Valid]: 100%|██████████| 14/14 [00:00<00:00, 18.71it/s]\n"
          ]
        },
        {
          "output_type": "stream",
          "name": "stdout",
          "text": [
            "Validation Accuracy: 37.44%\n",
            "Epoch [83/100], Validation Loss: 3.7694\n"
          ]
        },
        {
          "output_type": "stream",
          "name": "stderr",
          "text": [
            "Epoch 84/100 [Train]: 100%|██████████| 58/58 [00:03<00:00, 14.91it/s]\n"
          ]
        },
        {
          "output_type": "stream",
          "name": "stdout",
          "text": [
            "Epoch [84/100], Loss: 0.1350\n"
          ]
        },
        {
          "output_type": "stream",
          "name": "stderr",
          "text": [
            "Epoch 84/100 [Valid]: 100%|██████████| 14/14 [00:00<00:00, 18.49it/s]\n"
          ]
        },
        {
          "output_type": "stream",
          "name": "stdout",
          "text": [
            "Validation Accuracy: 39.34%\n",
            "Epoch [84/100], Validation Loss: 3.7422\n"
          ]
        },
        {
          "output_type": "stream",
          "name": "stderr",
          "text": [
            "Epoch 85/100 [Train]: 100%|██████████| 58/58 [00:03<00:00, 14.93it/s]\n"
          ]
        },
        {
          "output_type": "stream",
          "name": "stdout",
          "text": [
            "Epoch [85/100], Loss: 0.0926\n"
          ]
        },
        {
          "output_type": "stream",
          "name": "stderr",
          "text": [
            "Epoch 85/100 [Valid]: 100%|██████████| 14/14 [00:00<00:00, 17.73it/s]\n"
          ]
        },
        {
          "output_type": "stream",
          "name": "stdout",
          "text": [
            "Validation Accuracy: 41.23%\n",
            "Epoch [85/100], Validation Loss: 3.6597\n"
          ]
        },
        {
          "output_type": "stream",
          "name": "stderr",
          "text": [
            "Epoch 86/100 [Train]: 100%|██████████| 58/58 [00:04<00:00, 13.77it/s]\n"
          ]
        },
        {
          "output_type": "stream",
          "name": "stdout",
          "text": [
            "Epoch [86/100], Loss: 0.1041\n"
          ]
        },
        {
          "output_type": "stream",
          "name": "stderr",
          "text": [
            "Epoch 86/100 [Valid]: 100%|██████████| 14/14 [00:00<00:00, 17.73it/s]\n"
          ]
        },
        {
          "output_type": "stream",
          "name": "stdout",
          "text": [
            "Validation Accuracy: 39.34%\n",
            "Epoch [86/100], Validation Loss: 3.6440\n"
          ]
        },
        {
          "output_type": "stream",
          "name": "stderr",
          "text": [
            "Epoch 87/100 [Train]: 100%|██████████| 58/58 [00:03<00:00, 14.68it/s]\n"
          ]
        },
        {
          "output_type": "stream",
          "name": "stdout",
          "text": [
            "Epoch [87/100], Loss: 0.1825\n"
          ]
        },
        {
          "output_type": "stream",
          "name": "stderr",
          "text": [
            "Epoch 87/100 [Valid]: 100%|██████████| 14/14 [00:00<00:00, 18.06it/s]\n"
          ]
        },
        {
          "output_type": "stream",
          "name": "stdout",
          "text": [
            "Validation Accuracy: 38.86%\n",
            "Epoch [87/100], Validation Loss: 3.6887\n"
          ]
        },
        {
          "output_type": "stream",
          "name": "stderr",
          "text": [
            "Epoch 88/100 [Train]: 100%|██████████| 58/58 [00:04<00:00, 14.20it/s]\n"
          ]
        },
        {
          "output_type": "stream",
          "name": "stdout",
          "text": [
            "Epoch [88/100], Loss: 0.0886\n"
          ]
        },
        {
          "output_type": "stream",
          "name": "stderr",
          "text": [
            "Epoch 88/100 [Valid]: 100%|██████████| 14/14 [00:00<00:00, 17.57it/s]\n"
          ]
        },
        {
          "output_type": "stream",
          "name": "stdout",
          "text": [
            "Validation Accuracy: 37.91%\n",
            "Epoch [88/100], Validation Loss: 3.7172\n"
          ]
        },
        {
          "output_type": "stream",
          "name": "stderr",
          "text": [
            "Epoch 89/100 [Train]: 100%|██████████| 58/58 [00:04<00:00, 14.20it/s]\n"
          ]
        },
        {
          "output_type": "stream",
          "name": "stdout",
          "text": [
            "Epoch [89/100], Loss: 0.1689\n"
          ]
        },
        {
          "output_type": "stream",
          "name": "stderr",
          "text": [
            "Epoch 89/100 [Valid]: 100%|██████████| 14/14 [00:00<00:00, 18.33it/s]\n"
          ]
        },
        {
          "output_type": "stream",
          "name": "stdout",
          "text": [
            "Validation Accuracy: 37.91%\n",
            "Epoch [89/100], Validation Loss: 3.6721\n"
          ]
        },
        {
          "output_type": "stream",
          "name": "stderr",
          "text": [
            "Epoch 90/100 [Train]: 100%|██████████| 58/58 [00:03<00:00, 14.65it/s]\n"
          ]
        },
        {
          "output_type": "stream",
          "name": "stdout",
          "text": [
            "Epoch [90/100], Loss: 0.1178\n"
          ]
        },
        {
          "output_type": "stream",
          "name": "stderr",
          "text": [
            "Epoch 90/100 [Valid]: 100%|██████████| 14/14 [00:00<00:00, 18.18it/s]\n"
          ]
        },
        {
          "output_type": "stream",
          "name": "stdout",
          "text": [
            "Validation Accuracy: 38.86%\n",
            "Epoch [90/100], Validation Loss: 3.6991\n"
          ]
        },
        {
          "output_type": "stream",
          "name": "stderr",
          "text": [
            "Epoch 91/100 [Train]: 100%|██████████| 58/58 [00:04<00:00, 13.66it/s]\n"
          ]
        },
        {
          "output_type": "stream",
          "name": "stdout",
          "text": [
            "Epoch [91/100], Loss: 0.1013\n"
          ]
        },
        {
          "output_type": "stream",
          "name": "stderr",
          "text": [
            "Epoch 91/100 [Valid]: 100%|██████████| 14/14 [00:00<00:00, 17.32it/s]\n"
          ]
        },
        {
          "output_type": "stream",
          "name": "stdout",
          "text": [
            "Validation Accuracy: 40.28%\n",
            "Epoch [91/100], Validation Loss: 3.6378\n"
          ]
        },
        {
          "output_type": "stream",
          "name": "stderr",
          "text": [
            "Epoch 92/100 [Train]: 100%|██████████| 58/58 [00:03<00:00, 14.73it/s]\n"
          ]
        },
        {
          "output_type": "stream",
          "name": "stdout",
          "text": [
            "Epoch [92/100], Loss: 0.0926\n"
          ]
        },
        {
          "output_type": "stream",
          "name": "stderr",
          "text": [
            "Epoch 92/100 [Valid]: 100%|██████████| 14/14 [00:00<00:00, 17.68it/s]\n"
          ]
        },
        {
          "output_type": "stream",
          "name": "stdout",
          "text": [
            "Validation Accuracy: 40.28%\n",
            "Epoch [92/100], Validation Loss: 3.7164\n"
          ]
        },
        {
          "output_type": "stream",
          "name": "stderr",
          "text": [
            "Epoch 93/100 [Train]: 100%|██████████| 58/58 [00:03<00:00, 14.75it/s]\n"
          ]
        },
        {
          "output_type": "stream",
          "name": "stdout",
          "text": [
            "Epoch [93/100], Loss: 0.1465\n"
          ]
        },
        {
          "output_type": "stream",
          "name": "stderr",
          "text": [
            "Epoch 93/100 [Valid]: 100%|██████████| 14/14 [00:00<00:00, 17.92it/s]\n"
          ]
        },
        {
          "output_type": "stream",
          "name": "stdout",
          "text": [
            "Validation Accuracy: 38.86%\n",
            "Epoch [93/100], Validation Loss: 3.6681\n"
          ]
        },
        {
          "output_type": "stream",
          "name": "stderr",
          "text": [
            "Epoch 94/100 [Train]: 100%|██████████| 58/58 [00:04<00:00, 13.90it/s]\n"
          ]
        },
        {
          "output_type": "stream",
          "name": "stdout",
          "text": [
            "Epoch [94/100], Loss: 0.2357\n"
          ]
        },
        {
          "output_type": "stream",
          "name": "stderr",
          "text": [
            "Epoch 94/100 [Valid]: 100%|██████████| 14/14 [00:00<00:00, 18.17it/s]\n"
          ]
        },
        {
          "output_type": "stream",
          "name": "stdout",
          "text": [
            "Validation Accuracy: 37.44%\n",
            "Epoch [94/100], Validation Loss: 3.7726\n"
          ]
        },
        {
          "output_type": "stream",
          "name": "stderr",
          "text": [
            "Epoch 95/100 [Train]: 100%|██████████| 58/58 [00:03<00:00, 14.88it/s]\n"
          ]
        },
        {
          "output_type": "stream",
          "name": "stdout",
          "text": [
            "Epoch [95/100], Loss: 0.1801\n"
          ]
        },
        {
          "output_type": "stream",
          "name": "stderr",
          "text": [
            "Epoch 95/100 [Valid]: 100%|██████████| 14/14 [00:00<00:00, 18.29it/s]\n"
          ]
        },
        {
          "output_type": "stream",
          "name": "stdout",
          "text": [
            "Validation Accuracy: 39.34%\n",
            "Epoch [95/100], Validation Loss: 3.6989\n"
          ]
        },
        {
          "output_type": "stream",
          "name": "stderr",
          "text": [
            "Epoch 96/100 [Train]: 100%|██████████| 58/58 [00:03<00:00, 14.54it/s]\n"
          ]
        },
        {
          "output_type": "stream",
          "name": "stdout",
          "text": [
            "Epoch [96/100], Loss: 0.0929\n"
          ]
        },
        {
          "output_type": "stream",
          "name": "stderr",
          "text": [
            "Epoch 96/100 [Valid]: 100%|██████████| 14/14 [00:00<00:00, 17.96it/s]\n"
          ]
        },
        {
          "output_type": "stream",
          "name": "stdout",
          "text": [
            "Validation Accuracy: 38.39%\n",
            "Epoch [96/100], Validation Loss: 3.7162\n"
          ]
        },
        {
          "output_type": "stream",
          "name": "stderr",
          "text": [
            "Epoch 97/100 [Train]: 100%|██████████| 58/58 [00:04<00:00, 13.99it/s]\n"
          ]
        },
        {
          "output_type": "stream",
          "name": "stdout",
          "text": [
            "Epoch [97/100], Loss: 0.1745\n"
          ]
        },
        {
          "output_type": "stream",
          "name": "stderr",
          "text": [
            "Epoch 97/100 [Valid]: 100%|██████████| 14/14 [00:00<00:00, 17.91it/s]\n"
          ]
        },
        {
          "output_type": "stream",
          "name": "stdout",
          "text": [
            "Validation Accuracy: 38.86%\n",
            "Epoch [97/100], Validation Loss: 3.6438\n"
          ]
        },
        {
          "output_type": "stream",
          "name": "stderr",
          "text": [
            "Epoch 98/100 [Train]: 100%|██████████| 58/58 [00:03<00:00, 14.80it/s]\n"
          ]
        },
        {
          "output_type": "stream",
          "name": "stdout",
          "text": [
            "Epoch [98/100], Loss: 0.0947\n"
          ]
        },
        {
          "output_type": "stream",
          "name": "stderr",
          "text": [
            "Epoch 98/100 [Valid]: 100%|██████████| 14/14 [00:00<00:00, 18.23it/s]\n"
          ]
        },
        {
          "output_type": "stream",
          "name": "stdout",
          "text": [
            "Validation Accuracy: 38.86%\n",
            "Epoch [98/100], Validation Loss: 3.6753\n"
          ]
        },
        {
          "output_type": "stream",
          "name": "stderr",
          "text": [
            "Epoch 99/100 [Train]: 100%|██████████| 58/58 [00:04<00:00, 14.36it/s]\n"
          ]
        },
        {
          "output_type": "stream",
          "name": "stdout",
          "text": [
            "Epoch [99/100], Loss: 0.1162\n"
          ]
        },
        {
          "output_type": "stream",
          "name": "stderr",
          "text": [
            "Epoch 99/100 [Valid]: 100%|██████████| 14/14 [00:00<00:00, 17.23it/s]\n"
          ]
        },
        {
          "output_type": "stream",
          "name": "stdout",
          "text": [
            "Validation Accuracy: 39.34%\n",
            "Epoch [99/100], Validation Loss: 3.6874\n"
          ]
        },
        {
          "output_type": "stream",
          "name": "stderr",
          "text": [
            "Epoch 100/100 [Train]: 100%|██████████| 58/58 [00:04<00:00, 14.45it/s]\n"
          ]
        },
        {
          "output_type": "stream",
          "name": "stdout",
          "text": [
            "Epoch [100/100], Loss: 0.2334\n"
          ]
        },
        {
          "output_type": "stream",
          "name": "stderr",
          "text": [
            "Epoch 100/100 [Valid]: 100%|██████████| 14/14 [00:00<00:00, 18.42it/s]\n"
          ]
        },
        {
          "output_type": "stream",
          "name": "stdout",
          "text": [
            "Validation Accuracy: 38.86%\n",
            "Epoch [100/100], Validation Loss: 3.6478\n",
            "Test Accuracy: 28.57%\n"
          ]
        }
      ]
    },
    {
      "cell_type": "markdown",
      "source": [
        "Best params with visibility information (LSTM)"
      ],
      "metadata": {
        "id": "o3HV5CjdykBO"
      }
    },
    {
      "cell_type": "code",
      "source": [
        "def get_training_config():\n",
        "  return {\n",
        "    'hidden_size': 512,\n",
        "    'learning_rate': 1e-4,\n",
        "    'num_epochs': 100,\n",
        "    'weight_decay': 1e-4,\n",
        "    'dropout_rate': 0.1,\n",
        "    'scheduler_params': {\n",
        "      'factor': 0.5,\n",
        "      'min_lr': 1e-6\n",
        "    },\n",
        "  }\n",
        "\n",
        "  # Validation Accuracy: 48.34%\n",
        "  # Test Accuracy: 39.15%\n",
        "\n",
        "def get_training_config():\n",
        "  return {\n",
        "    'hidden_size': 512,\n",
        "    'learning_rate': 1e-4,\n",
        "    'num_epochs': 100,\n",
        "    'weight_decay': 1e-4,\n",
        "    'dropout_rate': 0.2,\n",
        "    'scheduler_params': {\n",
        "      'factor': 0.5,\n",
        "      'min_lr': 1e-6\n",
        "    },\n",
        "  }\n",
        "\n",
        "  # Validation Accuracy: 49.76%\n",
        "  # Test Accuracy: 40.21%\n",
        "\n",
        "def get_training_config():\n",
        "  return {\n",
        "    'hidden_size': 512,\n",
        "    'learning_rate': 1e-4,\n",
        "    'num_epochs': 100,\n",
        "    'weight_decay': 1e-5,\n",
        "    'dropout_rate': 0.2,\n",
        "    'scheduler_params': {\n",
        "      'factor': 0.5,\n",
        "      'min_lr': 1e-6\n",
        "    },\n",
        "  }\n",
        "  # Validation Accuracy: 47.87%\n",
        "  # Test Accuracy: 38.10%\n",
        "\n",
        "def get_training_config():\n",
        "  return {\n",
        "    'hidden_size': 512,\n",
        "    'learning_rate': 1e-4,\n",
        "    'num_epochs': 100,\n",
        "    'weight_decay': 1e-5,\n",
        "    'dropout_rate': 0.3,\n",
        "    'scheduler_params': {\n",
        "      'factor': 0.5,\n",
        "      'min_lr': 1e-6\n",
        "    },\n",
        "  }\n",
        "  # Validation Accuracy: 47.39%\n",
        "  # Test Accuracy: 37.04%\n",
        "\n",
        "def get_training_config():\n",
        "  return {\n",
        "    'hidden_size': 512,\n",
        "    'learning_rate': 1e-4,\n",
        "    'num_epochs': 100,\n",
        "    'weight_decay': 1e-4,\n",
        "    'dropout_rate': 0.3,\n",
        "    'scheduler_params': {\n",
        "      'factor': 0.5,\n",
        "      'min_lr': 1e-6\n",
        "    },\n",
        "  }\n",
        "  # Validation Accuracy: 47.87%\n",
        "  # Test Accuracy: 37.04%\n",
        "\n",
        "def get_training_config():\n",
        "  return {\n",
        "    'hidden_size': 512,\n",
        "    'learning_rate': 1e-3,\n",
        "    'num_epochs': 100,\n",
        "    'weight_decay': 1e-4,\n",
        "    'dropout_rate': 0.2,\n",
        "    'scheduler_params': {\n",
        "      'factor': 0.5,\n",
        "      'min_lr': 1e-6\n",
        "    },\n",
        "  }\n",
        "  # Validation Accuracy: 47.39%\n",
        "  # Test Accuracy: 38.62%\n",
        "\n",
        "def get_training_config():\n",
        "  return {\n",
        "    'hidden_size': 512,\n",
        "    'learning_rate': 1e-3,\n",
        "    'num_epochs': 200,\n",
        "    'weight_decay': 1e-4,\n",
        "    'dropout_rate': 0.2,\n",
        "    'scheduler_params': {\n",
        "      'factor': 0.5,\n",
        "      'min_lr': 1e-6\n",
        "    },\n",
        "  }\n",
        "  # Validation Accuracy: 45.97%\n",
        "  # Test Accuracy: 33.86%"
      ],
      "metadata": {
        "id": "LEwIqUXkFDjH"
      },
      "execution_count": null,
      "outputs": []
    },
    {
      "cell_type": "markdown",
      "source": [
        "Best params without visibility information (LSTM)"
      ],
      "metadata": {
        "id": "yYvvYrX7ysfa"
      }
    },
    {
      "cell_type": "code",
      "source": [
        "def get_training_config():\n",
        "  return {\n",
        "    'hidden_size': 512,\n",
        "    'learning_rate': 1e-4,\n",
        "    'num_epochs': 100,\n",
        "    'weight_decay': 1e-4,\n",
        "    'dropout_rate': 0.2,\n",
        "    'scheduler_params': {\n",
        "      'factor': 0.5,\n",
        "      'min_lr': 1e-6\n",
        "    },\n",
        "  }\n",
        "\n",
        "  # Validation Accuracy: 50.24%\n",
        "  # Test Accuracy: 38.10%\n",
        "\n",
        "def get_training_config():\n",
        "  return {\n",
        "    'hidden_size': 512,\n",
        "    'learning_rate': 1e-4,\n",
        "    'num_epochs': 200,\n",
        "    'weight_decay': 1e-4,\n",
        "    'dropout_rate': 0.3,\n",
        "    'scheduler_params': {\n",
        "      'factor': 0.5,\n",
        "      'min_lr': 1e-6\n",
        "    },\n",
        "  }\n",
        "\n",
        "  # Validation Accuracy: 48.34%\n",
        "  # Test Accuracy: 40.74%\n",
        "\n",
        "def get_training_config():\n",
        "  return {\n",
        "    'hidden_size': 512,\n",
        "    'learning_rate': 1e-4,\n",
        "    'num_epochs': 200,\n",
        "    'weight_decay': 1e-5,\n",
        "    'dropout_rate': 0.3,\n",
        "    'scheduler_params': {\n",
        "      'factor': 0.5,\n",
        "      'min_lr': 1e-6\n",
        "    },\n",
        "  }\n",
        "  # Validation Accuracy: 47.87%\n",
        "  # Test Accuracy: 35.45%\n",
        "\n",
        "def get_training_config():\n",
        "  return {\n",
        "    'hidden_size': 512,\n",
        "    'learning_rate': 1e-4,\n",
        "    'num_epochs': 200,\n",
        "    'weight_decay': 1e-4,\n",
        "    'dropout_rate': 0.2,\n",
        "    'scheduler_params': {\n",
        "      'factor': 0.5,\n",
        "      'min_lr': 1e-6\n",
        "    },\n",
        "  }\n",
        "  # Validation Accuracy: 51.18%\n",
        "  # Test Accuracy: 40.74%\n",
        "\n",
        "def get_training_config():\n",
        "  return {\n",
        "    'hidden_size': 512,\n",
        "    'learning_rate': 1e-3,\n",
        "    'num_epochs': 200,\n",
        "    'weight_decay': 1e-4,\n",
        "    'dropout_rate': 0.2,\n",
        "    'scheduler_params': {\n",
        "      'factor': 0.5,\n",
        "      'min_lr': 1e-6\n",
        "    },\n",
        "  }\n",
        "  # Validation Accuracy: 48.34%\n",
        "  # Test Accuracy: 37.04%\n",
        "\n",
        "def get_training_config():\n",
        "  return {\n",
        "    'hidden_size': 512,\n",
        "    'learning_rate': 1e-3,\n",
        "    'num_epochs': 200,\n",
        "    'weight_decay': 1e-4,\n",
        "    'dropout_rate': 0.3,\n",
        "    'scheduler_params': {\n",
        "      'factor': 0.5,\n",
        "      'min_lr': 1e-6\n",
        "    },\n",
        "  }\n",
        "  # Validation Accuracy: 50.71%\n",
        "  # Test Accuracy: 40.21%"
      ],
      "metadata": {
        "id": "MJ52bAGCb0cN"
      },
      "execution_count": null,
      "outputs": []
    },
    {
      "cell_type": "markdown",
      "source": [
        "Best params withoug visibility information (GRU)"
      ],
      "metadata": {
        "id": "q_ieLphP-30g"
      }
    },
    {
      "cell_type": "code",
      "source": [
        "  def get_training_config():\n",
        "    return {\n",
        "      'hidden_size': 512,\n",
        "      'learning_rate': 1e-3,\n",
        "      'num_epochs': 100,\n",
        "      'weight_decay': 1e-4,\n",
        "      'dropout_rate': 0.2,\n",
        "      'scheduler_params': {\n",
        "        'factor': 0.5,\n",
        "        'min_lr': 1e-6\n",
        "      },\n",
        "    }\n",
        "    # Validation Accuracy: 31.75%\n",
        "    # Test Accuracy: 22.75%\n",
        "\n",
        "\n",
        "  def get_training_config():\n",
        "    return {\n",
        "      'hidden_size': 256,\n",
        "      'learning_rate': 1e-3,\n",
        "      'num_epochs': 100,\n",
        "      'weight_decay': 1e-4,\n",
        "      'dropout_rate': 0.2,\n",
        "      'scheduler_params': {\n",
        "        'factor': 0.5,\n",
        "        'min_lr': 1e-6\n",
        "      },\n",
        "    }\n",
        "    # Validation Accuracy: 42.18%\n",
        "    # Test Accuracy: 28.57%"
      ],
      "metadata": {
        "id": "_eKZudem--QL"
      },
      "execution_count": null,
      "outputs": []
    }
  ]
}