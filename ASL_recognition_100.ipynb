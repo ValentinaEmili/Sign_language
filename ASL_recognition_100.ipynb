{
  "nbformat": 4,
  "nbformat_minor": 0,
  "metadata": {
    "colab": {
      "provenance": [],
      "gpuType": "T4",
      "include_colab_link": true
    },
    "kernelspec": {
      "name": "python3",
      "display_name": "Python 3"
    },
    "language_info": {
      "name": "python"
    },
    "accelerator": "GPU"
  },
  "cells": [
    {
      "cell_type": "markdown",
      "metadata": {
        "id": "view-in-github",
        "colab_type": "text"
      },
      "source": [
        "<a href=\"https://colab.research.google.com/github/ValentinaEmili/Sign_language/blob/main/ASL_recognition_100.ipynb\" target=\"_parent\"><img src=\"https://colab.research.google.com/assets/colab-badge.svg\" alt=\"Open In Colab\"/></a>"
      ]
    },
    {
      "cell_type": "markdown",
      "source": [
        "The glossary is made of 100 different words but the instances for each word are not the same as the ones in WLASL_v0.3 file. Indeed, some links were broken and the correspective instances have been removed. Every word has at least one instance."
      ],
      "metadata": {
        "id": "K5puhnnLO5Nx"
      }
    },
    {
      "cell_type": "code",
      "execution_count": 1,
      "metadata": {
        "id": "I9719RldLOi8",
        "colab": {
          "base_uri": "https://localhost:8080/"
        },
        "outputId": "dce3cc17-0bfd-4d1b-da5f-4434fd751f06"
      },
      "outputs": [
        {
          "output_type": "stream",
          "name": "stdout",
          "text": [
            "Mounted at /content/drive\n"
          ]
        }
      ],
      "source": [
        "# mount google drive on colab\n",
        "from google.colab import drive\n",
        "drive.mount('/content/drive')"
      ]
    },
    {
      "cell_type": "code",
      "source": [
        "import pandas as pd\n",
        "import cv2\n",
        "from google.colab.patches import cv2_imshow\n",
        "from tqdm import tqdm\n",
        "import numpy as np\n",
        "import os\n",
        "import torch\n",
        "import torch.nn as nn\n",
        "import torch.nn.functional as F\n",
        "from torch.nn.utils.rnn import pack_padded_sequence, pad_sequence, pad_packed_sequence\n",
        "from torch.nn import LSTM\n",
        "import torch.optim as optim\n",
        "from torch.utils.data import TensorDataset, DataLoader, Dataset\n",
        "import shutil"
      ],
      "metadata": {
        "id": "GEpUCIpXMCeD"
      },
      "execution_count": 2,
      "outputs": []
    },
    {
      "cell_type": "code",
      "source": [
        "class SignLanguageDataset(Dataset):\n",
        "  def __init__(self, image_dir, label_map, vis):\n",
        "    self.image_dir = image_dir\n",
        "    self.label_map = label_map\n",
        "    self.files = sorted(os.listdir(image_dir))\n",
        "    self.vis = vis\n",
        "\n",
        "  def __len__(self):\n",
        "    return len(self.files)\n",
        "\n",
        "  def __getitem__(self, idx):\n",
        "    file_name = self.files[idx]\n",
        "    np_array = np.load(os.path.join(self.image_dir, file_name))\n",
        "    if self.vis:\n",
        "      if np_array.size == 0 or len(np_array.shape) != 2 or np_array.shape[1] != 258:\n",
        "        print(f\"Warning: Empty or invalid shape for file: {file_name}\")\n",
        "        np_array = np.zeros((1, 258), dtype=np.float32)\n",
        "    else:\n",
        "      if np_array.size == 0 or len(np_array.shape) != 2 or np_array.shape[1] != 225:\n",
        "        print(f\"Warning: Empty or invalid shape for file: {file_name}\")\n",
        "        np_array = np.zeros((1, 225), dtype=np.float32)\n",
        "\n",
        "    label, _ = file_name.split(\"_\")\n",
        "    label = self.label_map[label]\n",
        "\n",
        "    return torch.tensor(np_array, dtype=torch.float32), torch.tensor(label, dtype=torch.long)\n",
        "\n",
        "# Add zero-padding to get sequences of the same length for each batch\n",
        "def collate_fn(batch):\n",
        "  sequences, labels = zip(*batch)\n",
        "  lengths = [len(seq) for seq in sequences]\n",
        "  padded_sequences = pad_sequence(sequences, batch_first=True)\n",
        "\n",
        "  # pack the padded sequence\n",
        "  packed_sequences = pack_padded_sequence(padded_sequences, lengths, batch_first=True, enforce_sorted=False)\n",
        "  return packed_sequences, torch.tensor(labels)"
      ],
      "metadata": {
        "id": "CY3LDT2cvk1n"
      },
      "execution_count": 3,
      "outputs": []
    },
    {
      "cell_type": "markdown",
      "source": [
        "code inspired to:\n",
        "\n",
        "https://medium.com/@eugenesh4work/attention-mechanism-for-lstm-used-in-a-sequence-to-sequence-task-be1d54919876\n",
        "\n",
        "LSTM with Attention Mechanism"
      ],
      "metadata": {
        "id": "YcQwX1fKutML"
      }
    },
    {
      "cell_type": "code",
      "source": [
        "class Attention(nn.Module):\n",
        "  def __init__(self, hidden_size):\n",
        "    super(Attention, self).__init__()\n",
        "    self.hidden_size = hidden_size\n",
        "\n",
        "  def forward(self, lstm_output, final_hidden_state):\n",
        "    # lstm_output: (batch_size, seq_len, hidden_size * 2)\n",
        "    # final hidden state: (batch_size, hidden_size * 2)\n",
        "    scores = torch.bmm(lstm_output, final_hidden_state.unsqueeze(2)).squeeze(2) # (batch_size, seq_len)\n",
        "    attention_weights = F.softmax(scores, dim=1) # (batch_size, seq_len)\n",
        "    context_vector = torch.bmm(attention_weights.unsqueeze(1), lstm_output).squeeze(1)  # (batch_size, hidden_dim * 2)\n",
        "    return context_vector, attention_weights\n",
        "\n",
        "class SignLanguageLSTM(nn.Module):\n",
        "  def __init__(self, input_size, hidden_size, num_classes, dropout_rate=0.5):\n",
        "    super(SignLanguageLSTM, self).__init__()\n",
        "\n",
        "    # input regularization\n",
        "    self.input_bn = nn.BatchNorm1d(input_size)\n",
        "    self.input_dropout = nn.Dropout(0.3)\n",
        "    #self.input_dropout = nn.Dropout(0.2)\n",
        "\n",
        "    # single bidirectional LSTM layer\n",
        "    self.lstm = nn.LSTM(\n",
        "        input_size=input_size,\n",
        "        hidden_size=hidden_size,\n",
        "        batch_first=True,\n",
        "        num_layers=2,\n",
        "        dropout=dropout_rate,\n",
        "        bidirectional=True)\n",
        "\n",
        "    # attention mechanism\n",
        "    self.attention = Attention(hidden_size)\n",
        "\n",
        "    # fully connected layers\n",
        "    self.fc1 = nn.Linear(hidden_size * 2, hidden_size)\n",
        "    self.fc2 = nn.Linear(hidden_size, num_classes)\n",
        "\n",
        "    self.dropout = nn.Dropout(dropout_rate)\n",
        "\n",
        "  def forward(self, packed_input):\n",
        "    # unpack input for batch normalization\n",
        "    padded_input, lengths = pad_packed_sequence(packed_input, batch_first=True)\n",
        "\n",
        "    # apply input normalization and dropout\n",
        "    padded_input = padded_input.transpose(1, 2)\n",
        "    padded_input = self.input_bn(padded_input)\n",
        "    padded_input = padded_input.transpose(1, 2)\n",
        "    padded_input = self.input_dropout(padded_input)\n",
        "\n",
        "    # re-pack input\n",
        "    packed_input = pack_padded_sequence(padded_input, lengths, batch_first=True, enforce_sorted=False)\n",
        "\n",
        "    # LSTM\n",
        "    packed_output, (hn, cn) = self.lstm(packed_input) # (batch_size, seq_len, hidden_size * 2), (2, batch_size, hidden_size), (2, batch_size, hidden_size)\n",
        "\n",
        "    output_forward = hn[0, :, :] # last hidden state for forward direction (batch_size, hidden_size)\n",
        "    output_backward = hn[1, :, :] # last hidden state for backward direction (batch_size, hidden_size)\n",
        "    final_hidden_state = torch.cat((output_forward, output_backward), dim=1) # (batch_size, hidden_size * 2)\n",
        "\n",
        "    lstm_output, _ = pad_packed_sequence(packed_output, batch_first=True) # (batch_size, seq_len, hidden_size * 2)\n",
        "    context_vector, _ = self.attention(lstm_output, final_hidden_state) # (batch_size, hidden_size * 2)\n",
        "\n",
        "    output = F.relu(self.fc1(context_vector)) # (batch_size, hidden_size)\n",
        "    output = self.fc2(self.dropout(output)) # (hidden_size, num_classes)\n",
        "\n",
        "    return output"
      ],
      "metadata": {
        "id": "S8HD_AESubSX"
      },
      "execution_count": 14,
      "outputs": []
    },
    {
      "cell_type": "markdown",
      "source": [
        "GRU with Attention Mechanism"
      ],
      "metadata": {
        "id": "7tny1NzVv9mz"
      }
    },
    {
      "cell_type": "code",
      "source": [
        "class Attention(nn.Module):\n",
        "  def __init__(self, hidden_size):\n",
        "    super(Attention, self).__init__()\n",
        "    self.hidden_size = hidden_size\n",
        "\n",
        "  def forward(self, lstm_output, final_hidden_state):\n",
        "    # lstm_output: (batch_size, seq_len, hidden_size * 2)\n",
        "    # final hidden state: (batch_size, hidden_size * 2)\n",
        "    scores = torch.bmm(lstm_output, final_hidden_state.unsqueeze(2)).squeeze(2) # (batch_size, seq_len)\n",
        "    attention_weights = F.softmax(scores, dim=1) # (batch_size, seq_len)\n",
        "    context_vector = torch.bmm(attention_weights.unsqueeze(1), lstm_output).squeeze(1)  # (batch_size, hidden_dim * 2)\n",
        "    return context_vector, attention_weights\n",
        "\n",
        "class SignLanguageGRU(nn.Module):\n",
        "  def __init__(self, input_size, hidden_size, num_classes, dropout_rate=0.5):\n",
        "    super(SignLanguageGRU, self).__init__()\n",
        "\n",
        "    # input regularization\n",
        "    self.input_bn = nn.BatchNorm1d(input_size)\n",
        "    self.input_dropout = nn.Dropout(0.3)\n",
        "\n",
        "    # single bidirectional GRU layer\n",
        "    self.gru = nn.GRU(\n",
        "        input_size=input_size,\n",
        "        hidden_size=hidden_size,\n",
        "        batch_first=True,\n",
        "        dropout=dropout_rate,\n",
        "        bidirectional=True)\n",
        "\n",
        "    # attention mechanism\n",
        "    self.attention = Attention(hidden_size)\n",
        "\n",
        "    # fully connected layers\n",
        "    self.fc1 = nn.Linear(hidden_size * 2, hidden_size)\n",
        "    self.fc2 = nn.Linear(hidden_size, num_classes)\n",
        "\n",
        "    self.dropout = nn.Dropout(dropout_rate)\n",
        "\n",
        "  def forward(self, packed_input):\n",
        "    # unpack input for batch normalization\n",
        "    padded_input, lengths = pad_packed_sequence(packed_input, batch_first=True)\n",
        "\n",
        "    # apply input normalization and dropout\n",
        "    padded_input = padded_input.transpose(1, 2)\n",
        "    padded_input = self.input_bn(padded_input)\n",
        "    padded_input = padded_input.transpose(1, 2)\n",
        "    padded_input = self.input_dropout(padded_input)\n",
        "\n",
        "    # re-pack input\n",
        "    packed_input = pack_padded_sequence(padded_input, lengths, batch_first=True, enforce_sorted=False)\n",
        "\n",
        "    # GRU\n",
        "    packed_output, hn = self.gru(packed_input)\n",
        "\n",
        "    output_forward = hn[0, :, :]\n",
        "    output_backward = hn[1, :, :]\n",
        "    final_hidden_state = torch.cat((output_forward, output_backward), dim=1)\n",
        "\n",
        "    gru_output, _ = pad_packed_sequence(packed_output, batch_first=True)\n",
        "    context_vector, _ = self.attention(gru_output, final_hidden_state)\n",
        "\n",
        "    output = F.relu(self.fc1(context_vector))\n",
        "    output = self.fc2(self.dropout(output))\n",
        "\n",
        "    return output"
      ],
      "metadata": {
        "id": "vpA-kQxtv6ba"
      },
      "execution_count": null,
      "outputs": []
    },
    {
      "cell_type": "code",
      "source": [
        "def train(model, num_epochs, train_loader, val_loader, optimizer, criterion, scheduler, device, training_history, best_accuracy):\n",
        "  for epoch in range(num_epochs):\n",
        "    model.train()\n",
        "    running_loss = 0.0\n",
        "\n",
        "    for inputs, labels in tqdm(train_loader, desc=f'Epoch {epoch + 1}/{num_epochs} [Train]'):\n",
        "      inputs, labels = inputs.to(device), labels.to(device)\n",
        "\n",
        "      optimizer.zero_grad()\n",
        "      outputs = model(inputs)\n",
        "      loss = criterion(outputs, labels)\n",
        "      loss.backward()\n",
        "\n",
        "      torch.nn.utils.clip_grad_norm_(model.parameters(), max_norm=1.0)\n",
        "\n",
        "      optimizer.step()\n",
        "\n",
        "      running_loss += loss.item()\n",
        "\n",
        "    avg_train_loss = running_loss / len(train_loader)\n",
        "    print(f'Epoch [{epoch+1}/{num_epochs}], Loss: {avg_train_loss:.4f}')\n",
        "\n",
        "    # evaluation phase\n",
        "    model.eval()\n",
        "    val_loss, correct, total = 0, 0, 0\n",
        "\n",
        "    with torch.no_grad():\n",
        "      for inputs, labels in tqdm(val_loader, desc=f'Epoch {epoch + 1}/{num_epochs} [Valid]'):\n",
        "        inputs, labels = inputs.to(device), labels.to(device)\n",
        "        outputs = model(inputs)\n",
        "        loss = criterion(outputs, labels)\n",
        "        val_loss += loss.item()\n",
        "\n",
        "        _, predicted = torch.max(outputs, 1)\n",
        "        total += labels.size(0)\n",
        "        correct += (predicted == labels).sum().item()\n",
        "    accuracy = correct / total\n",
        "    avg_val_loss = val_loss / len(val_loader)\n",
        "\n",
        "    # update learning rate based on validation accuracy\n",
        "    scheduler.step(accuracy)\n",
        "\n",
        "    print(f'Validation Accuracy: {accuracy * 100:.2f}%')\n",
        "    print(f'Epoch [{epoch+1}/{num_epochs}], Validation Loss: {avg_val_loss:.4f}')\n",
        "\n",
        "    # store training history\n",
        "    training_history.append({\n",
        "      'epoch': epoch + 1,\n",
        "      'train_loss': avg_train_loss,\n",
        "      'val_loss': avg_val_loss,\n",
        "      'acc': round(accuracy * 100, 2),  # store as percentage\n",
        "      'lr': optimizer.param_groups[0]['lr']\n",
        "      })\n",
        "\n",
        "    # save best model\n",
        "    if accuracy > best_accuracy:\n",
        "      best_accuracy = accuracy\n",
        "      #torch.save({\n",
        "      #  'epoch': epoch,\n",
        "      #  'model_state_dict': model.state_dict(),\n",
        "      #  'optimizer_state_dict': optimizer.state_dict(),\n",
        "      #  'accuracy': accuracy, # saved as decimal\n",
        "      #  'val_loss': avg_val_loss,\n",
        "      #}, '/content/drive/MyDrive/NLP/saved_models/best_model_100.pth')\n",
        "      print(f'Saved new best model with accuracy: {best_accuracy * 100:.2f}%\\n-----')"
      ],
      "metadata": {
        "id": "-B4UZin-wnW6"
      },
      "execution_count": 5,
      "outputs": []
    },
    {
      "cell_type": "code",
      "source": [
        "def evaluate(model, test_loader, device):\n",
        "  model.eval()\n",
        "  correct, total = 0, 0\n",
        "  with torch.no_grad():\n",
        "    for inputs, labels in test_loader:\n",
        "      inputs, labels = inputs.to(device), labels.to(device)\n",
        "      outputs = model(inputs)\n",
        "      _, predicted = torch.max(outputs, 1)\n",
        "      total += labels.size(0)\n",
        "      correct += (predicted == labels).sum().item()\n",
        "  test_accuracy = correct / total  # Test accuracy\n",
        "  print(f'Test Accuracy: {test_accuracy * 100:.2f}%')"
      ],
      "metadata": {
        "id": "HkQn6HieyDy0"
      },
      "execution_count": 6,
      "outputs": []
    },
    {
      "cell_type": "code",
      "source": [
        "def main():\n",
        "  js_100 = pd.read_json(\"/content/drive/MyDrive/NLP/WLASL100.json\")\n",
        "  folder = \"/content/drive/MyDrive/NLP/dataset/subset_100/\"\n",
        "  original_folder = \"/content/drive/MyDrive/NLP/dataset/\"\n",
        "  vis = False\n",
        "\n",
        "  training_folder = folder + \"train/\"\n",
        "  validation_folder = folder + \"val/\"\n",
        "  test_folder = folder + \"test/\"\n",
        "\n",
        "  training_video = training_folder + \"video/\"\n",
        "  validation_video = validation_folder + \"video/\"\n",
        "  test_video = test_folder + \"video/\"\n",
        "\n",
        "  if vis:\n",
        "    training_images = training_folder + \"images/\"\n",
        "    validation_images = validation_folder + \"images/\"\n",
        "    test_images = test_folder + \"images/\"\n",
        "  else:\n",
        "    training_images = training_folder + \"images_no_vis/\"\n",
        "    validation_images = validation_folder + \"images_no_vis/\"\n",
        "    test_images = test_folder + \"images_no_vis/\"\n",
        "\n",
        "  gloss = set()\n",
        "  for image in os.listdir(training_images):\n",
        "    word, _ = image.split(\"_\")\n",
        "    gloss.add(word)\n",
        "  label_map = {label: num for num, label in enumerate(gloss)}\n",
        "\n",
        "  train_dataset = SignLanguageDataset(training_images, label_map, vis)\n",
        "  val_dataset = SignLanguageDataset(validation_images, label_map, vis)\n",
        "  test_dataset = SignLanguageDataset(test_images, label_map, vis)\n",
        "\n",
        "  batch_size = 16\n",
        "  train_loader = DataLoader(train_dataset, batch_size=batch_size, shuffle=True, collate_fn=collate_fn)\n",
        "  val_loader = DataLoader(val_dataset, batch_size=batch_size, shuffle=False, collate_fn=collate_fn)\n",
        "  test_loader = DataLoader(test_dataset, batch_size=batch_size, shuffle=False, collate_fn=collate_fn)\n",
        "\n",
        "  def get_training_config():\n",
        "    return {\n",
        "      'hidden_size': 512,\n",
        "      'learning_rate': 1e-4,\n",
        "      'num_epochs': 200,\n",
        "      'weight_decay': 1e-4,\n",
        "      'dropout_rate': 0.2,\n",
        "      'scheduler_params': {\n",
        "        'factor': 0.5,\n",
        "        'min_lr': 1e-6\n",
        "      },\n",
        "    }\n",
        "\n",
        "  best_accuracy = 0.0\n",
        "  training_history = []\n",
        "  config = get_training_config()\n",
        "  device = torch.device(\"cuda\" if torch.cuda.is_available() else \"cpu\")\n",
        "  num_epochs = config['num_epochs']\n",
        "\n",
        "  input_size = 258 if vis else 225\n",
        "\n",
        "  model = SignLanguageLSTM(\n",
        "  #model = SignLanguageGRU(\n",
        "      input_size=input_size,\n",
        "      hidden_size = config['hidden_size'],\n",
        "      num_classes = len(label_map),\n",
        "      dropout_rate=config['dropout_rate']).to(device)\n",
        "\n",
        "  criterion = nn.CrossEntropyLoss()\n",
        "  optimizer = torch.optim.Adam(\n",
        "      model.parameters(),\n",
        "      lr=config['learning_rate'],\n",
        "      weight_decay=config['weight_decay'])\n",
        "\n",
        "  scheduler = torch.optim.lr_scheduler.ReduceLROnPlateau(\n",
        "      optimizer,\n",
        "      mode='max',\n",
        "      factor=config['scheduler_params']['factor'],\n",
        "      min_lr=config['scheduler_params']['min_lr'],\n",
        "      patience=5)\n",
        "\n",
        "  train(model, num_epochs, train_loader, val_loader, optimizer, criterion, scheduler, device, training_history, best_accuracy)\n",
        "  evaluate(model, test_loader, device)\n",
        "\n",
        "if __name__ == \"__main__\":\n",
        "  main()"
      ],
      "metadata": {
        "id": "M-TjBnd3satO",
        "outputId": "ac42e112-6591-43b7-c4ed-8d09b2a2145c",
        "colab": {
          "base_uri": "https://localhost:8080/"
        }
      },
      "execution_count": 17,
      "outputs": [
        {
          "output_type": "stream",
          "name": "stderr",
          "text": [
            "Epoch 1/200 [Train]: 100%|██████████| 58/58 [00:08<00:00,  6.61it/s]\n"
          ]
        },
        {
          "output_type": "stream",
          "name": "stdout",
          "text": [
            "Epoch [1/200], Loss: 4.5638\n"
          ]
        },
        {
          "output_type": "stream",
          "name": "stderr",
          "text": [
            "Epoch 1/200 [Valid]: 100%|██████████| 14/14 [00:00<00:00, 14.39it/s]\n"
          ]
        },
        {
          "output_type": "stream",
          "name": "stdout",
          "text": [
            "Validation Accuracy: 2.84%\n",
            "Epoch [1/200], Validation Loss: 4.4453\n",
            "Saved new best model with accuracy: 2.84%\n",
            "-----\n"
          ]
        },
        {
          "output_type": "stream",
          "name": "stderr",
          "text": [
            "Epoch 2/200 [Train]: 100%|██████████| 58/58 [00:06<00:00,  8.75it/s]\n"
          ]
        },
        {
          "output_type": "stream",
          "name": "stdout",
          "text": [
            "Epoch [2/200], Loss: 4.2993\n"
          ]
        },
        {
          "output_type": "stream",
          "name": "stderr",
          "text": [
            "Epoch 2/200 [Valid]: 100%|██████████| 14/14 [00:00<00:00, 14.63it/s]\n"
          ]
        },
        {
          "output_type": "stream",
          "name": "stdout",
          "text": [
            "Validation Accuracy: 3.79%\n",
            "Epoch [2/200], Validation Loss: 4.2564\n",
            "Saved new best model with accuracy: 3.79%\n",
            "-----\n"
          ]
        },
        {
          "output_type": "stream",
          "name": "stderr",
          "text": [
            "Epoch 3/200 [Train]: 100%|██████████| 58/58 [00:05<00:00,  9.80it/s]\n"
          ]
        },
        {
          "output_type": "stream",
          "name": "stdout",
          "text": [
            "Epoch [3/200], Loss: 4.1639\n"
          ]
        },
        {
          "output_type": "stream",
          "name": "stderr",
          "text": [
            "Epoch 3/200 [Valid]: 100%|██████████| 14/14 [00:00<00:00, 14.44it/s]\n"
          ]
        },
        {
          "output_type": "stream",
          "name": "stdout",
          "text": [
            "Validation Accuracy: 4.27%\n",
            "Epoch [3/200], Validation Loss: 4.1535\n",
            "Saved new best model with accuracy: 4.27%\n",
            "-----\n"
          ]
        },
        {
          "output_type": "stream",
          "name": "stderr",
          "text": [
            "Epoch 4/200 [Train]: 100%|██████████| 58/58 [00:06<00:00,  9.41it/s]\n"
          ]
        },
        {
          "output_type": "stream",
          "name": "stdout",
          "text": [
            "Epoch [4/200], Loss: 4.0566\n"
          ]
        },
        {
          "output_type": "stream",
          "name": "stderr",
          "text": [
            "Epoch 4/200 [Valid]: 100%|██████████| 14/14 [00:00<00:00, 14.61it/s]\n"
          ]
        },
        {
          "output_type": "stream",
          "name": "stdout",
          "text": [
            "Validation Accuracy: 5.69%\n",
            "Epoch [4/200], Validation Loss: 3.9927\n",
            "Saved new best model with accuracy: 5.69%\n",
            "-----\n"
          ]
        },
        {
          "output_type": "stream",
          "name": "stderr",
          "text": [
            "Epoch 5/200 [Train]: 100%|██████████| 58/58 [00:05<00:00,  9.75it/s]\n"
          ]
        },
        {
          "output_type": "stream",
          "name": "stdout",
          "text": [
            "Epoch [5/200], Loss: 3.9011\n"
          ]
        },
        {
          "output_type": "stream",
          "name": "stderr",
          "text": [
            "Epoch 5/200 [Valid]: 100%|██████████| 14/14 [00:01<00:00, 13.69it/s]\n"
          ]
        },
        {
          "output_type": "stream",
          "name": "stdout",
          "text": [
            "Validation Accuracy: 8.53%\n",
            "Epoch [5/200], Validation Loss: 3.9153\n",
            "Saved new best model with accuracy: 8.53%\n",
            "-----\n"
          ]
        },
        {
          "output_type": "stream",
          "name": "stderr",
          "text": [
            "Epoch 6/200 [Train]: 100%|██████████| 58/58 [00:06<00:00,  8.50it/s]\n"
          ]
        },
        {
          "output_type": "stream",
          "name": "stdout",
          "text": [
            "Epoch [6/200], Loss: 3.8022\n"
          ]
        },
        {
          "output_type": "stream",
          "name": "stderr",
          "text": [
            "Epoch 6/200 [Valid]: 100%|██████████| 14/14 [00:00<00:00, 14.85it/s]\n"
          ]
        },
        {
          "output_type": "stream",
          "name": "stdout",
          "text": [
            "Validation Accuracy: 10.90%\n",
            "Epoch [6/200], Validation Loss: 3.7650\n",
            "Saved new best model with accuracy: 10.90%\n",
            "-----\n"
          ]
        },
        {
          "output_type": "stream",
          "name": "stderr",
          "text": [
            "Epoch 7/200 [Train]: 100%|██████████| 58/58 [00:05<00:00,  9.80it/s]\n"
          ]
        },
        {
          "output_type": "stream",
          "name": "stdout",
          "text": [
            "Epoch [7/200], Loss: 3.6258\n"
          ]
        },
        {
          "output_type": "stream",
          "name": "stderr",
          "text": [
            "Epoch 7/200 [Valid]: 100%|██████████| 14/14 [00:00<00:00, 14.82it/s]\n"
          ]
        },
        {
          "output_type": "stream",
          "name": "stdout",
          "text": [
            "Validation Accuracy: 9.00%\n",
            "Epoch [7/200], Validation Loss: 3.6964\n"
          ]
        },
        {
          "output_type": "stream",
          "name": "stderr",
          "text": [
            "Epoch 8/200 [Train]: 100%|██████████| 58/58 [00:05<00:00,  9.70it/s]\n"
          ]
        },
        {
          "output_type": "stream",
          "name": "stdout",
          "text": [
            "Epoch [8/200], Loss: 3.5047\n"
          ]
        },
        {
          "output_type": "stream",
          "name": "stderr",
          "text": [
            "Epoch 8/200 [Valid]: 100%|██████████| 14/14 [00:00<00:00, 14.65it/s]\n"
          ]
        },
        {
          "output_type": "stream",
          "name": "stdout",
          "text": [
            "Validation Accuracy: 12.80%\n",
            "Epoch [8/200], Validation Loss: 3.5829\n",
            "Saved new best model with accuracy: 12.80%\n",
            "-----\n"
          ]
        },
        {
          "output_type": "stream",
          "name": "stderr",
          "text": [
            "Epoch 9/200 [Train]: 100%|██████████| 58/58 [00:05<00:00,  9.71it/s]\n"
          ]
        },
        {
          "output_type": "stream",
          "name": "stdout",
          "text": [
            "Epoch [9/200], Loss: 3.3663\n"
          ]
        },
        {
          "output_type": "stream",
          "name": "stderr",
          "text": [
            "Epoch 9/200 [Valid]: 100%|██████████| 14/14 [00:00<00:00, 14.17it/s]\n"
          ]
        },
        {
          "output_type": "stream",
          "name": "stdout",
          "text": [
            "Validation Accuracy: 12.32%\n",
            "Epoch [9/200], Validation Loss: 3.4918\n"
          ]
        },
        {
          "output_type": "stream",
          "name": "stderr",
          "text": [
            "Epoch 10/200 [Train]: 100%|██████████| 58/58 [00:05<00:00,  9.75it/s]\n"
          ]
        },
        {
          "output_type": "stream",
          "name": "stdout",
          "text": [
            "Epoch [10/200], Loss: 3.2976\n"
          ]
        },
        {
          "output_type": "stream",
          "name": "stderr",
          "text": [
            "Epoch 10/200 [Valid]: 100%|██████████| 14/14 [00:00<00:00, 14.81it/s]\n"
          ]
        },
        {
          "output_type": "stream",
          "name": "stdout",
          "text": [
            "Validation Accuracy: 13.27%\n",
            "Epoch [10/200], Validation Loss: 3.3457\n",
            "Saved new best model with accuracy: 13.27%\n",
            "-----\n"
          ]
        },
        {
          "output_type": "stream",
          "name": "stderr",
          "text": [
            "Epoch 11/200 [Train]: 100%|██████████| 58/58 [00:05<00:00, 10.04it/s]\n"
          ]
        },
        {
          "output_type": "stream",
          "name": "stdout",
          "text": [
            "Epoch [11/200], Loss: 3.1525\n"
          ]
        },
        {
          "output_type": "stream",
          "name": "stderr",
          "text": [
            "Epoch 11/200 [Valid]: 100%|██████████| 14/14 [00:00<00:00, 15.39it/s]\n"
          ]
        },
        {
          "output_type": "stream",
          "name": "stdout",
          "text": [
            "Validation Accuracy: 14.22%\n",
            "Epoch [11/200], Validation Loss: 3.3536\n",
            "Saved new best model with accuracy: 14.22%\n",
            "-----\n"
          ]
        },
        {
          "output_type": "stream",
          "name": "stderr",
          "text": [
            "Epoch 12/200 [Train]: 100%|██████████| 58/58 [00:06<00:00,  9.51it/s]\n"
          ]
        },
        {
          "output_type": "stream",
          "name": "stdout",
          "text": [
            "Epoch [12/200], Loss: 2.9964\n"
          ]
        },
        {
          "output_type": "stream",
          "name": "stderr",
          "text": [
            "Epoch 12/200 [Valid]: 100%|██████████| 14/14 [00:00<00:00, 15.25it/s]\n"
          ]
        },
        {
          "output_type": "stream",
          "name": "stdout",
          "text": [
            "Validation Accuracy: 16.59%\n",
            "Epoch [12/200], Validation Loss: 3.1848\n",
            "Saved new best model with accuracy: 16.59%\n",
            "-----\n"
          ]
        },
        {
          "output_type": "stream",
          "name": "stderr",
          "text": [
            "Epoch 13/200 [Train]: 100%|██████████| 58/58 [00:05<00:00,  9.91it/s]\n"
          ]
        },
        {
          "output_type": "stream",
          "name": "stdout",
          "text": [
            "Epoch [13/200], Loss: 2.8990\n"
          ]
        },
        {
          "output_type": "stream",
          "name": "stderr",
          "text": [
            "Epoch 13/200 [Valid]: 100%|██████████| 14/14 [00:00<00:00, 14.45it/s]\n"
          ]
        },
        {
          "output_type": "stream",
          "name": "stdout",
          "text": [
            "Validation Accuracy: 19.91%\n",
            "Epoch [13/200], Validation Loss: 3.1774\n",
            "Saved new best model with accuracy: 19.91%\n",
            "-----\n"
          ]
        },
        {
          "output_type": "stream",
          "name": "stderr",
          "text": [
            "Epoch 14/200 [Train]: 100%|██████████| 58/58 [00:05<00:00,  9.76it/s]\n"
          ]
        },
        {
          "output_type": "stream",
          "name": "stdout",
          "text": [
            "Epoch [14/200], Loss: 2.8060\n"
          ]
        },
        {
          "output_type": "stream",
          "name": "stderr",
          "text": [
            "Epoch 14/200 [Valid]: 100%|██████████| 14/14 [00:00<00:00, 14.87it/s]\n"
          ]
        },
        {
          "output_type": "stream",
          "name": "stdout",
          "text": [
            "Validation Accuracy: 18.48%\n",
            "Epoch [14/200], Validation Loss: 3.2042\n"
          ]
        },
        {
          "output_type": "stream",
          "name": "stderr",
          "text": [
            "Epoch 15/200 [Train]: 100%|██████████| 58/58 [00:05<00:00,  9.81it/s]\n"
          ]
        },
        {
          "output_type": "stream",
          "name": "stdout",
          "text": [
            "Epoch [15/200], Loss: 2.7472\n"
          ]
        },
        {
          "output_type": "stream",
          "name": "stderr",
          "text": [
            "Epoch 15/200 [Valid]: 100%|██████████| 14/14 [00:00<00:00, 14.43it/s]\n"
          ]
        },
        {
          "output_type": "stream",
          "name": "stdout",
          "text": [
            "Validation Accuracy: 17.06%\n",
            "Epoch [15/200], Validation Loss: 3.1671\n"
          ]
        },
        {
          "output_type": "stream",
          "name": "stderr",
          "text": [
            "Epoch 16/200 [Train]: 100%|██████████| 58/58 [00:05<00:00,  9.82it/s]\n"
          ]
        },
        {
          "output_type": "stream",
          "name": "stdout",
          "text": [
            "Epoch [16/200], Loss: 2.6651\n"
          ]
        },
        {
          "output_type": "stream",
          "name": "stderr",
          "text": [
            "Epoch 16/200 [Valid]: 100%|██████████| 14/14 [00:00<00:00, 15.20it/s]\n"
          ]
        },
        {
          "output_type": "stream",
          "name": "stdout",
          "text": [
            "Validation Accuracy: 23.22%\n",
            "Epoch [16/200], Validation Loss: 3.0153\n",
            "Saved new best model with accuracy: 23.22%\n",
            "-----\n"
          ]
        },
        {
          "output_type": "stream",
          "name": "stderr",
          "text": [
            "Epoch 17/200 [Train]: 100%|██████████| 58/58 [00:05<00:00,  9.82it/s]\n"
          ]
        },
        {
          "output_type": "stream",
          "name": "stdout",
          "text": [
            "Epoch [17/200], Loss: 2.5569\n"
          ]
        },
        {
          "output_type": "stream",
          "name": "stderr",
          "text": [
            "Epoch 17/200 [Valid]: 100%|██████████| 14/14 [00:00<00:00, 14.24it/s]\n"
          ]
        },
        {
          "output_type": "stream",
          "name": "stdout",
          "text": [
            "Validation Accuracy: 20.38%\n",
            "Epoch [17/200], Validation Loss: 3.0199\n"
          ]
        },
        {
          "output_type": "stream",
          "name": "stderr",
          "text": [
            "Epoch 18/200 [Train]: 100%|██████████| 58/58 [00:05<00:00,  9.88it/s]\n"
          ]
        },
        {
          "output_type": "stream",
          "name": "stdout",
          "text": [
            "Epoch [18/200], Loss: 2.4192\n"
          ]
        },
        {
          "output_type": "stream",
          "name": "stderr",
          "text": [
            "Epoch 18/200 [Valid]: 100%|██████████| 14/14 [00:00<00:00, 14.69it/s]\n"
          ]
        },
        {
          "output_type": "stream",
          "name": "stdout",
          "text": [
            "Validation Accuracy: 26.07%\n",
            "Epoch [18/200], Validation Loss: 2.9969\n",
            "Saved new best model with accuracy: 26.07%\n",
            "-----\n"
          ]
        },
        {
          "output_type": "stream",
          "name": "stderr",
          "text": [
            "Epoch 19/200 [Train]: 100%|██████████| 58/58 [00:05<00:00,  9.78it/s]\n"
          ]
        },
        {
          "output_type": "stream",
          "name": "stdout",
          "text": [
            "Epoch [19/200], Loss: 2.3421\n"
          ]
        },
        {
          "output_type": "stream",
          "name": "stderr",
          "text": [
            "Epoch 19/200 [Valid]: 100%|██████████| 14/14 [00:00<00:00, 14.23it/s]\n"
          ]
        },
        {
          "output_type": "stream",
          "name": "stdout",
          "text": [
            "Validation Accuracy: 26.54%\n",
            "Epoch [19/200], Validation Loss: 2.9409\n",
            "Saved new best model with accuracy: 26.54%\n",
            "-----\n"
          ]
        },
        {
          "output_type": "stream",
          "name": "stderr",
          "text": [
            "Epoch 20/200 [Train]: 100%|██████████| 58/58 [00:05<00:00,  9.69it/s]\n"
          ]
        },
        {
          "output_type": "stream",
          "name": "stdout",
          "text": [
            "Epoch [20/200], Loss: 2.2916\n"
          ]
        },
        {
          "output_type": "stream",
          "name": "stderr",
          "text": [
            "Epoch 20/200 [Valid]: 100%|██████████| 14/14 [00:00<00:00, 14.48it/s]\n"
          ]
        },
        {
          "output_type": "stream",
          "name": "stdout",
          "text": [
            "Validation Accuracy: 29.38%\n",
            "Epoch [20/200], Validation Loss: 2.8625\n",
            "Saved new best model with accuracy: 29.38%\n",
            "-----\n"
          ]
        },
        {
          "output_type": "stream",
          "name": "stderr",
          "text": [
            "Epoch 21/200 [Train]: 100%|██████████| 58/58 [00:05<00:00,  9.71it/s]\n"
          ]
        },
        {
          "output_type": "stream",
          "name": "stdout",
          "text": [
            "Epoch [21/200], Loss: 2.1957\n"
          ]
        },
        {
          "output_type": "stream",
          "name": "stderr",
          "text": [
            "Epoch 21/200 [Valid]: 100%|██████████| 14/14 [00:01<00:00, 13.83it/s]\n"
          ]
        },
        {
          "output_type": "stream",
          "name": "stdout",
          "text": [
            "Validation Accuracy: 27.96%\n",
            "Epoch [21/200], Validation Loss: 2.8412\n"
          ]
        },
        {
          "output_type": "stream",
          "name": "stderr",
          "text": [
            "Epoch 22/200 [Train]: 100%|██████████| 58/58 [00:05<00:00,  9.70it/s]\n"
          ]
        },
        {
          "output_type": "stream",
          "name": "stdout",
          "text": [
            "Epoch [22/200], Loss: 2.1227\n"
          ]
        },
        {
          "output_type": "stream",
          "name": "stderr",
          "text": [
            "Epoch 22/200 [Valid]: 100%|██████████| 14/14 [00:00<00:00, 14.66it/s]\n"
          ]
        },
        {
          "output_type": "stream",
          "name": "stdout",
          "text": [
            "Validation Accuracy: 27.96%\n",
            "Epoch [22/200], Validation Loss: 2.8624\n"
          ]
        },
        {
          "output_type": "stream",
          "name": "stderr",
          "text": [
            "Epoch 23/200 [Train]: 100%|██████████| 58/58 [00:05<00:00,  9.67it/s]\n"
          ]
        },
        {
          "output_type": "stream",
          "name": "stdout",
          "text": [
            "Epoch [23/200], Loss: 2.0829\n"
          ]
        },
        {
          "output_type": "stream",
          "name": "stderr",
          "text": [
            "Epoch 23/200 [Valid]: 100%|██████████| 14/14 [00:01<00:00, 13.45it/s]\n"
          ]
        },
        {
          "output_type": "stream",
          "name": "stdout",
          "text": [
            "Validation Accuracy: 29.38%\n",
            "Epoch [23/200], Validation Loss: 2.8623\n"
          ]
        },
        {
          "output_type": "stream",
          "name": "stderr",
          "text": [
            "Epoch 24/200 [Train]: 100%|██████████| 58/58 [00:05<00:00,  9.75it/s]\n"
          ]
        },
        {
          "output_type": "stream",
          "name": "stdout",
          "text": [
            "Epoch [24/200], Loss: 1.9742\n"
          ]
        },
        {
          "output_type": "stream",
          "name": "stderr",
          "text": [
            "Epoch 24/200 [Valid]: 100%|██████████| 14/14 [00:00<00:00, 14.36it/s]\n"
          ]
        },
        {
          "output_type": "stream",
          "name": "stdout",
          "text": [
            "Validation Accuracy: 28.91%\n",
            "Epoch [24/200], Validation Loss: 2.8648\n"
          ]
        },
        {
          "output_type": "stream",
          "name": "stderr",
          "text": [
            "Epoch 25/200 [Train]: 100%|██████████| 58/58 [00:05<00:00,  9.69it/s]\n"
          ]
        },
        {
          "output_type": "stream",
          "name": "stdout",
          "text": [
            "Epoch [25/200], Loss: 1.9130\n"
          ]
        },
        {
          "output_type": "stream",
          "name": "stderr",
          "text": [
            "Epoch 25/200 [Valid]: 100%|██████████| 14/14 [00:01<00:00, 12.89it/s]\n"
          ]
        },
        {
          "output_type": "stream",
          "name": "stdout",
          "text": [
            "Validation Accuracy: 28.91%\n",
            "Epoch [25/200], Validation Loss: 2.7480\n"
          ]
        },
        {
          "output_type": "stream",
          "name": "stderr",
          "text": [
            "Epoch 26/200 [Train]: 100%|██████████| 58/58 [00:06<00:00,  9.58it/s]\n"
          ]
        },
        {
          "output_type": "stream",
          "name": "stdout",
          "text": [
            "Epoch [26/200], Loss: 1.8425\n"
          ]
        },
        {
          "output_type": "stream",
          "name": "stderr",
          "text": [
            "Epoch 26/200 [Valid]: 100%|██████████| 14/14 [00:00<00:00, 14.45it/s]\n"
          ]
        },
        {
          "output_type": "stream",
          "name": "stdout",
          "text": [
            "Validation Accuracy: 36.97%\n",
            "Epoch [26/200], Validation Loss: 2.6533\n",
            "Saved new best model with accuracy: 36.97%\n",
            "-----\n"
          ]
        },
        {
          "output_type": "stream",
          "name": "stderr",
          "text": [
            "Epoch 27/200 [Train]: 100%|██████████| 58/58 [00:05<00:00,  9.68it/s]\n"
          ]
        },
        {
          "output_type": "stream",
          "name": "stdout",
          "text": [
            "Epoch [27/200], Loss: 1.8076\n"
          ]
        },
        {
          "output_type": "stream",
          "name": "stderr",
          "text": [
            "Epoch 27/200 [Valid]: 100%|██████████| 14/14 [00:00<00:00, 15.41it/s]\n"
          ]
        },
        {
          "output_type": "stream",
          "name": "stdout",
          "text": [
            "Validation Accuracy: 34.12%\n",
            "Epoch [27/200], Validation Loss: 2.7498\n"
          ]
        },
        {
          "output_type": "stream",
          "name": "stderr",
          "text": [
            "Epoch 28/200 [Train]: 100%|██████████| 58/58 [00:05<00:00, 10.42it/s]\n"
          ]
        },
        {
          "output_type": "stream",
          "name": "stdout",
          "text": [
            "Epoch [28/200], Loss: 1.6404\n"
          ]
        },
        {
          "output_type": "stream",
          "name": "stderr",
          "text": [
            "Epoch 28/200 [Valid]: 100%|██████████| 14/14 [00:00<00:00, 15.31it/s]\n"
          ]
        },
        {
          "output_type": "stream",
          "name": "stdout",
          "text": [
            "Validation Accuracy: 34.12%\n",
            "Epoch [28/200], Validation Loss: 2.6908\n"
          ]
        },
        {
          "output_type": "stream",
          "name": "stderr",
          "text": [
            "Epoch 29/200 [Train]: 100%|██████████| 58/58 [00:05<00:00,  9.96it/s]\n"
          ]
        },
        {
          "output_type": "stream",
          "name": "stdout",
          "text": [
            "Epoch [29/200], Loss: 1.6459\n"
          ]
        },
        {
          "output_type": "stream",
          "name": "stderr",
          "text": [
            "Epoch 29/200 [Valid]: 100%|██████████| 14/14 [00:00<00:00, 15.30it/s]\n"
          ]
        },
        {
          "output_type": "stream",
          "name": "stdout",
          "text": [
            "Validation Accuracy: 34.60%\n",
            "Epoch [29/200], Validation Loss: 2.5929\n"
          ]
        },
        {
          "output_type": "stream",
          "name": "stderr",
          "text": [
            "Epoch 30/200 [Train]: 100%|██████████| 58/58 [00:05<00:00, 10.27it/s]\n"
          ]
        },
        {
          "output_type": "stream",
          "name": "stdout",
          "text": [
            "Epoch [30/200], Loss: 1.6016\n"
          ]
        },
        {
          "output_type": "stream",
          "name": "stderr",
          "text": [
            "Epoch 30/200 [Valid]: 100%|██████████| 14/14 [00:00<00:00, 15.58it/s]\n"
          ]
        },
        {
          "output_type": "stream",
          "name": "stdout",
          "text": [
            "Validation Accuracy: 36.02%\n",
            "Epoch [30/200], Validation Loss: 2.5674\n"
          ]
        },
        {
          "output_type": "stream",
          "name": "stderr",
          "text": [
            "Epoch 31/200 [Train]: 100%|██████████| 58/58 [00:05<00:00, 10.25it/s]\n"
          ]
        },
        {
          "output_type": "stream",
          "name": "stdout",
          "text": [
            "Epoch [31/200], Loss: 1.5359\n"
          ]
        },
        {
          "output_type": "stream",
          "name": "stderr",
          "text": [
            "Epoch 31/200 [Valid]: 100%|██████████| 14/14 [00:00<00:00, 15.01it/s]\n"
          ]
        },
        {
          "output_type": "stream",
          "name": "stdout",
          "text": [
            "Validation Accuracy: 34.60%\n",
            "Epoch [31/200], Validation Loss: 2.5836\n"
          ]
        },
        {
          "output_type": "stream",
          "name": "stderr",
          "text": [
            "Epoch 32/200 [Train]: 100%|██████████| 58/58 [00:05<00:00, 10.35it/s]\n"
          ]
        },
        {
          "output_type": "stream",
          "name": "stdout",
          "text": [
            "Epoch [32/200], Loss: 1.4412\n"
          ]
        },
        {
          "output_type": "stream",
          "name": "stderr",
          "text": [
            "Epoch 32/200 [Valid]: 100%|██████████| 14/14 [00:00<00:00, 15.53it/s]\n"
          ]
        },
        {
          "output_type": "stream",
          "name": "stdout",
          "text": [
            "Validation Accuracy: 36.97%\n",
            "Epoch [32/200], Validation Loss: 2.5622\n"
          ]
        },
        {
          "output_type": "stream",
          "name": "stderr",
          "text": [
            "Epoch 33/200 [Train]: 100%|██████████| 58/58 [00:05<00:00, 10.19it/s]\n"
          ]
        },
        {
          "output_type": "stream",
          "name": "stdout",
          "text": [
            "Epoch [33/200], Loss: 1.2681\n"
          ]
        },
        {
          "output_type": "stream",
          "name": "stderr",
          "text": [
            "Epoch 33/200 [Valid]: 100%|██████████| 14/14 [00:00<00:00, 14.44it/s]\n"
          ]
        },
        {
          "output_type": "stream",
          "name": "stdout",
          "text": [
            "Validation Accuracy: 39.81%\n",
            "Epoch [33/200], Validation Loss: 2.5288\n",
            "Saved new best model with accuracy: 39.81%\n",
            "-----\n"
          ]
        },
        {
          "output_type": "stream",
          "name": "stderr",
          "text": [
            "Epoch 34/200 [Train]: 100%|██████████| 58/58 [00:05<00:00, 10.43it/s]\n"
          ]
        },
        {
          "output_type": "stream",
          "name": "stdout",
          "text": [
            "Epoch [34/200], Loss: 1.1713\n"
          ]
        },
        {
          "output_type": "stream",
          "name": "stderr",
          "text": [
            "Epoch 34/200 [Valid]: 100%|██████████| 14/14 [00:00<00:00, 15.98it/s]\n"
          ]
        },
        {
          "output_type": "stream",
          "name": "stdout",
          "text": [
            "Validation Accuracy: 43.13%\n",
            "Epoch [34/200], Validation Loss: 2.4987\n",
            "Saved new best model with accuracy: 43.13%\n",
            "-----\n"
          ]
        },
        {
          "output_type": "stream",
          "name": "stderr",
          "text": [
            "Epoch 35/200 [Train]: 100%|██████████| 58/58 [00:05<00:00, 10.13it/s]\n"
          ]
        },
        {
          "output_type": "stream",
          "name": "stdout",
          "text": [
            "Epoch [35/200], Loss: 1.1539\n"
          ]
        },
        {
          "output_type": "stream",
          "name": "stderr",
          "text": [
            "Epoch 35/200 [Valid]: 100%|██████████| 14/14 [00:00<00:00, 14.36it/s]\n"
          ]
        },
        {
          "output_type": "stream",
          "name": "stdout",
          "text": [
            "Validation Accuracy: 39.34%\n",
            "Epoch [35/200], Validation Loss: 2.5167\n"
          ]
        },
        {
          "output_type": "stream",
          "name": "stderr",
          "text": [
            "Epoch 36/200 [Train]: 100%|██████████| 58/58 [00:05<00:00, 10.43it/s]\n"
          ]
        },
        {
          "output_type": "stream",
          "name": "stdout",
          "text": [
            "Epoch [36/200], Loss: 1.1143\n"
          ]
        },
        {
          "output_type": "stream",
          "name": "stderr",
          "text": [
            "Epoch 36/200 [Valid]: 100%|██████████| 14/14 [00:00<00:00, 15.74it/s]\n"
          ]
        },
        {
          "output_type": "stream",
          "name": "stdout",
          "text": [
            "Validation Accuracy: 38.86%\n",
            "Epoch [36/200], Validation Loss: 2.5526\n"
          ]
        },
        {
          "output_type": "stream",
          "name": "stderr",
          "text": [
            "Epoch 37/200 [Train]: 100%|██████████| 58/58 [00:05<00:00, 10.15it/s]\n"
          ]
        },
        {
          "output_type": "stream",
          "name": "stdout",
          "text": [
            "Epoch [37/200], Loss: 1.0982\n"
          ]
        },
        {
          "output_type": "stream",
          "name": "stderr",
          "text": [
            "Epoch 37/200 [Valid]: 100%|██████████| 14/14 [00:00<00:00, 14.49it/s]\n"
          ]
        },
        {
          "output_type": "stream",
          "name": "stdout",
          "text": [
            "Validation Accuracy: 44.08%\n",
            "Epoch [37/200], Validation Loss: 2.4749\n",
            "Saved new best model with accuracy: 44.08%\n",
            "-----\n"
          ]
        },
        {
          "output_type": "stream",
          "name": "stderr",
          "text": [
            "Epoch 38/200 [Train]: 100%|██████████| 58/58 [00:05<00:00, 10.50it/s]\n"
          ]
        },
        {
          "output_type": "stream",
          "name": "stdout",
          "text": [
            "Epoch [38/200], Loss: 1.0523\n"
          ]
        },
        {
          "output_type": "stream",
          "name": "stderr",
          "text": [
            "Epoch 38/200 [Valid]: 100%|██████████| 14/14 [00:00<00:00, 15.88it/s]\n"
          ]
        },
        {
          "output_type": "stream",
          "name": "stdout",
          "text": [
            "Validation Accuracy: 40.28%\n",
            "Epoch [38/200], Validation Loss: 2.5295\n"
          ]
        },
        {
          "output_type": "stream",
          "name": "stderr",
          "text": [
            "Epoch 39/200 [Train]: 100%|██████████| 58/58 [00:05<00:00, 10.28it/s]\n"
          ]
        },
        {
          "output_type": "stream",
          "name": "stdout",
          "text": [
            "Epoch [39/200], Loss: 0.9787\n"
          ]
        },
        {
          "output_type": "stream",
          "name": "stderr",
          "text": [
            "Epoch 39/200 [Valid]: 100%|██████████| 14/14 [00:00<00:00, 14.45it/s]\n"
          ]
        },
        {
          "output_type": "stream",
          "name": "stdout",
          "text": [
            "Validation Accuracy: 40.28%\n",
            "Epoch [39/200], Validation Loss: 2.5310\n"
          ]
        },
        {
          "output_type": "stream",
          "name": "stderr",
          "text": [
            "Epoch 40/200 [Train]: 100%|██████████| 58/58 [00:05<00:00, 10.25it/s]\n"
          ]
        },
        {
          "output_type": "stream",
          "name": "stdout",
          "text": [
            "Epoch [40/200], Loss: 0.9888\n"
          ]
        },
        {
          "output_type": "stream",
          "name": "stderr",
          "text": [
            "Epoch 40/200 [Valid]: 100%|██████████| 14/14 [00:00<00:00, 15.64it/s]\n"
          ]
        },
        {
          "output_type": "stream",
          "name": "stdout",
          "text": [
            "Validation Accuracy: 39.81%\n",
            "Epoch [40/200], Validation Loss: 2.6236\n"
          ]
        },
        {
          "output_type": "stream",
          "name": "stderr",
          "text": [
            "Epoch 41/200 [Train]: 100%|██████████| 58/58 [00:05<00:00, 10.27it/s]\n"
          ]
        },
        {
          "output_type": "stream",
          "name": "stdout",
          "text": [
            "Epoch [41/200], Loss: 0.9098\n"
          ]
        },
        {
          "output_type": "stream",
          "name": "stderr",
          "text": [
            "Epoch 41/200 [Valid]: 100%|██████████| 14/14 [00:00<00:00, 15.05it/s]\n"
          ]
        },
        {
          "output_type": "stream",
          "name": "stdout",
          "text": [
            "Validation Accuracy: 40.28%\n",
            "Epoch [41/200], Validation Loss: 2.5141\n"
          ]
        },
        {
          "output_type": "stream",
          "name": "stderr",
          "text": [
            "Epoch 42/200 [Train]: 100%|██████████| 58/58 [00:05<00:00, 10.33it/s]\n"
          ]
        },
        {
          "output_type": "stream",
          "name": "stdout",
          "text": [
            "Epoch [42/200], Loss: 0.9364\n"
          ]
        },
        {
          "output_type": "stream",
          "name": "stderr",
          "text": [
            "Epoch 42/200 [Valid]: 100%|██████████| 14/14 [00:00<00:00, 15.34it/s]\n"
          ]
        },
        {
          "output_type": "stream",
          "name": "stdout",
          "text": [
            "Validation Accuracy: 39.81%\n",
            "Epoch [42/200], Validation Loss: 2.6325\n"
          ]
        },
        {
          "output_type": "stream",
          "name": "stderr",
          "text": [
            "Epoch 43/200 [Train]: 100%|██████████| 58/58 [00:05<00:00, 10.35it/s]\n"
          ]
        },
        {
          "output_type": "stream",
          "name": "stdout",
          "text": [
            "Epoch [43/200], Loss: 0.8642\n"
          ]
        },
        {
          "output_type": "stream",
          "name": "stderr",
          "text": [
            "Epoch 43/200 [Valid]: 100%|██████████| 14/14 [00:00<00:00, 14.54it/s]\n"
          ]
        },
        {
          "output_type": "stream",
          "name": "stdout",
          "text": [
            "Validation Accuracy: 42.65%\n",
            "Epoch [43/200], Validation Loss: 2.6043\n"
          ]
        },
        {
          "output_type": "stream",
          "name": "stderr",
          "text": [
            "Epoch 44/200 [Train]: 100%|██████████| 58/58 [00:05<00:00, 10.25it/s]\n"
          ]
        },
        {
          "output_type": "stream",
          "name": "stdout",
          "text": [
            "Epoch [44/200], Loss: 0.7640\n"
          ]
        },
        {
          "output_type": "stream",
          "name": "stderr",
          "text": [
            "Epoch 44/200 [Valid]: 100%|██████████| 14/14 [00:00<00:00, 15.38it/s]\n"
          ]
        },
        {
          "output_type": "stream",
          "name": "stdout",
          "text": [
            "Validation Accuracy: 45.50%\n",
            "Epoch [44/200], Validation Loss: 2.4747\n",
            "Saved new best model with accuracy: 45.50%\n",
            "-----\n"
          ]
        },
        {
          "output_type": "stream",
          "name": "stderr",
          "text": [
            "Epoch 45/200 [Train]: 100%|██████████| 58/58 [00:05<00:00, 10.26it/s]\n"
          ]
        },
        {
          "output_type": "stream",
          "name": "stdout",
          "text": [
            "Epoch [45/200], Loss: 0.7408\n"
          ]
        },
        {
          "output_type": "stream",
          "name": "stderr",
          "text": [
            "Epoch 45/200 [Valid]: 100%|██████████| 14/14 [00:00<00:00, 14.66it/s]\n"
          ]
        },
        {
          "output_type": "stream",
          "name": "stdout",
          "text": [
            "Validation Accuracy: 44.08%\n",
            "Epoch [45/200], Validation Loss: 2.5092\n"
          ]
        },
        {
          "output_type": "stream",
          "name": "stderr",
          "text": [
            "Epoch 46/200 [Train]: 100%|██████████| 58/58 [00:05<00:00, 10.33it/s]\n"
          ]
        },
        {
          "output_type": "stream",
          "name": "stdout",
          "text": [
            "Epoch [46/200], Loss: 0.6804\n"
          ]
        },
        {
          "output_type": "stream",
          "name": "stderr",
          "text": [
            "Epoch 46/200 [Valid]: 100%|██████████| 14/14 [00:00<00:00, 15.82it/s]\n"
          ]
        },
        {
          "output_type": "stream",
          "name": "stdout",
          "text": [
            "Validation Accuracy: 43.13%\n",
            "Epoch [46/200], Validation Loss: 2.5444\n"
          ]
        },
        {
          "output_type": "stream",
          "name": "stderr",
          "text": [
            "Epoch 47/200 [Train]: 100%|██████████| 58/58 [00:05<00:00, 10.33it/s]\n"
          ]
        },
        {
          "output_type": "stream",
          "name": "stdout",
          "text": [
            "Epoch [47/200], Loss: 0.6703\n"
          ]
        },
        {
          "output_type": "stream",
          "name": "stderr",
          "text": [
            "Epoch 47/200 [Valid]: 100%|██████████| 14/14 [00:00<00:00, 15.40it/s]\n"
          ]
        },
        {
          "output_type": "stream",
          "name": "stdout",
          "text": [
            "Validation Accuracy: 44.55%\n",
            "Epoch [47/200], Validation Loss: 2.5745\n"
          ]
        },
        {
          "output_type": "stream",
          "name": "stderr",
          "text": [
            "Epoch 48/200 [Train]: 100%|██████████| 58/58 [00:05<00:00, 10.40it/s]\n"
          ]
        },
        {
          "output_type": "stream",
          "name": "stdout",
          "text": [
            "Epoch [48/200], Loss: 0.6835\n"
          ]
        },
        {
          "output_type": "stream",
          "name": "stderr",
          "text": [
            "Epoch 48/200 [Valid]: 100%|██████████| 14/14 [00:00<00:00, 16.14it/s]\n"
          ]
        },
        {
          "output_type": "stream",
          "name": "stdout",
          "text": [
            "Validation Accuracy: 43.13%\n",
            "Epoch [48/200], Validation Loss: 2.6447\n"
          ]
        },
        {
          "output_type": "stream",
          "name": "stderr",
          "text": [
            "Epoch 49/200 [Train]: 100%|██████████| 58/58 [00:05<00:00, 10.25it/s]\n"
          ]
        },
        {
          "output_type": "stream",
          "name": "stdout",
          "text": [
            "Epoch [49/200], Loss: 0.6314\n"
          ]
        },
        {
          "output_type": "stream",
          "name": "stderr",
          "text": [
            "Epoch 49/200 [Valid]: 100%|██████████| 14/14 [00:00<00:00, 15.84it/s]\n"
          ]
        },
        {
          "output_type": "stream",
          "name": "stdout",
          "text": [
            "Validation Accuracy: 43.13%\n",
            "Epoch [49/200], Validation Loss: 2.5368\n"
          ]
        },
        {
          "output_type": "stream",
          "name": "stderr",
          "text": [
            "Epoch 50/200 [Train]: 100%|██████████| 58/58 [00:05<00:00, 10.12it/s]\n"
          ]
        },
        {
          "output_type": "stream",
          "name": "stdout",
          "text": [
            "Epoch [50/200], Loss: 0.6424\n"
          ]
        },
        {
          "output_type": "stream",
          "name": "stderr",
          "text": [
            "Epoch 50/200 [Valid]: 100%|██████████| 14/14 [00:00<00:00, 15.37it/s]\n"
          ]
        },
        {
          "output_type": "stream",
          "name": "stdout",
          "text": [
            "Validation Accuracy: 44.08%\n",
            "Epoch [50/200], Validation Loss: 2.5954\n"
          ]
        },
        {
          "output_type": "stream",
          "name": "stderr",
          "text": [
            "Epoch 51/200 [Train]: 100%|██████████| 58/58 [00:05<00:00, 10.22it/s]\n"
          ]
        },
        {
          "output_type": "stream",
          "name": "stdout",
          "text": [
            "Epoch [51/200], Loss: 0.6620\n"
          ]
        },
        {
          "output_type": "stream",
          "name": "stderr",
          "text": [
            "Epoch 51/200 [Valid]: 100%|██████████| 14/14 [00:00<00:00, 15.00it/s]\n"
          ]
        },
        {
          "output_type": "stream",
          "name": "stdout",
          "text": [
            "Validation Accuracy: 43.13%\n",
            "Epoch [51/200], Validation Loss: 2.5698\n"
          ]
        },
        {
          "output_type": "stream",
          "name": "stderr",
          "text": [
            "Epoch 52/200 [Train]: 100%|██████████| 58/58 [00:05<00:00, 10.06it/s]\n"
          ]
        },
        {
          "output_type": "stream",
          "name": "stdout",
          "text": [
            "Epoch [52/200], Loss: 0.5745\n"
          ]
        },
        {
          "output_type": "stream",
          "name": "stderr",
          "text": [
            "Epoch 52/200 [Valid]: 100%|██████████| 14/14 [00:00<00:00, 15.44it/s]\n"
          ]
        },
        {
          "output_type": "stream",
          "name": "stdout",
          "text": [
            "Validation Accuracy: 43.60%\n",
            "Epoch [52/200], Validation Loss: 2.5583\n"
          ]
        },
        {
          "output_type": "stream",
          "name": "stderr",
          "text": [
            "Epoch 53/200 [Train]: 100%|██████████| 58/58 [00:05<00:00, 10.17it/s]\n"
          ]
        },
        {
          "output_type": "stream",
          "name": "stdout",
          "text": [
            "Epoch [53/200], Loss: 0.5721\n"
          ]
        },
        {
          "output_type": "stream",
          "name": "stderr",
          "text": [
            "Epoch 53/200 [Valid]: 100%|██████████| 14/14 [00:00<00:00, 15.19it/s]\n"
          ]
        },
        {
          "output_type": "stream",
          "name": "stdout",
          "text": [
            "Validation Accuracy: 43.60%\n",
            "Epoch [53/200], Validation Loss: 2.5688\n"
          ]
        },
        {
          "output_type": "stream",
          "name": "stderr",
          "text": [
            "Epoch 54/200 [Train]: 100%|██████████| 58/58 [00:05<00:00, 10.13it/s]\n"
          ]
        },
        {
          "output_type": "stream",
          "name": "stdout",
          "text": [
            "Epoch [54/200], Loss: 0.5649\n"
          ]
        },
        {
          "output_type": "stream",
          "name": "stderr",
          "text": [
            "Epoch 54/200 [Valid]: 100%|██████████| 14/14 [00:00<00:00, 15.92it/s]\n"
          ]
        },
        {
          "output_type": "stream",
          "name": "stdout",
          "text": [
            "Validation Accuracy: 43.60%\n",
            "Epoch [54/200], Validation Loss: 2.6198\n"
          ]
        },
        {
          "output_type": "stream",
          "name": "stderr",
          "text": [
            "Epoch 55/200 [Train]: 100%|██████████| 58/58 [00:05<00:00, 10.23it/s]\n"
          ]
        },
        {
          "output_type": "stream",
          "name": "stdout",
          "text": [
            "Epoch [55/200], Loss: 0.4888\n"
          ]
        },
        {
          "output_type": "stream",
          "name": "stderr",
          "text": [
            "Epoch 55/200 [Valid]: 100%|██████████| 14/14 [00:00<00:00, 15.14it/s]\n"
          ]
        },
        {
          "output_type": "stream",
          "name": "stdout",
          "text": [
            "Validation Accuracy: 42.65%\n",
            "Epoch [55/200], Validation Loss: 2.6013\n"
          ]
        },
        {
          "output_type": "stream",
          "name": "stderr",
          "text": [
            "Epoch 56/200 [Train]: 100%|██████████| 58/58 [00:05<00:00, 10.24it/s]\n"
          ]
        },
        {
          "output_type": "stream",
          "name": "stdout",
          "text": [
            "Epoch [56/200], Loss: 0.5785\n"
          ]
        },
        {
          "output_type": "stream",
          "name": "stderr",
          "text": [
            "Epoch 56/200 [Valid]: 100%|██████████| 14/14 [00:00<00:00, 15.18it/s]\n"
          ]
        },
        {
          "output_type": "stream",
          "name": "stdout",
          "text": [
            "Validation Accuracy: 45.50%\n",
            "Epoch [56/200], Validation Loss: 2.6699\n"
          ]
        },
        {
          "output_type": "stream",
          "name": "stderr",
          "text": [
            "Epoch 57/200 [Train]: 100%|██████████| 58/58 [00:05<00:00, 10.29it/s]\n"
          ]
        },
        {
          "output_type": "stream",
          "name": "stdout",
          "text": [
            "Epoch [57/200], Loss: 0.5697\n"
          ]
        },
        {
          "output_type": "stream",
          "name": "stderr",
          "text": [
            "Epoch 57/200 [Valid]: 100%|██████████| 14/14 [00:00<00:00, 15.17it/s]\n"
          ]
        },
        {
          "output_type": "stream",
          "name": "stdout",
          "text": [
            "Validation Accuracy: 45.97%\n",
            "Epoch [57/200], Validation Loss: 2.5818\n",
            "Saved new best model with accuracy: 45.97%\n",
            "-----\n"
          ]
        },
        {
          "output_type": "stream",
          "name": "stderr",
          "text": [
            "Epoch 58/200 [Train]: 100%|██████████| 58/58 [00:05<00:00, 10.08it/s]\n"
          ]
        },
        {
          "output_type": "stream",
          "name": "stdout",
          "text": [
            "Epoch [58/200], Loss: 0.5720\n"
          ]
        },
        {
          "output_type": "stream",
          "name": "stderr",
          "text": [
            "Epoch 58/200 [Valid]: 100%|██████████| 14/14 [00:00<00:00, 15.64it/s]\n"
          ]
        },
        {
          "output_type": "stream",
          "name": "stdout",
          "text": [
            "Validation Accuracy: 43.13%\n",
            "Epoch [58/200], Validation Loss: 2.5786\n"
          ]
        },
        {
          "output_type": "stream",
          "name": "stderr",
          "text": [
            "Epoch 59/200 [Train]: 100%|██████████| 58/58 [00:05<00:00, 10.24it/s]\n"
          ]
        },
        {
          "output_type": "stream",
          "name": "stdout",
          "text": [
            "Epoch [59/200], Loss: 0.5197\n"
          ]
        },
        {
          "output_type": "stream",
          "name": "stderr",
          "text": [
            "Epoch 59/200 [Valid]: 100%|██████████| 14/14 [00:00<00:00, 15.02it/s]\n"
          ]
        },
        {
          "output_type": "stream",
          "name": "stdout",
          "text": [
            "Validation Accuracy: 43.13%\n",
            "Epoch [59/200], Validation Loss: 2.5917\n"
          ]
        },
        {
          "output_type": "stream",
          "name": "stderr",
          "text": [
            "Epoch 60/200 [Train]: 100%|██████████| 58/58 [00:05<00:00, 10.29it/s]\n"
          ]
        },
        {
          "output_type": "stream",
          "name": "stdout",
          "text": [
            "Epoch [60/200], Loss: 0.5839\n"
          ]
        },
        {
          "output_type": "stream",
          "name": "stderr",
          "text": [
            "Epoch 60/200 [Valid]: 100%|██████████| 14/14 [00:00<00:00, 15.31it/s]\n"
          ]
        },
        {
          "output_type": "stream",
          "name": "stdout",
          "text": [
            "Validation Accuracy: 43.60%\n",
            "Epoch [60/200], Validation Loss: 2.6464\n"
          ]
        },
        {
          "output_type": "stream",
          "name": "stderr",
          "text": [
            "Epoch 61/200 [Train]: 100%|██████████| 58/58 [00:05<00:00, 10.24it/s]\n"
          ]
        },
        {
          "output_type": "stream",
          "name": "stdout",
          "text": [
            "Epoch [61/200], Loss: 0.5256\n"
          ]
        },
        {
          "output_type": "stream",
          "name": "stderr",
          "text": [
            "Epoch 61/200 [Valid]: 100%|██████████| 14/14 [00:00<00:00, 15.70it/s]\n"
          ]
        },
        {
          "output_type": "stream",
          "name": "stdout",
          "text": [
            "Validation Accuracy: 44.55%\n",
            "Epoch [61/200], Validation Loss: 2.6031\n"
          ]
        },
        {
          "output_type": "stream",
          "name": "stderr",
          "text": [
            "Epoch 62/200 [Train]: 100%|██████████| 58/58 [00:05<00:00, 10.04it/s]\n"
          ]
        },
        {
          "output_type": "stream",
          "name": "stdout",
          "text": [
            "Epoch [62/200], Loss: 0.5195\n"
          ]
        },
        {
          "output_type": "stream",
          "name": "stderr",
          "text": [
            "Epoch 62/200 [Valid]: 100%|██████████| 14/14 [00:00<00:00, 14.28it/s]\n"
          ]
        },
        {
          "output_type": "stream",
          "name": "stdout",
          "text": [
            "Validation Accuracy: 45.50%\n",
            "Epoch [62/200], Validation Loss: 2.5690\n"
          ]
        },
        {
          "output_type": "stream",
          "name": "stderr",
          "text": [
            "Epoch 63/200 [Train]: 100%|██████████| 58/58 [00:05<00:00, 10.06it/s]\n"
          ]
        },
        {
          "output_type": "stream",
          "name": "stdout",
          "text": [
            "Epoch [63/200], Loss: 0.4949\n"
          ]
        },
        {
          "output_type": "stream",
          "name": "stderr",
          "text": [
            "Epoch 63/200 [Valid]: 100%|██████████| 14/14 [00:00<00:00, 15.02it/s]\n"
          ]
        },
        {
          "output_type": "stream",
          "name": "stdout",
          "text": [
            "Validation Accuracy: 43.60%\n",
            "Epoch [63/200], Validation Loss: 2.6072\n"
          ]
        },
        {
          "output_type": "stream",
          "name": "stderr",
          "text": [
            "Epoch 64/200 [Train]: 100%|██████████| 58/58 [00:05<00:00, 10.19it/s]\n"
          ]
        },
        {
          "output_type": "stream",
          "name": "stdout",
          "text": [
            "Epoch [64/200], Loss: 0.4676\n"
          ]
        },
        {
          "output_type": "stream",
          "name": "stderr",
          "text": [
            "Epoch 64/200 [Valid]: 100%|██████████| 14/14 [00:00<00:00, 15.69it/s]\n"
          ]
        },
        {
          "output_type": "stream",
          "name": "stdout",
          "text": [
            "Validation Accuracy: 43.13%\n",
            "Epoch [64/200], Validation Loss: 2.6524\n"
          ]
        },
        {
          "output_type": "stream",
          "name": "stderr",
          "text": [
            "Epoch 65/200 [Train]: 100%|██████████| 58/58 [00:05<00:00, 10.36it/s]\n"
          ]
        },
        {
          "output_type": "stream",
          "name": "stdout",
          "text": [
            "Epoch [65/200], Loss: 0.5142\n"
          ]
        },
        {
          "output_type": "stream",
          "name": "stderr",
          "text": [
            "Epoch 65/200 [Valid]: 100%|██████████| 14/14 [00:00<00:00, 15.36it/s]\n"
          ]
        },
        {
          "output_type": "stream",
          "name": "stdout",
          "text": [
            "Validation Accuracy: 45.50%\n",
            "Epoch [65/200], Validation Loss: 2.6017\n"
          ]
        },
        {
          "output_type": "stream",
          "name": "stderr",
          "text": [
            "Epoch 66/200 [Train]: 100%|██████████| 58/58 [00:05<00:00, 10.31it/s]\n"
          ]
        },
        {
          "output_type": "stream",
          "name": "stdout",
          "text": [
            "Epoch [66/200], Loss: 0.5278\n"
          ]
        },
        {
          "output_type": "stream",
          "name": "stderr",
          "text": [
            "Epoch 66/200 [Valid]: 100%|██████████| 14/14 [00:00<00:00, 15.72it/s]\n"
          ]
        },
        {
          "output_type": "stream",
          "name": "stdout",
          "text": [
            "Validation Accuracy: 45.50%\n",
            "Epoch [66/200], Validation Loss: 2.6118\n"
          ]
        },
        {
          "output_type": "stream",
          "name": "stderr",
          "text": [
            "Epoch 67/200 [Train]: 100%|██████████| 58/58 [00:05<00:00, 10.34it/s]\n"
          ]
        },
        {
          "output_type": "stream",
          "name": "stdout",
          "text": [
            "Epoch [67/200], Loss: 0.5118\n"
          ]
        },
        {
          "output_type": "stream",
          "name": "stderr",
          "text": [
            "Epoch 67/200 [Valid]: 100%|██████████| 14/14 [00:00<00:00, 15.71it/s]\n"
          ]
        },
        {
          "output_type": "stream",
          "name": "stdout",
          "text": [
            "Validation Accuracy: 45.50%\n",
            "Epoch [67/200], Validation Loss: 2.6013\n"
          ]
        },
        {
          "output_type": "stream",
          "name": "stderr",
          "text": [
            "Epoch 68/200 [Train]: 100%|██████████| 58/58 [00:05<00:00,  9.84it/s]\n"
          ]
        },
        {
          "output_type": "stream",
          "name": "stdout",
          "text": [
            "Epoch [68/200], Loss: 0.5169\n"
          ]
        },
        {
          "output_type": "stream",
          "name": "stderr",
          "text": [
            "Epoch 68/200 [Valid]: 100%|██████████| 14/14 [00:00<00:00, 15.48it/s]\n"
          ]
        },
        {
          "output_type": "stream",
          "name": "stdout",
          "text": [
            "Validation Accuracy: 43.60%\n",
            "Epoch [68/200], Validation Loss: 2.6249\n"
          ]
        },
        {
          "output_type": "stream",
          "name": "stderr",
          "text": [
            "Epoch 69/200 [Train]: 100%|██████████| 58/58 [00:05<00:00, 10.28it/s]\n"
          ]
        },
        {
          "output_type": "stream",
          "name": "stdout",
          "text": [
            "Epoch [69/200], Loss: 0.5146\n"
          ]
        },
        {
          "output_type": "stream",
          "name": "stderr",
          "text": [
            "Epoch 69/200 [Valid]: 100%|██████████| 14/14 [00:00<00:00, 15.24it/s]\n"
          ]
        },
        {
          "output_type": "stream",
          "name": "stdout",
          "text": [
            "Validation Accuracy: 46.45%\n",
            "Epoch [69/200], Validation Loss: 2.6404\n",
            "Saved new best model with accuracy: 46.45%\n",
            "-----\n"
          ]
        },
        {
          "output_type": "stream",
          "name": "stderr",
          "text": [
            "Epoch 70/200 [Train]: 100%|██████████| 58/58 [00:05<00:00, 10.17it/s]\n"
          ]
        },
        {
          "output_type": "stream",
          "name": "stdout",
          "text": [
            "Epoch [70/200], Loss: 0.4676\n"
          ]
        },
        {
          "output_type": "stream",
          "name": "stderr",
          "text": [
            "Epoch 70/200 [Valid]: 100%|██████████| 14/14 [00:00<00:00, 16.01it/s]\n"
          ]
        },
        {
          "output_type": "stream",
          "name": "stdout",
          "text": [
            "Validation Accuracy: 43.60%\n",
            "Epoch [70/200], Validation Loss: 2.6179\n"
          ]
        },
        {
          "output_type": "stream",
          "name": "stderr",
          "text": [
            "Epoch 71/200 [Train]: 100%|██████████| 58/58 [00:05<00:00, 10.23it/s]\n"
          ]
        },
        {
          "output_type": "stream",
          "name": "stdout",
          "text": [
            "Epoch [71/200], Loss: 0.5125\n"
          ]
        },
        {
          "output_type": "stream",
          "name": "stderr",
          "text": [
            "Epoch 71/200 [Valid]: 100%|██████████| 14/14 [00:00<00:00, 15.53it/s]\n"
          ]
        },
        {
          "output_type": "stream",
          "name": "stdout",
          "text": [
            "Validation Accuracy: 43.60%\n",
            "Epoch [71/200], Validation Loss: 2.6656\n"
          ]
        },
        {
          "output_type": "stream",
          "name": "stderr",
          "text": [
            "Epoch 72/200 [Train]: 100%|██████████| 58/58 [00:05<00:00,  9.98it/s]\n"
          ]
        },
        {
          "output_type": "stream",
          "name": "stdout",
          "text": [
            "Epoch [72/200], Loss: 0.4399\n"
          ]
        },
        {
          "output_type": "stream",
          "name": "stderr",
          "text": [
            "Epoch 72/200 [Valid]: 100%|██████████| 14/14 [00:00<00:00, 15.24it/s]\n"
          ]
        },
        {
          "output_type": "stream",
          "name": "stdout",
          "text": [
            "Validation Accuracy: 44.08%\n",
            "Epoch [72/200], Validation Loss: 2.6729\n"
          ]
        },
        {
          "output_type": "stream",
          "name": "stderr",
          "text": [
            "Epoch 73/200 [Train]: 100%|██████████| 58/58 [00:05<00:00, 10.14it/s]\n"
          ]
        },
        {
          "output_type": "stream",
          "name": "stdout",
          "text": [
            "Epoch [73/200], Loss: 0.4725\n"
          ]
        },
        {
          "output_type": "stream",
          "name": "stderr",
          "text": [
            "Epoch 73/200 [Valid]: 100%|██████████| 14/14 [00:00<00:00, 15.20it/s]\n"
          ]
        },
        {
          "output_type": "stream",
          "name": "stdout",
          "text": [
            "Validation Accuracy: 44.08%\n",
            "Epoch [73/200], Validation Loss: 2.6205\n"
          ]
        },
        {
          "output_type": "stream",
          "name": "stderr",
          "text": [
            "Epoch 74/200 [Train]: 100%|██████████| 58/58 [00:05<00:00, 10.12it/s]\n"
          ]
        },
        {
          "output_type": "stream",
          "name": "stdout",
          "text": [
            "Epoch [74/200], Loss: 0.4657\n"
          ]
        },
        {
          "output_type": "stream",
          "name": "stderr",
          "text": [
            "Epoch 74/200 [Valid]: 100%|██████████| 14/14 [00:00<00:00, 15.62it/s]\n"
          ]
        },
        {
          "output_type": "stream",
          "name": "stdout",
          "text": [
            "Validation Accuracy: 43.13%\n",
            "Epoch [74/200], Validation Loss: 2.6152\n"
          ]
        },
        {
          "output_type": "stream",
          "name": "stderr",
          "text": [
            "Epoch 75/200 [Train]: 100%|██████████| 58/58 [00:05<00:00, 10.17it/s]\n"
          ]
        },
        {
          "output_type": "stream",
          "name": "stdout",
          "text": [
            "Epoch [75/200], Loss: 0.5031\n"
          ]
        },
        {
          "output_type": "stream",
          "name": "stderr",
          "text": [
            "Epoch 75/200 [Valid]: 100%|██████████| 14/14 [00:00<00:00, 14.94it/s]\n"
          ]
        },
        {
          "output_type": "stream",
          "name": "stdout",
          "text": [
            "Validation Accuracy: 44.08%\n",
            "Epoch [75/200], Validation Loss: 2.6315\n"
          ]
        },
        {
          "output_type": "stream",
          "name": "stderr",
          "text": [
            "Epoch 76/200 [Train]: 100%|██████████| 58/58 [00:05<00:00, 10.05it/s]\n"
          ]
        },
        {
          "output_type": "stream",
          "name": "stdout",
          "text": [
            "Epoch [76/200], Loss: 0.4690\n"
          ]
        },
        {
          "output_type": "stream",
          "name": "stderr",
          "text": [
            "Epoch 76/200 [Valid]: 100%|██████████| 14/14 [00:00<00:00, 15.37it/s]\n"
          ]
        },
        {
          "output_type": "stream",
          "name": "stdout",
          "text": [
            "Validation Accuracy: 45.50%\n",
            "Epoch [76/200], Validation Loss: 2.6274\n"
          ]
        },
        {
          "output_type": "stream",
          "name": "stderr",
          "text": [
            "Epoch 77/200 [Train]: 100%|██████████| 58/58 [00:05<00:00, 10.34it/s]\n"
          ]
        },
        {
          "output_type": "stream",
          "name": "stdout",
          "text": [
            "Epoch [77/200], Loss: 0.4413\n"
          ]
        },
        {
          "output_type": "stream",
          "name": "stderr",
          "text": [
            "Epoch 77/200 [Valid]: 100%|██████████| 14/14 [00:00<00:00, 15.11it/s]\n"
          ]
        },
        {
          "output_type": "stream",
          "name": "stdout",
          "text": [
            "Validation Accuracy: 45.50%\n",
            "Epoch [77/200], Validation Loss: 2.6174\n"
          ]
        },
        {
          "output_type": "stream",
          "name": "stderr",
          "text": [
            "Epoch 78/200 [Train]: 100%|██████████| 58/58 [00:05<00:00, 10.14it/s]\n"
          ]
        },
        {
          "output_type": "stream",
          "name": "stdout",
          "text": [
            "Epoch [78/200], Loss: 0.4254\n"
          ]
        },
        {
          "output_type": "stream",
          "name": "stderr",
          "text": [
            "Epoch 78/200 [Valid]: 100%|██████████| 14/14 [00:00<00:00, 16.10it/s]\n"
          ]
        },
        {
          "output_type": "stream",
          "name": "stdout",
          "text": [
            "Validation Accuracy: 44.55%\n",
            "Epoch [78/200], Validation Loss: 2.6283\n"
          ]
        },
        {
          "output_type": "stream",
          "name": "stderr",
          "text": [
            "Epoch 79/200 [Train]: 100%|██████████| 58/58 [00:05<00:00, 10.46it/s]\n"
          ]
        },
        {
          "output_type": "stream",
          "name": "stdout",
          "text": [
            "Epoch [79/200], Loss: 0.5339\n"
          ]
        },
        {
          "output_type": "stream",
          "name": "stderr",
          "text": [
            "Epoch 79/200 [Valid]: 100%|██████████| 14/14 [00:00<00:00, 15.26it/s]\n"
          ]
        },
        {
          "output_type": "stream",
          "name": "stdout",
          "text": [
            "Validation Accuracy: 43.60%\n",
            "Epoch [79/200], Validation Loss: 2.6267\n"
          ]
        },
        {
          "output_type": "stream",
          "name": "stderr",
          "text": [
            "Epoch 80/200 [Train]: 100%|██████████| 58/58 [00:05<00:00, 10.14it/s]\n"
          ]
        },
        {
          "output_type": "stream",
          "name": "stdout",
          "text": [
            "Epoch [80/200], Loss: 0.4991\n"
          ]
        },
        {
          "output_type": "stream",
          "name": "stderr",
          "text": [
            "Epoch 80/200 [Valid]: 100%|██████████| 14/14 [00:00<00:00, 15.52it/s]\n"
          ]
        },
        {
          "output_type": "stream",
          "name": "stdout",
          "text": [
            "Validation Accuracy: 44.55%\n",
            "Epoch [80/200], Validation Loss: 2.6139\n"
          ]
        },
        {
          "output_type": "stream",
          "name": "stderr",
          "text": [
            "Epoch 81/200 [Train]: 100%|██████████| 58/58 [00:05<00:00, 10.39it/s]\n"
          ]
        },
        {
          "output_type": "stream",
          "name": "stdout",
          "text": [
            "Epoch [81/200], Loss: 0.4151\n"
          ]
        },
        {
          "output_type": "stream",
          "name": "stderr",
          "text": [
            "Epoch 81/200 [Valid]: 100%|██████████| 14/14 [00:00<00:00, 14.93it/s]\n"
          ]
        },
        {
          "output_type": "stream",
          "name": "stdout",
          "text": [
            "Validation Accuracy: 44.08%\n",
            "Epoch [81/200], Validation Loss: 2.6303\n"
          ]
        },
        {
          "output_type": "stream",
          "name": "stderr",
          "text": [
            "Epoch 82/200 [Train]: 100%|██████████| 58/58 [00:05<00:00, 10.09it/s]\n"
          ]
        },
        {
          "output_type": "stream",
          "name": "stdout",
          "text": [
            "Epoch [82/200], Loss: 0.4778\n"
          ]
        },
        {
          "output_type": "stream",
          "name": "stderr",
          "text": [
            "Epoch 82/200 [Valid]: 100%|██████████| 14/14 [00:00<00:00, 15.63it/s]\n"
          ]
        },
        {
          "output_type": "stream",
          "name": "stdout",
          "text": [
            "Validation Accuracy: 44.55%\n",
            "Epoch [82/200], Validation Loss: 2.6107\n"
          ]
        },
        {
          "output_type": "stream",
          "name": "stderr",
          "text": [
            "Epoch 83/200 [Train]: 100%|██████████| 58/58 [00:05<00:00, 10.38it/s]\n"
          ]
        },
        {
          "output_type": "stream",
          "name": "stdout",
          "text": [
            "Epoch [83/200], Loss: 0.5132\n"
          ]
        },
        {
          "output_type": "stream",
          "name": "stderr",
          "text": [
            "Epoch 83/200 [Valid]: 100%|██████████| 14/14 [00:00<00:00, 15.59it/s]\n"
          ]
        },
        {
          "output_type": "stream",
          "name": "stdout",
          "text": [
            "Validation Accuracy: 45.02%\n",
            "Epoch [83/200], Validation Loss: 2.6161\n"
          ]
        },
        {
          "output_type": "stream",
          "name": "stderr",
          "text": [
            "Epoch 84/200 [Train]: 100%|██████████| 58/58 [00:05<00:00, 10.15it/s]\n"
          ]
        },
        {
          "output_type": "stream",
          "name": "stdout",
          "text": [
            "Epoch [84/200], Loss: 0.5181\n"
          ]
        },
        {
          "output_type": "stream",
          "name": "stderr",
          "text": [
            "Epoch 84/200 [Valid]: 100%|██████████| 14/14 [00:00<00:00, 15.47it/s]\n"
          ]
        },
        {
          "output_type": "stream",
          "name": "stdout",
          "text": [
            "Validation Accuracy: 44.08%\n",
            "Epoch [84/200], Validation Loss: 2.6061\n"
          ]
        },
        {
          "output_type": "stream",
          "name": "stderr",
          "text": [
            "Epoch 85/200 [Train]: 100%|██████████| 58/58 [00:05<00:00, 10.35it/s]\n"
          ]
        },
        {
          "output_type": "stream",
          "name": "stdout",
          "text": [
            "Epoch [85/200], Loss: 0.4581\n"
          ]
        },
        {
          "output_type": "stream",
          "name": "stderr",
          "text": [
            "Epoch 85/200 [Valid]: 100%|██████████| 14/14 [00:00<00:00, 15.09it/s]\n"
          ]
        },
        {
          "output_type": "stream",
          "name": "stdout",
          "text": [
            "Validation Accuracy: 44.55%\n",
            "Epoch [85/200], Validation Loss: 2.6123\n"
          ]
        },
        {
          "output_type": "stream",
          "name": "stderr",
          "text": [
            "Epoch 86/200 [Train]: 100%|██████████| 58/58 [00:05<00:00, 10.00it/s]\n"
          ]
        },
        {
          "output_type": "stream",
          "name": "stdout",
          "text": [
            "Epoch [86/200], Loss: 0.4404\n"
          ]
        },
        {
          "output_type": "stream",
          "name": "stderr",
          "text": [
            "Epoch 86/200 [Valid]: 100%|██████████| 14/14 [00:00<00:00, 15.73it/s]\n"
          ]
        },
        {
          "output_type": "stream",
          "name": "stdout",
          "text": [
            "Validation Accuracy: 46.45%\n",
            "Epoch [86/200], Validation Loss: 2.6111\n"
          ]
        },
        {
          "output_type": "stream",
          "name": "stderr",
          "text": [
            "Epoch 87/200 [Train]: 100%|██████████| 58/58 [00:05<00:00, 10.32it/s]\n"
          ]
        },
        {
          "output_type": "stream",
          "name": "stdout",
          "text": [
            "Epoch [87/200], Loss: 0.4390\n"
          ]
        },
        {
          "output_type": "stream",
          "name": "stderr",
          "text": [
            "Epoch 87/200 [Valid]: 100%|██████████| 14/14 [00:00<00:00, 14.98it/s]\n"
          ]
        },
        {
          "output_type": "stream",
          "name": "stdout",
          "text": [
            "Validation Accuracy: 45.97%\n",
            "Epoch [87/200], Validation Loss: 2.6446\n"
          ]
        },
        {
          "output_type": "stream",
          "name": "stderr",
          "text": [
            "Epoch 88/200 [Train]: 100%|██████████| 58/58 [00:05<00:00, 10.06it/s]\n"
          ]
        },
        {
          "output_type": "stream",
          "name": "stdout",
          "text": [
            "Epoch [88/200], Loss: 0.4543\n"
          ]
        },
        {
          "output_type": "stream",
          "name": "stderr",
          "text": [
            "Epoch 88/200 [Valid]: 100%|██████████| 14/14 [00:00<00:00, 15.52it/s]\n"
          ]
        },
        {
          "output_type": "stream",
          "name": "stdout",
          "text": [
            "Validation Accuracy: 45.02%\n",
            "Epoch [88/200], Validation Loss: 2.6327\n"
          ]
        },
        {
          "output_type": "stream",
          "name": "stderr",
          "text": [
            "Epoch 89/200 [Train]: 100%|██████████| 58/58 [00:05<00:00, 10.30it/s]\n"
          ]
        },
        {
          "output_type": "stream",
          "name": "stdout",
          "text": [
            "Epoch [89/200], Loss: 0.4910\n"
          ]
        },
        {
          "output_type": "stream",
          "name": "stderr",
          "text": [
            "Epoch 89/200 [Valid]: 100%|██████████| 14/14 [00:00<00:00, 14.83it/s]\n"
          ]
        },
        {
          "output_type": "stream",
          "name": "stdout",
          "text": [
            "Validation Accuracy: 45.50%\n",
            "Epoch [89/200], Validation Loss: 2.6229\n"
          ]
        },
        {
          "output_type": "stream",
          "name": "stderr",
          "text": [
            "Epoch 90/200 [Train]: 100%|██████████| 58/58 [00:05<00:00, 10.05it/s]\n"
          ]
        },
        {
          "output_type": "stream",
          "name": "stdout",
          "text": [
            "Epoch [90/200], Loss: 0.4248\n"
          ]
        },
        {
          "output_type": "stream",
          "name": "stderr",
          "text": [
            "Epoch 90/200 [Valid]: 100%|██████████| 14/14 [00:00<00:00, 15.77it/s]\n"
          ]
        },
        {
          "output_type": "stream",
          "name": "stdout",
          "text": [
            "Validation Accuracy: 45.97%\n",
            "Epoch [90/200], Validation Loss: 2.6437\n"
          ]
        },
        {
          "output_type": "stream",
          "name": "stderr",
          "text": [
            "Epoch 91/200 [Train]: 100%|██████████| 58/58 [00:05<00:00, 10.32it/s]\n"
          ]
        },
        {
          "output_type": "stream",
          "name": "stdout",
          "text": [
            "Epoch [91/200], Loss: 0.4731\n"
          ]
        },
        {
          "output_type": "stream",
          "name": "stderr",
          "text": [
            "Epoch 91/200 [Valid]: 100%|██████████| 14/14 [00:00<00:00, 14.84it/s]\n"
          ]
        },
        {
          "output_type": "stream",
          "name": "stdout",
          "text": [
            "Validation Accuracy: 44.55%\n",
            "Epoch [91/200], Validation Loss: 2.6572\n"
          ]
        },
        {
          "output_type": "stream",
          "name": "stderr",
          "text": [
            "Epoch 92/200 [Train]: 100%|██████████| 58/58 [00:05<00:00, 10.08it/s]\n"
          ]
        },
        {
          "output_type": "stream",
          "name": "stdout",
          "text": [
            "Epoch [92/200], Loss: 0.4800\n"
          ]
        },
        {
          "output_type": "stream",
          "name": "stderr",
          "text": [
            "Epoch 92/200 [Valid]: 100%|██████████| 14/14 [00:00<00:00, 15.56it/s]\n"
          ]
        },
        {
          "output_type": "stream",
          "name": "stdout",
          "text": [
            "Validation Accuracy: 44.55%\n",
            "Epoch [92/200], Validation Loss: 2.6325\n"
          ]
        },
        {
          "output_type": "stream",
          "name": "stderr",
          "text": [
            "Epoch 93/200 [Train]: 100%|██████████| 58/58 [00:05<00:00, 10.28it/s]\n"
          ]
        },
        {
          "output_type": "stream",
          "name": "stdout",
          "text": [
            "Epoch [93/200], Loss: 0.4930\n"
          ]
        },
        {
          "output_type": "stream",
          "name": "stderr",
          "text": [
            "Epoch 93/200 [Valid]: 100%|██████████| 14/14 [00:00<00:00, 15.55it/s]\n"
          ]
        },
        {
          "output_type": "stream",
          "name": "stdout",
          "text": [
            "Validation Accuracy: 45.97%\n",
            "Epoch [93/200], Validation Loss: 2.6284\n"
          ]
        },
        {
          "output_type": "stream",
          "name": "stderr",
          "text": [
            "Epoch 94/200 [Train]: 100%|██████████| 58/58 [00:05<00:00, 10.11it/s]\n"
          ]
        },
        {
          "output_type": "stream",
          "name": "stdout",
          "text": [
            "Epoch [94/200], Loss: 0.3939\n"
          ]
        },
        {
          "output_type": "stream",
          "name": "stderr",
          "text": [
            "Epoch 94/200 [Valid]: 100%|██████████| 14/14 [00:00<00:00, 15.77it/s]\n"
          ]
        },
        {
          "output_type": "stream",
          "name": "stdout",
          "text": [
            "Validation Accuracy: 44.08%\n",
            "Epoch [94/200], Validation Loss: 2.6598\n"
          ]
        },
        {
          "output_type": "stream",
          "name": "stderr",
          "text": [
            "Epoch 95/200 [Train]: 100%|██████████| 58/58 [00:05<00:00, 10.41it/s]\n"
          ]
        },
        {
          "output_type": "stream",
          "name": "stdout",
          "text": [
            "Epoch [95/200], Loss: 0.4389\n"
          ]
        },
        {
          "output_type": "stream",
          "name": "stderr",
          "text": [
            "Epoch 95/200 [Valid]: 100%|██████████| 14/14 [00:00<00:00, 15.30it/s]\n"
          ]
        },
        {
          "output_type": "stream",
          "name": "stdout",
          "text": [
            "Validation Accuracy: 44.55%\n",
            "Epoch [95/200], Validation Loss: 2.6449\n"
          ]
        },
        {
          "output_type": "stream",
          "name": "stderr",
          "text": [
            "Epoch 96/200 [Train]: 100%|██████████| 58/58 [00:05<00:00, 10.14it/s]\n"
          ]
        },
        {
          "output_type": "stream",
          "name": "stdout",
          "text": [
            "Epoch [96/200], Loss: 0.4764\n"
          ]
        },
        {
          "output_type": "stream",
          "name": "stderr",
          "text": [
            "Epoch 96/200 [Valid]: 100%|██████████| 14/14 [00:00<00:00, 15.69it/s]\n"
          ]
        },
        {
          "output_type": "stream",
          "name": "stdout",
          "text": [
            "Validation Accuracy: 44.55%\n",
            "Epoch [96/200], Validation Loss: 2.6139\n"
          ]
        },
        {
          "output_type": "stream",
          "name": "stderr",
          "text": [
            "Epoch 97/200 [Train]: 100%|██████████| 58/58 [00:05<00:00, 10.30it/s]\n"
          ]
        },
        {
          "output_type": "stream",
          "name": "stdout",
          "text": [
            "Epoch [97/200], Loss: 0.4030\n"
          ]
        },
        {
          "output_type": "stream",
          "name": "stderr",
          "text": [
            "Epoch 97/200 [Valid]: 100%|██████████| 14/14 [00:00<00:00, 15.75it/s]\n"
          ]
        },
        {
          "output_type": "stream",
          "name": "stdout",
          "text": [
            "Validation Accuracy: 44.55%\n",
            "Epoch [97/200], Validation Loss: 2.6342\n"
          ]
        },
        {
          "output_type": "stream",
          "name": "stderr",
          "text": [
            "Epoch 98/200 [Train]: 100%|██████████| 58/58 [00:05<00:00, 10.02it/s]\n"
          ]
        },
        {
          "output_type": "stream",
          "name": "stdout",
          "text": [
            "Epoch [98/200], Loss: 0.4247\n"
          ]
        },
        {
          "output_type": "stream",
          "name": "stderr",
          "text": [
            "Epoch 98/200 [Valid]: 100%|██████████| 14/14 [00:00<00:00, 14.82it/s]\n"
          ]
        },
        {
          "output_type": "stream",
          "name": "stdout",
          "text": [
            "Validation Accuracy: 45.97%\n",
            "Epoch [98/200], Validation Loss: 2.6070\n"
          ]
        },
        {
          "output_type": "stream",
          "name": "stderr",
          "text": [
            "Epoch 99/200 [Train]: 100%|██████████| 58/58 [00:05<00:00, 10.27it/s]\n"
          ]
        },
        {
          "output_type": "stream",
          "name": "stdout",
          "text": [
            "Epoch [99/200], Loss: 0.4878\n"
          ]
        },
        {
          "output_type": "stream",
          "name": "stderr",
          "text": [
            "Epoch 99/200 [Valid]: 100%|██████████| 14/14 [00:00<00:00, 15.44it/s]\n"
          ]
        },
        {
          "output_type": "stream",
          "name": "stdout",
          "text": [
            "Validation Accuracy: 42.65%\n",
            "Epoch [99/200], Validation Loss: 2.6832\n"
          ]
        },
        {
          "output_type": "stream",
          "name": "stderr",
          "text": [
            "Epoch 100/200 [Train]: 100%|██████████| 58/58 [00:05<00:00, 10.00it/s]\n"
          ]
        },
        {
          "output_type": "stream",
          "name": "stdout",
          "text": [
            "Epoch [100/200], Loss: 0.4463\n"
          ]
        },
        {
          "output_type": "stream",
          "name": "stderr",
          "text": [
            "Epoch 100/200 [Valid]: 100%|██████████| 14/14 [00:00<00:00, 15.60it/s]\n"
          ]
        },
        {
          "output_type": "stream",
          "name": "stdout",
          "text": [
            "Validation Accuracy: 45.02%\n",
            "Epoch [100/200], Validation Loss: 2.6318\n"
          ]
        },
        {
          "output_type": "stream",
          "name": "stderr",
          "text": [
            "Epoch 101/200 [Train]: 100%|██████████| 58/58 [00:05<00:00, 10.49it/s]\n"
          ]
        },
        {
          "output_type": "stream",
          "name": "stdout",
          "text": [
            "Epoch [101/200], Loss: 0.4385\n"
          ]
        },
        {
          "output_type": "stream",
          "name": "stderr",
          "text": [
            "Epoch 101/200 [Valid]: 100%|██████████| 14/14 [00:00<00:00, 15.79it/s]\n"
          ]
        },
        {
          "output_type": "stream",
          "name": "stdout",
          "text": [
            "Validation Accuracy: 44.08%\n",
            "Epoch [101/200], Validation Loss: 2.6170\n"
          ]
        },
        {
          "output_type": "stream",
          "name": "stderr",
          "text": [
            "Epoch 102/200 [Train]: 100%|██████████| 58/58 [00:05<00:00, 10.06it/s]\n"
          ]
        },
        {
          "output_type": "stream",
          "name": "stdout",
          "text": [
            "Epoch [102/200], Loss: 0.4502\n"
          ]
        },
        {
          "output_type": "stream",
          "name": "stderr",
          "text": [
            "Epoch 102/200 [Valid]: 100%|██████████| 14/14 [00:00<00:00, 15.63it/s]\n"
          ]
        },
        {
          "output_type": "stream",
          "name": "stdout",
          "text": [
            "Validation Accuracy: 43.60%\n",
            "Epoch [102/200], Validation Loss: 2.6744\n"
          ]
        },
        {
          "output_type": "stream",
          "name": "stderr",
          "text": [
            "Epoch 103/200 [Train]: 100%|██████████| 58/58 [00:05<00:00, 10.32it/s]\n"
          ]
        },
        {
          "output_type": "stream",
          "name": "stdout",
          "text": [
            "Epoch [103/200], Loss: 0.4447\n"
          ]
        },
        {
          "output_type": "stream",
          "name": "stderr",
          "text": [
            "Epoch 103/200 [Valid]: 100%|██████████| 14/14 [00:00<00:00, 15.74it/s]\n"
          ]
        },
        {
          "output_type": "stream",
          "name": "stdout",
          "text": [
            "Validation Accuracy: 42.18%\n",
            "Epoch [103/200], Validation Loss: 2.6317\n"
          ]
        },
        {
          "output_type": "stream",
          "name": "stderr",
          "text": [
            "Epoch 104/200 [Train]: 100%|██████████| 58/58 [00:05<00:00,  9.92it/s]\n"
          ]
        },
        {
          "output_type": "stream",
          "name": "stdout",
          "text": [
            "Epoch [104/200], Loss: 0.4778\n"
          ]
        },
        {
          "output_type": "stream",
          "name": "stderr",
          "text": [
            "Epoch 104/200 [Valid]: 100%|██████████| 14/14 [00:00<00:00, 15.67it/s]\n"
          ]
        },
        {
          "output_type": "stream",
          "name": "stdout",
          "text": [
            "Validation Accuracy: 45.02%\n",
            "Epoch [104/200], Validation Loss: 2.6181\n"
          ]
        },
        {
          "output_type": "stream",
          "name": "stderr",
          "text": [
            "Epoch 105/200 [Train]: 100%|██████████| 58/58 [00:05<00:00,  9.87it/s]\n"
          ]
        },
        {
          "output_type": "stream",
          "name": "stdout",
          "text": [
            "Epoch [105/200], Loss: 0.4072\n"
          ]
        },
        {
          "output_type": "stream",
          "name": "stderr",
          "text": [
            "Epoch 105/200 [Valid]: 100%|██████████| 14/14 [00:00<00:00, 15.55it/s]\n"
          ]
        },
        {
          "output_type": "stream",
          "name": "stdout",
          "text": [
            "Validation Accuracy: 45.02%\n",
            "Epoch [105/200], Validation Loss: 2.6714\n"
          ]
        },
        {
          "output_type": "stream",
          "name": "stderr",
          "text": [
            "Epoch 106/200 [Train]: 100%|██████████| 58/58 [00:05<00:00,  9.77it/s]\n"
          ]
        },
        {
          "output_type": "stream",
          "name": "stdout",
          "text": [
            "Epoch [106/200], Loss: 0.4438\n"
          ]
        },
        {
          "output_type": "stream",
          "name": "stderr",
          "text": [
            "Epoch 106/200 [Valid]: 100%|██████████| 14/14 [00:00<00:00, 15.51it/s]\n"
          ]
        },
        {
          "output_type": "stream",
          "name": "stdout",
          "text": [
            "Validation Accuracy: 44.08%\n",
            "Epoch [106/200], Validation Loss: 2.6222\n"
          ]
        },
        {
          "output_type": "stream",
          "name": "stderr",
          "text": [
            "Epoch 107/200 [Train]: 100%|██████████| 58/58 [00:05<00:00, 10.23it/s]\n"
          ]
        },
        {
          "output_type": "stream",
          "name": "stdout",
          "text": [
            "Epoch [107/200], Loss: 0.4365\n"
          ]
        },
        {
          "output_type": "stream",
          "name": "stderr",
          "text": [
            "Epoch 107/200 [Valid]: 100%|██████████| 14/14 [00:00<00:00, 15.32it/s]\n"
          ]
        },
        {
          "output_type": "stream",
          "name": "stdout",
          "text": [
            "Validation Accuracy: 43.13%\n",
            "Epoch [107/200], Validation Loss: 2.6284\n"
          ]
        },
        {
          "output_type": "stream",
          "name": "stderr",
          "text": [
            "Epoch 108/200 [Train]: 100%|██████████| 58/58 [00:05<00:00,  9.91it/s]\n"
          ]
        },
        {
          "output_type": "stream",
          "name": "stdout",
          "text": [
            "Epoch [108/200], Loss: 0.4150\n"
          ]
        },
        {
          "output_type": "stream",
          "name": "stderr",
          "text": [
            "Epoch 108/200 [Valid]: 100%|██████████| 14/14 [00:00<00:00, 15.27it/s]\n"
          ]
        },
        {
          "output_type": "stream",
          "name": "stdout",
          "text": [
            "Validation Accuracy: 43.60%\n",
            "Epoch [108/200], Validation Loss: 2.6444\n"
          ]
        },
        {
          "output_type": "stream",
          "name": "stderr",
          "text": [
            "Epoch 109/200 [Train]: 100%|██████████| 58/58 [00:05<00:00, 10.16it/s]\n"
          ]
        },
        {
          "output_type": "stream",
          "name": "stdout",
          "text": [
            "Epoch [109/200], Loss: 0.5037\n"
          ]
        },
        {
          "output_type": "stream",
          "name": "stderr",
          "text": [
            "Epoch 109/200 [Valid]: 100%|██████████| 14/14 [00:00<00:00, 14.81it/s]\n"
          ]
        },
        {
          "output_type": "stream",
          "name": "stdout",
          "text": [
            "Validation Accuracy: 44.55%\n",
            "Epoch [109/200], Validation Loss: 2.6178\n"
          ]
        },
        {
          "output_type": "stream",
          "name": "stderr",
          "text": [
            "Epoch 110/200 [Train]: 100%|██████████| 58/58 [00:06<00:00,  9.61it/s]\n"
          ]
        },
        {
          "output_type": "stream",
          "name": "stdout",
          "text": [
            "Epoch [110/200], Loss: 0.4331\n"
          ]
        },
        {
          "output_type": "stream",
          "name": "stderr",
          "text": [
            "Epoch 110/200 [Valid]: 100%|██████████| 14/14 [00:00<00:00, 14.82it/s]\n"
          ]
        },
        {
          "output_type": "stream",
          "name": "stdout",
          "text": [
            "Validation Accuracy: 44.55%\n",
            "Epoch [110/200], Validation Loss: 2.6399\n"
          ]
        },
        {
          "output_type": "stream",
          "name": "stderr",
          "text": [
            "Epoch 111/200 [Train]: 100%|██████████| 58/58 [00:05<00:00,  9.96it/s]\n"
          ]
        },
        {
          "output_type": "stream",
          "name": "stdout",
          "text": [
            "Epoch [111/200], Loss: 0.4552\n"
          ]
        },
        {
          "output_type": "stream",
          "name": "stderr",
          "text": [
            "Epoch 111/200 [Valid]: 100%|██████████| 14/14 [00:00<00:00, 14.84it/s]\n"
          ]
        },
        {
          "output_type": "stream",
          "name": "stdout",
          "text": [
            "Validation Accuracy: 45.50%\n",
            "Epoch [111/200], Validation Loss: 2.6479\n"
          ]
        },
        {
          "output_type": "stream",
          "name": "stderr",
          "text": [
            "Epoch 112/200 [Train]: 100%|██████████| 58/58 [00:06<00:00,  9.58it/s]\n"
          ]
        },
        {
          "output_type": "stream",
          "name": "stdout",
          "text": [
            "Epoch [112/200], Loss: 0.4301\n"
          ]
        },
        {
          "output_type": "stream",
          "name": "stderr",
          "text": [
            "Epoch 112/200 [Valid]: 100%|██████████| 14/14 [00:00<00:00, 14.71it/s]\n"
          ]
        },
        {
          "output_type": "stream",
          "name": "stdout",
          "text": [
            "Validation Accuracy: 45.02%\n",
            "Epoch [112/200], Validation Loss: 2.6036\n"
          ]
        },
        {
          "output_type": "stream",
          "name": "stderr",
          "text": [
            "Epoch 113/200 [Train]: 100%|██████████| 58/58 [00:05<00:00, 10.22it/s]\n"
          ]
        },
        {
          "output_type": "stream",
          "name": "stdout",
          "text": [
            "Epoch [113/200], Loss: 0.4034\n"
          ]
        },
        {
          "output_type": "stream",
          "name": "stderr",
          "text": [
            "Epoch 113/200 [Valid]: 100%|██████████| 14/14 [00:01<00:00, 13.26it/s]\n"
          ]
        },
        {
          "output_type": "stream",
          "name": "stdout",
          "text": [
            "Validation Accuracy: 45.02%\n",
            "Epoch [113/200], Validation Loss: 2.6233\n"
          ]
        },
        {
          "output_type": "stream",
          "name": "stderr",
          "text": [
            "Epoch 114/200 [Train]: 100%|██████████| 58/58 [00:05<00:00,  9.85it/s]\n"
          ]
        },
        {
          "output_type": "stream",
          "name": "stdout",
          "text": [
            "Epoch [114/200], Loss: 0.4348\n"
          ]
        },
        {
          "output_type": "stream",
          "name": "stderr",
          "text": [
            "Epoch 114/200 [Valid]: 100%|██████████| 14/14 [00:00<00:00, 15.66it/s]\n"
          ]
        },
        {
          "output_type": "stream",
          "name": "stdout",
          "text": [
            "Validation Accuracy: 44.08%\n",
            "Epoch [114/200], Validation Loss: 2.6388\n"
          ]
        },
        {
          "output_type": "stream",
          "name": "stderr",
          "text": [
            "Epoch 115/200 [Train]: 100%|██████████| 58/58 [00:05<00:00, 10.43it/s]\n"
          ]
        },
        {
          "output_type": "stream",
          "name": "stdout",
          "text": [
            "Epoch [115/200], Loss: 0.4612\n"
          ]
        },
        {
          "output_type": "stream",
          "name": "stderr",
          "text": [
            "Epoch 115/200 [Valid]: 100%|██████████| 14/14 [00:00<00:00, 15.04it/s]\n"
          ]
        },
        {
          "output_type": "stream",
          "name": "stdout",
          "text": [
            "Validation Accuracy: 45.02%\n",
            "Epoch [115/200], Validation Loss: 2.6163\n"
          ]
        },
        {
          "output_type": "stream",
          "name": "stderr",
          "text": [
            "Epoch 116/200 [Train]: 100%|██████████| 58/58 [00:06<00:00,  9.43it/s]\n"
          ]
        },
        {
          "output_type": "stream",
          "name": "stdout",
          "text": [
            "Epoch [116/200], Loss: 0.4473\n"
          ]
        },
        {
          "output_type": "stream",
          "name": "stderr",
          "text": [
            "Epoch 116/200 [Valid]: 100%|██████████| 14/14 [00:00<00:00, 14.87it/s]\n"
          ]
        },
        {
          "output_type": "stream",
          "name": "stdout",
          "text": [
            "Validation Accuracy: 43.60%\n",
            "Epoch [116/200], Validation Loss: 2.6122\n"
          ]
        },
        {
          "output_type": "stream",
          "name": "stderr",
          "text": [
            "Epoch 117/200 [Train]: 100%|██████████| 58/58 [00:05<00:00, 10.07it/s]\n"
          ]
        },
        {
          "output_type": "stream",
          "name": "stdout",
          "text": [
            "Epoch [117/200], Loss: 0.4806\n"
          ]
        },
        {
          "output_type": "stream",
          "name": "stderr",
          "text": [
            "Epoch 117/200 [Valid]: 100%|██████████| 14/14 [00:00<00:00, 14.41it/s]\n"
          ]
        },
        {
          "output_type": "stream",
          "name": "stdout",
          "text": [
            "Validation Accuracy: 43.60%\n",
            "Epoch [117/200], Validation Loss: 2.6040\n"
          ]
        },
        {
          "output_type": "stream",
          "name": "stderr",
          "text": [
            "Epoch 118/200 [Train]: 100%|██████████| 58/58 [00:05<00:00,  9.75it/s]\n"
          ]
        },
        {
          "output_type": "stream",
          "name": "stdout",
          "text": [
            "Epoch [118/200], Loss: 0.4477\n"
          ]
        },
        {
          "output_type": "stream",
          "name": "stderr",
          "text": [
            "Epoch 118/200 [Valid]: 100%|██████████| 14/14 [00:01<00:00, 13.87it/s]\n"
          ]
        },
        {
          "output_type": "stream",
          "name": "stdout",
          "text": [
            "Validation Accuracy: 44.55%\n",
            "Epoch [118/200], Validation Loss: 2.6163\n"
          ]
        },
        {
          "output_type": "stream",
          "name": "stderr",
          "text": [
            "Epoch 119/200 [Train]: 100%|██████████| 58/58 [00:05<00:00, 10.00it/s]\n"
          ]
        },
        {
          "output_type": "stream",
          "name": "stdout",
          "text": [
            "Epoch [119/200], Loss: 0.4670\n"
          ]
        },
        {
          "output_type": "stream",
          "name": "stderr",
          "text": [
            "Epoch 119/200 [Valid]: 100%|██████████| 14/14 [00:01<00:00, 13.97it/s]\n"
          ]
        },
        {
          "output_type": "stream",
          "name": "stdout",
          "text": [
            "Validation Accuracy: 43.60%\n",
            "Epoch [119/200], Validation Loss: 2.6425\n"
          ]
        },
        {
          "output_type": "stream",
          "name": "stderr",
          "text": [
            "Epoch 120/200 [Train]: 100%|██████████| 58/58 [00:06<00:00,  8.70it/s]\n"
          ]
        },
        {
          "output_type": "stream",
          "name": "stdout",
          "text": [
            "Epoch [120/200], Loss: 0.4312\n"
          ]
        },
        {
          "output_type": "stream",
          "name": "stderr",
          "text": [
            "Epoch 120/200 [Valid]: 100%|██████████| 14/14 [00:00<00:00, 15.03it/s]\n"
          ]
        },
        {
          "output_type": "stream",
          "name": "stdout",
          "text": [
            "Validation Accuracy: 45.02%\n",
            "Epoch [120/200], Validation Loss: 2.6315\n"
          ]
        },
        {
          "output_type": "stream",
          "name": "stderr",
          "text": [
            "Epoch 121/200 [Train]: 100%|██████████| 58/58 [00:05<00:00, 10.05it/s]\n"
          ]
        },
        {
          "output_type": "stream",
          "name": "stdout",
          "text": [
            "Epoch [121/200], Loss: 0.4210\n"
          ]
        },
        {
          "output_type": "stream",
          "name": "stderr",
          "text": [
            "Epoch 121/200 [Valid]: 100%|██████████| 14/14 [00:00<00:00, 14.17it/s]\n"
          ]
        },
        {
          "output_type": "stream",
          "name": "stdout",
          "text": [
            "Validation Accuracy: 44.08%\n",
            "Epoch [121/200], Validation Loss: 2.6245\n"
          ]
        },
        {
          "output_type": "stream",
          "name": "stderr",
          "text": [
            "Epoch 122/200 [Train]: 100%|██████████| 58/58 [00:05<00:00,  9.73it/s]\n"
          ]
        },
        {
          "output_type": "stream",
          "name": "stdout",
          "text": [
            "Epoch [122/200], Loss: 0.4227\n"
          ]
        },
        {
          "output_type": "stream",
          "name": "stderr",
          "text": [
            "Epoch 122/200 [Valid]: 100%|██████████| 14/14 [00:00<00:00, 14.82it/s]\n"
          ]
        },
        {
          "output_type": "stream",
          "name": "stdout",
          "text": [
            "Validation Accuracy: 45.02%\n",
            "Epoch [122/200], Validation Loss: 2.6459\n"
          ]
        },
        {
          "output_type": "stream",
          "name": "stderr",
          "text": [
            "Epoch 123/200 [Train]: 100%|██████████| 58/58 [00:05<00:00, 10.00it/s]\n"
          ]
        },
        {
          "output_type": "stream",
          "name": "stdout",
          "text": [
            "Epoch [123/200], Loss: 0.4541\n"
          ]
        },
        {
          "output_type": "stream",
          "name": "stderr",
          "text": [
            "Epoch 123/200 [Valid]: 100%|██████████| 14/14 [00:00<00:00, 14.38it/s]\n"
          ]
        },
        {
          "output_type": "stream",
          "name": "stdout",
          "text": [
            "Validation Accuracy: 45.50%\n",
            "Epoch [123/200], Validation Loss: 2.6060\n"
          ]
        },
        {
          "output_type": "stream",
          "name": "stderr",
          "text": [
            "Epoch 124/200 [Train]: 100%|██████████| 58/58 [00:05<00:00,  9.72it/s]\n"
          ]
        },
        {
          "output_type": "stream",
          "name": "stdout",
          "text": [
            "Epoch [124/200], Loss: 0.4158\n"
          ]
        },
        {
          "output_type": "stream",
          "name": "stderr",
          "text": [
            "Epoch 124/200 [Valid]: 100%|██████████| 14/14 [00:00<00:00, 14.76it/s]\n"
          ]
        },
        {
          "output_type": "stream",
          "name": "stdout",
          "text": [
            "Validation Accuracy: 44.55%\n",
            "Epoch [124/200], Validation Loss: 2.6233\n"
          ]
        },
        {
          "output_type": "stream",
          "name": "stderr",
          "text": [
            "Epoch 125/200 [Train]: 100%|██████████| 58/58 [00:05<00:00,  9.99it/s]\n"
          ]
        },
        {
          "output_type": "stream",
          "name": "stdout",
          "text": [
            "Epoch [125/200], Loss: 0.4604\n"
          ]
        },
        {
          "output_type": "stream",
          "name": "stderr",
          "text": [
            "Epoch 125/200 [Valid]: 100%|██████████| 14/14 [00:00<00:00, 14.14it/s]\n"
          ]
        },
        {
          "output_type": "stream",
          "name": "stdout",
          "text": [
            "Validation Accuracy: 44.08%\n",
            "Epoch [125/200], Validation Loss: 2.6268\n"
          ]
        },
        {
          "output_type": "stream",
          "name": "stderr",
          "text": [
            "Epoch 126/200 [Train]: 100%|██████████| 58/58 [00:05<00:00,  9.77it/s]\n"
          ]
        },
        {
          "output_type": "stream",
          "name": "stdout",
          "text": [
            "Epoch [126/200], Loss: 0.4247\n"
          ]
        },
        {
          "output_type": "stream",
          "name": "stderr",
          "text": [
            "Epoch 126/200 [Valid]: 100%|██████████| 14/14 [00:00<00:00, 14.67it/s]\n"
          ]
        },
        {
          "output_type": "stream",
          "name": "stdout",
          "text": [
            "Validation Accuracy: 45.97%\n",
            "Epoch [126/200], Validation Loss: 2.6454\n"
          ]
        },
        {
          "output_type": "stream",
          "name": "stderr",
          "text": [
            "Epoch 127/200 [Train]: 100%|██████████| 58/58 [00:05<00:00, 10.08it/s]\n"
          ]
        },
        {
          "output_type": "stream",
          "name": "stdout",
          "text": [
            "Epoch [127/200], Loss: 0.4564\n"
          ]
        },
        {
          "output_type": "stream",
          "name": "stderr",
          "text": [
            "Epoch 127/200 [Valid]: 100%|██████████| 14/14 [00:01<00:00, 13.89it/s]\n"
          ]
        },
        {
          "output_type": "stream",
          "name": "stdout",
          "text": [
            "Validation Accuracy: 44.55%\n",
            "Epoch [127/200], Validation Loss: 2.6486\n"
          ]
        },
        {
          "output_type": "stream",
          "name": "stderr",
          "text": [
            "Epoch 128/200 [Train]: 100%|██████████| 58/58 [00:05<00:00,  9.88it/s]\n"
          ]
        },
        {
          "output_type": "stream",
          "name": "stdout",
          "text": [
            "Epoch [128/200], Loss: 0.4472\n"
          ]
        },
        {
          "output_type": "stream",
          "name": "stderr",
          "text": [
            "Epoch 128/200 [Valid]: 100%|██████████| 14/14 [00:00<00:00, 14.88it/s]\n"
          ]
        },
        {
          "output_type": "stream",
          "name": "stdout",
          "text": [
            "Validation Accuracy: 43.13%\n",
            "Epoch [128/200], Validation Loss: 2.6571\n"
          ]
        },
        {
          "output_type": "stream",
          "name": "stderr",
          "text": [
            "Epoch 129/200 [Train]: 100%|██████████| 58/58 [00:05<00:00, 10.02it/s]\n"
          ]
        },
        {
          "output_type": "stream",
          "name": "stdout",
          "text": [
            "Epoch [129/200], Loss: 0.3977\n"
          ]
        },
        {
          "output_type": "stream",
          "name": "stderr",
          "text": [
            "Epoch 129/200 [Valid]: 100%|██████████| 14/14 [00:00<00:00, 14.51it/s]\n"
          ]
        },
        {
          "output_type": "stream",
          "name": "stdout",
          "text": [
            "Validation Accuracy: 45.02%\n",
            "Epoch [129/200], Validation Loss: 2.6203\n"
          ]
        },
        {
          "output_type": "stream",
          "name": "stderr",
          "text": [
            "Epoch 130/200 [Train]: 100%|██████████| 58/58 [00:05<00:00,  9.81it/s]\n"
          ]
        },
        {
          "output_type": "stream",
          "name": "stdout",
          "text": [
            "Epoch [130/200], Loss: 0.4469\n"
          ]
        },
        {
          "output_type": "stream",
          "name": "stderr",
          "text": [
            "Epoch 130/200 [Valid]: 100%|██████████| 14/14 [00:00<00:00, 14.47it/s]\n"
          ]
        },
        {
          "output_type": "stream",
          "name": "stdout",
          "text": [
            "Validation Accuracy: 45.50%\n",
            "Epoch [130/200], Validation Loss: 2.6120\n"
          ]
        },
        {
          "output_type": "stream",
          "name": "stderr",
          "text": [
            "Epoch 131/200 [Train]: 100%|██████████| 58/58 [00:05<00:00,  9.96it/s]\n"
          ]
        },
        {
          "output_type": "stream",
          "name": "stdout",
          "text": [
            "Epoch [131/200], Loss: 0.4529\n"
          ]
        },
        {
          "output_type": "stream",
          "name": "stderr",
          "text": [
            "Epoch 131/200 [Valid]: 100%|██████████| 14/14 [00:00<00:00, 14.19it/s]\n"
          ]
        },
        {
          "output_type": "stream",
          "name": "stdout",
          "text": [
            "Validation Accuracy: 43.13%\n",
            "Epoch [131/200], Validation Loss: 2.6331\n"
          ]
        },
        {
          "output_type": "stream",
          "name": "stderr",
          "text": [
            "Epoch 132/200 [Train]: 100%|██████████| 58/58 [00:05<00:00,  9.78it/s]\n"
          ]
        },
        {
          "output_type": "stream",
          "name": "stdout",
          "text": [
            "Epoch [132/200], Loss: 0.4260\n"
          ]
        },
        {
          "output_type": "stream",
          "name": "stderr",
          "text": [
            "Epoch 132/200 [Valid]: 100%|██████████| 14/14 [00:00<00:00, 14.85it/s]\n"
          ]
        },
        {
          "output_type": "stream",
          "name": "stdout",
          "text": [
            "Validation Accuracy: 45.50%\n",
            "Epoch [132/200], Validation Loss: 2.6449\n"
          ]
        },
        {
          "output_type": "stream",
          "name": "stderr",
          "text": [
            "Epoch 133/200 [Train]: 100%|██████████| 58/58 [00:05<00:00, 10.00it/s]\n"
          ]
        },
        {
          "output_type": "stream",
          "name": "stdout",
          "text": [
            "Epoch [133/200], Loss: 0.4168\n"
          ]
        },
        {
          "output_type": "stream",
          "name": "stderr",
          "text": [
            "Epoch 133/200 [Valid]: 100%|██████████| 14/14 [00:00<00:00, 14.29it/s]\n"
          ]
        },
        {
          "output_type": "stream",
          "name": "stdout",
          "text": [
            "Validation Accuracy: 44.55%\n",
            "Epoch [133/200], Validation Loss: 2.6329\n"
          ]
        },
        {
          "output_type": "stream",
          "name": "stderr",
          "text": [
            "Epoch 134/200 [Train]: 100%|██████████| 58/58 [00:06<00:00,  9.64it/s]\n"
          ]
        },
        {
          "output_type": "stream",
          "name": "stdout",
          "text": [
            "Epoch [134/200], Loss: 0.4530\n"
          ]
        },
        {
          "output_type": "stream",
          "name": "stderr",
          "text": [
            "Epoch 134/200 [Valid]: 100%|██████████| 14/14 [00:00<00:00, 14.86it/s]\n"
          ]
        },
        {
          "output_type": "stream",
          "name": "stdout",
          "text": [
            "Validation Accuracy: 43.13%\n",
            "Epoch [134/200], Validation Loss: 2.5986\n"
          ]
        },
        {
          "output_type": "stream",
          "name": "stderr",
          "text": [
            "Epoch 135/200 [Train]: 100%|██████████| 58/58 [00:05<00:00,  9.90it/s]\n"
          ]
        },
        {
          "output_type": "stream",
          "name": "stdout",
          "text": [
            "Epoch [135/200], Loss: 0.4483\n"
          ]
        },
        {
          "output_type": "stream",
          "name": "stderr",
          "text": [
            "Epoch 135/200 [Valid]: 100%|██████████| 14/14 [00:00<00:00, 14.55it/s]\n"
          ]
        },
        {
          "output_type": "stream",
          "name": "stdout",
          "text": [
            "Validation Accuracy: 44.08%\n",
            "Epoch [135/200], Validation Loss: 2.5914\n"
          ]
        },
        {
          "output_type": "stream",
          "name": "stderr",
          "text": [
            "Epoch 136/200 [Train]: 100%|██████████| 58/58 [00:06<00:00,  9.44it/s]\n"
          ]
        },
        {
          "output_type": "stream",
          "name": "stdout",
          "text": [
            "Epoch [136/200], Loss: 0.4583\n"
          ]
        },
        {
          "output_type": "stream",
          "name": "stderr",
          "text": [
            "Epoch 136/200 [Valid]: 100%|██████████| 14/14 [00:00<00:00, 14.85it/s]\n"
          ]
        },
        {
          "output_type": "stream",
          "name": "stdout",
          "text": [
            "Validation Accuracy: 45.97%\n",
            "Epoch [136/200], Validation Loss: 2.6075\n"
          ]
        },
        {
          "output_type": "stream",
          "name": "stderr",
          "text": [
            "Epoch 137/200 [Train]: 100%|██████████| 58/58 [00:05<00:00,  9.89it/s]\n"
          ]
        },
        {
          "output_type": "stream",
          "name": "stdout",
          "text": [
            "Epoch [137/200], Loss: 0.4588\n"
          ]
        },
        {
          "output_type": "stream",
          "name": "stderr",
          "text": [
            "Epoch 137/200 [Valid]: 100%|██████████| 14/14 [00:00<00:00, 14.36it/s]\n"
          ]
        },
        {
          "output_type": "stream",
          "name": "stdout",
          "text": [
            "Validation Accuracy: 44.55%\n",
            "Epoch [137/200], Validation Loss: 2.6487\n"
          ]
        },
        {
          "output_type": "stream",
          "name": "stderr",
          "text": [
            "Epoch 138/200 [Train]: 100%|██████████| 58/58 [00:05<00:00,  9.89it/s]\n"
          ]
        },
        {
          "output_type": "stream",
          "name": "stdout",
          "text": [
            "Epoch [138/200], Loss: 0.3887\n"
          ]
        },
        {
          "output_type": "stream",
          "name": "stderr",
          "text": [
            "Epoch 138/200 [Valid]: 100%|██████████| 14/14 [00:00<00:00, 15.02it/s]\n"
          ]
        },
        {
          "output_type": "stream",
          "name": "stdout",
          "text": [
            "Validation Accuracy: 44.08%\n",
            "Epoch [138/200], Validation Loss: 2.6656\n"
          ]
        },
        {
          "output_type": "stream",
          "name": "stderr",
          "text": [
            "Epoch 139/200 [Train]: 100%|██████████| 58/58 [00:05<00:00,  9.93it/s]\n"
          ]
        },
        {
          "output_type": "stream",
          "name": "stdout",
          "text": [
            "Epoch [139/200], Loss: 0.3726\n"
          ]
        },
        {
          "output_type": "stream",
          "name": "stderr",
          "text": [
            "Epoch 139/200 [Valid]: 100%|██████████| 14/14 [00:00<00:00, 14.54it/s]\n"
          ]
        },
        {
          "output_type": "stream",
          "name": "stdout",
          "text": [
            "Validation Accuracy: 45.02%\n",
            "Epoch [139/200], Validation Loss: 2.6499\n"
          ]
        },
        {
          "output_type": "stream",
          "name": "stderr",
          "text": [
            "Epoch 140/200 [Train]: 100%|██████████| 58/58 [00:05<00:00,  9.86it/s]\n"
          ]
        },
        {
          "output_type": "stream",
          "name": "stdout",
          "text": [
            "Epoch [140/200], Loss: 0.3828\n"
          ]
        },
        {
          "output_type": "stream",
          "name": "stderr",
          "text": [
            "Epoch 140/200 [Valid]: 100%|██████████| 14/14 [00:00<00:00, 15.01it/s]\n"
          ]
        },
        {
          "output_type": "stream",
          "name": "stdout",
          "text": [
            "Validation Accuracy: 45.50%\n",
            "Epoch [140/200], Validation Loss: 2.6290\n"
          ]
        },
        {
          "output_type": "stream",
          "name": "stderr",
          "text": [
            "Epoch 141/200 [Train]: 100%|██████████| 58/58 [00:05<00:00,  9.88it/s]\n"
          ]
        },
        {
          "output_type": "stream",
          "name": "stdout",
          "text": [
            "Epoch [141/200], Loss: 0.3829\n"
          ]
        },
        {
          "output_type": "stream",
          "name": "stderr",
          "text": [
            "Epoch 141/200 [Valid]: 100%|██████████| 14/14 [00:00<00:00, 14.35it/s]\n"
          ]
        },
        {
          "output_type": "stream",
          "name": "stdout",
          "text": [
            "Validation Accuracy: 45.50%\n",
            "Epoch [141/200], Validation Loss: 2.6262\n"
          ]
        },
        {
          "output_type": "stream",
          "name": "stderr",
          "text": [
            "Epoch 142/200 [Train]: 100%|██████████| 58/58 [00:05<00:00,  9.94it/s]\n"
          ]
        },
        {
          "output_type": "stream",
          "name": "stdout",
          "text": [
            "Epoch [142/200], Loss: 0.4174\n"
          ]
        },
        {
          "output_type": "stream",
          "name": "stderr",
          "text": [
            "Epoch 142/200 [Valid]: 100%|██████████| 14/14 [00:00<00:00, 14.78it/s]\n"
          ]
        },
        {
          "output_type": "stream",
          "name": "stdout",
          "text": [
            "Validation Accuracy: 45.02%\n",
            "Epoch [142/200], Validation Loss: 2.6103\n"
          ]
        },
        {
          "output_type": "stream",
          "name": "stderr",
          "text": [
            "Epoch 143/200 [Train]: 100%|██████████| 58/58 [00:05<00:00,  9.95it/s]\n"
          ]
        },
        {
          "output_type": "stream",
          "name": "stdout",
          "text": [
            "Epoch [143/200], Loss: 0.4487\n"
          ]
        },
        {
          "output_type": "stream",
          "name": "stderr",
          "text": [
            "Epoch 143/200 [Valid]: 100%|██████████| 14/14 [00:00<00:00, 14.65it/s]\n"
          ]
        },
        {
          "output_type": "stream",
          "name": "stdout",
          "text": [
            "Validation Accuracy: 43.60%\n",
            "Epoch [143/200], Validation Loss: 2.6381\n"
          ]
        },
        {
          "output_type": "stream",
          "name": "stderr",
          "text": [
            "Epoch 144/200 [Train]: 100%|██████████| 58/58 [00:05<00:00,  9.85it/s]\n"
          ]
        },
        {
          "output_type": "stream",
          "name": "stdout",
          "text": [
            "Epoch [144/200], Loss: 0.3972\n"
          ]
        },
        {
          "output_type": "stream",
          "name": "stderr",
          "text": [
            "Epoch 144/200 [Valid]: 100%|██████████| 14/14 [00:00<00:00, 14.65it/s]\n"
          ]
        },
        {
          "output_type": "stream",
          "name": "stdout",
          "text": [
            "Validation Accuracy: 45.97%\n",
            "Epoch [144/200], Validation Loss: 2.6376\n"
          ]
        },
        {
          "output_type": "stream",
          "name": "stderr",
          "text": [
            "Epoch 145/200 [Train]: 100%|██████████| 58/58 [00:05<00:00,  9.77it/s]\n"
          ]
        },
        {
          "output_type": "stream",
          "name": "stdout",
          "text": [
            "Epoch [145/200], Loss: 0.4381\n"
          ]
        },
        {
          "output_type": "stream",
          "name": "stderr",
          "text": [
            "Epoch 145/200 [Valid]: 100%|██████████| 14/14 [00:00<00:00, 14.16it/s]\n"
          ]
        },
        {
          "output_type": "stream",
          "name": "stdout",
          "text": [
            "Validation Accuracy: 45.97%\n",
            "Epoch [145/200], Validation Loss: 2.6796\n"
          ]
        },
        {
          "output_type": "stream",
          "name": "stderr",
          "text": [
            "Epoch 146/200 [Train]: 100%|██████████| 58/58 [00:05<00:00,  9.89it/s]\n"
          ]
        },
        {
          "output_type": "stream",
          "name": "stdout",
          "text": [
            "Epoch [146/200], Loss: 0.3715\n"
          ]
        },
        {
          "output_type": "stream",
          "name": "stderr",
          "text": [
            "Epoch 146/200 [Valid]: 100%|██████████| 14/14 [00:00<00:00, 15.03it/s]\n"
          ]
        },
        {
          "output_type": "stream",
          "name": "stdout",
          "text": [
            "Validation Accuracy: 44.55%\n",
            "Epoch [146/200], Validation Loss: 2.6329\n"
          ]
        },
        {
          "output_type": "stream",
          "name": "stderr",
          "text": [
            "Epoch 147/200 [Train]: 100%|██████████| 58/58 [00:05<00:00,  9.75it/s]\n"
          ]
        },
        {
          "output_type": "stream",
          "name": "stdout",
          "text": [
            "Epoch [147/200], Loss: 0.4247\n"
          ]
        },
        {
          "output_type": "stream",
          "name": "stderr",
          "text": [
            "Epoch 147/200 [Valid]: 100%|██████████| 14/14 [00:01<00:00, 13.64it/s]\n"
          ]
        },
        {
          "output_type": "stream",
          "name": "stdout",
          "text": [
            "Validation Accuracy: 43.60%\n",
            "Epoch [147/200], Validation Loss: 2.6753\n"
          ]
        },
        {
          "output_type": "stream",
          "name": "stderr",
          "text": [
            "Epoch 148/200 [Train]: 100%|██████████| 58/58 [00:05<00:00,  9.94it/s]\n"
          ]
        },
        {
          "output_type": "stream",
          "name": "stdout",
          "text": [
            "Epoch [148/200], Loss: 0.3912\n"
          ]
        },
        {
          "output_type": "stream",
          "name": "stderr",
          "text": [
            "Epoch 148/200 [Valid]: 100%|██████████| 14/14 [00:00<00:00, 15.24it/s]\n"
          ]
        },
        {
          "output_type": "stream",
          "name": "stdout",
          "text": [
            "Validation Accuracy: 45.97%\n",
            "Epoch [148/200], Validation Loss: 2.6255\n"
          ]
        },
        {
          "output_type": "stream",
          "name": "stderr",
          "text": [
            "Epoch 149/200 [Train]: 100%|██████████| 58/58 [00:05<00:00,  9.87it/s]\n"
          ]
        },
        {
          "output_type": "stream",
          "name": "stdout",
          "text": [
            "Epoch [149/200], Loss: 0.4390\n"
          ]
        },
        {
          "output_type": "stream",
          "name": "stderr",
          "text": [
            "Epoch 149/200 [Valid]: 100%|██████████| 14/14 [00:01<00:00, 13.69it/s]\n"
          ]
        },
        {
          "output_type": "stream",
          "name": "stdout",
          "text": [
            "Validation Accuracy: 45.02%\n",
            "Epoch [149/200], Validation Loss: 2.6275\n"
          ]
        },
        {
          "output_type": "stream",
          "name": "stderr",
          "text": [
            "Epoch 150/200 [Train]: 100%|██████████| 58/58 [00:05<00:00, 10.11it/s]\n"
          ]
        },
        {
          "output_type": "stream",
          "name": "stdout",
          "text": [
            "Epoch [150/200], Loss: 0.4264\n"
          ]
        },
        {
          "output_type": "stream",
          "name": "stderr",
          "text": [
            "Epoch 150/200 [Valid]: 100%|██████████| 14/14 [00:00<00:00, 14.37it/s]\n"
          ]
        },
        {
          "output_type": "stream",
          "name": "stdout",
          "text": [
            "Validation Accuracy: 44.08%\n",
            "Epoch [150/200], Validation Loss: 2.6626\n"
          ]
        },
        {
          "output_type": "stream",
          "name": "stderr",
          "text": [
            "Epoch 151/200 [Train]: 100%|██████████| 58/58 [00:05<00:00,  9.74it/s]\n"
          ]
        },
        {
          "output_type": "stream",
          "name": "stdout",
          "text": [
            "Epoch [151/200], Loss: 0.4096\n"
          ]
        },
        {
          "output_type": "stream",
          "name": "stderr",
          "text": [
            "Epoch 151/200 [Valid]: 100%|██████████| 14/14 [00:01<00:00, 13.39it/s]\n"
          ]
        },
        {
          "output_type": "stream",
          "name": "stdout",
          "text": [
            "Validation Accuracy: 43.60%\n",
            "Epoch [151/200], Validation Loss: 2.6272\n"
          ]
        },
        {
          "output_type": "stream",
          "name": "stderr",
          "text": [
            "Epoch 152/200 [Train]: 100%|██████████| 58/58 [00:05<00:00, 10.06it/s]\n"
          ]
        },
        {
          "output_type": "stream",
          "name": "stdout",
          "text": [
            "Epoch [152/200], Loss: 0.4258\n"
          ]
        },
        {
          "output_type": "stream",
          "name": "stderr",
          "text": [
            "Epoch 152/200 [Valid]: 100%|██████████| 14/14 [00:00<00:00, 14.85it/s]\n"
          ]
        },
        {
          "output_type": "stream",
          "name": "stdout",
          "text": [
            "Validation Accuracy: 44.55%\n",
            "Epoch [152/200], Validation Loss: 2.6585\n"
          ]
        },
        {
          "output_type": "stream",
          "name": "stderr",
          "text": [
            "Epoch 153/200 [Train]: 100%|██████████| 58/58 [00:05<00:00,  9.81it/s]\n"
          ]
        },
        {
          "output_type": "stream",
          "name": "stdout",
          "text": [
            "Epoch [153/200], Loss: 0.4067\n"
          ]
        },
        {
          "output_type": "stream",
          "name": "stderr",
          "text": [
            "Epoch 153/200 [Valid]: 100%|██████████| 14/14 [00:01<00:00, 13.29it/s]\n"
          ]
        },
        {
          "output_type": "stream",
          "name": "stdout",
          "text": [
            "Validation Accuracy: 44.55%\n",
            "Epoch [153/200], Validation Loss: 2.6325\n"
          ]
        },
        {
          "output_type": "stream",
          "name": "stderr",
          "text": [
            "Epoch 154/200 [Train]: 100%|██████████| 58/58 [00:05<00:00, 10.15it/s]\n"
          ]
        },
        {
          "output_type": "stream",
          "name": "stdout",
          "text": [
            "Epoch [154/200], Loss: 0.4390\n"
          ]
        },
        {
          "output_type": "stream",
          "name": "stderr",
          "text": [
            "Epoch 154/200 [Valid]: 100%|██████████| 14/14 [00:00<00:00, 15.13it/s]\n"
          ]
        },
        {
          "output_type": "stream",
          "name": "stdout",
          "text": [
            "Validation Accuracy: 45.02%\n",
            "Epoch [154/200], Validation Loss: 2.6033\n"
          ]
        },
        {
          "output_type": "stream",
          "name": "stderr",
          "text": [
            "Epoch 155/200 [Train]: 100%|██████████| 58/58 [00:05<00:00,  9.84it/s]\n"
          ]
        },
        {
          "output_type": "stream",
          "name": "stdout",
          "text": [
            "Epoch [155/200], Loss: 0.4002\n"
          ]
        },
        {
          "output_type": "stream",
          "name": "stderr",
          "text": [
            "Epoch 155/200 [Valid]: 100%|██████████| 14/14 [00:00<00:00, 14.63it/s]\n"
          ]
        },
        {
          "output_type": "stream",
          "name": "stdout",
          "text": [
            "Validation Accuracy: 43.60%\n",
            "Epoch [155/200], Validation Loss: 2.6942\n"
          ]
        },
        {
          "output_type": "stream",
          "name": "stderr",
          "text": [
            "Epoch 156/200 [Train]: 100%|██████████| 58/58 [00:05<00:00, 10.15it/s]\n"
          ]
        },
        {
          "output_type": "stream",
          "name": "stdout",
          "text": [
            "Epoch [156/200], Loss: 0.4241\n"
          ]
        },
        {
          "output_type": "stream",
          "name": "stderr",
          "text": [
            "Epoch 156/200 [Valid]: 100%|██████████| 14/14 [00:00<00:00, 15.28it/s]\n"
          ]
        },
        {
          "output_type": "stream",
          "name": "stdout",
          "text": [
            "Validation Accuracy: 44.08%\n",
            "Epoch [156/200], Validation Loss: 2.6778\n"
          ]
        },
        {
          "output_type": "stream",
          "name": "stderr",
          "text": [
            "Epoch 157/200 [Train]: 100%|██████████| 58/58 [00:05<00:00,  9.81it/s]\n"
          ]
        },
        {
          "output_type": "stream",
          "name": "stdout",
          "text": [
            "Epoch [157/200], Loss: 0.3938\n"
          ]
        },
        {
          "output_type": "stream",
          "name": "stderr",
          "text": [
            "Epoch 157/200 [Valid]: 100%|██████████| 14/14 [00:00<00:00, 14.41it/s]\n"
          ]
        },
        {
          "output_type": "stream",
          "name": "stdout",
          "text": [
            "Validation Accuracy: 45.02%\n",
            "Epoch [157/200], Validation Loss: 2.6354\n"
          ]
        },
        {
          "output_type": "stream",
          "name": "stderr",
          "text": [
            "Epoch 158/200 [Train]: 100%|██████████| 58/58 [00:05<00:00, 10.13it/s]\n"
          ]
        },
        {
          "output_type": "stream",
          "name": "stdout",
          "text": [
            "Epoch [158/200], Loss: 0.4986\n"
          ]
        },
        {
          "output_type": "stream",
          "name": "stderr",
          "text": [
            "Epoch 158/200 [Valid]: 100%|██████████| 14/14 [00:00<00:00, 15.24it/s]\n"
          ]
        },
        {
          "output_type": "stream",
          "name": "stdout",
          "text": [
            "Validation Accuracy: 43.60%\n",
            "Epoch [158/200], Validation Loss: 2.7223\n"
          ]
        },
        {
          "output_type": "stream",
          "name": "stderr",
          "text": [
            "Epoch 159/200 [Train]: 100%|██████████| 58/58 [00:05<00:00,  9.85it/s]\n"
          ]
        },
        {
          "output_type": "stream",
          "name": "stdout",
          "text": [
            "Epoch [159/200], Loss: 0.3795\n"
          ]
        },
        {
          "output_type": "stream",
          "name": "stderr",
          "text": [
            "Epoch 159/200 [Valid]: 100%|██████████| 14/14 [00:00<00:00, 14.50it/s]\n"
          ]
        },
        {
          "output_type": "stream",
          "name": "stdout",
          "text": [
            "Validation Accuracy: 44.55%\n",
            "Epoch [159/200], Validation Loss: 2.6171\n"
          ]
        },
        {
          "output_type": "stream",
          "name": "stderr",
          "text": [
            "Epoch 160/200 [Train]: 100%|██████████| 58/58 [00:05<00:00, 10.12it/s]\n"
          ]
        },
        {
          "output_type": "stream",
          "name": "stdout",
          "text": [
            "Epoch [160/200], Loss: 0.4330\n"
          ]
        },
        {
          "output_type": "stream",
          "name": "stderr",
          "text": [
            "Epoch 160/200 [Valid]: 100%|██████████| 14/14 [00:00<00:00, 15.19it/s]\n"
          ]
        },
        {
          "output_type": "stream",
          "name": "stdout",
          "text": [
            "Validation Accuracy: 44.55%\n",
            "Epoch [160/200], Validation Loss: 2.6356\n"
          ]
        },
        {
          "output_type": "stream",
          "name": "stderr",
          "text": [
            "Epoch 161/200 [Train]: 100%|██████████| 58/58 [00:05<00:00,  9.71it/s]\n"
          ]
        },
        {
          "output_type": "stream",
          "name": "stdout",
          "text": [
            "Epoch [161/200], Loss: 0.4051\n"
          ]
        },
        {
          "output_type": "stream",
          "name": "stderr",
          "text": [
            "Epoch 161/200 [Valid]: 100%|██████████| 14/14 [00:00<00:00, 14.79it/s]\n"
          ]
        },
        {
          "output_type": "stream",
          "name": "stdout",
          "text": [
            "Validation Accuracy: 46.92%\n",
            "Epoch [161/200], Validation Loss: 2.6499\n",
            "Saved new best model with accuracy: 46.92%\n",
            "-----\n"
          ]
        },
        {
          "output_type": "stream",
          "name": "stderr",
          "text": [
            "Epoch 162/200 [Train]: 100%|██████████| 58/58 [00:05<00:00, 10.22it/s]\n"
          ]
        },
        {
          "output_type": "stream",
          "name": "stdout",
          "text": [
            "Epoch [162/200], Loss: 0.3806\n"
          ]
        },
        {
          "output_type": "stream",
          "name": "stderr",
          "text": [
            "Epoch 162/200 [Valid]: 100%|██████████| 14/14 [00:00<00:00, 15.38it/s]\n"
          ]
        },
        {
          "output_type": "stream",
          "name": "stdout",
          "text": [
            "Validation Accuracy: 44.55%\n",
            "Epoch [162/200], Validation Loss: 2.6354\n"
          ]
        },
        {
          "output_type": "stream",
          "name": "stderr",
          "text": [
            "Epoch 163/200 [Train]: 100%|██████████| 58/58 [00:06<00:00,  9.66it/s]\n"
          ]
        },
        {
          "output_type": "stream",
          "name": "stdout",
          "text": [
            "Epoch [163/200], Loss: 0.3931\n"
          ]
        },
        {
          "output_type": "stream",
          "name": "stderr",
          "text": [
            "Epoch 163/200 [Valid]: 100%|██████████| 14/14 [00:00<00:00, 15.15it/s]\n"
          ]
        },
        {
          "output_type": "stream",
          "name": "stdout",
          "text": [
            "Validation Accuracy: 45.50%\n",
            "Epoch [163/200], Validation Loss: 2.6615\n"
          ]
        },
        {
          "output_type": "stream",
          "name": "stderr",
          "text": [
            "Epoch 164/200 [Train]: 100%|██████████| 58/58 [00:05<00:00, 10.05it/s]\n"
          ]
        },
        {
          "output_type": "stream",
          "name": "stdout",
          "text": [
            "Epoch [164/200], Loss: 0.3831\n"
          ]
        },
        {
          "output_type": "stream",
          "name": "stderr",
          "text": [
            "Epoch 164/200 [Valid]: 100%|██████████| 14/14 [00:00<00:00, 15.43it/s]\n"
          ]
        },
        {
          "output_type": "stream",
          "name": "stdout",
          "text": [
            "Validation Accuracy: 43.60%\n",
            "Epoch [164/200], Validation Loss: 2.6142\n"
          ]
        },
        {
          "output_type": "stream",
          "name": "stderr",
          "text": [
            "Epoch 165/200 [Train]: 100%|██████████| 58/58 [00:05<00:00,  9.94it/s]\n"
          ]
        },
        {
          "output_type": "stream",
          "name": "stdout",
          "text": [
            "Epoch [165/200], Loss: 0.4169\n"
          ]
        },
        {
          "output_type": "stream",
          "name": "stderr",
          "text": [
            "Epoch 165/200 [Valid]: 100%|██████████| 14/14 [00:00<00:00, 15.36it/s]\n"
          ]
        },
        {
          "output_type": "stream",
          "name": "stdout",
          "text": [
            "Validation Accuracy: 42.65%\n",
            "Epoch [165/200], Validation Loss: 2.6645\n"
          ]
        },
        {
          "output_type": "stream",
          "name": "stderr",
          "text": [
            "Epoch 166/200 [Train]: 100%|██████████| 58/58 [00:05<00:00, 10.37it/s]\n"
          ]
        },
        {
          "output_type": "stream",
          "name": "stdout",
          "text": [
            "Epoch [166/200], Loss: 0.4251\n"
          ]
        },
        {
          "output_type": "stream",
          "name": "stderr",
          "text": [
            "Epoch 166/200 [Valid]: 100%|██████████| 14/14 [00:00<00:00, 15.86it/s]\n"
          ]
        },
        {
          "output_type": "stream",
          "name": "stdout",
          "text": [
            "Validation Accuracy: 42.18%\n",
            "Epoch [166/200], Validation Loss: 2.6650\n"
          ]
        },
        {
          "output_type": "stream",
          "name": "stderr",
          "text": [
            "Epoch 167/200 [Train]: 100%|██████████| 58/58 [00:05<00:00,  9.92it/s]\n"
          ]
        },
        {
          "output_type": "stream",
          "name": "stdout",
          "text": [
            "Epoch [167/200], Loss: 0.4163\n"
          ]
        },
        {
          "output_type": "stream",
          "name": "stderr",
          "text": [
            "Epoch 167/200 [Valid]: 100%|██████████| 14/14 [00:00<00:00, 15.07it/s]\n"
          ]
        },
        {
          "output_type": "stream",
          "name": "stdout",
          "text": [
            "Validation Accuracy: 45.97%\n",
            "Epoch [167/200], Validation Loss: 2.6825\n"
          ]
        },
        {
          "output_type": "stream",
          "name": "stderr",
          "text": [
            "Epoch 168/200 [Train]: 100%|██████████| 58/58 [00:05<00:00, 10.34it/s]\n"
          ]
        },
        {
          "output_type": "stream",
          "name": "stdout",
          "text": [
            "Epoch [168/200], Loss: 0.3945\n"
          ]
        },
        {
          "output_type": "stream",
          "name": "stderr",
          "text": [
            "Epoch 168/200 [Valid]: 100%|██████████| 14/14 [00:00<00:00, 15.59it/s]\n"
          ]
        },
        {
          "output_type": "stream",
          "name": "stdout",
          "text": [
            "Validation Accuracy: 44.55%\n",
            "Epoch [168/200], Validation Loss: 2.6603\n"
          ]
        },
        {
          "output_type": "stream",
          "name": "stderr",
          "text": [
            "Epoch 169/200 [Train]: 100%|██████████| 58/58 [00:05<00:00, 10.01it/s]\n"
          ]
        },
        {
          "output_type": "stream",
          "name": "stdout",
          "text": [
            "Epoch [169/200], Loss: 0.4937\n"
          ]
        },
        {
          "output_type": "stream",
          "name": "stderr",
          "text": [
            "Epoch 169/200 [Valid]: 100%|██████████| 14/14 [00:00<00:00, 15.03it/s]\n"
          ]
        },
        {
          "output_type": "stream",
          "name": "stdout",
          "text": [
            "Validation Accuracy: 45.50%\n",
            "Epoch [169/200], Validation Loss: 2.6522\n"
          ]
        },
        {
          "output_type": "stream",
          "name": "stderr",
          "text": [
            "Epoch 170/200 [Train]: 100%|██████████| 58/58 [00:05<00:00, 10.36it/s]\n"
          ]
        },
        {
          "output_type": "stream",
          "name": "stdout",
          "text": [
            "Epoch [170/200], Loss: 0.3937\n"
          ]
        },
        {
          "output_type": "stream",
          "name": "stderr",
          "text": [
            "Epoch 170/200 [Valid]: 100%|██████████| 14/14 [00:00<00:00, 15.47it/s]\n"
          ]
        },
        {
          "output_type": "stream",
          "name": "stdout",
          "text": [
            "Validation Accuracy: 45.50%\n",
            "Epoch [170/200], Validation Loss: 2.6240\n"
          ]
        },
        {
          "output_type": "stream",
          "name": "stderr",
          "text": [
            "Epoch 171/200 [Train]: 100%|██████████| 58/58 [00:05<00:00, 10.13it/s]\n"
          ]
        },
        {
          "output_type": "stream",
          "name": "stdout",
          "text": [
            "Epoch [171/200], Loss: 0.3854\n"
          ]
        },
        {
          "output_type": "stream",
          "name": "stderr",
          "text": [
            "Epoch 171/200 [Valid]: 100%|██████████| 14/14 [00:00<00:00, 15.02it/s]\n"
          ]
        },
        {
          "output_type": "stream",
          "name": "stdout",
          "text": [
            "Validation Accuracy: 43.13%\n",
            "Epoch [171/200], Validation Loss: 2.6684\n"
          ]
        },
        {
          "output_type": "stream",
          "name": "stderr",
          "text": [
            "Epoch 172/200 [Train]: 100%|██████████| 58/58 [00:05<00:00, 10.44it/s]\n"
          ]
        },
        {
          "output_type": "stream",
          "name": "stdout",
          "text": [
            "Epoch [172/200], Loss: 0.4053\n"
          ]
        },
        {
          "output_type": "stream",
          "name": "stderr",
          "text": [
            "Epoch 172/200 [Valid]: 100%|██████████| 14/14 [00:00<00:00, 15.61it/s]\n"
          ]
        },
        {
          "output_type": "stream",
          "name": "stdout",
          "text": [
            "Validation Accuracy: 44.08%\n",
            "Epoch [172/200], Validation Loss: 2.6474\n"
          ]
        },
        {
          "output_type": "stream",
          "name": "stderr",
          "text": [
            "Epoch 173/200 [Train]: 100%|██████████| 58/58 [00:05<00:00,  9.77it/s]\n"
          ]
        },
        {
          "output_type": "stream",
          "name": "stdout",
          "text": [
            "Epoch [173/200], Loss: 0.3803\n"
          ]
        },
        {
          "output_type": "stream",
          "name": "stderr",
          "text": [
            "Epoch 173/200 [Valid]: 100%|██████████| 14/14 [00:00<00:00, 14.91it/s]\n"
          ]
        },
        {
          "output_type": "stream",
          "name": "stdout",
          "text": [
            "Validation Accuracy: 47.39%\n",
            "Epoch [173/200], Validation Loss: 2.6522\n",
            "Saved new best model with accuracy: 47.39%\n",
            "-----\n"
          ]
        },
        {
          "output_type": "stream",
          "name": "stderr",
          "text": [
            "Epoch 174/200 [Train]: 100%|██████████| 58/58 [00:05<00:00, 10.47it/s]\n"
          ]
        },
        {
          "output_type": "stream",
          "name": "stdout",
          "text": [
            "Epoch [174/200], Loss: 0.3657\n"
          ]
        },
        {
          "output_type": "stream",
          "name": "stderr",
          "text": [
            "Epoch 174/200 [Valid]: 100%|██████████| 14/14 [00:00<00:00, 15.65it/s]\n"
          ]
        },
        {
          "output_type": "stream",
          "name": "stdout",
          "text": [
            "Validation Accuracy: 45.97%\n",
            "Epoch [174/200], Validation Loss: 2.6460\n"
          ]
        },
        {
          "output_type": "stream",
          "name": "stderr",
          "text": [
            "Epoch 175/200 [Train]: 100%|██████████| 58/58 [00:05<00:00,  9.95it/s]\n"
          ]
        },
        {
          "output_type": "stream",
          "name": "stdout",
          "text": [
            "Epoch [175/200], Loss: 0.3963\n"
          ]
        },
        {
          "output_type": "stream",
          "name": "stderr",
          "text": [
            "Epoch 175/200 [Valid]: 100%|██████████| 14/14 [00:00<00:00, 14.34it/s]\n"
          ]
        },
        {
          "output_type": "stream",
          "name": "stdout",
          "text": [
            "Validation Accuracy: 45.50%\n",
            "Epoch [175/200], Validation Loss: 2.6565\n"
          ]
        },
        {
          "output_type": "stream",
          "name": "stderr",
          "text": [
            "Epoch 176/200 [Train]: 100%|██████████| 58/58 [00:05<00:00,  9.97it/s]\n"
          ]
        },
        {
          "output_type": "stream",
          "name": "stdout",
          "text": [
            "Epoch [176/200], Loss: 0.3687\n"
          ]
        },
        {
          "output_type": "stream",
          "name": "stderr",
          "text": [
            "Epoch 176/200 [Valid]: 100%|██████████| 14/14 [00:00<00:00, 15.61it/s]\n"
          ]
        },
        {
          "output_type": "stream",
          "name": "stdout",
          "text": [
            "Validation Accuracy: 44.55%\n",
            "Epoch [176/200], Validation Loss: 2.6355\n"
          ]
        },
        {
          "output_type": "stream",
          "name": "stderr",
          "text": [
            "Epoch 177/200 [Train]: 100%|██████████| 58/58 [00:05<00:00, 10.20it/s]\n"
          ]
        },
        {
          "output_type": "stream",
          "name": "stdout",
          "text": [
            "Epoch [177/200], Loss: 0.3919\n"
          ]
        },
        {
          "output_type": "stream",
          "name": "stderr",
          "text": [
            "Epoch 177/200 [Valid]: 100%|██████████| 14/14 [00:00<00:00, 14.86it/s]\n"
          ]
        },
        {
          "output_type": "stream",
          "name": "stdout",
          "text": [
            "Validation Accuracy: 44.55%\n",
            "Epoch [177/200], Validation Loss: 2.6708\n"
          ]
        },
        {
          "output_type": "stream",
          "name": "stderr",
          "text": [
            "Epoch 178/200 [Train]: 100%|██████████| 58/58 [00:05<00:00, 10.29it/s]\n"
          ]
        },
        {
          "output_type": "stream",
          "name": "stdout",
          "text": [
            "Epoch [178/200], Loss: 0.4569\n"
          ]
        },
        {
          "output_type": "stream",
          "name": "stderr",
          "text": [
            "Epoch 178/200 [Valid]: 100%|██████████| 14/14 [00:00<00:00, 15.60it/s]\n"
          ]
        },
        {
          "output_type": "stream",
          "name": "stdout",
          "text": [
            "Validation Accuracy: 44.08%\n",
            "Epoch [178/200], Validation Loss: 2.6777\n"
          ]
        },
        {
          "output_type": "stream",
          "name": "stderr",
          "text": [
            "Epoch 179/200 [Train]: 100%|██████████| 58/58 [00:05<00:00, 10.12it/s]\n"
          ]
        },
        {
          "output_type": "stream",
          "name": "stdout",
          "text": [
            "Epoch [179/200], Loss: 0.4338\n"
          ]
        },
        {
          "output_type": "stream",
          "name": "stderr",
          "text": [
            "Epoch 179/200 [Valid]: 100%|██████████| 14/14 [00:00<00:00, 14.18it/s]\n"
          ]
        },
        {
          "output_type": "stream",
          "name": "stdout",
          "text": [
            "Validation Accuracy: 44.08%\n",
            "Epoch [179/200], Validation Loss: 2.6463\n"
          ]
        },
        {
          "output_type": "stream",
          "name": "stderr",
          "text": [
            "Epoch 180/200 [Train]: 100%|██████████| 58/58 [00:05<00:00, 10.33it/s]\n"
          ]
        },
        {
          "output_type": "stream",
          "name": "stdout",
          "text": [
            "Epoch [180/200], Loss: 0.4436\n"
          ]
        },
        {
          "output_type": "stream",
          "name": "stderr",
          "text": [
            "Epoch 180/200 [Valid]: 100%|██████████| 14/14 [00:00<00:00, 15.18it/s]\n"
          ]
        },
        {
          "output_type": "stream",
          "name": "stdout",
          "text": [
            "Validation Accuracy: 42.18%\n",
            "Epoch [180/200], Validation Loss: 2.7144\n"
          ]
        },
        {
          "output_type": "stream",
          "name": "stderr",
          "text": [
            "Epoch 181/200 [Train]: 100%|██████████| 58/58 [00:05<00:00, 10.09it/s]\n"
          ]
        },
        {
          "output_type": "stream",
          "name": "stdout",
          "text": [
            "Epoch [181/200], Loss: 0.4034\n"
          ]
        },
        {
          "output_type": "stream",
          "name": "stderr",
          "text": [
            "Epoch 181/200 [Valid]: 100%|██████████| 14/14 [00:00<00:00, 14.55it/s]\n"
          ]
        },
        {
          "output_type": "stream",
          "name": "stdout",
          "text": [
            "Validation Accuracy: 44.08%\n",
            "Epoch [181/200], Validation Loss: 2.6658\n"
          ]
        },
        {
          "output_type": "stream",
          "name": "stderr",
          "text": [
            "Epoch 182/200 [Train]: 100%|██████████| 58/58 [00:05<00:00, 10.48it/s]\n"
          ]
        },
        {
          "output_type": "stream",
          "name": "stdout",
          "text": [
            "Epoch [182/200], Loss: 0.3837\n"
          ]
        },
        {
          "output_type": "stream",
          "name": "stderr",
          "text": [
            "Epoch 182/200 [Valid]: 100%|██████████| 14/14 [00:00<00:00, 15.62it/s]\n"
          ]
        },
        {
          "output_type": "stream",
          "name": "stdout",
          "text": [
            "Validation Accuracy: 44.55%\n",
            "Epoch [182/200], Validation Loss: 2.6446\n"
          ]
        },
        {
          "output_type": "stream",
          "name": "stderr",
          "text": [
            "Epoch 183/200 [Train]: 100%|██████████| 58/58 [00:05<00:00, 10.14it/s]\n"
          ]
        },
        {
          "output_type": "stream",
          "name": "stdout",
          "text": [
            "Epoch [183/200], Loss: 0.5097\n"
          ]
        },
        {
          "output_type": "stream",
          "name": "stderr",
          "text": [
            "Epoch 183/200 [Valid]: 100%|██████████| 14/14 [00:00<00:00, 14.33it/s]\n"
          ]
        },
        {
          "output_type": "stream",
          "name": "stdout",
          "text": [
            "Validation Accuracy: 43.13%\n",
            "Epoch [183/200], Validation Loss: 2.6029\n"
          ]
        },
        {
          "output_type": "stream",
          "name": "stderr",
          "text": [
            "Epoch 184/200 [Train]: 100%|██████████| 58/58 [00:05<00:00, 10.32it/s]\n"
          ]
        },
        {
          "output_type": "stream",
          "name": "stdout",
          "text": [
            "Epoch [184/200], Loss: 0.4318\n"
          ]
        },
        {
          "output_type": "stream",
          "name": "stderr",
          "text": [
            "Epoch 184/200 [Valid]: 100%|██████████| 14/14 [00:00<00:00, 15.81it/s]\n"
          ]
        },
        {
          "output_type": "stream",
          "name": "stdout",
          "text": [
            "Validation Accuracy: 44.55%\n",
            "Epoch [184/200], Validation Loss: 2.6420\n"
          ]
        },
        {
          "output_type": "stream",
          "name": "stderr",
          "text": [
            "Epoch 185/200 [Train]: 100%|██████████| 58/58 [00:05<00:00, 10.10it/s]\n"
          ]
        },
        {
          "output_type": "stream",
          "name": "stdout",
          "text": [
            "Epoch [185/200], Loss: 0.4469\n"
          ]
        },
        {
          "output_type": "stream",
          "name": "stderr",
          "text": [
            "Epoch 185/200 [Valid]: 100%|██████████| 14/14 [00:01<00:00, 13.79it/s]\n"
          ]
        },
        {
          "output_type": "stream",
          "name": "stdout",
          "text": [
            "Validation Accuracy: 46.45%\n",
            "Epoch [185/200], Validation Loss: 2.6218\n"
          ]
        },
        {
          "output_type": "stream",
          "name": "stderr",
          "text": [
            "Epoch 186/200 [Train]: 100%|██████████| 58/58 [00:05<00:00, 10.44it/s]\n"
          ]
        },
        {
          "output_type": "stream",
          "name": "stdout",
          "text": [
            "Epoch [186/200], Loss: 0.4102\n"
          ]
        },
        {
          "output_type": "stream",
          "name": "stderr",
          "text": [
            "Epoch 186/200 [Valid]: 100%|██████████| 14/14 [00:00<00:00, 15.82it/s]\n"
          ]
        },
        {
          "output_type": "stream",
          "name": "stdout",
          "text": [
            "Validation Accuracy: 43.13%\n",
            "Epoch [186/200], Validation Loss: 2.6818\n"
          ]
        },
        {
          "output_type": "stream",
          "name": "stderr",
          "text": [
            "Epoch 187/200 [Train]: 100%|██████████| 58/58 [00:05<00:00, 10.21it/s]\n"
          ]
        },
        {
          "output_type": "stream",
          "name": "stdout",
          "text": [
            "Epoch [187/200], Loss: 0.4369\n"
          ]
        },
        {
          "output_type": "stream",
          "name": "stderr",
          "text": [
            "Epoch 187/200 [Valid]: 100%|██████████| 14/14 [00:00<00:00, 14.21it/s]\n"
          ]
        },
        {
          "output_type": "stream",
          "name": "stdout",
          "text": [
            "Validation Accuracy: 43.60%\n",
            "Epoch [187/200], Validation Loss: 2.6921\n"
          ]
        },
        {
          "output_type": "stream",
          "name": "stderr",
          "text": [
            "Epoch 188/200 [Train]: 100%|██████████| 58/58 [00:05<00:00, 10.38it/s]\n"
          ]
        },
        {
          "output_type": "stream",
          "name": "stdout",
          "text": [
            "Epoch [188/200], Loss: 0.4373\n"
          ]
        },
        {
          "output_type": "stream",
          "name": "stderr",
          "text": [
            "Epoch 188/200 [Valid]: 100%|██████████| 14/14 [00:00<00:00, 15.37it/s]\n"
          ]
        },
        {
          "output_type": "stream",
          "name": "stdout",
          "text": [
            "Validation Accuracy: 45.02%\n",
            "Epoch [188/200], Validation Loss: 2.6790\n"
          ]
        },
        {
          "output_type": "stream",
          "name": "stderr",
          "text": [
            "Epoch 189/200 [Train]: 100%|██████████| 58/58 [00:05<00:00, 10.26it/s]\n"
          ]
        },
        {
          "output_type": "stream",
          "name": "stdout",
          "text": [
            "Epoch [189/200], Loss: 0.4143\n"
          ]
        },
        {
          "output_type": "stream",
          "name": "stderr",
          "text": [
            "Epoch 189/200 [Valid]: 100%|██████████| 14/14 [00:00<00:00, 14.72it/s]\n"
          ]
        },
        {
          "output_type": "stream",
          "name": "stdout",
          "text": [
            "Validation Accuracy: 46.92%\n",
            "Epoch [189/200], Validation Loss: 2.6764\n"
          ]
        },
        {
          "output_type": "stream",
          "name": "stderr",
          "text": [
            "Epoch 190/200 [Train]: 100%|██████████| 58/58 [00:05<00:00, 10.39it/s]\n"
          ]
        },
        {
          "output_type": "stream",
          "name": "stdout",
          "text": [
            "Epoch [190/200], Loss: 0.4800\n"
          ]
        },
        {
          "output_type": "stream",
          "name": "stderr",
          "text": [
            "Epoch 190/200 [Valid]: 100%|██████████| 14/14 [00:00<00:00, 15.58it/s]\n"
          ]
        },
        {
          "output_type": "stream",
          "name": "stdout",
          "text": [
            "Validation Accuracy: 42.65%\n",
            "Epoch [190/200], Validation Loss: 2.6373\n"
          ]
        },
        {
          "output_type": "stream",
          "name": "stderr",
          "text": [
            "Epoch 191/200 [Train]: 100%|██████████| 58/58 [00:05<00:00, 10.38it/s]\n"
          ]
        },
        {
          "output_type": "stream",
          "name": "stdout",
          "text": [
            "Epoch [191/200], Loss: 0.3420\n"
          ]
        },
        {
          "output_type": "stream",
          "name": "stderr",
          "text": [
            "Epoch 191/200 [Valid]: 100%|██████████| 14/14 [00:00<00:00, 14.72it/s]\n"
          ]
        },
        {
          "output_type": "stream",
          "name": "stdout",
          "text": [
            "Validation Accuracy: 45.50%\n",
            "Epoch [191/200], Validation Loss: 2.7060\n"
          ]
        },
        {
          "output_type": "stream",
          "name": "stderr",
          "text": [
            "Epoch 192/200 [Train]: 100%|██████████| 58/58 [00:05<00:00,  9.97it/s]\n"
          ]
        },
        {
          "output_type": "stream",
          "name": "stdout",
          "text": [
            "Epoch [192/200], Loss: 0.4093\n"
          ]
        },
        {
          "output_type": "stream",
          "name": "stderr",
          "text": [
            "Epoch 192/200 [Valid]: 100%|██████████| 14/14 [00:00<00:00, 15.58it/s]\n"
          ]
        },
        {
          "output_type": "stream",
          "name": "stdout",
          "text": [
            "Validation Accuracy: 43.60%\n",
            "Epoch [192/200], Validation Loss: 2.6854\n"
          ]
        },
        {
          "output_type": "stream",
          "name": "stderr",
          "text": [
            "Epoch 193/200 [Train]: 100%|██████████| 58/58 [00:05<00:00, 10.07it/s]\n"
          ]
        },
        {
          "output_type": "stream",
          "name": "stdout",
          "text": [
            "Epoch [193/200], Loss: 0.4380\n"
          ]
        },
        {
          "output_type": "stream",
          "name": "stderr",
          "text": [
            "Epoch 193/200 [Valid]: 100%|██████████| 14/14 [00:00<00:00, 14.76it/s]\n"
          ]
        },
        {
          "output_type": "stream",
          "name": "stdout",
          "text": [
            "Validation Accuracy: 43.60%\n",
            "Epoch [193/200], Validation Loss: 2.6605\n"
          ]
        },
        {
          "output_type": "stream",
          "name": "stderr",
          "text": [
            "Epoch 194/200 [Train]: 100%|██████████| 58/58 [00:05<00:00, 10.17it/s]\n"
          ]
        },
        {
          "output_type": "stream",
          "name": "stdout",
          "text": [
            "Epoch [194/200], Loss: 0.4491\n"
          ]
        },
        {
          "output_type": "stream",
          "name": "stderr",
          "text": [
            "Epoch 194/200 [Valid]: 100%|██████████| 14/14 [00:00<00:00, 15.17it/s]\n"
          ]
        },
        {
          "output_type": "stream",
          "name": "stdout",
          "text": [
            "Validation Accuracy: 46.92%\n",
            "Epoch [194/200], Validation Loss: 2.6871\n"
          ]
        },
        {
          "output_type": "stream",
          "name": "stderr",
          "text": [
            "Epoch 195/200 [Train]: 100%|██████████| 58/58 [00:05<00:00, 10.13it/s]\n"
          ]
        },
        {
          "output_type": "stream",
          "name": "stdout",
          "text": [
            "Epoch [195/200], Loss: 0.3686\n"
          ]
        },
        {
          "output_type": "stream",
          "name": "stderr",
          "text": [
            "Epoch 195/200 [Valid]: 100%|██████████| 14/14 [00:00<00:00, 15.07it/s]\n"
          ]
        },
        {
          "output_type": "stream",
          "name": "stdout",
          "text": [
            "Validation Accuracy: 44.55%\n",
            "Epoch [195/200], Validation Loss: 2.6411\n"
          ]
        },
        {
          "output_type": "stream",
          "name": "stderr",
          "text": [
            "Epoch 196/200 [Train]: 100%|██████████| 58/58 [00:05<00:00, 10.28it/s]\n"
          ]
        },
        {
          "output_type": "stream",
          "name": "stdout",
          "text": [
            "Epoch [196/200], Loss: 0.3875\n"
          ]
        },
        {
          "output_type": "stream",
          "name": "stderr",
          "text": [
            "Epoch 196/200 [Valid]: 100%|██████████| 14/14 [00:00<00:00, 15.71it/s]\n"
          ]
        },
        {
          "output_type": "stream",
          "name": "stdout",
          "text": [
            "Validation Accuracy: 41.71%\n",
            "Epoch [196/200], Validation Loss: 2.7173\n"
          ]
        },
        {
          "output_type": "stream",
          "name": "stderr",
          "text": [
            "Epoch 197/200 [Train]: 100%|██████████| 58/58 [00:05<00:00, 10.27it/s]\n"
          ]
        },
        {
          "output_type": "stream",
          "name": "stdout",
          "text": [
            "Epoch [197/200], Loss: 0.3810\n"
          ]
        },
        {
          "output_type": "stream",
          "name": "stderr",
          "text": [
            "Epoch 197/200 [Valid]: 100%|██████████| 14/14 [00:00<00:00, 14.69it/s]\n"
          ]
        },
        {
          "output_type": "stream",
          "name": "stdout",
          "text": [
            "Validation Accuracy: 44.55%\n",
            "Epoch [197/200], Validation Loss: 2.6519\n"
          ]
        },
        {
          "output_type": "stream",
          "name": "stderr",
          "text": [
            "Epoch 198/200 [Train]: 100%|██████████| 58/58 [00:05<00:00, 10.06it/s]\n"
          ]
        },
        {
          "output_type": "stream",
          "name": "stdout",
          "text": [
            "Epoch [198/200], Loss: 0.4077\n"
          ]
        },
        {
          "output_type": "stream",
          "name": "stderr",
          "text": [
            "Epoch 198/200 [Valid]: 100%|██████████| 14/14 [00:00<00:00, 15.51it/s]\n"
          ]
        },
        {
          "output_type": "stream",
          "name": "stdout",
          "text": [
            "Validation Accuracy: 43.60%\n",
            "Epoch [198/200], Validation Loss: 2.6320\n"
          ]
        },
        {
          "output_type": "stream",
          "name": "stderr",
          "text": [
            "Epoch 199/200 [Train]: 100%|██████████| 58/58 [00:05<00:00, 10.09it/s]\n"
          ]
        },
        {
          "output_type": "stream",
          "name": "stdout",
          "text": [
            "Epoch [199/200], Loss: 0.3740\n"
          ]
        },
        {
          "output_type": "stream",
          "name": "stderr",
          "text": [
            "Epoch 199/200 [Valid]: 100%|██████████| 14/14 [00:00<00:00, 14.80it/s]\n"
          ]
        },
        {
          "output_type": "stream",
          "name": "stdout",
          "text": [
            "Validation Accuracy: 45.97%\n",
            "Epoch [199/200], Validation Loss: 2.6488\n"
          ]
        },
        {
          "output_type": "stream",
          "name": "stderr",
          "text": [
            "Epoch 200/200 [Train]: 100%|██████████| 58/58 [00:05<00:00, 10.12it/s]\n"
          ]
        },
        {
          "output_type": "stream",
          "name": "stdout",
          "text": [
            "Epoch [200/200], Loss: 0.3717\n"
          ]
        },
        {
          "output_type": "stream",
          "name": "stderr",
          "text": [
            "Epoch 200/200 [Valid]: 100%|██████████| 14/14 [00:00<00:00, 15.31it/s]\n"
          ]
        },
        {
          "output_type": "stream",
          "name": "stdout",
          "text": [
            "Validation Accuracy: 43.13%\n",
            "Epoch [200/200], Validation Loss: 2.6624\n",
            "Test Accuracy: 38.10%\n"
          ]
        }
      ]
    },
    {
      "cell_type": "markdown",
      "source": [
        "Best params with visibility information (LSTM)"
      ],
      "metadata": {
        "id": "o3HV5CjdykBO"
      }
    },
    {
      "cell_type": "code",
      "source": [
        "def get_training_config():\n",
        "  return {\n",
        "    'hidden_size': 512,\n",
        "    'learning_rate': 1e-4,\n",
        "    'num_epochs': 100,\n",
        "    'weight_decay': 1e-4,\n",
        "    'dropout_rate': 0.1,\n",
        "    'scheduler_params': {\n",
        "      'factor': 0.5,\n",
        "      'min_lr': 1e-6\n",
        "    },\n",
        "  }\n",
        "\n",
        "  # Validation Accuracy: 48.34%\n",
        "  # Test Accuracy: 39.15%\n",
        "\n",
        "def get_training_config():\n",
        "  return {\n",
        "    'hidden_size': 512,\n",
        "    'learning_rate': 1e-4,\n",
        "    'num_epochs': 100,\n",
        "    'weight_decay': 1e-4,\n",
        "    'dropout_rate': 0.2,\n",
        "    'scheduler_params': {\n",
        "      'factor': 0.5,\n",
        "      'min_lr': 1e-6\n",
        "    },\n",
        "  }\n",
        "\n",
        "  # Validation Accuracy: 49.76%\n",
        "  # Test Accuracy: 40.21%\n",
        "\n",
        "def get_training_config():\n",
        "  return {\n",
        "    'hidden_size': 512,\n",
        "    'learning_rate': 1e-4,\n",
        "    'num_epochs': 100,\n",
        "    'weight_decay': 1e-5,\n",
        "    'dropout_rate': 0.2,\n",
        "    'scheduler_params': {\n",
        "      'factor': 0.5,\n",
        "      'min_lr': 1e-6\n",
        "    },\n",
        "  }\n",
        "  # Validation Accuracy: 47.87%\n",
        "  # Test Accuracy: 38.10%\n",
        "\n",
        "def get_training_config():\n",
        "  return {\n",
        "    'hidden_size': 512,\n",
        "    'learning_rate': 1e-4,\n",
        "    'num_epochs': 100,\n",
        "    'weight_decay': 1e-5,\n",
        "    'dropout_rate': 0.3,\n",
        "    'scheduler_params': {\n",
        "      'factor': 0.5,\n",
        "      'min_lr': 1e-6\n",
        "    },\n",
        "  }\n",
        "  # Validation Accuracy: 47.39%\n",
        "  # Test Accuracy: 37.04%\n",
        "\n",
        "def get_training_config():\n",
        "  return {\n",
        "    'hidden_size': 512,\n",
        "    'learning_rate': 1e-4,\n",
        "    'num_epochs': 100,\n",
        "    'weight_decay': 1e-4,\n",
        "    'dropout_rate': 0.3,\n",
        "    'scheduler_params': {\n",
        "      'factor': 0.5,\n",
        "      'min_lr': 1e-6\n",
        "    },\n",
        "  }\n",
        "  # Validation Accuracy: 47.87%\n",
        "  # Test Accuracy: 37.04%\n",
        "\n",
        "def get_training_config():\n",
        "  return {\n",
        "    'hidden_size': 512,\n",
        "    'learning_rate': 1e-3,\n",
        "    'num_epochs': 100,\n",
        "    'weight_decay': 1e-4,\n",
        "    'dropout_rate': 0.2,\n",
        "    'scheduler_params': {\n",
        "      'factor': 0.5,\n",
        "      'min_lr': 1e-6\n",
        "    },\n",
        "  }\n",
        "  # Validation Accuracy: 47.39%\n",
        "  # Test Accuracy: 38.62%\n",
        "\n",
        "def get_training_config():\n",
        "  return {\n",
        "    'hidden_size': 512,\n",
        "    'learning_rate': 1e-3,\n",
        "    'num_epochs': 200,\n",
        "    'weight_decay': 1e-4,\n",
        "    'dropout_rate': 0.2,\n",
        "    'scheduler_params': {\n",
        "      'factor': 0.5,\n",
        "      'min_lr': 1e-6\n",
        "    },\n",
        "  }\n",
        "  # Validation Accuracy: 45.97%\n",
        "  # Test Accuracy: 33.86%"
      ],
      "metadata": {
        "id": "LEwIqUXkFDjH"
      },
      "execution_count": null,
      "outputs": []
    },
    {
      "cell_type": "markdown",
      "source": [
        "Best params without visibility information (LSTM)"
      ],
      "metadata": {
        "id": "yYvvYrX7ysfa"
      }
    },
    {
      "cell_type": "code",
      "source": [
        "def get_training_config():\n",
        "  return {\n",
        "    'hidden_size': 512,\n",
        "    'learning_rate': 1e-4,\n",
        "    'num_epochs': 100,\n",
        "    'weight_decay': 1e-4,\n",
        "    'dropout_rate': 0.2,\n",
        "    'scheduler_params': {\n",
        "      'factor': 0.5,\n",
        "      'min_lr': 1e-6\n",
        "    },\n",
        "  }\n",
        "\n",
        "  # Validation Accuracy: 50.24%\n",
        "  # Test Accuracy: 38.10%\n",
        "\n",
        "def get_training_config():\n",
        "  return {\n",
        "    'hidden_size': 512,\n",
        "    'learning_rate': 1e-4,\n",
        "    'num_epochs': 200,\n",
        "    'weight_decay': 1e-4,\n",
        "    'dropout_rate': 0.3,\n",
        "    'scheduler_params': {\n",
        "      'factor': 0.5,\n",
        "      'min_lr': 1e-6\n",
        "    },\n",
        "  }\n",
        "\n",
        "  # Validation Accuracy: 48.34%\n",
        "  # Test Accuracy: 40.74%\n",
        "\n",
        "def get_training_config():\n",
        "  return {\n",
        "    'hidden_size': 512,\n",
        "    'learning_rate': 1e-4,\n",
        "    'num_epochs': 200,\n",
        "    'weight_decay': 1e-5,\n",
        "    'dropout_rate': 0.3,\n",
        "    'scheduler_params': {\n",
        "      'factor': 0.5,\n",
        "      'min_lr': 1e-6\n",
        "    },\n",
        "  }\n",
        "  # Validation Accuracy: 47.87%\n",
        "  # Test Accuracy: 35.45%\n",
        "\n",
        "def get_training_config():\n",
        "  return {\n",
        "    'hidden_size': 512,\n",
        "    'learning_rate': 1e-4,\n",
        "    'num_epochs': 200,\n",
        "    'weight_decay': 1e-4,\n",
        "    'dropout_rate': 0.2,\n",
        "    'scheduler_params': {\n",
        "      'factor': 0.5,\n",
        "      'min_lr': 1e-6\n",
        "    },\n",
        "  }\n",
        "  # Validation Accuracy: 51.18%\n",
        "  # Test Accuracy: 40.74%\n",
        "\n",
        "def get_training_config():\n",
        "  return {\n",
        "    'hidden_size': 512,\n",
        "    'learning_rate': 1e-3,\n",
        "    'num_epochs': 200,\n",
        "    'weight_decay': 1e-4,\n",
        "    'dropout_rate': 0.2,\n",
        "    'scheduler_params': {\n",
        "      'factor': 0.5,\n",
        "      'min_lr': 1e-6\n",
        "    },\n",
        "  }\n",
        "  # Validation Accuracy: 48.34%\n",
        "  # Test Accuracy: 37.04%\n",
        "\n",
        "def get_training_config():\n",
        "  return {\n",
        "    'hidden_size': 512,\n",
        "    'learning_rate': 1e-3,\n",
        "    'num_epochs': 200,\n",
        "    'weight_decay': 1e-4,\n",
        "    'dropout_rate': 0.3,\n",
        "    'scheduler_params': {\n",
        "      'factor': 0.5,\n",
        "      'min_lr': 1e-6\n",
        "    },\n",
        "  }\n",
        "  # Validation Accuracy: 50.71%\n",
        "  # Test Accuracy: 40.21%\n",
        "\n",
        "  def get_training_config():\n",
        "    return {\n",
        "      'hidden_size': 512,\n",
        "      'learning_rate': 1e-4,\n",
        "      'num_epochs': 200,\n",
        "      'weight_decay': 1e-4,\n",
        "      'dropout_rate': 0.2,\n",
        "      'scheduler_params': {\n",
        "        'factor': 0.5,\n",
        "        'min_lr': 1e-6\n",
        "      },\n",
        "    }\n",
        "    # with num_layers = 2, self.input_dropout = nn.Dropout(0.2)\n",
        "    # Validation Accuracy: 53.08%\n",
        "    # Test Accuracy: 37.04%\n",
        "\n",
        "  def get_training_config():\n",
        "    return {\n",
        "      'hidden_size': 512,\n",
        "      'learning_rate': 1e-4,\n",
        "      'num_epochs': 200,\n",
        "      'weight_decay': 1e-4,\n",
        "      'dropout_rate': 0.3,\n",
        "      'scheduler_params': {\n",
        "        'factor': 0.5,\n",
        "        'min_lr': 1e-6\n",
        "      },\n",
        "    }\n",
        "    # with num_layers = 2, self.input_dropout = nn.Dropout(0.2)\n",
        "    # Validation Accuracy: 54.03%\n",
        "    # Test Accuracy: 41.27%\n",
        "\n",
        "  def get_training_config():\n",
        "    return {\n",
        "      'hidden_size': 512,\n",
        "      'learning_rate': 1e-4,\n",
        "      'num_epochs': 200,\n",
        "      'weight_decay': 1e-4,\n",
        "      'dropout_rate': 0.3,\n",
        "      'scheduler_params': {\n",
        "        'factor': 0.5,\n",
        "        'min_lr': 1e-6\n",
        "      },\n",
        "    }\n",
        "    # with num_layers = 2\n",
        "    # Validation Accuracy: 49.76%\n",
        "    # Test Accuracy: 40.21%\n",
        "\n",
        "  def get_training_config():\n",
        "    return {\n",
        "      'hidden_size': 512,\n",
        "      'learning_rate': 1e-4,\n",
        "      'num_epochs': 200,\n",
        "      'weight_decay': 1e-5,\n",
        "      'dropout_rate': 0.3,\n",
        "      'scheduler_params': {\n",
        "        'factor': 0.5,\n",
        "        'min_lr': 1e-6\n",
        "      },\n",
        "    }\n",
        "    # with num_layers = 2\n",
        "    # Validation Accuracy: 49.29%\n",
        "    # Test Accuracy: 35.45%\n",
        "\n",
        "def get_training_config():\n",
        "  return {\n",
        "    'hidden_size': 512,\n",
        "    'learning_rate': 1e-4,\n",
        "    'num_epochs': 200,\n",
        "    'weight_decay': 1e-4,\n",
        "    'dropout_rate': 0.2,\n",
        "    'scheduler_params': {\n",
        "      'factor': 0.5,\n",
        "      'min_lr': 1e-6\n",
        "    },\n",
        "  }\n",
        "    # with num_layers = 2\n",
        "    # Validation Accuracy: 47.39%\n",
        "    # Test Accuracy: 38.10%"
      ],
      "metadata": {
        "id": "MJ52bAGCb0cN"
      },
      "execution_count": null,
      "outputs": []
    },
    {
      "cell_type": "markdown",
      "source": [
        "Best params withoug visibility information (GRU)"
      ],
      "metadata": {
        "id": "q_ieLphP-30g"
      }
    },
    {
      "cell_type": "code",
      "source": [
        "  def get_training_config():\n",
        "    return {\n",
        "      'hidden_size': 512,\n",
        "      'learning_rate': 1e-3,\n",
        "      'num_epochs': 100,\n",
        "      'weight_decay': 1e-4,\n",
        "      'dropout_rate': 0.2,\n",
        "      'scheduler_params': {\n",
        "        'factor': 0.5,\n",
        "        'min_lr': 1e-6\n",
        "      },\n",
        "    }\n",
        "    # Validation Accuracy: 31.75%\n",
        "    # Test Accuracy: 22.75%\n",
        "\n",
        "\n",
        "  def get_training_config():\n",
        "    return {\n",
        "      'hidden_size': 256,\n",
        "      'learning_rate': 1e-3,\n",
        "      'num_epochs': 100,\n",
        "      'weight_decay': 1e-4,\n",
        "      'dropout_rate': 0.2,\n",
        "      'scheduler_params': {\n",
        "        'factor': 0.5,\n",
        "        'min_lr': 1e-6\n",
        "      },\n",
        "    }\n",
        "    # Validation Accuracy: 42.18%\n",
        "    # Test Accuracy: 28.57%\n",
        "\n",
        "  def get_training_config():\n",
        "    return {\n",
        "      'hidden_size': 128,\n",
        "      'learning_rate': 1e-3,\n",
        "      'num_epochs': 100,\n",
        "      'weight_decay': 1e-4,\n",
        "      'dropout_rate': 0.3,\n",
        "      'scheduler_params': {\n",
        "        'factor': 0.5,\n",
        "        'min_lr': 1e-6\n",
        "      },\n",
        "    }\n",
        "    # Validation Accuracy: 41.23%\n",
        "    # Test Accuracy: 37.04%\n",
        "\n",
        "  def get_training_config():\n",
        "    return {\n",
        "      'hidden_size': 128,\n",
        "      'learning_rate': 1e-3,\n",
        "      'num_epochs': 100,\n",
        "      'weight_decay': 1e-4,\n",
        "      'dropout_rate': 0.3,\n",
        "      'scheduler_params': {\n",
        "        'factor': 0.5,\n",
        "        'min_lr': 1e-6\n",
        "      },\n",
        "    }\n",
        "    # with num_layers = 2, self.input_dropout = nn.Dropout(0.2)\n",
        "    # Validation Accuracy: 48.82%\n",
        "    # Test Accuracy: 37.04%\n",
        "\n",
        "  def get_training_config():\n",
        "    return {\n",
        "      'hidden_size': 128,\n",
        "      'learning_rate': 1e-3,\n",
        "      'num_epochs': 100,\n",
        "      'weight_decay': 1e-4,\n",
        "      'dropout_rate': 0.4,\n",
        "      'scheduler_params': {\n",
        "        'factor': 0.5,\n",
        "        'min_lr': 1e-6\n",
        "      },\n",
        "    }\n",
        "    # with num_layers = 2, self.input_dropout = nn.Dropout(0.2)\n",
        "    # Validation Accuracy: 46.92%\n",
        "    # Test Accuracy: 34.92%\n",
        "\n",
        "  def get_training_config():\n",
        "    return {\n",
        "      'hidden_size': 128,\n",
        "      'learning_rate': 1e-3,\n",
        "      'num_epochs': 100,\n",
        "      'weight_decay': 1e-4,\n",
        "      'dropout_rate': 0.3,\n",
        "      'scheduler_params': {\n",
        "        'factor': 0.5,\n",
        "        'min_lr': 1e-6\n",
        "      },\n",
        "    }\n",
        "    # with num_layers = 2\n",
        "    # Validation Accuracy: 49.76%\n",
        "    # Test Accuracy: 40.74%\n",
        "\n",
        "  def get_training_config():\n",
        "    return {\n",
        "      'hidden_size': 128,\n",
        "      'learning_rate': 1e-3,\n",
        "      'num_epochs': 100,\n",
        "      'weight_decay': 1e-4,\n",
        "      'dropout_rate': 0.4,\n",
        "      'scheduler_params': {\n",
        "        'factor': 0.5,\n",
        "        'min_lr': 1e-6\n",
        "      },\n",
        "    }\n",
        "    # with num_layers = 2\n",
        "    # Validation Accuracy: 51.18%\n",
        "    # Test Accuracy: 37.57%\n",
        "\n",
        "  def get_training_config():\n",
        "    return {\n",
        "      'hidden_size': 256,\n",
        "      'learning_rate': 1e-3,\n",
        "      'num_epochs': 100,\n",
        "      'weight_decay': 1e-4,\n",
        "      'dropout_rate': 0.2,\n",
        "      'scheduler_params': {\n",
        "        'factor': 0.5,\n",
        "        'min_lr': 1e-6\n",
        "      },\n",
        "    }\n",
        "    # with num_layers = 2, self.input_dropout = nn.Dropout(0.2)\n",
        "    # Validation Accuracy: 39.81%\n",
        "    # Test Accuracy: 33.86%\n",
        "\n",
        "  def get_training_config():\n",
        "    return {\n",
        "      'hidden_size': 256,\n",
        "      'learning_rate': 1e-3,\n",
        "      'num_epochs': 100,\n",
        "      'weight_decay': 1e-4,\n",
        "      'dropout_rate': 0.2,\n",
        "      'scheduler_params': {\n",
        "        'factor': 0.5,\n",
        "        'min_lr': 1e-6\n",
        "      },\n",
        "    }\n",
        "    # with num_layers = 2\n",
        "    # Validation Accuracy: 46.45%\n",
        "    # Test Accuracy: 32.80%"
      ],
      "metadata": {
        "id": "_eKZudem--QL"
      },
      "execution_count": null,
      "outputs": []
    }
  ]
}