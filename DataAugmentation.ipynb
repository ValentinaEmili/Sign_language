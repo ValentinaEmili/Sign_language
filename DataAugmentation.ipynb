{
  "nbformat": 4,
  "nbformat_minor": 0,
  "metadata": {
    "colab": {
      "provenance": [],
      "gpuType": "T4",
      "include_colab_link": true
    },
    "kernelspec": {
      "name": "python3",
      "display_name": "Python 3"
    },
    "language_info": {
      "name": "python"
    },
    "accelerator": "GPU"
  },
  "cells": [
    {
      "cell_type": "markdown",
      "metadata": {
        "id": "view-in-github",
        "colab_type": "text"
      },
      "source": [
        "<a href=\"https://colab.research.google.com/github/ValentinaEmili/Sign_language/blob/main/DataAugmentation.ipynb\" target=\"_parent\"><img src=\"https://colab.research.google.com/assets/colab-badge.svg\" alt=\"Open In Colab\"/></a>"
      ]
    },
    {
      "cell_type": "code",
      "execution_count": 2,
      "metadata": {
        "colab": {
          "base_uri": "https://localhost:8080/"
        },
        "id": "dk25YGi-idP8",
        "outputId": "7d9ddde1-b585-4ee5-e973-44de8761faad"
      },
      "outputs": [
        {
          "output_type": "stream",
          "name": "stdout",
          "text": [
            "Mounted at /content/drive\n"
          ]
        }
      ],
      "source": [
        "# mount google drive on colab\n",
        "from google.colab import drive\n",
        "drive.mount('/content/drive')"
      ]
    },
    {
      "cell_type": "code",
      "source": [
        "import pandas as pd\n",
        "import cv2\n",
        "from google.colab.patches import cv2_imshow\n",
        "from tqdm import tqdm\n",
        "import numpy as np\n",
        "import os"
      ],
      "metadata": {
        "id": "SN3bBvWji31s"
      },
      "execution_count": 3,
      "outputs": []
    },
    {
      "cell_type": "code",
      "source": [
        "def main():\n",
        "  num_classes = 100 # {100, 2000}\n",
        "  if num_classes == 100:\n",
        "    folder = \"/content/drive/MyDrive/NLP/dataset/subset_100/\"\n",
        "  else:\n",
        "    folder = \"/content/drive/MyDrive/NLP/dataset/\"\n",
        "\n",
        "  training_folder = folder + \"train/\"\n",
        "  validation_folder = folder + \"val/\"\n",
        "  test_folder = folder + \"test/\"\n",
        "\n",
        "  training_video = training_folder + \"video/\"\n",
        "  validation_video = validation_folder + \"video/\"\n",
        "  test_video = test_folder + \"video/\"\n",
        "\n",
        "  if num_classes == 100:\n",
        "    training_images = training_folder + \"images_no_vis/\"\n",
        "    validation_images = validation_folder + \"images_no_vis/\"\n",
        "    test_images = test_folder + \"images_no_vis/\"\n",
        "  else:\n",
        "    training_images = training_folder + \"images/\"\n",
        "    validation_images = validation_folder + \"images/\"\n",
        "    test_images = test_folder + \"images/\"\n",
        "\n",
        "  # images with video_id < new_id belong to the original dataset (no augmentated data)\n",
        "  new_id = 70380\n",
        "\n",
        "  all_labels = [image.split(\"_\")[0] for image in os.listdir(training_images)]\n",
        "  set_labels = set(all_labels)\n",
        "  # label_counts = {class : n. samples for class}\n",
        "  label_counts = {label: all_labels.count(label) for label in set_labels}\n",
        "\n",
        "  def add_gaussian_noise(seq, mean=0, std=0.01):\n",
        "    return seq + np.randorm.normal(mean, std, seq.shape)\n",
        "\n",
        "  def jitter_joints(seq, jitter_scale=0.02):\n",
        "    return np.random.uniform(-jitter_scale, jitter_scale, seq.shape)\n",
        "\n",
        "  def random_dropout(seq, drop_prob=0.1):\n",
        "    mask = np.random.binomial(1, 1 - drop_prob, seq.shape)\n",
        "    return seq * mask\n",
        "\n",
        "  def data_augmentation(images, max_count, new_id):\n",
        "    added_images = 0\n",
        "    for image in os.listdir(images):\n",
        "      word, _ = image.split(\"_\")\n",
        "      if label_counts[word] < max_count:\n",
        "        added_images += 3\n",
        "        np_array = np.load(os.path.join(training_images, image))\n",
        "\n",
        "        gauss_array = add_gaussian_noise(np_array)\n",
        "        gauss_image = f\"{word}_{new_id}.npy\"\n",
        "        new_id += 1\n",
        "        np.save(os.path.join(training_images, gauss_image), gauss_array)\n",
        "\n",
        "        jitter_points_array = jitter_joints(np_array)\n",
        "        jitter_image = f\"{word}_{new_id}.npy\"\n",
        "        new_id += 1\n",
        "        np.save(os.path.join(training_images, jitter_image), jitter_points_array)\n",
        "\n",
        "        drop_frames_array = random_dropout(np_array)\n",
        "        drop_frames_image = f\"{word}_{new_id}.npy\"\n",
        "        new_id += 1\n",
        "        np.save(os.path.join(training_images, drop_frames_image), drop_frames_array)\n",
        "\n",
        "  if num_classes == 100:\n",
        "    data_augmentation(training_images, 8, new_id)\n",
        "  else:\n",
        "    data_augmentation(training_images, 3, new_id)\n",
        "\n",
        "if __name__ == \"__main__\":\n",
        "  main()"
      ],
      "metadata": {
        "id": "a1e0tzWsVMOu"
      },
      "execution_count": null,
      "outputs": []
    },
    {
      "cell_type": "markdown",
      "source": [
        "WLASL100\n",
        "\n",
        "original dataset:\n",
        "- training set: 914\n",
        "- validation set: 211\n",
        "- test set: 189\n",
        "\n",
        "after:\n",
        "- training set: 1,289\n",
        "- validation set: 211\n",
        "- test set: 189"
      ],
      "metadata": {
        "id": "GGV_MocqnoSP"
      }
    },
    {
      "cell_type": "markdown",
      "source": [
        "WLASL2000\n",
        "\n",
        "original dataset:\n",
        "- training set: 8,760\n",
        "- validation set: 2,472\n",
        "- test set: 2,059\n",
        "\n",
        "after:\n",
        "- training set: 10,950\n",
        "- validation set: 2,472\n",
        "- test set: 2,059"
      ],
      "metadata": {
        "id": "CSYhqhI_nzav"
      }
    }
  ]
}