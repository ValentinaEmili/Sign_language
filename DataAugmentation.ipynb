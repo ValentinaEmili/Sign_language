{
  "nbformat": 4,
  "nbformat_minor": 0,
  "metadata": {
    "colab": {
      "provenance": [],
      "gpuType": "T4",
      "authorship_tag": "ABX9TyPY9p8BzkAKN8OT7myFRTvQ",
      "include_colab_link": true
    },
    "kernelspec": {
      "name": "python3",
      "display_name": "Python 3"
    },
    "language_info": {
      "name": "python"
    },
    "accelerator": "GPU"
  },
  "cells": [
    {
      "cell_type": "markdown",
      "metadata": {
        "id": "view-in-github",
        "colab_type": "text"
      },
      "source": [
        "<a href=\"https://colab.research.google.com/github/ValentinaEmili/Sign_language/blob/main/DataAugmentation.ipynb\" target=\"_parent\"><img src=\"https://colab.research.google.com/assets/colab-badge.svg\" alt=\"Open In Colab\"/></a>"
      ]
    },
    {
      "cell_type": "code",
      "execution_count": 1,
      "metadata": {
        "colab": {
          "base_uri": "https://localhost:8080/"
        },
        "id": "dk25YGi-idP8",
        "outputId": "f936117d-b5c5-41c7-8813-e2e07b51b1c5"
      },
      "outputs": [
        {
          "output_type": "stream",
          "name": "stdout",
          "text": [
            "Mounted at /content/drive\n"
          ]
        }
      ],
      "source": [
        "# mount google drive on colab\n",
        "from google.colab import drive\n",
        "drive.mount('/content/drive')"
      ]
    },
    {
      "cell_type": "code",
      "source": [
        "import pandas as pd\n",
        "import cv2\n",
        "from google.colab.patches import cv2_imshow\n",
        "from tqdm import tqdm\n",
        "import numpy as np\n",
        "import os"
      ],
      "metadata": {
        "id": "SN3bBvWji31s"
      },
      "execution_count": 2,
      "outputs": []
    },
    {
      "cell_type": "code",
      "source": [
        "js_100 = pd.read_json(\"/content/drive/MyDrive/NLP/WLASL100.json\")\n",
        "folder = \"/content/drive/MyDrive/NLP/dataset/subset_100/\"\n",
        "original_folder = \"/content/drive/MyDrive/NLP/dataset/\"\n",
        "\n",
        "training_folder = folder + \"train/\"\n",
        "validation_folder = folder + \"val/\"\n",
        "test_folder = folder + \"test/\"\n",
        "\n",
        "training_video = training_folder + \"video/\"\n",
        "validation_video = validation_folder + \"video/\"\n",
        "test_video = test_folder + \"video/\"\n",
        "\n",
        "training_images = training_folder + \"images/\"\n",
        "validation_images = validation_folder + \"images/\"\n",
        "test_images = test_folder + \"images/\"\n",
        "\n",
        "os.makedirs(training_video, exist_ok=True)\n",
        "os.makedirs(validation_video, exist_ok=True)\n",
        "os.makedirs(test_video, exist_ok=True)\n",
        "\n",
        "os.makedirs(training_images, exist_ok=True)\n",
        "os.makedirs(validation_images, exist_ok=True)\n",
        "os.makedirs(test_images, exist_ok=True)\n"
      ],
      "metadata": {
        "id": "rwfKXWrxi62t"
      },
      "execution_count": 6,
      "outputs": []
    },
    {
      "cell_type": "code",
      "source": [
        "video_ids = []\n",
        "for video in os.listdir(original_folder + \"train/video/\"):\n",
        "  video_ids.append(int(video[:-4].split(\"_\")[1]))\n",
        "for video in os.listdir(original_folder + \"val/video/\"):\n",
        "  video_ids.append(int(video[:-4].split(\"_\")[1]))\n",
        "for video in os.listdir(original_folder + \"test/video/\"):\n",
        "  video_ids.append(int(video[:-4].split(\"_\")[1]))\n",
        "\n",
        "new_id = max(video_ids)+1"
      ],
      "metadata": {
        "id": "ob8684Xri-9Z"
      },
      "execution_count": 21,
      "outputs": []
    },
    {
      "cell_type": "code",
      "source": [
        "def add_gaussian_noise(seq, mean=0, std=0.01):\n",
        "  noise = np.random(mean, std, seq.shape)\n",
        "  return seq + noise\n",
        "\n",
        "def jitter_joints(seq, jitter_scale=0.02):\n",
        "  return seq + np.random.uniform(-jitter_scale, jitter_scale, seq.shape)\n",
        "\n",
        "def drop_frames(seq, drop_prob=0.1):\n",
        "  keep_mask = np.random.rand(seq.shape[0]) > drop_prob\n",
        "  if np.sum(keep_mask) < 1:\n",
        "    keep_mask[np.random.randint(0, seq.shape[0])] = True\n",
        "  return seq[keep_mask]"
      ],
      "metadata": {
        "id": "gcQK9fzlly2P"
      },
      "execution_count": 22,
      "outputs": []
    }
  ]
}