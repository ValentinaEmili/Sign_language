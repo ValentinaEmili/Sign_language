{
  "nbformat": 4,
  "nbformat_minor": 0,
  "metadata": {
    "colab": {
      "provenance": [],
      "gpuType": "T4",
      "include_colab_link": true
    },
    "kernelspec": {
      "name": "python3",
      "display_name": "Python 3"
    },
    "language_info": {
      "name": "python"
    },
    "accelerator": "GPU"
  },
  "cells": [
    {
      "cell_type": "markdown",
      "metadata": {
        "id": "view-in-github",
        "colab_type": "text"
      },
      "source": [
        "<a href=\"https://colab.research.google.com/github/ValentinaEmili/Sign_language/blob/main/DataAugmentation.ipynb\" target=\"_parent\"><img src=\"https://colab.research.google.com/assets/colab-badge.svg\" alt=\"Open In Colab\"/></a>"
      ]
    },
    {
      "cell_type": "code",
      "execution_count": 1,
      "metadata": {
        "colab": {
          "base_uri": "https://localhost:8080/"
        },
        "id": "dk25YGi-idP8",
        "outputId": "f25952a2-4ec6-4f1c-9fd0-a7415a5c2e19"
      },
      "outputs": [
        {
          "output_type": "stream",
          "name": "stdout",
          "text": [
            "Mounted at /content/drive\n"
          ]
        }
      ],
      "source": [
        "# mount google drive on colab\n",
        "from google.colab import drive\n",
        "drive.mount('/content/drive')"
      ]
    },
    {
      "cell_type": "code",
      "source": [
        "import pandas as pd\n",
        "import cv2\n",
        "from google.colab.patches import cv2_imshow\n",
        "from tqdm import tqdm\n",
        "import numpy as np\n",
        "import os"
      ],
      "metadata": {
        "id": "SN3bBvWji31s"
      },
      "execution_count": 2,
      "outputs": []
    },
    {
      "cell_type": "code",
      "source": [
        "def main():\n",
        "  #js_100 = pd.read_json(\"/content/drive/MyDrive/NLP/WLASL100.json\")\n",
        "  #folder = \"/content/drive/MyDrive/NLP/dataset/subset_100/\"\n",
        "  js_file = pd.read_json(\"/content/drive/MyDrive/NLP/WLASL_v0.3.json\")\n",
        "  folder = \"/content/drive/MyDrive/NLP/dataset/\"\n",
        "  subset = False\n",
        "\n",
        "  training_folder = folder + \"train/\"\n",
        "  validation_folder = folder + \"val/\"\n",
        "  test_folder = folder + \"test/\"\n",
        "\n",
        "  training_video = training_folder + \"video/\"\n",
        "  validation_video = validation_folder + \"video/\"\n",
        "  test_video = test_folder + \"video/\"\n",
        "\n",
        "  training_images = training_folder + \"images/\"\n",
        "  validation_images = validation_folder + \"images/\"\n",
        "  test_images = test_folder + \"images/\"\n",
        "\n",
        "  os.makedirs(training_video, exist_ok=True)\n",
        "  os.makedirs(validation_video, exist_ok=True)\n",
        "  os.makedirs(test_video, exist_ok=True)\n",
        "\n",
        "  os.makedirs(training_images, exist_ok=True)\n",
        "  os.makedirs(validation_images, exist_ok=True)\n",
        "  os.makedirs(test_images, exist_ok=True)\n",
        "\n",
        "  # images with video_id < new_id belong to the original dataset (no augmentated data)\n",
        "  new_id = 70380\n",
        "\n",
        "  all_labels = [image.split(\"_\")[0] for image in os.listdir(training_images)]\n",
        "  set_labels = set(all_labels)\n",
        "  # label_counts = {class : n. samples for class}\n",
        "  label_counts = {label: all_labels.count(label) for label in set_labels}\n",
        "\n",
        "  def add_gaussian_noise(seq, mean=0, std=0.01):\n",
        "    noisy_seq = seq.copy()\n",
        "    for i in range(0, 132, 4):\n",
        "      noisy_seq[:, i:i+3] += np.random.normal(mean, std, (seq.shape[0], 3))\n",
        "    for i in range(132, seq.shape[1], 3):\n",
        "      noisy_seq[:, i:i+3] += np.random.normal(mean, std, (seq.shape[0], 3))\n",
        "\n",
        "    return noisy_seq\n",
        "\n",
        "  def jitter_joints(seq, jitter_scale=0.02):\n",
        "    noisy_seq = seq.copy()\n",
        "    for i in range(0, 132, 4):\n",
        "      noisy_seq[:, i:i+3] += np.random.uniform(-jitter_scale, jitter_scale, (seq.shape[0], 3))\n",
        "    for i in range(132, seq.shape[1], 3):\n",
        "      noisy_seq[:, i:i+3] += np.random.uniform(-jitter_scale, jitter_scale, (seq.shape[0], 3))\n",
        "    return noisy_seq\n",
        "\n",
        "  def visibility_random_dropout(seq, threshold=0.1):\n",
        "      seq_aug = seq.copy()\n",
        "\n",
        "      for i in range(seq.shape[0]):\n",
        "        for j in range(33):\n",
        "          base_idx = j * 4\n",
        "          visibility = seq_aug[i, base_idx + 3]\n",
        "\n",
        "          # remove landmarks with low visibility and random dropout\n",
        "          if visibility < threshold or np.random.rand() < threshold:\n",
        "            seq_aug[i, base_idx:base_idx + 4] = 0.0\n",
        "\n",
        "      return seq_aug\n",
        "\n",
        "  def data_augmentation(images, max_count, new_id):\n",
        "    for image in os.listdir(images):\n",
        "      word, _ = image.split(\"_\")\n",
        "      if label_counts[word] < max_count:\n",
        "        np_array = np.load(os.path.join(training_images, image))\n",
        "\n",
        "        gauss_array = add_gaussian_noise(np_array)\n",
        "        gauss_image = f\"{word}_{new_id}.npy\"\n",
        "        new_id += 1\n",
        "        np.save(os.path.join(training_images, gauss_image), gauss_array)\n",
        "\n",
        "        jitter_points_array = jitter_joints(np_array)\n",
        "        jitter_image = f\"{word}_{new_id}.npy\"\n",
        "        new_id += 1\n",
        "        np.save(os.path.join(training_images, jitter_image), jitter_points_array)\n",
        "\n",
        "        drop_frames_array = visibility_random_dropout(np_array)\n",
        "        drop_frames_image = f\"{word}_{new_id}.npy\"\n",
        "        new_id += 1\n",
        "        np.save(os.path.join(training_images, drop_frames_image), drop_frames_array)\n",
        "\n",
        "  if subset:\n",
        "    data_augmentation(training_images, 8, new_id)\n",
        "  else:\n",
        "    data_augmentation(training_images, 4, new_id)\n",
        "\n",
        "if __name__ == \"__main__\":\n",
        "  main()"
      ],
      "metadata": {
        "id": "vKEuu3vVmo0y"
      },
      "execution_count": null,
      "outputs": []
    },
    {
      "cell_type": "markdown",
      "source": [
        "WLASL100\n",
        "\n",
        "original dataset:\n",
        "- training set: 914\n",
        "- validation set: 211\n",
        "- test set: 189\n",
        "\n",
        "after:\n",
        "- training set: -\n",
        "- validation set: 211\n",
        "- test set: 189"
      ],
      "metadata": {
        "id": "GGV_MocqnoSP"
      }
    },
    {
      "cell_type": "markdown",
      "source": [
        "WLASL2000\n",
        "\n",
        "original dataset:\n",
        "- training set: 8760\n",
        "- validation set: 2493\n",
        "- test set: 2060\n",
        "\n",
        "after:\n",
        "- training set: -\n",
        "- validation set: 2493\n",
        "- test set: 2060"
      ],
      "metadata": {
        "id": "CSYhqhI_nzav"
      }
    }
  ]
}