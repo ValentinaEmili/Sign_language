{
  "nbformat": 4,
  "nbformat_minor": 0,
  "metadata": {
    "colab": {
      "provenance": [],
      "gpuType": "T4",
      "include_colab_link": true
    },
    "kernelspec": {
      "name": "python3",
      "display_name": "Python 3"
    },
    "language_info": {
      "name": "python"
    },
    "accelerator": "GPU"
  },
  "cells": [
    {
      "cell_type": "markdown",
      "metadata": {
        "id": "view-in-github",
        "colab_type": "text"
      },
      "source": [
        "<a href=\"https://colab.research.google.com/github/ValentinaEmili/Sign_language/blob/main/ASL_recognition.ipynb\" target=\"_parent\"><img src=\"https://colab.research.google.com/assets/colab-badge.svg\" alt=\"Open In Colab\"/></a>"
      ]
    },
    {
      "cell_type": "markdown",
      "source": [
        "code from\n",
        "\n",
        "https://github.com/AvishakeAdhikary/Realtime-Sign-Language-Detection-Using-LSTM-Model/blob/main/RealTimeSignLanguageDetection.ipynb"
      ],
      "metadata": {
        "id": "z4864mwIJuZG"
      }
    },
    {
      "cell_type": "code",
      "execution_count": 1,
      "metadata": {
        "id": "MeY0eM3iPdbW",
        "outputId": "e09e59b0-fcba-414c-e9e8-7dec73b1721d",
        "colab": {
          "base_uri": "https://localhost:8080/"
        }
      },
      "outputs": [
        {
          "output_type": "stream",
          "name": "stdout",
          "text": [
            "Mounted at /content/drive\n"
          ]
        }
      ],
      "source": [
        "# mount google drive on colab\n",
        "from google.colab import drive\n",
        "drive.mount('/content/drive')"
      ]
    },
    {
      "cell_type": "code",
      "source": [
        "import pandas as pd\n",
        "import cv2\n",
        "from google.colab.patches import cv2_imshow\n",
        "from tqdm import tqdm\n",
        "import numpy as np\n",
        "import os\n",
        "#from tensorflow.keras.utils import to_categorical\n",
        "import torch\n",
        "import torch.nn.functional as F\n",
        "from torch.nn import LSTM\n",
        "from torch.utils.tensorboard import SummaryWriter"
      ],
      "metadata": {
        "id": "syDlsXWzPjzp"
      },
      "execution_count": 2,
      "outputs": []
    },
    {
      "cell_type": "code",
      "source": [
        "# load the JSON data\n",
        "js_file = pd.read_json(\"/content/drive/MyDrive/NLP/WLASL_v0.3.json\")\n",
        "folder = \"/content/drive/MyDrive/NLP/dataset/\"\n",
        "\n",
        "training_folder = folder + \"train/\"\n",
        "test_folder = folder + \"test/\"\n",
        "training_video = training_folder + \"video/\"\n",
        "test_video = test_folder + \"video/\"\n",
        "training_images = training_folder + \"images/\"\n",
        "test_images = test_folder + \"images/\"\n",
        "\n",
        "#youtube_videos = ['asl5200', 'asllex', 'aslu', 'lillybauer', 'nabboud', 'northtexas', 'scott', 'valencia-asl']"
      ],
      "metadata": {
        "id": "FSJFrrsePo3B"
      },
      "execution_count": 3,
      "outputs": []
    },
    {
      "cell_type": "code",
      "source": [
        "gloss = set()\n",
        "for i, word in enumerate(tqdm(list(js_file['gloss']), desc='glosses')):\n",
        "  for j, instance in enumerate(js_file['instances'][i]):\n",
        "    if js_file['instances'][i][j]['split'] == 'train':\n",
        "      gloss.add(word)\n",
        "gloss = sorted(list(gloss))\n"
      ],
      "metadata": {
        "id": "LKUvyJOs0ftd",
        "outputId": "8ffbc16e-6a6d-4cc7-f92e-c5f6eb424015",
        "colab": {
          "base_uri": "https://localhost:8080/"
        }
      },
      "execution_count": 14,
      "outputs": [
        {
          "output_type": "stream",
          "name": "stderr",
          "text": [
            "glosses: 100%|██████████| 2000/2000 [00:00<00:00, 20391.34it/s]\n"
          ]
        }
      ]
    },
    {
      "cell_type": "markdown",
      "source": [
        "Preprocess the data"
      ],
      "metadata": {
        "id": "ciyIxRuPHyYS"
      }
    },
    {
      "cell_type": "code",
      "source": [
        "train_gloss, test_gloss = set(), set()\n",
        "for image in os.listdir(training_images):\n",
        "  word, _ = image.split(\"_\")\n",
        "  train_gloss.add(word)\n",
        "train_gloss = sorted(list(train_gloss))\n",
        "\n",
        "for image in os.listdir(test_images):\n",
        "  word, _ = image.split(\"_\")\n",
        "  test_gloss.add(word)\n",
        "test_gloss = sorted(list(test_gloss))\n",
        "#label_map = {label: num for num, label in enumerate(gloss)}\n",
        "\n",
        "for gl in gloss:\n",
        "  if gl not in train_gloss:\n",
        "    print(gl)"
      ],
      "metadata": {
        "id": "y5ereGhDzrKe",
        "outputId": "aadbabf2-d8a4-433b-b553-1b4366c7af98",
        "colab": {
          "base_uri": "https://localhost:8080/"
        }
      },
      "execution_count": 15,
      "outputs": [
        {
          "output_type": "stream",
          "name": "stdout",
          "text": [
            "alphabet\n",
            "b\n",
            "boots\n",
            "hippopotamus\n",
            "meaning\n",
            "post\n",
            "realize\n",
            "smoking\n",
            "tv\n",
            "wash face\n"
          ]
        }
      ]
    },
    {
      "cell_type": "code",
      "source": [
        "X_train, y_train, X_test, y_test = [], [], [], []\n",
        "\n",
        "for image in os.listdir(training_images):\n",
        "  np_array = np.load(os.path.join(training_images, image))\n",
        "  label, _ = image.split(\"_\")\n",
        "  X_train.append(np_array)\n",
        "  y_train.append(label_map[label])\n",
        "\n",
        "for image in os.listdir(test_images):\n",
        "  np_array = np.load(os.path.join(test_images, image))\n",
        "  label, _ = image.split(\"_\")\n",
        "  X_test.append(np_array)\n",
        "  y_test.append(label_map[label])\n",
        "\n",
        "num_classes = len(gloss)\n",
        "\n",
        "X_train = torch.tensor(np.array(X_train), dtype=torch.float32)\n",
        "X_test = torch.tensor(np.array(X_test), dtype=torch.float32)\n",
        "y_train = torch.tensor(y_train, dtype=torch.long)\n",
        "y_test = torch.tensor(y_test, dtype=torch.long)\n",
        "y_train = F.one_hot(y_train, num_classes=num_classes).int()\n",
        "y_test = F.one_hot(y_test, num_classes=num_classes).int()"
      ],
      "metadata": {
        "id": "dHivL3dkfqO-"
      },
      "execution_count": null,
      "outputs": []
    },
    {
      "cell_type": "markdown",
      "source": [
        "Build and train LSTM Neural Network"
      ],
      "metadata": {
        "id": "YVI0dkQFHtgz"
      }
    },
    {
      "cell_type": "code",
      "source": [
        "log_dir = \"/content/drive/MyDrive/NLP/Logs\"\n",
        "os.makedirs(log_dir, exist_ok=True)\n",
        "writer = SummaryWriter(log_dir=log_dir)"
      ],
      "metadata": {
        "id": "2VgnD53cIOQd"
      },
      "execution_count": null,
      "outputs": []
    },
    {
      "cell_type": "code",
      "source": [
        "model = Sequential()\n",
        "model.add(LSTM(64, return_sequences=True, activation='relu', input_shape=(30,1662)))\n",
        "model.add(LSTM(128, return_sequences=True, activation='relu'))\n",
        "model.add(LSTM(64, return_sequences=False, activation='relu'))\n",
        "model.add(Dense(64, activation='relu'))\n",
        "model.add(Dense(32, activation='relu'))\n",
        "model.add(Dense(actions.shape[0], activation='softmax'))"
      ],
      "metadata": {
        "id": "yoaCgb2DI4kS"
      },
      "execution_count": null,
      "outputs": []
    },
    {
      "cell_type": "code",
      "source": [
        "model.compile(optimizer='Adam', loss='categorical_crossentropy', metrics=['categorical_accuracy'])"
      ],
      "metadata": {
        "id": "i0Mvuo1xJFUr"
      },
      "execution_count": null,
      "outputs": []
    },
    {
      "cell_type": "code",
      "source": [
        "model.fit(X_train, y_train, epochs=100, callbacks=[tb_callback])"
      ],
      "metadata": {
        "id": "Ly6TVWnHJHgf"
      },
      "execution_count": null,
      "outputs": []
    },
    {
      "cell_type": "code",
      "source": [
        "res = model.predict(X_test)\n",
        "print(\"predicted\", actions[np.argmax(res[4])])\n",
        "print(\"ground truth\", actions[np.argmax(y_test[4])])"
      ],
      "metadata": {
        "id": "1QRaLP2MJQ1u"
      },
      "execution_count": null,
      "outputs": []
    },
    {
      "cell_type": "markdown",
      "source": [
        "Save weights"
      ],
      "metadata": {
        "id": "uanWtjbSJdj8"
      }
    },
    {
      "cell_type": "code",
      "source": [
        "model.save('./model.h5')\n",
        "model.save_weights('./model_weights.h5');"
      ],
      "metadata": {
        "id": "fkyganlmJgVz"
      },
      "execution_count": null,
      "outputs": []
    },
    {
      "cell_type": "code",
      "source": [
        "#del model"
      ],
      "metadata": {
        "id": "Dth1dYKBJiTy"
      },
      "execution_count": null,
      "outputs": []
    }
  ]
}