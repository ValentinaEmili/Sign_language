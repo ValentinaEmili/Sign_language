{
  "nbformat": 4,
  "nbformat_minor": 0,
  "metadata": {
    "colab": {
      "provenance": [],
      "authorship_tag": "ABX9TyO8YmhVX7uS2/mffM5rVit7",
      "include_colab_link": true
    },
    "kernelspec": {
      "name": "python3",
      "display_name": "Python 3"
    },
    "language_info": {
      "name": "python"
    }
  },
  "cells": [
    {
      "cell_type": "markdown",
      "metadata": {
        "id": "view-in-github",
        "colab_type": "text"
      },
      "source": [
        "<a href=\"https://colab.research.google.com/github/ValentinaEmili/Sign_language/blob/main/top_5_results.ipynb\" target=\"_parent\"><img src=\"https://colab.research.google.com/assets/colab-badge.svg\" alt=\"Open In Colab\"/></a>"
      ]
    },
    {
      "cell_type": "markdown",
      "source": [
        "# LSTM with Attention Mechanism"
      ],
      "metadata": {
        "id": "rpZRkxiG5C4w"
      }
    },
    {
      "cell_type": "code",
      "execution_count": null,
      "metadata": {
        "id": "7mxYvIm5443U"
      },
      "outputs": [],
      "source": [
        "def get_training_config():\n",
        "    return {\n",
        "      'hidden_size': 512,\n",
        "      'learning_rate': 1e-4,\n",
        "      'num_epochs': 150,\n",
        "      'weight_decay': 1e-4,\n",
        "      'dropout_rate': 0.2,\n",
        "      'scheduler_params': {\n",
        "        'factor': 0.5,\n",
        "        'min_lr': 1e-5\n",
        "      },\n",
        "    }\n",
        "    # Validation Accuracy: 76.30%\n",
        "    # Test Accuracy: 74.07%\n",
        "\n",
        "def get_training_config():\n",
        "    return {\n",
        "      'hidden_size': 512,\n",
        "      'learning_rate': 1e-4,\n",
        "      'num_epochs': 150,\n",
        "      'weight_decay': 1e-4,\n",
        "      'dropout_rate': 0.1,\n",
        "      'scheduler_params': {\n",
        "        'factor': 0.5,\n",
        "        'min_lr': 1e-5\n",
        "      },\n",
        "    }\n",
        "    # Validation Accuracy: 75.36%\n",
        "    # Test Accuracy: 70.37%\n",
        "\n",
        "def get_training_config():\n",
        "    return {\n",
        "      'hidden_size': 512,\n",
        "      'learning_rate': 1e-3,\n",
        "      'num_epochs': 150,\n",
        "      'weight_decay': 1e-4,\n",
        "      'dropout_rate': 0.1,\n",
        "      'scheduler_params': {\n",
        "        'factor': 0.5,\n",
        "        'min_lr': 1e-5\n",
        "      },\n",
        "    }\n",
        "    # Validation Accuracy: 71.09%\n",
        "    # Test Accuracy: 65.08%"
      ]
    },
    {
      "cell_type": "markdown",
      "source": [
        "# GRU with Bahdanau Attention Mechanism"
      ],
      "metadata": {
        "id": "_FGqHDi05HN5"
      }
    },
    {
      "cell_type": "code",
      "source": [
        "def get_training_config():\n",
        "    return {\n",
        "      'hidden_size': 256,\n",
        "      'learning_rate': 1e-3,\n",
        "      'num_epochs': 150,\n",
        "      'weight_decay': 1e-4,\n",
        "      'dropout_rate': 0.2,\n",
        "      'scheduler_params': {\n",
        "        'factor': 0.5,\n",
        "        'min_lr': 1e-5\n",
        "      },\n",
        "    }\n",
        "    # Validation Accuracy: 76.78%\n",
        "    # Test Accuracy: 73.54%\n",
        "\n",
        "def get_training_config():\n",
        "    return {\n",
        "      'hidden_size': 256,\n",
        "      'learning_rate': 1e-3,\n",
        "      'num_epochs': 150,\n",
        "      'weight_decay': 1e-4,\n",
        "      'dropout_rate': 0.2,\n",
        "      'scheduler_params': {\n",
        "        'factor': 0.5,\n",
        "        'min_lr': 1e-4\n",
        "      },\n",
        "    }\n",
        "    # Validation Accuracy: 79.62%\n",
        "    # Test Accuracy: 72.49%\n",
        "\n",
        "def get_training_config():\n",
        "    return {\n",
        "      'hidden_size': 256,\n",
        "      'learning_rate': 1e-4,\n",
        "      'num_epochs': 150,\n",
        "      'weight_decay': 1e-4,\n",
        "      'dropout_rate': 0.2,\n",
        "      'scheduler_params': {\n",
        "        'factor': 0.5,\n",
        "        'min_lr': 1e-5\n",
        "      },\n",
        "    }\n",
        "    # Validation Accuracy: 78.20%\n",
        "    # Test Accuracy: 71.96%"
      ],
      "metadata": {
        "id": "SU_74GAB5QKP"
      },
      "execution_count": null,
      "outputs": []
    },
    {
      "cell_type": "markdown",
      "source": [
        "# stacked LSTM-GRU with Attention Mechanism"
      ],
      "metadata": {
        "id": "TjcPcYfc7b5U"
      }
    },
    {
      "cell_type": "code",
      "source": [
        "def get_training_config():\n",
        "    return {\n",
        "      'hidden_size': 512,\n",
        "      'learning_rate': 1e-4,\n",
        "      'num_epochs': 150,\n",
        "      'weight_decay': 1e-4,\n",
        "      'dropout_rate': 0.2,\n",
        "      'scheduler_params': {\n",
        "        'factor': 0.5,\n",
        "        'min_lr': 1e-5\n",
        "      },\n",
        "    }\n",
        "    # Validation Accuracy: 74.41%\n",
        "    # Test Accuracy: 74.07%\n",
        "\n",
        "def get_training_config():\n",
        "    return {\n",
        "      'hidden_size': 512,\n",
        "      'learning_rate': 1e-4,\n",
        "      'num_epochs': 150,\n",
        "      'weight_decay': 1e-4,\n",
        "      'dropout_rate': 0.1,\n",
        "      'scheduler_params': {\n",
        "        'factor': 0.5,\n",
        "        'min_lr': 1e-5\n",
        "      },\n",
        "    }\n",
        "    # Validation Accuracy: 77.25%\n",
        "    # Test Accuracy: 75.13%"
      ],
      "metadata": {
        "id": "j3yDwZID7jDE"
      },
      "execution_count": null,
      "outputs": []
    },
    {
      "cell_type": "markdown",
      "source": [
        "# stacked LSTM-GRU with Bahdanau Attention Mechanism"
      ],
      "metadata": {
        "id": "g0o3b7KN_uuB"
      }
    },
    {
      "cell_type": "code",
      "source": [
        "def get_training_config():\n",
        "    return {\n",
        "      'hidden_size': 256,\n",
        "      'learning_rate': 1e-3,\n",
        "      'num_epochs': 150,\n",
        "      'weight_decay': 1e-4,\n",
        "      'dropout_rate': 0.2,\n",
        "      'scheduler_params': {\n",
        "        'factor': 0.5,\n",
        "        'min_lr': 1e-5\n",
        "      },\n",
        "    }\n",
        "    # Validation Accuracy: 79.62%\n",
        "    # Test Accuracy: 73.54%\n",
        "\n",
        "def get_training_config():\n",
        "    return {\n",
        "      'hidden_size': 256,\n",
        "      'learning_rate': 1e-3,\n",
        "      'num_epochs': 150,\n",
        "      'weight_decay': 1e-4,\n",
        "      'dropout_rate': 0.2,\n",
        "      'scheduler_params': {\n",
        "        'factor': 0.5,\n",
        "        'min_lr': 1e-4\n",
        "      },\n",
        "    }\n",
        "    # Validation Accuracy: 78.20%\n",
        "    # Test Accuracy: 72.49%"
      ],
      "metadata": {
        "id": "jvg4R2HX_yVy"
      },
      "execution_count": null,
      "outputs": []
    }
  ]
}